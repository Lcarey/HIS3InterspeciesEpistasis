{
 "cells": [
  {
   "cell_type": "code",
   "execution_count": 1,
   "metadata": {
    "collapsed": false
   },
   "outputs": [
    {
     "name": "stderr",
     "output_type": "stream",
     "text": [
      "/Users/karen/anaconda/lib/python2.7/site-packages/matplotlib/font_manager.py:273: UserWarning: Matplotlib is building the font cache using fc-list. This may take a moment.\n",
      "  warnings.warn('Matplotlib is building the font cache using fc-list. This may take a moment.')\n",
      "/Users/karen/anaconda/lib/python2.7/site-packages/IPython/html.py:14: ShimWarning: The `IPython.html` package has been deprecated. You should import from `notebook` instead. `IPython.html.widgets` has moved to `ipywidgets`.\n",
      "  \"`IPython.html.widgets` has moved to `ipywidgets`.\", ShimWarning)\n"
     ]
    },
    {
     "name": "stdout",
     "output_type": "stream",
     "text": [
      "\n",
      "Reading precalculated epistasis...\n",
      "/Users/karen/HIS3InterspeciesEpistasis/Analysis/Karen/files_dump/epistasis_in_foursomes/\n",
      "\n",
      "\n",
      "\n",
      "Variables: \n",
      "\n",
      "- ep_dict: a dictionary, Keys are tuples (mutA, mutB) and values are pandas.Series of epistasis between mutA and mutB in all backgrounds. \n",
      "Tuples (mutA, mutB) are sorted by aa_position.\n",
      "\n",
      "- get_ep_summary: function that takes ep_dict as an argument and applies an arbitrary function to every pd.Series object. For example, ep_summary = get_ep_summary(ep_dict, np.mean)\n",
      "\n",
      "Important: natlib_filtering is currently True. This can be changed in the cell #2.\n",
      "\n"
     ]
    }
   ],
   "source": [
    "%run 'ks25_Read_epistasis.ipynb'\n",
    "notebook_prefix = 'ks26'\n",
    "image_counter = Counter()"
   ]
  },
  {
   "cell_type": "code",
   "execution_count": 39,
   "metadata": {
    "collapsed": false,
    "scrolled": false
   },
   "outputs": [],
   "source": [
    "folder_with_histograms = check_dir(figures_folder + 'epistasis_histograms_recalculated/')\n",
    "for mutation_pair in ep_dict:\n",
    "    mutA, mutB = mutation_pair\n",
    "    plot_better()\n",
    "    title = 'Epistasis of %s and %s in all backgrounds' %(mutA, mutB)\n",
    "    hist_array = plt.hist(ep_dict[mutation_pair], edgecolor='none', range=(-1.5,1.5), bins=100, color='red')\n",
    "    plt.text(-1.45, 0.95*max(hist_array[0]), \n",
    "             'Fraction of abs(epistasis) above 0.4: %.f %%' %(100*get_fraction_strong(ep_dict[mutation_pair])), fontsize=12, color='gray')\n",
    "    plt.text(-1.45, 0.85*max(hist_array[0]), \n",
    "             'Fraction of abs(epistasis) above 0.5: %.f %%' %(100*get_fraction_strong(ep_dict[mutation_pair], strong_epistasis_threshold=0.5)), fontsize=12, color='gray')\n",
    "\n",
    "    plt.title(title, fontsize=14)\n",
    "    plt.xlabel('Epistasis in all backgrounds', fontsize=12)\n",
    "    counter += 1\n",
    "    plt.savefig(folder_with_histograms + '_'.join(title.split()) + '.png', dpi=300)\n",
    "    plt.close()"
   ]
  }
 ],
 "metadata": {
  "kernelspec": {
   "display_name": "Python 2",
   "language": "python",
   "name": "python2"
  },
  "language_info": {
   "codemirror_mode": {
    "name": "ipython",
    "version": 2
   },
   "file_extension": ".py",
   "mimetype": "text/x-python",
   "name": "python",
   "nbconvert_exporter": "python",
   "pygments_lexer": "ipython2",
   "version": "2.7.13"
  }
 },
 "nbformat": 4,
 "nbformat_minor": 0
}
