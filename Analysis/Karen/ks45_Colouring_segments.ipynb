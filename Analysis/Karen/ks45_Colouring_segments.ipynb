{
 "cells": [
  {
   "cell_type": "code",
   "execution_count": 1,
   "metadata": {
    "collapsed": true
   },
   "outputs": [],
   "source": [
    "import pymol\n",
    "from pymol import cmd, stored\n",
    "import matplotlib\n",
    "from matplotlib import cm\n",
    "import sys\n",
    "from collections import defaultdict"
   ]
  },
  {
   "cell_type": "markdown",
   "metadata": {},
   "source": [
    "### PyMol games"
   ]
  },
  {
   "cell_type": "code",
   "execution_count": 2,
   "metadata": {
    "collapsed": false
   },
   "outputs": [],
   "source": [
    "pymol.pymol_argv = ['pymol', '-qc'] # quiet / no GUI\n",
    "stdout = sys.stdout\n",
    "stderr = sys.stderr\n",
    "pymol.finish_launching(['pymol', '-xiq'])\n",
    "sys.stdout = stdout\n",
    "sys.stderr = stderr"
   ]
  },
  {
   "cell_type": "code",
   "execution_count": 3,
   "metadata": {
    "collapsed": false
   },
   "outputs": [
    {
     "name": "stderr",
     "output_type": "stream",
     "text": [
      "/Users/karen/anaconda/lib/python2.7/site-packages/matplotlib/font_manager.py:273: UserWarning: Matplotlib is building the font cache using fc-list. This may take a moment.\n",
      "  warnings.warn('Matplotlib is building the font cache using fc-list. This may take a moment.')\n",
      "/Users/karen/anaconda/lib/python2.7/site-packages/IPython/html.py:14: ShimWarning: The `IPython.html` package has been deprecated. You should import from `notebook` instead. `IPython.html.widgets` has moved to `ipywidgets`.\n",
      "  \"`IPython.html.widgets` has moved to `ipywidgets`.\", ShimWarning)\n"
     ]
    },
    {
     "name": "stdout",
     "output_type": "stream",
     "text": [
      "\n",
      "Variables: \n",
      "\n",
      "- positions:\t\t\ta pandas.DataFrame with information about position numbers, segments etc\n",
      "- get_segment_of_a_genotype:\ta function that return the segment of genotype (the most likely segment\n",
      "\t\t\t\tbecause sometimes it's not possible to say for sure)\n",
      "\n"
     ]
    }
   ],
   "source": [
    "%run 'ks01_Data_import.ipynb'\n",
    "notebook_prefix = 'ks05'\n",
    "image_counter = Counter()\n",
    "session_counter = Counter()"
   ]
  },
  {
   "cell_type": "markdown",
   "metadata": {},
   "source": [
    "#### Creating .pse files with every segment's positions"
   ]
  },
  {
   "cell_type": "code",
   "execution_count": 12,
   "metadata": {
    "collapsed": false
   },
   "outputs": [],
   "source": [
    "pdb_file = os.path.join(structure_predictions_folder, 'HIS3_saccharomyces_cerevisiae__itasser_model1_prediction.pdb')\n",
    "object_name='HIS3_saccharomyces_cerevisiae__itasser_model1_prediction'"
   ]
  },
  {
   "cell_type": "code",
   "execution_count": 13,
   "metadata": {
    "collapsed": false
   },
   "outputs": [
    {
     "data": {
      "text/plain": [
       "OrderedDict([('S1', '#00aba9'),\n",
       "             ('S2', '#ff0097'),\n",
       "             ('S3', '#a200ff'),\n",
       "             ('S4', '#b8d000'),\n",
       "             ('S5', '#1ba1e2'),\n",
       "             ('S6', '#f09609'),\n",
       "             ('S7', '#edc951'),\n",
       "             ('S8', '#cc2a36'),\n",
       "             ('S9', '#4f372d'),\n",
       "             ('S10', '#0c457d'),\n",
       "             ('S11', '#616161'),\n",
       "             ('S12', '#800080')])"
      ]
     },
     "execution_count": 13,
     "metadata": {},
     "output_type": "execute_result"
    }
   ],
   "source": [
    "segment_colors"
   ]
  },
  {
   "cell_type": "code",
   "execution_count": 14,
   "metadata": {
    "collapsed": true
   },
   "outputs": [],
   "source": [
    "segment_colors_Katya = {\n",
    "    'S1': '#9C298C',\n",
    "    'S2': '#B2D235',\n",
    "    'S3': '#F7941D',\n",
    "    'S4': '#00A9A3',\n",
    "    'S5': '#231F20',\n",
    "    'S6': '#00AEEF',\n",
    "    'S7': '#FFDE17',\n",
    "    'S8': '#006838',\n",
    "    'S9': '#0071B5',\n",
    "    'S10': '#ED1C24',\n",
    "    'S11': '#39B54A',\n",
    "    'S12': '#EE2A7B'\n",
    "}"
   ]
  },
  {
   "cell_type": "code",
   "execution_count": 19,
   "metadata": {
    "collapsed": false
   },
   "outputs": [
    {
     "name": "stdout",
     "output_type": "stream",
     "text": [
      " Applying pse_export_version=1.720 compatibility\n"
     ]
    }
   ],
   "source": [
    "cmd.reinitialize()\n",
    "open_or_fetch(pdb_file, object_name=object_name)\n",
    "white_and_beautiful()\n",
    "\n",
    "for segment_name in positions.segment.values:\n",
    "    title = 'Segment %s positions' %segment_name\n",
    "    position_list = positions[positions.segment == segment_name].positions_Uniprot_P06633.values[0]\n",
    "    color_positions(position_list, constant_color=segment_colors_Katya[segment_name])\n",
    "\n",
    "save_session_properly(session_counter, title, pymol_sessions_folder, notebook_prefix)"
   ]
  },
  {
   "cell_type": "code",
   "execution_count": null,
   "metadata": {
    "collapsed": true
   },
   "outputs": [],
   "source": []
  }
 ],
 "metadata": {
  "kernelspec": {
   "display_name": "Python 2",
   "language": "python",
   "name": "python2"
  },
  "language_info": {
   "codemirror_mode": {
    "name": "ipython",
    "version": 2
   },
   "file_extension": ".py",
   "mimetype": "text/x-python",
   "name": "python",
   "nbconvert_exporter": "python",
   "pygments_lexer": "ipython2",
   "version": "2.7.13"
  }
 },
 "nbformat": 4,
 "nbformat_minor": 0
}
