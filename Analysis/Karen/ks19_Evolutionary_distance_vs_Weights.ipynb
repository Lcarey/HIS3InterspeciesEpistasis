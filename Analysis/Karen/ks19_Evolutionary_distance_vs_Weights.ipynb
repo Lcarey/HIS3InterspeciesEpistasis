{
 "cells": [
  {
   "cell_type": "code",
   "execution_count": 1,
   "metadata": {
    "collapsed": false
   },
   "outputs": [
    {
     "name": "stderr",
     "output_type": "stream",
     "text": [
      "/Users/karen/anaconda/lib/python2.7/site-packages/matplotlib/font_manager.py:273: UserWarning: Matplotlib is building the font cache using fc-list. This may take a moment.\n",
      "  warnings.warn('Matplotlib is building the font cache using fc-list. This may take a moment.')\n",
      "/Users/karen/anaconda/lib/python2.7/site-packages/IPython/html.py:14: ShimWarning: The `IPython.html` package has been deprecated. You should import from `notebook` instead. `IPython.html.widgets` has moved to `ipywidgets`.\n",
      "  \"`IPython.html.widgets` has moved to `ipywidgets`.\", ShimWarning)\n"
     ]
    }
   ],
   "source": [
    "%run 'ks01_Data_import.ipynb'\n",
    "notebook_prefix = 'ks17'\n",
    "image_counter = Counter()"
   ]
  },
  {
   "cell_type": "markdown",
   "metadata": {},
   "source": [
    "### Lucas files"
   ]
  },
  {
   "cell_type": "code",
   "execution_count": 44,
   "metadata": {
    "collapsed": false,
    "scrolled": true
   },
   "outputs": [],
   "source": [
    "species_distances = pd.read_csv(files_dump_folder + 'evolutionary_distance_vs_weights/' + 'HIS3_alignment_500species.fas.tab.pairwise.proportion.txt',)\n",
    "alignment_569sp = pd.read_table(files_dump_folder + 'evolutionary_distance_vs_weights/' + 'HIS3_alignment_500species.fas.tsv')\n",
    "alignment_569sp.set_index('organism', inplace=True)\n",
    "\n",
    "Scer_name = 'sp|P06633|HIS7_YEAST_Imidazoleglycerol-phosphate_dehydratase_OSSaccharomyces_cerevisiae_(strain_ATCC_204508_/_S288c)_GNHIS3_PE1_SV2'\n",
    "Scer_aligned_seq = alignment_569sp.loc[Scer_name].aligned_seq"
   ]
  },
  {
   "cell_type": "code",
   "execution_count": 45,
   "metadata": {
    "collapsed": false
   },
   "outputs": [],
   "source": [
    "def remove_gaps(seq):\n",
    "    return ''.join([c for c in seq if c != '-'])"
   ]
  },
  {
   "cell_type": "code",
   "execution_count": 46,
   "metadata": {
    "collapsed": false
   },
   "outputs": [
    {
     "data": {
      "text/html": [
       "<div>\n",
       "<table border=\"1\" class=\"dataframe\">\n",
       "  <thead>\n",
       "    <tr style=\"text-align: right;\">\n",
       "      <th></th>\n",
       "      <th>organism1</th>\n",
       "      <th>organism2</th>\n",
       "      <th>distance</th>\n",
       "      <th>other_organism</th>\n",
       "    </tr>\n",
       "  </thead>\n",
       "  <tbody>\n",
       "    <tr>\n",
       "      <th>87571</th>\n",
       "      <td>sp|Q9S5G5|HIS7 ECO57 Histidine biosynthesis bi...</td>\n",
       "      <td>sp|P06633|HIS7 YEAST Imidazoleglycerol-phospha...</td>\n",
       "      <td>0.545</td>\n",
       "      <td>sp|Q9S5G5|HIS7 ECO57 Histidine biosynthesis bi...</td>\n",
       "    </tr>\n",
       "    <tr>\n",
       "      <th>87572</th>\n",
       "      <td>sp|P06987|HIS7 ECOLI Histidine biosynthesis bi...</td>\n",
       "      <td>sp|P06633|HIS7 YEAST Imidazoleglycerol-phospha...</td>\n",
       "      <td>0.545</td>\n",
       "      <td>sp|P06987|HIS7 ECOLI Histidine biosynthesis bi...</td>\n",
       "    </tr>\n",
       "  </tbody>\n",
       "</table>\n",
       "</div>"
      ],
      "text/plain": [
       "                                               organism1  \\\n",
       "87571  sp|Q9S5G5|HIS7 ECO57 Histidine biosynthesis bi...   \n",
       "87572  sp|P06987|HIS7 ECOLI Histidine biosynthesis bi...   \n",
       "\n",
       "                                               organism2  distance  \\\n",
       "87571  sp|P06633|HIS7 YEAST Imidazoleglycerol-phospha...     0.545   \n",
       "87572  sp|P06633|HIS7 YEAST Imidazoleglycerol-phospha...     0.545   \n",
       "\n",
       "                                          other_organism  \n",
       "87571  sp|Q9S5G5|HIS7 ECO57 Histidine biosynthesis bi...  \n",
       "87572  sp|P06987|HIS7 ECOLI Histidine biosynthesis bi...  "
      ]
     },
     "execution_count": 46,
     "metadata": {},
     "output_type": "execute_result"
    }
   ],
   "source": [
    "Scer_name_distances = 'sp|P06633|HIS7 YEAST Imidazoleglycerol-phosphate dehydratase OSSaccharomyces cerevisiae (strain ATCC 204508 / S288c) GNHIS3 PE1 SV2'\n",
    "\n",
    "def figure_other_organism(df):\n",
    "    if df['organism1'] == Scer_name_distances:\n",
    "        return df['organism2']\n",
    "    elif df['organism2'] == Scer_name_distances:\n",
    "        return df['organism1']\n",
    "    else:\n",
    "        return None\n",
    "\n",
    "Scer_distances = species_distances[(species_distances['organism1'] == Scer_name_distances) | \\\n",
    "                                   (species_distances['organism2'] == Scer_name_distances)].copy()\n",
    "\n",
    "Scer_distances['other_organism'] = Scer_distances.apply(figure_other_organism, axis=1)\n",
    "assert len(Scer_distances[Scer_distances['other_organism'] == Scer_name_distances]) == 0\n",
    "Scer_distances[:2]"
   ]
  },
  {
   "cell_type": "code",
   "execution_count": 47,
   "metadata": {
    "collapsed": false,
    "scrolled": false
   },
   "outputs": [
    {
     "name": "stdout",
     "output_type": "stream",
     "text": [
      "Check this function\n"
     ]
    }
   ],
   "source": [
    "all_natural_unique_single_mutations = sorted(list(set(flatten_list(natural_unique_single_mutations.values()))), key=lambda s: int(s[:-1]))\n",
    "all_natural_unique_single_mutations = [get_full_mutation(m) for m in all_natural_unique_single_mutations]"
   ]
  },
  {
   "cell_type": "code",
   "execution_count": 48,
   "metadata": {
    "collapsed": false,
    "scrolled": false
   },
   "outputs": [],
   "source": [
    "def get_position_in_alignment(aligned_seq, position_in_Scer_Uniprot):\n",
    "    counter = 0\n",
    "    for index, aa in enumerate(aligned_seq):\n",
    "        if aa != '-' :\n",
    "            counter += 1\n",
    "        if counter == position_in_Scer_Uniprot+1:\n",
    "            break\n",
    "    try: \n",
    "        assert Scer_aligned_seq[index] == Scer_Uniprot[position_in_Scer_Uniprot]\n",
    "    except:\n",
    "        print 'Position in Uniprot:', position_in_Scer_Uniprot\n",
    "        print 'Position in alignment:', index\n",
    "        print 'Char in aligned Scer seq:', Scer_aligned_seq[index]\n",
    "        print 'Char in Uniprot Scer seq:', Scer_Uniprot[position_in_Scer_Uniprot]\n",
    "\n",
    "        print 'Char in aligned Scer seq:', Scer_aligned_seq[:index]\n",
    "        print 'Char in Uniprot Scer seq:', Scer_Uniprot[:position_in_Scer_Uniprot]\n",
    "        assert Scer_aligned_seq[index] == Scer_Uniprot[position_in_Scer_Uniprot]\n",
    "    return index\n",
    "\n",
    "evolutionary_distances = OrderedDict()\n",
    "for mutation in all_natural_unique_single_mutations:\n",
    "    position_Scer = int(mutation[1:-1])-1\n",
    "    position_in_alignment = get_position_in_alignment(Scer_aligned_seq, position_Scer)\n",
    "    Scer_distances['aa_state'] = Scer_distances['other_organism'].apply(\n",
    "        lambda s: alignment_569sp.loc['_'.join(s.split())]['aligned_seq'][position_in_alignment])\n",
    "    distance_values = [Scer_distances[Scer_distances['aa_state'] == mutation[-1]]['distance'].values]\n",
    "\n",
    "    if len(distance_values[0]) == 0:\n",
    "        print mutation, position_Scer, position_in_alignment\n",
    "        print Scer_aligned_seq[position_in_alignment], Scer_Uniprot[position_Scer]\n",
    "        print distance_values\n",
    "        print\n",
    "        break\n",
    "    evolutionary_distances[mutation] = distance_values"
   ]
  },
  {
   "cell_type": "markdown",
   "metadata": {},
   "source": [
    "### Weights"
   ]
  },
  {
   "cell_type": "code",
   "execution_count": 49,
   "metadata": {
    "collapsed": false
   },
   "outputs": [],
   "source": [
    "# Relative >>> absolute position\n",
    "position_translation = pd.read_table(files_dump_folder + 'position_translation.csv')\n",
    "position_translation.set_index('relative_position', inplace=True)\n",
    "\n",
    "def get_absolute_position(segment_short, relative_position):\n",
    "    return int(position_translation.iloc[int(relative_position)][segment_short])"
   ]
  },
  {
   "cell_type": "code",
   "execution_count": 50,
   "metadata": {
    "collapsed": false,
    "scrolled": true
   },
   "outputs": [
    {
     "name": "stdout",
     "output_type": "stream",
     "text": [
      "238\n"
     ]
    }
   ],
   "source": [
    "weights_folder = os.path.join(analysis_folder, 'Katya', 'NN', 'weights', '')\n",
    "weights = OrderedDict()\n",
    "for segment in data:\n",
    "    weights[segment] = pd.read_csv(weights_folder + '%s.csv' %segment.split('_')[0])\n",
    "    weights[segment]['mut_list_Scer'] = weights[segment]['Unnamed: 0'].apply(lambda s: str(get_absolute_position(segment.split('_')[0], int(s[:-1]))) + s[-1])\n",
    "    weights[segment].set_index('mut_list_Scer', inplace=True)\n",
    "\n",
    "mutations_weights = OrderedDict()\n",
    "for mutation in all_natural_unique_single_mutations:\n",
    "#     print mutation\n",
    "    for segment in weights:\n",
    "        try:\n",
    "            weight = weights[segment].loc[mutation[1:]].weight\n",
    "            mutations_weights[mutation] = weight\n",
    "#             print weight\n",
    "#             print\n",
    "        except KeyError:\n",
    "            pass\n",
    "print len(mutations_weights)"
   ]
  },
  {
   "cell_type": "markdown",
   "metadata": {},
   "source": [
    "### ddG"
   ]
  },
  {
   "cell_type": "code",
   "execution_count": 51,
   "metadata": {
    "collapsed": false
   },
   "outputs": [
    {
     "name": "stdout",
     "output_type": "stream",
     "text": [
      "\n",
      "Variables: \n",
      "- predicted_ddG:\t\tPandas DataFrame with all calculated ddG (single, double and triple mutants (?)),\n",
      "- predicted_doubles:\t\tdoubles only (Pandas DataFrame),\n",
      "- predicted_singles:\t\tsingles only (Pandas DataFrame),\n",
      "- get_ddG:\t\t\tfunction that returns predicted ddG for a genotype\n",
      "- by_position_mean_ddG:\t\tmean ddG value at each position,\n",
      "- by_position_var_ddG:\t\tvariance of predicted ddG at each position.\n",
      "\n"
     ]
    }
   ],
   "source": [
    "%run 'ks20_Read_ddG.ipynb'"
   ]
  },
  {
   "cell_type": "markdown",
   "metadata": {},
   "source": [
    "### Merging"
   ]
  },
  {
   "cell_type": "code",
   "execution_count": 52,
   "metadata": {
    "collapsed": false,
    "scrolled": false
   },
   "outputs": [],
   "source": [
    "evol_dist = pd.DataFrame.from_dict(evolutionary_distances, orient='index')\n",
    "evol_dist.columns = ['distances']\n",
    "neural_weights = pd.DataFrame.from_dict(mutations_weights, orient='index')\n",
    "neural_weights.columns = ['weight']\n",
    "merged = evol_dist.merge(neural_weights, how='inner', left_index=True, right_index=True)\n",
    "# merged.drop('Unnamed: 0', inplace=True, axis=1)\n",
    "merged['dist_min'] = merged['distances'].apply(np.min)\n",
    "merged['dist_mean'] = merged['distances'].apply(np.mean)\n",
    "merged['dist_median'] = merged['distances'].apply(np.median)\n",
    "merged['dist_3min'] = merged['distances'].apply(lambda l: np.mean(sorted(l)[:min(len(l), 3)]))\n",
    "merged['dist_5min'] = merged['distances'].apply(lambda l: np.mean(sorted(l)[:min(len(l), 5)]))\n",
    "merged['dist_Xmin'] = merged['distances'].apply(lambda l: np.mean(sorted(l)[:min(len(l), 8)]))\n",
    "\n",
    "merged = merged.reset_index().merge(predicted_singles, how='inner', left_on='index', right_on='mut_list_Scer_full')\n",
    "merged.set_index('index', inplace=True)"
   ]
  },
  {
   "cell_type": "code",
   "execution_count": 60,
   "metadata": {
    "collapsed": false
   },
   "outputs": [],
   "source": [
    "from scipy.optimize import curve_fit\n",
    "from sklearn.metrics import r2_score\n",
    "\n",
    "def linear_function(x, A, B): # this is your 'straight line' y=f(x)\n",
    "    return A*x + B\n",
    "\n",
    "def exponential_function(x, a, b, c):\n",
    "    return a * np.exp(-b * x) + c"
   ]
  },
  {
   "cell_type": "code",
   "execution_count": 74,
   "metadata": {
    "collapsed": false
   },
   "outputs": [
    {
     "data": {
      "image/png": "[encoded data removed]",
      "text/plain": [
       "<matplotlib.figure.Figure at 0x149c8b890>"
      ]
     },
     "metadata": {},
     "output_type": "display_data"
    }
   ],
   "source": [
    "x = 'dist_5min'\n",
    "y = 'weight'\n",
    "\n",
    "plot_better(grid='', width=6, height=4)\n",
    "\n",
    "linear_color = 'blue'\n",
    "linear_fit = curve_fit(linear_function, merged[x], merged[y])[0]\n",
    "A,B = linear_fit\n",
    "line_x = np.arange(0.1,0.65, 0.01)\n",
    "line_y = [linear_function(v, A, B) for v in line_x]\n",
    "linear_r2_score = r2_score(merged[y].values, [linear_function(v, A, B) for v in merged[x].values])\n",
    "plt.plot(line_x, line_y, color=linear_color)\n",
    "plt.text(0.78, 1, 'R2 score\\n%.3f' %linear_r2_score, fontsize=12, color=linear_color, ha='right')\n",
    "\n",
    "# exp_color = 'orange'\n",
    "# p0=[merged[y].values.max() - merged[y].values.min(), 1, merged[y].values.min()]\n",
    "# exponential_fit = curve_fit(exponential_function, merged[x], merged[y], maxfev=5000, p0=p0)[0]\n",
    "# a,b,c = exponential_fit\n",
    "# line_x = np.arange(0.1,0.65, 0.01)\n",
    "# line_y = [exponential_function(v, a, b, c) for v in line_x]\n",
    "# plt.plot(line_x, line_y, color=exp_color)\n",
    "# exponential_r2_score = r2_score(merged[y].values, [exponential_function(v, a, b, c) for v in merged[x].values])\n",
    "# plt.text(0.65, 2, 'Exp. R2 score: %.6f' %exponential_r2_score, fontsize=12, color=exp_color)\n",
    "\n",
    "plt.scatter(merged[x], merged[y], edgecolor='none', alpha=0.5, color='red', s=60)\n",
    "statistics = stats.spearmanr(merged[x], merged[y])\n",
    "statistics_kendal = stats.kendalltau(merged[x], merged[y])\n",
    "plt.xlabel('Evolutionary distance to an amino acid state', fontsize=12)\n",
    "plt.ylabel('Weight of a state\\nin neural network data', fontsize=12)\n",
    "plt.axhline(0., color='gray', ls='--', alpha=0.8)\n",
    "# plt.title('Evolution vs. neural network' + '\\nSpearman coeff: %.2f, p-value=%.8f' %(statistics[0], statistics[1]))\n",
    "plt.text(0.05, 4.5, 'Spearman coeff.\\n%.2f' %(statistics[0]), fontsize=12)\n",
    "plt.xlim(0,0.8)\n",
    "plt.savefig(figures_folder + 'Evolution_vs_neural_network.pdf')"
   ]
  },
  {
   "cell_type": "code",
   "execution_count": 55,
   "metadata": {
    "collapsed": false
   },
   "outputs": [
    {
     "data": {
      "text/plain": [
       "<matplotlib.text.Text at 0x13ad96850>"
      ]
     },
     "execution_count": 55,
     "metadata": {},
     "output_type": "execute_result"
    },
    {
     "data": {
      "image/png": "[encoded data removed]",
      "text/plain": [
       "<matplotlib.figure.Figure at 0x145ccfbd0>"
      ]
     },
     "metadata": {},
     "output_type": "display_data"
    }
   ],
   "source": [
    "x = 'ddG'\n",
    "y = 'weight'\n",
    "\n",
    "plot_better()\n",
    "plt.scatter(merged[x], merged[y], edgecolor='none', alpha=0.6, color='blue')\n",
    "statistics = stats.spearmanr(merged[x], merged[y])\n",
    "plt.xlabel('%s'%x, fontsize=12)\n",
    "plt.ylabel('%s'%y, fontsize=12)\n",
    "plt.title('%s vs. %s' %(x,y) + '\\nSpearman coeff: %.2f, p-value=%.8f' %(statistics[0], statistics[1]))"
   ]
  }
 ],
 "metadata": {
  "kernelspec": {
   "display_name": "Python 2",
   "language": "python",
   "name": "python2"
  },
  "language_info": {
   "codemirror_mode": {
    "name": "ipython",
    "version": 2
   },
   "file_extension": ".py",
   "mimetype": "text/x-python",
   "name": "python",
   "nbconvert_exporter": "python",
   "pygments_lexer": "ipython2",
   "version": "2.7.13"
  }
 },
 "nbformat": 4,
 "nbformat_minor": 0
}
