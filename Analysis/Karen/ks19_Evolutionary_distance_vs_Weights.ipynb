{
 "cells": [
  {
   "cell_type": "code",
   "execution_count": 1,
   "metadata": {
    "collapsed": false
   },
   "outputs": [
    {
     "name": "stderr",
     "output_type": "stream",
     "text": [
      "/Users/karen/anaconda/lib/python2.7/site-packages/matplotlib/font_manager.py:273: UserWarning: Matplotlib is building the font cache using fc-list. This may take a moment.\n",
      "  warnings.warn('Matplotlib is building the font cache using fc-list. This may take a moment.')\n",
      "/Users/karen/anaconda/lib/python2.7/site-packages/IPython/html.py:14: ShimWarning: The `IPython.html` package has been deprecated. You should import from `notebook` instead. `IPython.html.widgets` has moved to `ipywidgets`.\n",
      "  \"`IPython.html.widgets` has moved to `ipywidgets`.\", ShimWarning)\n"
     ]
    },
    {
     "data": {
      "image/png": "[encoded data removed]",
      "text/plain": [
       "<matplotlib.figure.Figure at 0x14df9b290>"
      ]
     },
     "metadata": {},
     "output_type": "display_data"
    },
    {
     "name": "stdout",
     "output_type": "stream",
     "text": [
      "1886 unique mutations across all segments\n",
      "238 natural unique mutations across all segments\n",
      "There are 231 single mutations with known effects. They are found in 120 positions\n"
     ]
    }
   ],
   "source": [
    "%run 'ks01_Data_import.ipynb'\n",
    "notebook_prefix = 'ks17'\n",
    "image_counter = Counter()"
   ]
  },
  {
   "cell_type": "markdown",
   "metadata": {},
   "source": [
    "### Lucas files"
   ]
  },
  {
   "cell_type": "code",
   "execution_count": 2,
   "metadata": {
    "collapsed": false,
    "scrolled": true
   },
   "outputs": [],
   "source": [
    "species_distances = pd.read_csv(files_dump_folder + 'evolutionary_distance_vs_weights/' + 'HIS3_alignment_500species.fas.tab.pairwise.proportion.txt',)\n",
    "alignment_569sp = pd.read_table(files_dump_folder + 'evolutionary_distance_vs_weights/' + 'HIS3_alignment_500species.fas.tsv')\n",
    "alignment_569sp.set_index('organism', inplace=True)\n",
    "\n",
    "Scer_name = 'sp|P06633|HIS7_YEAST_Imidazoleglycerol-phosphate_dehydratase_OSSaccharomyces_cerevisiae_(strain_ATCC_204508_/_S288c)_GNHIS3_PE1_SV2'\n",
    "Scer_aligned_seq = alignment_569sp.loc[Scer_name].aligned_seq"
   ]
  },
  {
   "cell_type": "code",
   "execution_count": 3,
   "metadata": {
    "collapsed": false
   },
   "outputs": [],
   "source": [
    "def remove_gaps(seq):\n",
    "    return ''.join([c for c in seq if c != '-'])"
   ]
  },
  {
   "cell_type": "code",
   "execution_count": 4,
   "metadata": {
    "collapsed": false
   },
   "outputs": [
    {
     "data": {
      "text/html": [
       "<div>\n",
       "<table border=\"1\" class=\"dataframe\">\n",
       "  <thead>\n",
       "    <tr style=\"text-align: right;\">\n",
       "      <th></th>\n",
       "      <th>organism1</th>\n",
       "      <th>organism2</th>\n",
       "      <th>distance</th>\n",
       "      <th>other_organism</th>\n",
       "    </tr>\n",
       "  </thead>\n",
       "  <tbody>\n",
       "    <tr>\n",
       "      <th>87571</th>\n",
       "      <td>sp|Q9S5G5|HIS7 ECO57 Histidine biosynthesis bi...</td>\n",
       "      <td>sp|P06633|HIS7 YEAST Imidazoleglycerol-phospha...</td>\n",
       "      <td>0.545</td>\n",
       "      <td>sp|Q9S5G5|HIS7 ECO57 Histidine biosynthesis bi...</td>\n",
       "    </tr>\n",
       "    <tr>\n",
       "      <th>87572</th>\n",
       "      <td>sp|P06987|HIS7 ECOLI Histidine biosynthesis bi...</td>\n",
       "      <td>sp|P06633|HIS7 YEAST Imidazoleglycerol-phospha...</td>\n",
       "      <td>0.545</td>\n",
       "      <td>sp|P06987|HIS7 ECOLI Histidine biosynthesis bi...</td>\n",
       "    </tr>\n",
       "  </tbody>\n",
       "</table>\n",
       "</div>"
      ],
      "text/plain": [
       "                                               organism1  \\\n",
       "87571  sp|Q9S5G5|HIS7 ECO57 Histidine biosynthesis bi...   \n",
       "87572  sp|P06987|HIS7 ECOLI Histidine biosynthesis bi...   \n",
       "\n",
       "                                               organism2  distance  \\\n",
       "87571  sp|P06633|HIS7 YEAST Imidazoleglycerol-phospha...     0.545   \n",
       "87572  sp|P06633|HIS7 YEAST Imidazoleglycerol-phospha...     0.545   \n",
       "\n",
       "                                          other_organism  \n",
       "87571  sp|Q9S5G5|HIS7 ECO57 Histidine biosynthesis bi...  \n",
       "87572  sp|P06987|HIS7 ECOLI Histidine biosynthesis bi...  "
      ]
     },
     "execution_count": 4,
     "metadata": {},
     "output_type": "execute_result"
    }
   ],
   "source": [
    "Scer_name_distances = 'sp|P06633|HIS7 YEAST Imidazoleglycerol-phosphate dehydratase OSSaccharomyces cerevisiae (strain ATCC 204508 / S288c) GNHIS3 PE1 SV2'\n",
    "\n",
    "def figure_other_organism(df):\n",
    "    if df['organism1'] == Scer_name_distances:\n",
    "        return df['organism2']\n",
    "    elif df['organism2'] == Scer_name_distances:\n",
    "        return df['organism1']\n",
    "    else:\n",
    "        return None\n",
    "\n",
    "Scer_distances = species_distances[(species_distances['organism1'] == Scer_name_distances) | \\\n",
    "                                   (species_distances['organism2'] == Scer_name_distances)].copy()\n",
    "\n",
    "Scer_distances['other_organism'] = Scer_distances.apply(figure_other_organism, axis=1)\n",
    "assert len(Scer_distances[Scer_distances['other_organism'] == Scer_name_distances]) == 0\n",
    "Scer_distances[:2]"
   ]
  },
  {
   "cell_type": "code",
   "execution_count": 5,
   "metadata": {
    "collapsed": false,
    "scrolled": false
   },
   "outputs": [
    {
     "name": "stdout",
     "output_type": "stream",
     "text": [
      "Check this function\n"
     ]
    }
   ],
   "source": [
    "all_natural_unique_single_mutations = sorted(list(set(flatten_list(natural_unique_single_mutations.values()))), key=lambda s: int(s[:-1]))\n",
    "all_natural_unique_single_mutations = [get_full_mutation(m) for m in all_natural_unique_single_mutations]"
   ]
  },
  {
   "cell_type": "code",
   "execution_count": 6,
   "metadata": {
    "collapsed": false,
    "scrolled": false
   },
   "outputs": [],
   "source": [
    "def get_position_in_alignment(aligned_seq, position_in_Scer_Uniprot):\n",
    "    counter = 0\n",
    "    for index, aa in enumerate(aligned_seq):\n",
    "        if aa != '-' :\n",
    "            counter += 1\n",
    "        if counter == position_in_Scer_Uniprot+1:\n",
    "            break\n",
    "    try: \n",
    "        assert Scer_aligned_seq[index] == Scer_Uniprot[position_in_Scer_Uniprot]\n",
    "    except:\n",
    "        print 'Position in Uniprot:', position_in_Scer_Uniprot\n",
    "        print 'Position in alignment:', index\n",
    "        print 'Char in aligned Scer seq:', Scer_aligned_seq[index]\n",
    "        print 'Char in Uniprot Scer seq:', Scer_Uniprot[position_in_Scer_Uniprot]\n",
    "\n",
    "        print 'Char in aligned Scer seq:', Scer_aligned_seq[:index]\n",
    "        print 'Char in Uniprot Scer seq:', Scer_Uniprot[:position_in_Scer_Uniprot]\n",
    "        assert Scer_aligned_seq[index] == Scer_Uniprot[position_in_Scer_Uniprot]\n",
    "    return index\n",
    "\n",
    "evolutionary_distances = OrderedDict()\n",
    "for mutation in all_natural_unique_single_mutations:\n",
    "    position_Scer = int(mutation[1:-1])-1\n",
    "    position_in_alignment = get_position_in_alignment(Scer_aligned_seq, position_Scer)\n",
    "    Scer_distances['aa_state'] = Scer_distances['other_organism'].apply(\n",
    "        lambda s: alignment_569sp.loc['_'.join(s.split())]['aligned_seq'][position_in_alignment])\n",
    "    distance_values = [Scer_distances[Scer_distances['aa_state'] == mutation[-1]]['distance'].values]\n",
    "\n",
    "    if len(distance_values[0]) == 0:\n",
    "        print mutation, position_Scer, position_in_alignment\n",
    "        print Scer_aligned_seq[position_in_alignment], Scer_Uniprot[position_Scer]\n",
    "        print distance_values\n",
    "        print\n",
    "        break\n",
    "    evolutionary_distances[mutation] = distance_values"
   ]
  },
  {
   "cell_type": "markdown",
   "metadata": {},
   "source": [
    "### Weights"
   ]
  },
  {
   "cell_type": "code",
   "execution_count": 7,
   "metadata": {
    "collapsed": false
   },
   "outputs": [],
   "source": [
    "# Relative >>> absolute position\n",
    "position_translation = pd.read_table(files_dump_folder + 'position_translation.csv')\n",
    "position_translation.set_index('relative_position', inplace=True)\n",
    "\n",
    "def get_absolute_position(segment_short, relative_position):\n",
    "    return int(position_translation.iloc[int(relative_position)][segment_short])"
   ]
  },
  {
   "cell_type": "code",
   "execution_count": 27,
   "metadata": {
    "collapsed": false,
    "scrolled": true
   },
   "outputs": [
    {
     "name": "stdout",
     "output_type": "stream",
     "text": [
      "238\n"
     ]
    }
   ],
   "source": [
    "weights_folder = os.path.join(analysis_folder, 'Katya', 'NN', 'weights', '')\n",
    "weights = OrderedDict()\n",
    "for segment in data:\n",
    "    weights[segment] = pd.read_csv(weights_folder + '%s.csv' %segment.split('_')[0])\n",
    "    weights[segment]['mut_list_Scer'] = weights[segment]['Unnamed: 0'].apply(lambda s: str(get_absolute_position(segment.split('_')[0], int(s[:-1]))) + s[-1])\n",
    "    weights[segment].set_index('mut_list_Scer', inplace=True)\n",
    "\n",
    "mutations_weights = OrderedDict()\n",
    "for mutation in all_natural_unique_single_mutations:\n",
    "#     print mutation\n",
    "    for segment in weights:\n",
    "        try:\n",
    "            weight = weights[segment].loc[mutation[1:]].weight\n",
    "            mutations_weights[mutation] = weight\n",
    "#             print weight\n",
    "#             print\n",
    "        except KeyError:\n",
    "            pass\n",
    "print len(mutations_weights)"
   ]
  },
  {
   "cell_type": "markdown",
   "metadata": {},
   "source": [
    "### Merging"
   ]
  },
  {
   "cell_type": "code",
   "execution_count": 37,
   "metadata": {
    "collapsed": false,
    "scrolled": true
   },
   "outputs": [],
   "source": [
    "evol_dist = pd.DataFrame.from_dict(evolutionary_distances, orient='index')\n",
    "evol_dist.columns = ['distances']\n",
    "neural_weights = pd.DataFrame.from_dict(mutations_weights, orient='index')\n",
    "neural_weights.columns = ['weight']\n",
    "merged = evol_dist.merge(neural_weights, how='inner', left_index=True, right_index=True)\n",
    "# merged.drop('Unnamed: 0', inplace=True, axis=1)\n",
    "merged['dist_min'] = merged['distances'].apply(np.min)\n",
    "merged['dist_mean'] = merged['distances'].apply(np.mean)\n",
    "merged['dist_median'] = merged['distances'].apply(np.median)"
   ]
  },
  {
   "cell_type": "code",
   "execution_count": 44,
   "metadata": {
    "collapsed": false
   },
   "outputs": [
    {
     "data": {
      "text/plain": [
       "<matplotlib.text.Text at 0x129041cd0>"
      ]
     },
     "execution_count": 44,
     "metadata": {},
     "output_type": "execute_result"
    },
    {
     "data": {
      "image/png": "[encoded data removed]",
      "text/plain": [
       "<matplotlib.figure.Figure at 0x12442d090>"
      ]
     },
     "metadata": {},
     "output_type": "display_data"
    }
   ],
   "source": [
    "plot_better()\n",
    "plt.scatter(merged.dist_min, merged.weight, edgecolor='none', alpha=0.6, color='red')\n",
    "statistics = stats.spearmanr(merged.dist_min, merged.weight)\n",
    "plt.xlabel('Minimal evolutionary distance to aa state', fontsize=12)\n",
    "plt.ylabel('Weight of a state in neural network data', fontsize=12)\n",
    "plt.title('Evolution vs. neural network' + '\\nSpearman coeff: %.2f, p-value=%.8f' %(statistics[0], statistics[1]))"
   ]
  },
  {
   "cell_type": "code",
   "execution_count": null,
   "metadata": {
    "collapsed": true
   },
   "outputs": [],
   "source": []
  }
 ],
 "metadata": {
  "kernelspec": {
   "display_name": "Python 2",
   "language": "python",
   "name": "python2"
  },
  "language_info": {
   "codemirror_mode": {
    "name": "ipython",
    "version": 2
   },
   "file_extension": ".py",
   "mimetype": "text/x-python",
   "name": "python",
   "nbconvert_exporter": "python",
   "pygments_lexer": "ipython2",
   "version": "2.7.13"
  }
 },
 "nbformat": 4,
 "nbformat_minor": 0
}
