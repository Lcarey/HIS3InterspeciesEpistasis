{
 "cells": [
  {
   "cell_type": "code",
   "execution_count": 1,
   "metadata": {
    "collapsed": false
   },
   "outputs": [
    {
     "name": "stdout",
     "output_type": "stream",
     "text": [
      "\n",
      "Variables: \n",
      "\n",
      "- helices:\t\t\tlist of position in alpha-helices\n",
      "- sheets:\t\t\tlist of position in beta-sheets\n",
      "- disordered:\t\t\tall positions that are not in alpha-helices or beta-sheets\n",
      "\n",
      "- get_secondary_structure:\ta function that returns secondary structure of a position\n",
      "\n"
     ]
    }
   ],
   "source": [
    "%run 'ks38_Read_secondary_structure.ipynb'"
   ]
  },
  {
   "cell_type": "code",
   "execution_count": 8,
   "metadata": {
    "collapsed": false
   },
   "outputs": [
    {
     "name": "stdout",
     "output_type": "stream",
     "text": [
      "\n",
      "Variables: \n",
      "\n",
      "- positions:\t\t\ta pandas.DataFrame with information about position numbers, segments etc\n",
      "- get_segment_of_a_genotype:\ta function that return the segment of genotype (the most likely segment\n",
      "\t\t\t\tbecause sometimes it's not possible to say for sure)\n",
      "\n"
     ]
    }
   ],
   "source": [
    "%run 'ks01_Data_import.ipynb'"
   ]
  },
  {
   "cell_type": "code",
   "execution_count": 46,
   "metadata": {
    "collapsed": false
   },
   "outputs": [
    {
     "name": "stdout",
     "output_type": "stream",
     "text": [
      "\n",
      "Variables: \n",
      "- structural_data:\t\tpandas.DataFrame with some structural information,\n",
      "- get_distance_24mer:\t\tfunction for getting distances between two positions\n",
      "\t\t\t\t(this also works: get_distance_24mer(13, 'substrate'))\n",
      "- quantitative_columns_dict:\tnice names for some columns in structural_data,\n",
      "- his3_24mer_file:\t\tpath to predicted His3 24mer structure.\n",
      "\n"
     ]
    }
   ],
   "source": [
    "%run 'ks27_Read_structural_information.ipynb'"
   ]
  },
  {
   "cell_type": "code",
   "execution_count": 68,
   "metadata": {
    "collapsed": false,
    "scrolled": false
   },
   "outputs": [
    {
     "name": "stdout",
     "output_type": "stream",
     "text": [
      "[64, 90, 91, 92, 94, 121, 125, 130, 159, 187, 190]\n",
      "[64, 72, 90, 91, 92, 94, 116, 124, 125, 134, 136, 138, 187, 190, 194]\n"
     ]
    }
   ],
   "source": [
    "close_to_mn = [int(s.split('_')[1]) for s in structural_data[structural_data[['Mn_302','Mn_303','Mn_304']].min(axis=1) < 5].index.values]\n",
    "close_to_substrate = [int(s.split('_')[1]) for s in structural_data[structural_data['substrate'] < 5].index.values]\n",
    "print close_to_mn\n",
    "print close_to_substrate"
   ]
  },
  {
   "cell_type": "code",
   "execution_count": 72,
   "metadata": {
    "collapsed": false
   },
   "outputs": [
    {
     "data": {
      "image/png": "[encoded data removed]",
      "text/plain": [
       "<matplotlib.figure.Figure at 0x15b6baad0>"
      ]
     },
     "metadata": {},
     "output_type": "display_data"
    }
   ],
   "source": [
    "title = 'Positions of segments according to Uniprot sequence'\n",
    "ax = plot_better(grid='', height=4, width=16)\n",
    "# plt.tick_params(axis=\"on\", which=\"both\", bottom=\"off\", top=\"off\",  \n",
    "#     labelbottom=\"off\", left=\"off\", right=\"off\", labelleft=\"off\")\n",
    "# ax.spines[\"top\"].set_visible(False)  \n",
    "# ax.spines[\"right\"].set_visible(False) \n",
    "# ax.spines[\"bottom\"].set_visible(False)  \n",
    "# ax.spines[\"left\"].set_visible(False) \n",
    "\n",
    "old_y = 2\n",
    "for row in positions.iterrows():\n",
    "    for position in row[1].positions_Uniprot_P06633:\n",
    "        new_y = np.random.choice([1,1.3])\n",
    "        while new_y == old_y:\n",
    "            new_y = np.random.choice([1,1.3])\n",
    "    x = row[1].positions_Uniprot_P06633\n",
    "    plt.plot(x, [1 for e in x], '.', lw=3, alpha=0.7, label=row[1].segment, color=segment_colors[row[1].segment])\n",
    "    plt.text(x[0], new_y + 0.3, row[1].segment)\n",
    "    old_y = new_y\n",
    "\n",
    "for p in helices:\n",
    "    plt.plot(p, -0.4, 's', lw=3, alpha=0.7, color='red', markeredgecolor='none')    \n",
    "\n",
    "for p in sheets:\n",
    "    plt.plot(p, -0.4, 's', lw=3, alpha=0.7, color='orange', markeredgecolor='none')    \n",
    "\n",
    "for p in disordered:\n",
    "    plt.plot(p, -0.4, 's', lw=3, alpha=0.7, color='gray', markeredgecolor='none')    \n",
    "\n",
    "for p in close_to_mn:\n",
    "    plt.plot(p, -0.6, 's', lw=3, alpha=0.7, color='magenta', markeredgecolor='none')    \n",
    "\n",
    "for p in close_to_substrate:\n",
    "    plt.plot(p, -0.8, 's', lw=3, alpha=0.7, color='black', markeredgecolor='none')    \n",
    "\n",
    "    \n",
    "plt.ylim(-2,4)\n",
    "plt.yticks([])\n",
    "plt.xlabel('Positions according to Uniprot sequence')\n",
    "plt.title(title)\n",
    "\n",
    "plt.savefig('figures/ks47_Secondary_structure_for_Suppl_Figure_1a.png')\n",
    "plt.savefig('figures/ks47_Secondary_structure_for_Suppl_Figure_1a.pdf')"
   ]
  },
  {
   "cell_type": "code",
   "execution_count": null,
   "metadata": {
    "collapsed": true
   },
   "outputs": [],
   "source": []
  }
 ],
 "metadata": {
  "kernelspec": {
   "display_name": "Python 2",
   "language": "python",
   "name": "python2"
  },
  "language_info": {
   "codemirror_mode": {
    "name": "ipython",
    "version": 2
   },
   "file_extension": ".py",
   "mimetype": "text/x-python",
   "name": "python",
   "nbconvert_exporter": "python",
   "pygments_lexer": "ipython2",
   "version": "2.7.13"
  }
 },
 "nbformat": 4,
 "nbformat_minor": 0
}
