{
 "cells": [
  {
   "cell_type": "code",
   "execution_count": 1,
   "metadata": {
    "collapsed": false
   },
   "outputs": [
    {
     "name": "stderr",
     "output_type": "stream",
     "text": [
      "/Users/karen/anaconda/lib/python2.7/site-packages/matplotlib/font_manager.py:273: UserWarning: Matplotlib is building the font cache using fc-list. This may take a moment.\n",
      "  warnings.warn('Matplotlib is building the font cache using fc-list. This may take a moment.')\n",
      "/Users/karen/anaconda/lib/python2.7/site-packages/IPython/html.py:14: ShimWarning: The `IPython.html` package has been deprecated. You should import from `notebook` instead. `IPython.html.widgets` has moved to `ipywidgets`.\n",
      "  \"`IPython.html.widgets` has moved to `ipywidgets`.\", ShimWarning)\n"
     ]
    }
   ],
   "source": [
    "%run 'ks01_Data_import.ipynb'"
   ]
  },
  {
   "cell_type": "code",
   "execution_count": 44,
   "metadata": {
    "collapsed": true
   },
   "outputs": [],
   "source": [
    "import itertools"
   ]
  },
  {
   "cell_type": "code",
   "execution_count": 68,
   "metadata": {
    "collapsed": false,
    "scrolled": false
   },
   "outputs": [
    {
     "name": "stdout",
     "output_type": "stream",
     "text": [
      "3890\n"
     ]
    }
   ],
   "source": [
    "combinations = []\n",
    "for segment in natural_unique_single_mutations:\n",
    "    if 'all' not in segment:\n",
    "        number_of_mutations = 1\n",
    "        for c in itertools.combinations(natural_unique_single_mutations[segment], number_of_mutations):\n",
    "            position_list = [m[:-1] for m in c]\n",
    "            if len(set(position_list)) == len(position_list):\n",
    "                combinations.append(':'.join(sorted(c, key=lambda m: int(m[:-1]))))\n",
    "        number_of_mutations = 2\n",
    "        for c in itertools.combinations(natural_unique_single_mutations[segment], number_of_mutations):\n",
    "            position_list = [m[:-1] for m in c]\n",
    "            if len(set(position_list)) == len(position_list):\n",
    "                combinations.append(':'.join(sorted(c, key=lambda m: int(m[:-1]))))\n",
    "    if segment == 'S2_scaled' or segment == 'S5_scaled':\n",
    "        number_of_mutations = 3\n",
    "        for c in itertools.combinations(natural_unique_single_mutations[segment], number_of_mutations):\n",
    "            position_list = [m[:-1] for m in c]\n",
    "            if len(set(position_list)) == len(position_list):\n",
    "                combinations.append(':'.join(sorted(c, key=lambda m: int(m[:-1]))))\n",
    "print len(combinations)"
   ]
  },
  {
   "cell_type": "code",
   "execution_count": 70,
   "metadata": {
    "collapsed": false
   },
   "outputs": [],
   "source": [
    "with open(files_dupmp_folder + 'mutations_to_predict_ddG__set2.txt', 'w+') as f:\n",
    "    for c in combinations:\n",
    "        f.write(c + '\\n')"
   ]
  }
 ],
 "metadata": {
  "kernelspec": {
   "display_name": "Python 2",
   "language": "python",
   "name": "python2"
  },
  "language_info": {
   "codemirror_mode": {
    "name": "ipython",
    "version": 2
   },
   "file_extension": ".py",
   "mimetype": "text/x-python",
   "name": "python",
   "nbconvert_exporter": "python",
   "pygments_lexer": "ipython2",
   "version": "2.7.13"
  }
 },
 "nbformat": 4,
 "nbformat_minor": 0
}
