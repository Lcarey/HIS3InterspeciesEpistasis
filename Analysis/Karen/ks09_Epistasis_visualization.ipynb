{
 "cells": [
  {
   "cell_type": "code",
   "execution_count": 1,
   "metadata": {
    "collapsed": true
   },
   "outputs": [],
   "source": [
    "import Bio\n",
    "from Bio import PDB"
   ]
  },
  {
   "cell_type": "code",
   "execution_count": 2,
   "metadata": {
    "collapsed": false
   },
   "outputs": [],
   "source": [
    "# import itertools\n",
    "import sys\n",
    "# from IPython.html.widgets.widget_float import FloatProgress\n",
    "# import matplotlib as mpl\n",
    "import pymol\n",
    "from pymol import cmd, stored\n",
    "# import matplotlib\n",
    "# from matplotlib import cm"
   ]
  },
  {
   "cell_type": "code",
   "execution_count": null,
   "metadata": {
    "collapsed": false
   },
   "outputs": [],
   "source": [
    "pymol.pymol_argv = ['pymol', '-qc'] # quiet / no GUI\n",
    "stdout = sys.stdout\n",
    "stderr = sys.stderr\n",
    "pymol.finish_launching(['pymol', '-xiq'])\n",
    "sys.stdout = stdout\n",
    "sys.stderr = stderr"
   ]
  },
  {
   "cell_type": "code",
   "execution_count": null,
   "metadata": {
    "collapsed": false
   },
   "outputs": [],
   "source": [
    "%run 'ks08_Epistasis_in_all_backgrounds.ipynb'\n",
    "notebook_prefix = 'ks09'\n",
    "image_counter = Counter()\n",
    "session_counter = Counter()"
   ]
  },
  {
   "cell_type": "markdown",
   "metadata": {},
   "source": [
    "#### Summary of epistatic interactions"
   ]
  },
  {
   "cell_type": "code",
   "execution_count": 1,
   "metadata": {
    "collapsed": false
   },
   "outputs": [
    {
     "ename": "NameError",
     "evalue": "name 'get_empty_segment_position1_position2_defaultdict' is not defined",
     "output_type": "error",
     "traceback": [
      "\u001b[0;31m---------------------------------------------------------------------------\u001b[0m",
      "\u001b[0;31mNameError\u001b[0m                                 Traceback (most recent call last)",
      "\u001b[0;32m<ipython-input-1-5ff4aca5e717>\u001b[0m in \u001b[0;36m<module>\u001b[0;34m()\u001b[0m\n\u001b[0;32m----> 1\u001b[0;31m \u001b[0mepdict__segment_pos1_pos2\u001b[0m \u001b[0;34m=\u001b[0m \u001b[0mget_empty_segment_position1_position2_defaultdict\u001b[0m\u001b[0;34m(\u001b[0m\u001b[0mep_dict\u001b[0m\u001b[0;34m)\u001b[0m\u001b[0;34m\u001b[0m\u001b[0m\n\u001b[0m\u001b[1;32m      2\u001b[0m \u001b[0mepdict__segment_pos1_pos2\u001b[0m \u001b[0;34m=\u001b[0m \u001b[0mfill_dictionary_with_values\u001b[0m\u001b[0;34m(\u001b[0m\u001b[0mepdict__segment_pos1_pos2\u001b[0m\u001b[0;34m,\u001b[0m \u001b[0mep_dict\u001b[0m\u001b[0;34m)\u001b[0m\u001b[0;34m\u001b[0m\u001b[0m\n\u001b[1;32m      3\u001b[0m \u001b[0mfiltered_dict\u001b[0m \u001b[0;34m=\u001b[0m \u001b[0mfilter_segment_position1_position2_dict\u001b[0m\u001b[0;34m(\u001b[0m\u001b[0mepdict__segment_pos1_pos2\u001b[0m\u001b[0;34m,\u001b[0m \u001b[0;34m'fraction_strong'\u001b[0m\u001b[0;34m)\u001b[0m\u001b[0;34m\u001b[0m\u001b[0m\n",
      "\u001b[0;31mNameError\u001b[0m: name 'get_empty_segment_position1_position2_defaultdict' is not defined"
     ]
    }
   ],
   "source": [
    "epdict__segment_pos1_pos2 = get_empty_segment_position1_position2_defaultdict(ep_dict)\n",
    "epdict__segment_pos1_pos2 = fill_dictionary_with_values(epdict__segment_pos1_pos2, ep_dict)\n",
    "filtered_dict = filter_segment_position1_position2_dict(epdict__segment_pos1_pos2, 'fraction_strong')"
   ]
  },
  {
   "cell_type": "code",
   "execution_count": null,
   "metadata": {
    "collapsed": false
   },
   "outputs": [],
   "source": [
    "%run 'functions_dump.py'\n",
    "\n",
    "strong_ep_positions = []\n",
    "for segment in filtered_dict:\n",
    "    for position in filtered_dict[segment]:\n",
    "        average_fraction = np.max(filtered_dict[segment][position][1])\n",
    "        if average_fraction > 0.1:\n",
    "            strong_ep_positions.append(int(position))\n",
    "# print strong_ep_positions    \n",
    "# plot_better()\n",
    "# plt.hist(fractions_strong, edgecolor='none', bins=80, range=(0,0.2));\n",
    "\n",
    "lucas_pBon001=[7, 8, 9, 11, 13, 16, 18, 20, 22, 23, 24, 25, 26, 27, 28, 29, 38, 41, 56, 60, 62, 76, 77, 78, 79, 80, 81, 82, 85, 96, 97, 98, 99, 102, 104, 105, 106, 108, 110, 111, 112, 114, 115, 117, 119, 120, 121, 122, 131, 135, 137, 139, 140, 141, 142, 143, 144, 145, 147, 148, 151, 152, 154, 157, 160, 161, 163, 164, 165, 168, 169, 170, 172, 175, 177, 181, 189, 202, 203, 206, 207, 208, 209]\n",
    "res_6A  = [35, 37, 38, 39, 61, 65, 68, 71, 72, 124, 125, 184, 186, 187, 190, 194]\n",
    "res_8A = [35, 36, 37, 38, 39, 40, 41, 61, 64, 65, 67, 68, 71, 72, 123, 124, 125, 126, 184, 186, 187, 188, 190, 191, 194]\n",
    "res_12A = [ 33, 34, 35, 36, 37, 38, 39, 40, 41, 42, 43, 44, 51, 53, 55, 60, 61, 62, 63, 64, 65, 66, 67, 68, 69, 70, 71, 72, 73, 74, 121, 122, 123, 124, 125, 126, 127, 128, 129, 147, 152, 153, 181, 182, 183, 184, 185, 186, 187, 188, 189, 190, 191, 192, 193, 194, 195, 196, 197, 198, 201]\n",
    "res_4A = [37, 39, 71, 72, 124, 186, 190, 194]\n",
    "interface_residues = [29, 30, 31, 32, 35, 36, 38, 39, 41, 60, 61, 64, 71, 72, 89, 90, 91, 94, 98, 112, 113, 115, 116, 117, 118, 119, 120, 121, 122, 123, 124, 125, 126, 127, 128, 130, 132, 133, 134, 138, 139, 140, 142, 144, 148, 149, 150, 151, 153, 154, 156, 158, 159, 162, 165, 169, 174, 176, 178, 180, 181, 183, 184, 185, 186, 187, 190, 194, 198, 201, 202]\n",
    "\n",
    "\n",
    "spacing = 2\n",
    "upper_ylim = 250\n",
    "xmin=0.85\n",
    "xmax=0.9\n",
    "text_spacing = 2\n",
    "\n",
    "plot_better(width=18, height=3, grid='x')\n",
    "ax = plt.subplot(111)\n",
    "\n",
    "plot_segment_positions(ax, positions, segment_colors, scale=3)\n",
    "\n",
    "order = 1\n",
    "plt.plot(lucas_pBon001, np.ones_like(lucas_pBon001)-spacing*order, marker='o', color='green', markeredgecolor='none', ls='none')\n",
    "plt.axhline(1-spacing*order, xmin=xmin, xmax=xmax, color='gray', ls='--')\n",
    "plt.text(xmax*upper_ylim+text_spacing, 1-spacing*order, 'Sign epistasis', va='center', fontsize=12)\n",
    "\n",
    "order += 1\n",
    "plt.plot(strong_ep_positions, np.ones_like(strong_ep_positions)-spacing*order, 'or', markeredgecolor='none')\n",
    "plt.axhline(1-spacing*order, xmin=xmin, xmax=xmax, color='gray', ls='--')\n",
    "plt.text(xmax*upper_ylim+text_spacing, 1-spacing*order, 'Frequent strong epistasis', va='center', fontsize=12)\n",
    "\n",
    "order += 1\n",
    "plt.plot(res_6A, np.ones_like(res_6A)-spacing*order, 'om', markeredgecolor='none')\n",
    "plt.axhline(1-spacing*order, xmin=xmin, xmax=xmax, color='gray', ls='--')\n",
    "plt.text(xmax*upper_ylim+text_spacing, 1-spacing*order, '6A from substrate', va='center', fontsize=12)\n",
    "\n",
    "order += 1\n",
    "plt.plot(res_12A, np.ones_like(res_12A)-spacing*order, 'om', markeredgecolor='none')\n",
    "plt.axhline(1-spacing*order, xmin=xmin, xmax=xmax, color='gray', ls='--')\n",
    "plt.text(xmax*upper_ylim+text_spacing, 1-spacing*order, '12A from substrate', va='center', fontsize=12)\n",
    "\n",
    "order += 1\n",
    "plt.plot(interface_residues, np.ones_like(interface_residues)-spacing*order, 'ob', markeredgecolor='none')\n",
    "plt.axhline(1-spacing*order, xmin=xmin, xmax=xmax, color='gray', ls='--')\n",
    "plt.text(xmax*upper_ylim+text_spacing, 1-spacing*order, 'Interface residues', va='center', fontsize=12)\n",
    "\n",
    "plt.ylim([spacing * -1 * order, spacing*4])\n",
    "plt.xlim(0,upper_ylim)\n",
    "\n",
    "plt.yticks([])\n",
    "plt.xticks(np.arange(0,220, 10))\n",
    "ax.spines[\"left\"].set_visible(False)   \n",
    "plt.xlabel('Sequence positions',fontsize=12)\n",
    "\n",
    "plt.tight_layout()\n",
    "\n",
    "plt.savefig('/Users/karen/Downloads/positions_under_sign_epistasis__vs__distance_to_ligand.pdf')"
   ]
  },
  {
   "cell_type": "markdown",
   "metadata": {},
   "source": [
    "### PyMol visualizations"
   ]
  },
  {
   "cell_type": "code",
   "execution_count": null,
   "metadata": {
    "collapsed": false,
    "scrolled": true
   },
   "outputs": [],
   "source": [
    "pdb_file = 'files_dump/structure_visualizations/HIS3_saccharomyces_cerevisiae__itasser_model1_prediction__aligned_with_4LOM.pse'\n",
    "\n",
    "for segment in data:\n",
    "    for position in ep_std_by_position[segment]:\n",
    "        \n",
    "        other_positions, values = filtered_dict[segment][position]\n",
    "        max_value = 0.3 # to color everything in the same scale\n",
    "        values = values[:]\n",
    "        values.extend([0, max_value])\n",
    "        values = [min([max_value, v]) for v in values]\n",
    "\n",
    "        title = 'Epistasis between position %s in segment %s and other positions' %(position, segment)\n",
    "        folder_to_save = check_dir(os.path.join(pymol_sessions_folder, \n",
    "                                                'epistasis_between_pairs_of_positions'+'__'+what_to_look_at, segment.split('_')[0]))\n",
    "        cmd.reinitialize()\n",
    "        open_or_fetch(pdb_file)\n",
    "        color_positions(other_positions, values=values, representation='spheres', colormap=mpl.cm.Blues)\n",
    "        cmd.color('red', 'resi %s' %position)\n",
    "        cmd.show('spheres', 'resi %s' %position)\n",
    "        cmd.hide('everything', '4LOM')\n",
    "        cmd.color('orange', 'ligand')\n",
    "        cmd.show('spheres', 'ligand')\n",
    "        save_session_properly(session_counter, title, folder_to_save, notebook_prefix)"
   ]
  },
  {
   "cell_type": "markdown",
   "metadata": {},
   "source": [
    "### Heatmap of epistasis"
   ]
  },
  {
   "cell_type": "code",
   "execution_count": null,
   "metadata": {
    "collapsed": false,
    "scrolled": false
   },
   "outputs": [],
   "source": [
    "pdb_file = \"files_dump/structure_predictions/HIS3_saccharomyces_cerevisiae__itasser_model1_prediction.pdb\" \n",
    "structure = Bio.PDB.PDBParser().get_structure('His3_itasser', pdb_file)\n",
    "model = structure[0]"
   ]
  },
  {
   "cell_type": "code",
   "execution_count": null,
   "metadata": {
    "collapsed": true
   },
   "outputs": [],
   "source": [
    "residues = list(model.get_residues())"
   ]
  },
  {
   "cell_type": "code",
   "execution_count": null,
   "metadata": {
    "collapsed": true
   },
   "outputs": [],
   "source": [
    "def calc_residue_dist(residue_one, residue_two):\n",
    "    \"\"\"Returns the C-alpha distance between two residues\"\"\"\n",
    "    diff_vector  = residue_one[\"CA\"].coord - residue_two[\"CA\"].coord\n",
    "    return np.sqrt(np.sum(diff_vector * diff_vector))"
   ]
  },
  {
   "cell_type": "code",
   "execution_count": 43,
   "metadata": {
    "collapsed": false
   },
   "outputs": [
    {
     "ename": "NameError",
     "evalue": "name 'epistasis_by_positions' is not defined",
     "output_type": "error",
     "traceback": [
      "\u001b[0;31m---------------------------------------------------------------------------\u001b[0m",
      "\u001b[0;31mNameError\u001b[0m                                 Traceback (most recent call last)",
      "\u001b[0;32m<ipython-input-43-a73d786b89f5>\u001b[0m in \u001b[0;36m<module>\u001b[0;34m()\u001b[0m\n\u001b[1;32m      3\u001b[0m \u001b[0mdist_matrix\u001b[0m \u001b[0;34m=\u001b[0m \u001b[0mnp\u001b[0m\u001b[0;34m.\u001b[0m\u001b[0mzeros\u001b[0m\u001b[0;34m(\u001b[0m\u001b[0;34m(\u001b[0m\u001b[0;36m230\u001b[0m\u001b[0;34m,\u001b[0m \u001b[0;36m230\u001b[0m\u001b[0;34m)\u001b[0m\u001b[0;34m,\u001b[0m \u001b[0mnp\u001b[0m\u001b[0;34m.\u001b[0m\u001b[0mfloat\u001b[0m\u001b[0;34m)\u001b[0m\u001b[0;34m\u001b[0m\u001b[0m\n\u001b[1;32m      4\u001b[0m \u001b[0mplot_better\u001b[0m\u001b[0;34m(\u001b[0m\u001b[0;34m)\u001b[0m\u001b[0;34m\u001b[0m\u001b[0m\n\u001b[0;32m----> 5\u001b[0;31m \u001b[0;32mfor\u001b[0m \u001b[0msegment\u001b[0m \u001b[0;32min\u001b[0m \u001b[0mepistasis_by_positions\u001b[0m\u001b[0;34m:\u001b[0m\u001b[0;34m\u001b[0m\u001b[0m\n\u001b[0m\u001b[1;32m      6\u001b[0m     \u001b[0;32mfor\u001b[0m \u001b[0mposition1\u001b[0m \u001b[0;32min\u001b[0m \u001b[0mepistasis_by_positions\u001b[0m\u001b[0;34m[\u001b[0m\u001b[0msegment\u001b[0m\u001b[0;34m]\u001b[0m\u001b[0;34m:\u001b[0m\u001b[0;34m\u001b[0m\u001b[0m\n\u001b[1;32m      7\u001b[0m         \u001b[0;32mfor\u001b[0m \u001b[0mposition2\u001b[0m \u001b[0;32min\u001b[0m \u001b[0mepistasis_by_positions\u001b[0m\u001b[0;34m[\u001b[0m\u001b[0msegment\u001b[0m\u001b[0;34m]\u001b[0m\u001b[0;34m[\u001b[0m\u001b[0mposition1\u001b[0m\u001b[0;34m]\u001b[0m\u001b[0;34m:\u001b[0m\u001b[0;34m\u001b[0m\u001b[0m\n",
      "\u001b[0;31mNameError\u001b[0m: name 'epistasis_by_positions' is not defined"
     ]
    },
    {
     "data": {
      "image/png": "[encoded data removed]",
      "text/plain": [
       "<matplotlib.figure.Figure at 0x123529690>"
      ]
     },
     "metadata": {},
     "output_type": "display_data"
    }
   ],
   "source": [
    "to_correlate = {}\n",
    "ep_matrix = np.zeros((230, 230), np.float)\n",
    "dist_matrix = np.zeros((230, 230), np.float)\n",
    "plot_better()\n",
    "for segment in epistasis_by_positions:\n",
    "    for position1 in epistasis_by_positions[segment]:\n",
    "        for position2 in epistasis_by_positions[segment][position1]:\n",
    "            distance_value = calc_residue_dist(residues[int(position1)-1], residues[int(position2)-1])\n",
    "            epistasis_value = np.max(epistasis_by_positions[segment][position1][position2]['fraction_strong'])\n",
    "            dist_matrix[position1, position2] = distance_value\n",
    "            ep_matrix[position1, position2] = epistasis_value\n",
    "            to_correlate[tuple(sorted((position1, position2)))] = distance_value, epistasis_value\n",
    "            plt.scatter(distance_value, epistasis_value, edgecolor='none', color=segment_colors[segment.split('_')[0]], alpha=0.5)\n",
    "            title = 'Epistasis between pairs of positions'\n",
    "            y_label = 'Epistasis between pairs of positions\\n(fraction of genotypes under epistasis >%s in all backgrounds)' %ep_threshold\n",
    "            plt.ylabel(y_label)\n",
    "            plt.xlabel('Distance between positions')\n",
    "            plt.title(title)"
   ]
  },
  {
   "cell_type": "code",
   "execution_count": null,
   "metadata": {
    "collapsed": false
   },
   "outputs": [],
   "source": [
    "plot_better(width=16, height=8)\n",
    "\n",
    "ax = plt.subplot(121)\n",
    "im = plt.imshow(ep_matrix, cmap=matplotlib.cm.BuPu, origin='lower', vmax=0.3)\n",
    "cbar = plt.colorbar(im, fraction=0.046, pad=0.04)\n",
    "cbar.ax.set_ylabel('Fraction of strong epistatic interactions', rotation=270)\n",
    "\n",
    "plt.xlim(0,230)\n",
    "plt.ylim(-30,230)\n",
    "plt.xlabel('Position')\n",
    "plt.ylabel('Position')\n",
    "title = 'Epistasis between pairs of positions'\n",
    "title += '\\n(fraction of genotypes under epistasis >%s in all backgrounds)' %ep_threshold\n",
    "plt.title(title)\n",
    "improve_plot(ax)\n",
    "\n",
    "\n",
    "ax = plt.subplot(122)\n",
    "im = plt.imshow(dist_matrix, cmap=matplotlib.cm.BuPu, origin='lower', vmax=25)\n",
    "cbar = plt.colorbar(im, fraction=0.046, pad=0.04)\n",
    "cbar.ax.set_ylabel('Distance, A', rotation=270)\n",
    "\n",
    "#plotting the segments\n",
    "old_y = -20\n",
    "for row in positions.iterrows():\n",
    "    for position in row[1].positions_Uniprot_P06633:\n",
    "        new_y = np.random.choice([-10,-20])\n",
    "        while new_y == old_y:\n",
    "            new_y = np.random.choice([-10,-20])\n",
    "    x = row[1].positions_Uniprot_P06633\n",
    "    plt.plot(x, [new_y for e in x], '.', lw=3, alpha=0.7, label=row[1].segment, color=segment_colors[row[1].segment])\n",
    "    plt.text(np.median(x), new_y + 2, row[1].segment)\n",
    "    old_y = new_y\n",
    "plt.xlim(0,230)\n",
    "plt.ylim(-30,230)\n",
    "plt.xlabel('Position')\n",
    "plt.ylabel('Position')\n",
    "plt.title('Distance between pairs of positions')\n",
    "improve_plot(ax)\n",
    "\n",
    "\n",
    "plt.tight_layout()"
   ]
  },
  {
   "cell_type": "code",
   "execution_count": null,
   "metadata": {
    "collapsed": false
   },
   "outputs": [],
   "source": [
    "directory = os.path.join(files_dump_folder, 'impacts_of_mutations_in_all_backgrounds__full_lib', '')\n",
    "fitness_impacts = OrderedDict()\n",
    "list_of_files = [f for f in os.listdir(directory) if '.hdf' in f]\n",
    "for f in list_of_files:\n",
    "    mut = f.rstrip('.hdf').split('_')[-1]\n",
    "    fitness_impacts[mut] = pd.read_hdf(directory + f, 'data')"
   ]
  },
  {
   "cell_type": "code",
   "execution_count": null,
   "metadata": {
    "collapsed": false,
    "scrolled": false
   },
   "outputs": [],
   "source": [
    "dot_color = '#E91348'\n",
    "plot_better(width=14, height=9)\n",
    "title ='Fraction of strong epistasis vs distance between positions  in all backgrounds'\n",
    "for index, segment in enumerate(data.keys()):\n",
    "    to_correlate = []\n",
    "    ax = plt.subplot(3,4,index+1)\n",
    "    for position1 in epistasis_by_positions[segment]:\n",
    "        for position2 in epistasis_by_positions[segment][position1]:\n",
    "            distance_value = calc_residue_dist(residues[int(position1)-1], residues[int(position2)-1])\n",
    "            for value in epistasis_by_positions[segment][position1][position2]['fraction_strong']:\n",
    "                to_correlate.append((distance_value, value))\n",
    "                plt.scatter(distance_value, value, color='blue', edgecolor='none', alpha=0.1)\n",
    "    subtitle = 'Epistasis vs distance in %s' % segment.split('_')[0]\n",
    "    subtitle += '\\n spearman coeff = %.2f' %stats.spearmanr(to_correlate)[0]\n",
    "    plt.title(subtitle)\n",
    "    plt.xlim(0,43)\n",
    "    plt.ylim(0,0.7)\n",
    "    plt.xlabel('Distance between positions, A')\n",
    "    plt.ylabel('Fraction of strong epistasis\\nbetween pairs of mutations')\n",
    "    improve_plot(ax)\n",
    "plt.tight_layout()\n",
    "save_image(image_counter, title, figures_folder, notebook_prefix)"
   ]
  },
  {
   "cell_type": "code",
   "execution_count": null,
   "metadata": {
    "collapsed": false,
    "scrolled": false
   },
   "outputs": [],
   "source": [
    "dot_color = '#E91348'\n",
    "plot_better(width=14, height=9)\n",
    "title ='Fraction of strong epistasis vs fitness of interacting mutations  in all backgrounds'\n",
    "for index, segment in enumerate(data.keys()):\n",
    "    to_correlate = []\n",
    "    ax = plt.subplot(3,4,index+1)\n",
    "    improve_plot(ax)\n",
    "    for mutA, mutB in ep_dict[segment]:\n",
    "        ep = ep_dict[segment][mutA, mutB]\n",
    "        ep_fraction = 1. * len(ep[np.abs(ep) > ep_threshold]) / len(ep)\n",
    "        fitness_value = fitness_impacts[mutA].mean() + fitness_impacts[mutB].mean()\n",
    "#         fitness_value = np.abs(fitness_impacts[mutA].mean()) + np.abs(fitness_impacts[mutB].mean())\n",
    "        plt.scatter(fitness_value, ep_fraction, color=dot_color, edgecolor='none', alpha=0.1)    \n",
    "        to_correlate.append((fitness_value, ep_fraction))\n",
    "    subtitle = 'Epistasis vs fitness in %s' % segment.split('_')[0]\n",
    "    subtitle += '\\n spearman coeff = %.2f' %stats.spearmanr(to_correlate)[0]\n",
    "    plt.title(subtitle)\n",
    "    plt.ylim(0,0.7)\n",
    "    plt.xlim(-0.7, 0.1)\n",
    "    plt.axvline(0, color='gray')\n",
    "    plt.xlabel('Sum of av. fitness impacts\\nof interacting mutations')\n",
    "    plt.ylabel('Fraction of strong epistasis\\nbetween pairs of mutations')\n",
    "\n",
    "plt.tight_layout()\n",
    "save_image(image_counter, title, figures_folder, notebook_prefix)"
   ]
  },
  {
   "cell_type": "markdown",
   "metadata": {},
   "source": [
    "### Sign epistasis from Lucas"
   ]
  },
  {
   "cell_type": "code",
   "execution_count": 8,
   "metadata": {
    "collapsed": false
   },
   "outputs": [],
   "source": [
    "% run 'functions_dump.py'"
   ]
  },
  {
   "cell_type": "code",
   "execution_count": 32,
   "metadata": {
    "collapsed": false,
    "scrolled": true
   },
   "outputs": [
    {
     "data": {
      "text/html": [
       "<div>\n",
       "<table border=\"1\" class=\"dataframe\">\n",
       "  <thead>\n",
       "    <tr style=\"text-align: right;\">\n",
       "      <th></th>\n",
       "      <th>S1</th>\n",
       "      <th>S2</th>\n",
       "      <th>S3</th>\n",
       "      <th>S4</th>\n",
       "      <th>S5</th>\n",
       "      <th>S6</th>\n",
       "      <th>S7</th>\n",
       "      <th>S8</th>\n",
       "      <th>S9</th>\n",
       "      <th>S10</th>\n",
       "      <th>S11</th>\n",
       "      <th>S12</th>\n",
       "    </tr>\n",
       "    <tr>\n",
       "      <th>relative_position</th>\n",
       "      <th></th>\n",
       "      <th></th>\n",
       "      <th></th>\n",
       "      <th></th>\n",
       "      <th></th>\n",
       "      <th></th>\n",
       "      <th></th>\n",
       "      <th></th>\n",
       "      <th></th>\n",
       "      <th></th>\n",
       "      <th></th>\n",
       "      <th></th>\n",
       "    </tr>\n",
       "  </thead>\n",
       "  <tbody>\n",
       "    <tr>\n",
       "      <th>0</th>\n",
       "      <td>106.0</td>\n",
       "      <td>136.0</td>\n",
       "      <td>145.0</td>\n",
       "      <td>171.0</td>\n",
       "      <td>181</td>\n",
       "      <td>96.0</td>\n",
       "      <td>66.0</td>\n",
       "      <td>56.0</td>\n",
       "      <td>36.0</td>\n",
       "      <td>30.0</td>\n",
       "      <td>13.0</td>\n",
       "      <td>6.0</td>\n",
       "    </tr>\n",
       "    <tr>\n",
       "      <th>1</th>\n",
       "      <td>107.0</td>\n",
       "      <td>137.0</td>\n",
       "      <td>146.0</td>\n",
       "      <td>172.0</td>\n",
       "      <td>182</td>\n",
       "      <td>97.0</td>\n",
       "      <td>67.0</td>\n",
       "      <td>57.0</td>\n",
       "      <td>37.0</td>\n",
       "      <td>31.0</td>\n",
       "      <td>14.0</td>\n",
       "      <td>7.0</td>\n",
       "    </tr>\n",
       "    <tr>\n",
       "      <th>2</th>\n",
       "      <td>108.0</td>\n",
       "      <td>138.0</td>\n",
       "      <td>147.0</td>\n",
       "      <td>173.0</td>\n",
       "      <td>183</td>\n",
       "      <td>98.0</td>\n",
       "      <td>68.0</td>\n",
       "      <td>58.0</td>\n",
       "      <td>38.0</td>\n",
       "      <td>32.0</td>\n",
       "      <td>15.0</td>\n",
       "      <td>8.0</td>\n",
       "    </tr>\n",
       "    <tr>\n",
       "      <th>3</th>\n",
       "      <td>109.0</td>\n",
       "      <td>139.0</td>\n",
       "      <td>148.0</td>\n",
       "      <td>174.0</td>\n",
       "      <td>184</td>\n",
       "      <td>99.0</td>\n",
       "      <td>69.0</td>\n",
       "      <td>59.0</td>\n",
       "      <td>39.0</td>\n",
       "      <td>33.0</td>\n",
       "      <td>16.0</td>\n",
       "      <td>9.0</td>\n",
       "    </tr>\n",
       "    <tr>\n",
       "      <th>4</th>\n",
       "      <td>110.0</td>\n",
       "      <td>140.0</td>\n",
       "      <td>149.0</td>\n",
       "      <td>175.0</td>\n",
       "      <td>185</td>\n",
       "      <td>100.0</td>\n",
       "      <td>70.0</td>\n",
       "      <td>60.0</td>\n",
       "      <td>40.0</td>\n",
       "      <td>34.0</td>\n",
       "      <td>17.0</td>\n",
       "      <td>10.0</td>\n",
       "    </tr>\n",
       "    <tr>\n",
       "      <th>5</th>\n",
       "      <td>111.0</td>\n",
       "      <td>141.0</td>\n",
       "      <td>150.0</td>\n",
       "      <td>176.0</td>\n",
       "      <td>186</td>\n",
       "      <td>101.0</td>\n",
       "      <td>71.0</td>\n",
       "      <td>61.0</td>\n",
       "      <td>41.0</td>\n",
       "      <td>35.0</td>\n",
       "      <td>18.0</td>\n",
       "      <td>11.0</td>\n",
       "    </tr>\n",
       "    <tr>\n",
       "      <th>6</th>\n",
       "      <td>112.0</td>\n",
       "      <td>142.0</td>\n",
       "      <td>151.0</td>\n",
       "      <td>177.0</td>\n",
       "      <td>187</td>\n",
       "      <td>102.0</td>\n",
       "      <td>72.0</td>\n",
       "      <td>62.0</td>\n",
       "      <td>42.0</td>\n",
       "      <td>36.0</td>\n",
       "      <td>19.0</td>\n",
       "      <td>12.0</td>\n",
       "    </tr>\n",
       "    <tr>\n",
       "      <th>7</th>\n",
       "      <td>113.0</td>\n",
       "      <td>143.0</td>\n",
       "      <td>152.0</td>\n",
       "      <td>178.0</td>\n",
       "      <td>188</td>\n",
       "      <td>103.0</td>\n",
       "      <td>73.0</td>\n",
       "      <td>63.0</td>\n",
       "      <td>43.0</td>\n",
       "      <td>37.0</td>\n",
       "      <td>20.0</td>\n",
       "      <td>13.0</td>\n",
       "    </tr>\n",
       "    <tr>\n",
       "      <th>8</th>\n",
       "      <td>114.0</td>\n",
       "      <td>144.0</td>\n",
       "      <td>153.0</td>\n",
       "      <td>179.0</td>\n",
       "      <td>189</td>\n",
       "      <td>104.0</td>\n",
       "      <td>74.0</td>\n",
       "      <td>64.0</td>\n",
       "      <td>44.0</td>\n",
       "      <td>38.0</td>\n",
       "      <td>21.0</td>\n",
       "      <td>14.0</td>\n",
       "    </tr>\n",
       "    <tr>\n",
       "      <th>9</th>\n",
       "      <td>115.0</td>\n",
       "      <td>145.0</td>\n",
       "      <td>154.0</td>\n",
       "      <td>180.0</td>\n",
       "      <td>190</td>\n",
       "      <td>105.0</td>\n",
       "      <td>75.0</td>\n",
       "      <td>65.0</td>\n",
       "      <td>45.0</td>\n",
       "      <td>39.0</td>\n",
       "      <td>22.0</td>\n",
       "      <td>15.0</td>\n",
       "    </tr>\n",
       "    <tr>\n",
       "      <th>10</th>\n",
       "      <td>116.0</td>\n",
       "      <td>146.0</td>\n",
       "      <td>155.0</td>\n",
       "      <td>181.0</td>\n",
       "      <td>191</td>\n",
       "      <td>106.0</td>\n",
       "      <td>76.0</td>\n",
       "      <td>66.0</td>\n",
       "      <td>46.0</td>\n",
       "      <td>40.0</td>\n",
       "      <td>23.0</td>\n",
       "      <td>16.0</td>\n",
       "    </tr>\n",
       "    <tr>\n",
       "      <th>11</th>\n",
       "      <td>117.0</td>\n",
       "      <td>147.0</td>\n",
       "      <td>156.0</td>\n",
       "      <td>182.0</td>\n",
       "      <td>192</td>\n",
       "      <td>107.0</td>\n",
       "      <td>77.0</td>\n",
       "      <td>67.0</td>\n",
       "      <td>47.0</td>\n",
       "      <td>41.0</td>\n",
       "      <td>24.0</td>\n",
       "      <td>17.0</td>\n",
       "    </tr>\n",
       "    <tr>\n",
       "      <th>12</th>\n",
       "      <td>118.0</td>\n",
       "      <td>148.0</td>\n",
       "      <td>157.0</td>\n",
       "      <td>183.0</td>\n",
       "      <td>193</td>\n",
       "      <td>108.0</td>\n",
       "      <td>78.0</td>\n",
       "      <td>68.0</td>\n",
       "      <td>48.0</td>\n",
       "      <td>42.0</td>\n",
       "      <td>25.0</td>\n",
       "      <td>18.0</td>\n",
       "    </tr>\n",
       "    <tr>\n",
       "      <th>13</th>\n",
       "      <td>119.0</td>\n",
       "      <td>149.0</td>\n",
       "      <td>158.0</td>\n",
       "      <td>184.0</td>\n",
       "      <td>194</td>\n",
       "      <td>109.0</td>\n",
       "      <td>79.0</td>\n",
       "      <td>69.0</td>\n",
       "      <td>49.0</td>\n",
       "      <td>43.0</td>\n",
       "      <td>26.0</td>\n",
       "      <td>19.0</td>\n",
       "    </tr>\n",
       "    <tr>\n",
       "      <th>14</th>\n",
       "      <td>120.0</td>\n",
       "      <td>150.0</td>\n",
       "      <td>159.0</td>\n",
       "      <td>185.0</td>\n",
       "      <td>195</td>\n",
       "      <td>110.0</td>\n",
       "      <td>80.0</td>\n",
       "      <td>70.0</td>\n",
       "      <td>50.0</td>\n",
       "      <td>44.0</td>\n",
       "      <td>27.0</td>\n",
       "      <td>20.0</td>\n",
       "    </tr>\n",
       "    <tr>\n",
       "      <th>15</th>\n",
       "      <td>121.0</td>\n",
       "      <td>151.0</td>\n",
       "      <td>160.0</td>\n",
       "      <td>186.0</td>\n",
       "      <td>196</td>\n",
       "      <td>111.0</td>\n",
       "      <td>81.0</td>\n",
       "      <td>71.0</td>\n",
       "      <td>51.0</td>\n",
       "      <td>45.0</td>\n",
       "      <td>28.0</td>\n",
       "      <td>21.0</td>\n",
       "    </tr>\n",
       "    <tr>\n",
       "      <th>16</th>\n",
       "      <td>122.0</td>\n",
       "      <td>152.0</td>\n",
       "      <td>161.0</td>\n",
       "      <td>187.0</td>\n",
       "      <td>197</td>\n",
       "      <td>112.0</td>\n",
       "      <td>82.0</td>\n",
       "      <td>72.0</td>\n",
       "      <td>52.0</td>\n",
       "      <td>46.0</td>\n",
       "      <td>29.0</td>\n",
       "      <td>22.0</td>\n",
       "    </tr>\n",
       "    <tr>\n",
       "      <th>17</th>\n",
       "      <td>123.0</td>\n",
       "      <td>153.0</td>\n",
       "      <td>162.0</td>\n",
       "      <td>188.0</td>\n",
       "      <td>198</td>\n",
       "      <td>113.0</td>\n",
       "      <td>83.0</td>\n",
       "      <td>73.0</td>\n",
       "      <td>53.0</td>\n",
       "      <td>47.0</td>\n",
       "      <td>NaN</td>\n",
       "      <td>23.0</td>\n",
       "    </tr>\n",
       "    <tr>\n",
       "      <th>18</th>\n",
       "      <td>124.0</td>\n",
       "      <td>154.0</td>\n",
       "      <td>163.0</td>\n",
       "      <td>189.0</td>\n",
       "      <td>199</td>\n",
       "      <td>114.0</td>\n",
       "      <td>84.0</td>\n",
       "      <td>74.0</td>\n",
       "      <td>54.0</td>\n",
       "      <td>NaN</td>\n",
       "      <td>NaN</td>\n",
       "      <td>24.0</td>\n",
       "    </tr>\n",
       "    <tr>\n",
       "      <th>19</th>\n",
       "      <td>125.0</td>\n",
       "      <td>155.0</td>\n",
       "      <td>164.0</td>\n",
       "      <td>190.0</td>\n",
       "      <td>200</td>\n",
       "      <td>115.0</td>\n",
       "      <td>85.0</td>\n",
       "      <td>75.0</td>\n",
       "      <td>55.0</td>\n",
       "      <td>NaN</td>\n",
       "      <td>NaN</td>\n",
       "      <td>NaN</td>\n",
       "    </tr>\n",
       "    <tr>\n",
       "      <th>20</th>\n",
       "      <td>126.0</td>\n",
       "      <td>156.0</td>\n",
       "      <td>165.0</td>\n",
       "      <td>191.0</td>\n",
       "      <td>201</td>\n",
       "      <td>116.0</td>\n",
       "      <td>86.0</td>\n",
       "      <td>76.0</td>\n",
       "      <td>NaN</td>\n",
       "      <td>NaN</td>\n",
       "      <td>NaN</td>\n",
       "      <td>NaN</td>\n",
       "    </tr>\n",
       "    <tr>\n",
       "      <th>21</th>\n",
       "      <td>127.0</td>\n",
       "      <td>157.0</td>\n",
       "      <td>166.0</td>\n",
       "      <td>192.0</td>\n",
       "      <td>202</td>\n",
       "      <td>117.0</td>\n",
       "      <td>87.0</td>\n",
       "      <td>77.0</td>\n",
       "      <td>NaN</td>\n",
       "      <td>NaN</td>\n",
       "      <td>NaN</td>\n",
       "      <td>NaN</td>\n",
       "    </tr>\n",
       "    <tr>\n",
       "      <th>22</th>\n",
       "      <td>128.0</td>\n",
       "      <td>158.0</td>\n",
       "      <td>167.0</td>\n",
       "      <td>193.0</td>\n",
       "      <td>203</td>\n",
       "      <td>118.0</td>\n",
       "      <td>88.0</td>\n",
       "      <td>78.0</td>\n",
       "      <td>NaN</td>\n",
       "      <td>NaN</td>\n",
       "      <td>NaN</td>\n",
       "      <td>NaN</td>\n",
       "    </tr>\n",
       "    <tr>\n",
       "      <th>23</th>\n",
       "      <td>129.0</td>\n",
       "      <td>159.0</td>\n",
       "      <td>168.0</td>\n",
       "      <td>194.0</td>\n",
       "      <td>204</td>\n",
       "      <td>119.0</td>\n",
       "      <td>89.0</td>\n",
       "      <td>79.0</td>\n",
       "      <td>NaN</td>\n",
       "      <td>NaN</td>\n",
       "      <td>NaN</td>\n",
       "      <td>NaN</td>\n",
       "    </tr>\n",
       "    <tr>\n",
       "      <th>24</th>\n",
       "      <td>130.0</td>\n",
       "      <td>160.0</td>\n",
       "      <td>169.0</td>\n",
       "      <td>195.0</td>\n",
       "      <td>205</td>\n",
       "      <td>120.0</td>\n",
       "      <td>90.0</td>\n",
       "      <td>80.0</td>\n",
       "      <td>NaN</td>\n",
       "      <td>NaN</td>\n",
       "      <td>NaN</td>\n",
       "      <td>NaN</td>\n",
       "    </tr>\n",
       "    <tr>\n",
       "      <th>25</th>\n",
       "      <td>131.0</td>\n",
       "      <td>161.0</td>\n",
       "      <td>170.0</td>\n",
       "      <td>196.0</td>\n",
       "      <td>206</td>\n",
       "      <td>121.0</td>\n",
       "      <td>91.0</td>\n",
       "      <td>81.0</td>\n",
       "      <td>NaN</td>\n",
       "      <td>NaN</td>\n",
       "      <td>NaN</td>\n",
       "      <td>NaN</td>\n",
       "    </tr>\n",
       "    <tr>\n",
       "      <th>26</th>\n",
       "      <td>132.0</td>\n",
       "      <td>162.0</td>\n",
       "      <td>NaN</td>\n",
       "      <td>197.0</td>\n",
       "      <td>207</td>\n",
       "      <td>122.0</td>\n",
       "      <td>92.0</td>\n",
       "      <td>82.0</td>\n",
       "      <td>NaN</td>\n",
       "      <td>NaN</td>\n",
       "      <td>NaN</td>\n",
       "      <td>NaN</td>\n",
       "    </tr>\n",
       "    <tr>\n",
       "      <th>27</th>\n",
       "      <td>133.0</td>\n",
       "      <td>163.0</td>\n",
       "      <td>NaN</td>\n",
       "      <td>198.0</td>\n",
       "      <td>208</td>\n",
       "      <td>123.0</td>\n",
       "      <td>93.0</td>\n",
       "      <td>83.0</td>\n",
       "      <td>NaN</td>\n",
       "      <td>NaN</td>\n",
       "      <td>NaN</td>\n",
       "      <td>NaN</td>\n",
       "    </tr>\n",
       "    <tr>\n",
       "      <th>28</th>\n",
       "      <td>134.0</td>\n",
       "      <td>NaN</td>\n",
       "      <td>NaN</td>\n",
       "      <td>199.0</td>\n",
       "      <td>209</td>\n",
       "      <td>124.0</td>\n",
       "      <td>94.0</td>\n",
       "      <td>84.0</td>\n",
       "      <td>NaN</td>\n",
       "      <td>NaN</td>\n",
       "      <td>NaN</td>\n",
       "      <td>NaN</td>\n",
       "    </tr>\n",
       "    <tr>\n",
       "      <th>29</th>\n",
       "      <td>135.0</td>\n",
       "      <td>NaN</td>\n",
       "      <td>NaN</td>\n",
       "      <td>200.0</td>\n",
       "      <td>210</td>\n",
       "      <td>125.0</td>\n",
       "      <td>95.0</td>\n",
       "      <td>85.0</td>\n",
       "      <td>NaN</td>\n",
       "      <td>NaN</td>\n",
       "      <td>NaN</td>\n",
       "      <td>NaN</td>\n",
       "    </tr>\n",
       "    <tr>\n",
       "      <th>30</th>\n",
       "      <td>NaN</td>\n",
       "      <td>NaN</td>\n",
       "      <td>NaN</td>\n",
       "      <td>NaN</td>\n",
       "      <td>211</td>\n",
       "      <td>NaN</td>\n",
       "      <td>NaN</td>\n",
       "      <td>NaN</td>\n",
       "      <td>NaN</td>\n",
       "      <td>NaN</td>\n",
       "      <td>NaN</td>\n",
       "      <td>NaN</td>\n",
       "    </tr>\n",
       "  </tbody>\n",
       "</table>\n",
       "</div>"
      ],
      "text/plain": [
       "                      S1     S2     S3     S4   S5     S6    S7    S8    S9  \\\n",
       "relative_position                                                             \n",
       "0                  106.0  136.0  145.0  171.0  181   96.0  66.0  56.0  36.0   \n",
       "1                  107.0  137.0  146.0  172.0  182   97.0  67.0  57.0  37.0   \n",
       "2                  108.0  138.0  147.0  173.0  183   98.0  68.0  58.0  38.0   \n",
       "3                  109.0  139.0  148.0  174.0  184   99.0  69.0  59.0  39.0   \n",
       "4                  110.0  140.0  149.0  175.0  185  100.0  70.0  60.0  40.0   \n",
       "5                  111.0  141.0  150.0  176.0  186  101.0  71.0  61.0  41.0   \n",
       "6                  112.0  142.0  151.0  177.0  187  102.0  72.0  62.0  42.0   \n",
       "7                  113.0  143.0  152.0  178.0  188  103.0  73.0  63.0  43.0   \n",
       "8                  114.0  144.0  153.0  179.0  189  104.0  74.0  64.0  44.0   \n",
       "9                  115.0  145.0  154.0  180.0  190  105.0  75.0  65.0  45.0   \n",
       "10                 116.0  146.0  155.0  181.0  191  106.0  76.0  66.0  46.0   \n",
       "11                 117.0  147.0  156.0  182.0  192  107.0  77.0  67.0  47.0   \n",
       "12                 118.0  148.0  157.0  183.0  193  108.0  78.0  68.0  48.0   \n",
       "13                 119.0  149.0  158.0  184.0  194  109.0  79.0  69.0  49.0   \n",
       "14                 120.0  150.0  159.0  185.0  195  110.0  80.0  70.0  50.0   \n",
       "15                 121.0  151.0  160.0  186.0  196  111.0  81.0  71.0  51.0   \n",
       "16                 122.0  152.0  161.0  187.0  197  112.0  82.0  72.0  52.0   \n",
       "17                 123.0  153.0  162.0  188.0  198  113.0  83.0  73.0  53.0   \n",
       "18                 124.0  154.0  163.0  189.0  199  114.0  84.0  74.0  54.0   \n",
       "19                 125.0  155.0  164.0  190.0  200  115.0  85.0  75.0  55.0   \n",
       "20                 126.0  156.0  165.0  191.0  201  116.0  86.0  76.0   NaN   \n",
       "21                 127.0  157.0  166.0  192.0  202  117.0  87.0  77.0   NaN   \n",
       "22                 128.0  158.0  167.0  193.0  203  118.0  88.0  78.0   NaN   \n",
       "23                 129.0  159.0  168.0  194.0  204  119.0  89.0  79.0   NaN   \n",
       "24                 130.0  160.0  169.0  195.0  205  120.0  90.0  80.0   NaN   \n",
       "25                 131.0  161.0  170.0  196.0  206  121.0  91.0  81.0   NaN   \n",
       "26                 132.0  162.0    NaN  197.0  207  122.0  92.0  82.0   NaN   \n",
       "27                 133.0  163.0    NaN  198.0  208  123.0  93.0  83.0   NaN   \n",
       "28                 134.0    NaN    NaN  199.0  209  124.0  94.0  84.0   NaN   \n",
       "29                 135.0    NaN    NaN  200.0  210  125.0  95.0  85.0   NaN   \n",
       "30                   NaN    NaN    NaN    NaN  211    NaN   NaN   NaN   NaN   \n",
       "\n",
       "                    S10   S11   S12  \n",
       "relative_position                    \n",
       "0                  30.0  13.0   6.0  \n",
       "1                  31.0  14.0   7.0  \n",
       "2                  32.0  15.0   8.0  \n",
       "3                  33.0  16.0   9.0  \n",
       "4                  34.0  17.0  10.0  \n",
       "5                  35.0  18.0  11.0  \n",
       "6                  36.0  19.0  12.0  \n",
       "7                  37.0  20.0  13.0  \n",
       "8                  38.0  21.0  14.0  \n",
       "9                  39.0  22.0  15.0  \n",
       "10                 40.0  23.0  16.0  \n",
       "11                 41.0  24.0  17.0  \n",
       "12                 42.0  25.0  18.0  \n",
       "13                 43.0  26.0  19.0  \n",
       "14                 44.0  27.0  20.0  \n",
       "15                 45.0  28.0  21.0  \n",
       "16                 46.0  29.0  22.0  \n",
       "17                 47.0   NaN  23.0  \n",
       "18                  NaN   NaN  24.0  \n",
       "19                  NaN   NaN   NaN  \n",
       "20                  NaN   NaN   NaN  \n",
       "21                  NaN   NaN   NaN  \n",
       "22                  NaN   NaN   NaN  \n",
       "23                  NaN   NaN   NaN  \n",
       "24                  NaN   NaN   NaN  \n",
       "25                  NaN   NaN   NaN  \n",
       "26                  NaN   NaN   NaN  \n",
       "27                  NaN   NaN   NaN  \n",
       "28                  NaN   NaN   NaN  \n",
       "29                  NaN   NaN   NaN  \n",
       "30                  NaN   NaN   NaN  "
      ]
     },
     "execution_count": 32,
     "metadata": {},
     "output_type": "execute_result"
    }
   ],
   "source": [
    "position_translation = pd.read_table(files_dump_folder + 'position_translation.csv')\n",
    "position_translation.set_index('relative_position', inplace=True)\n",
    "position_translation"
   ]
  },
  {
   "cell_type": "code",
   "execution_count": 33,
   "metadata": {
    "collapsed": false,
    "scrolled": false
   },
   "outputs": [],
   "source": [
    "def get_absolute_position(segment_number, relative_position):\n",
    "    return int(position_translation.iloc[relative_position]['S'+str(segment_number)])\n",
    "\n",
    "lucas_sign_epistasis = pd.read_excel('/Users/karen/Downloads/SignEpiPairs.xlsx')\n",
    "lucas_sign_epistasis['VarPos_absolute'] = lucas_sign_epistasis.apply(lambda df: get_absolute_position(df['SegN'], df['VarPos']-1), axis=1)\n",
    "lucas_sign_epistasis['SubPos_absolute'] = lucas_sign_epistasis.apply(lambda df: get_absolute_position(df['SegN'], df['SubPos']-1), axis=1)\n",
    "# lucas_sign_epistasis['distance'] = lucas_sign_epistasis.apply(lambda df: calc_residue_dist(residues[df['VarPos_absolute']-1], residues[df['SubPos_absolute']-1]), axis=1)"
   ]
  },
  {
   "cell_type": "code",
   "execution_count": 34,
   "metadata": {
    "collapsed": false
   },
   "outputs": [],
   "source": [
    "logodds_threshold = 5\n",
    "lucas_sign_epistasis['logodds_thresholded'] = lucas_sign_epistasis['logodds'].apply(lambda f: min(f, logodds_threshold))"
   ]
  },
  {
   "cell_type": "code",
   "execution_count": null,
   "metadata": {
    "collapsed": false
   },
   "outputs": [],
   "source": [
    "plot_better()\n",
    "plt.scatter(lucas_sign_epistasis['distance'], lucas_sign_epistasis['logodds_thresholded'], edgecolor='none', alpha=0.1)\n",
    "correlation = stats.spearman]r(lucas_sign_epistasis['distance'], lucas_sign_epistasis['logodds_thresholded'])\n",
    "plt.xlabel('Distance, A')\n",
    "plt.ylabel('logodds from Lucas')\n",
    "plt.title('Spearman correlation: %.3f' %correlation[0])"
   ]
  },
  {
   "cell_type": "code",
   "execution_count": 13,
   "metadata": {
    "collapsed": false
   },
   "outputs": [],
   "source": [
    "# pdb_file = \"files_dump/structure_predictions/HIS3_saccharomyces_cerevisiae__swissmodel_prediction.pdb\" \n",
    "pdb_file = \"files_dump/structure_visualizations/His3_aligned_with_4LOM_assembly_by_Sasha.pdb\" \n",
    "# structure = Bio.PDB.PDBParser().get_structure('His3_itasser', pdb_file)\n",
    "# chain = list(structure[0].get_chains())[0]"
   ]
  },
  {
   "cell_type": "code",
   "execution_count": 35,
   "metadata": {
    "collapsed": false,
    "scrolled": false
   },
   "outputs": [],
   "source": [
    "subset = lucas_sign_epistasis[lucas_sign_epistasis.pBon < 0.05]\n",
    "var_positions = set(subset.VarPos_absolute.values)"
   ]
  },
  {
   "cell_type": "code",
   "execution_count": 39,
   "metadata": {
    "collapsed": false
   },
   "outputs": [
    {
     "data": {
      "text/plain": [
       "{96, 97, 98, 99, 102, 104, 105, 117, 119, 120, 122}"
      ]
     },
     "execution_count": 39,
     "metadata": {},
     "output_type": "execute_result"
    }
   ],
   "source": [
    "cols = ['VarPos_absolute', 'SubPos_absolute', 'Perm', 'SubPerm']\n",
    "pos121 = lucas_sign_epistasis[lucas_sign_epistasis.VarPos_absolute == 121][cols]"
   ]
  },
  {
   "cell_type": "code",
   "execution_count": 44,
   "metadata": {
    "collapsed": true
   },
   "outputs": [],
   "source": [
    "assembly_file = '/Users/karen/Downloads/swiss_assembly.pse'"
   ]
  },
  {
   "cell_type": "code",
   "execution_count": 47,
   "metadata": {
    "collapsed": false,
    "scrolled": true
   },
   "outputs": [
    {
     "name": "stdout",
     "output_type": "stream",
     "text": [
      " Applying pse_export_version=1.720 compatibility\n"
     ]
    }
   ],
   "source": [
    "cmd.reinitialize()\n",
    "open_or_fetch(assembly_file)\n",
    "white_and_beautiful()\n",
    "cmd.color('red', 'resi 121')\n",
    "cmd.show('spheres', 'resi 121')\n",
    "color_positions(set(pos121.SubPos_absolute.values), representation='spheres')\n",
    "save_session('/Users/karen/Downloads/position121.pse')"
   ]
  },
  {
   "cell_type": "code",
   "execution_count": 147,
   "metadata": {
    "collapsed": false
   },
   "outputs": [
    {
     "name": "stdout",
     "output_type": "stream",
     "text": [
      " Applying pse_export_version=1.720 compatibility\n"
     ]
    }
   ],
   "source": [
    "cmd.reinitialize()\n",
    "open_or_fetch(assembly_file)\n",
    "white_and_beautiful()\n",
    "# cmd.color('red', 'resi 121')\n",
    "# cmd.show('spheres', 'resi 121')\n",
    "color_positions(range(85,95), representation='spheres')\n",
    "save_session('/Users/karen/Downloads/position85-95.pse')"
   ]
  },
  {
   "cell_type": "code",
   "execution_count": 159,
   "metadata": {
    "collapsed": false
   },
   "outputs": [
    {
     "data": {
      "text/plain": [
       "[1, 2, 3, 4]"
      ]
     },
     "execution_count": 159,
     "metadata": {},
     "output_type": "execute_result"
    }
   ],
   "source": [
    "a = [[1,2],[3,4]]\n",
    "[item for sublist in a for item in sublist]"
   ]
  },
  {
   "cell_type": "code",
   "execution_count": 207,
   "metadata": {
    "collapsed": false
   },
   "outputs": [
    {
     "name": "stdout",
     "output_type": "stream",
     "text": [
      " Applying pse_export_version=1.720 compatibility\n"
     ]
    }
   ],
   "source": [
    "cmd.reinitialize()\n",
    "open_or_fetch(assembly_file)\n",
    "white_and_beautiful()\n",
    "interface_residues = [29, 30, 31, 32, 35, 36, 38, 39, 41, 60, 61, 64, 71, 72, 89, 90, 91, 94, 98, 112, 113, 115, 116, 117, 118, 119, 120, 121, 122, 123, 124, 125, 126, 127, 128, 130, 132, 133, 134, 138, 139, 140, 142, 144, 148, 149, 150, 151, 153, 154, 156, 158, 159, 162, 165, 169, 174, 176, 178, 180, 181, 183, 184, 185, 186, 187, 190, 194, 198, 201, 202]\n",
    "color_positions(interface_residues, representation='spheres')\n",
    "save_session('/Users/karen/Downloads/interface_residues.pse')"
   ]
  },
  {
   "cell_type": "code",
   "execution_count": null,
   "metadata": {
    "collapsed": true
   },
   "outputs": [],
   "source": []
  }
 ],
 "metadata": {
  "kernelspec": {
   "display_name": "Python 2",
   "language": "python",
   "name": "python2"
  },
  "language_info": {
   "codemirror_mode": {
    "name": "ipython",
    "version": 2
   },
   "file_extension": ".py",
   "mimetype": "text/x-python",
   "name": "python",
   "nbconvert_exporter": "python",
   "pygments_lexer": "ipython2",
   "version": "2.7.13"
  }
 },
 "nbformat": 4,
 "nbformat_minor": 0
}
