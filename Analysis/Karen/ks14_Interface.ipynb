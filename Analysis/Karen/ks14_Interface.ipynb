{
 "cells": [
  {
   "cell_type": "code",
   "execution_count": 2,
   "metadata": {
    "collapsed": false
   },
   "outputs": [],
   "source": [
    "import sys\n",
    "import pymol\n",
    "from pymol import cmd, stored"
   ]
  },
  {
   "cell_type": "code",
   "execution_count": 3,
   "metadata": {
    "collapsed": false
   },
   "outputs": [],
   "source": [
    "pymol.pymol_argv = ['pymol', '-qc'] # quiet / no GUI\n",
    "stdout = sys.stdout\n",
    "stderr = sys.stderr\n",
    "pymol.finish_launching(['pymol', '-xiq'])\n",
    "sys.stdout = stdout\n",
    "sys.stderr = stderr"
   ]
  },
  {
   "cell_type": "code",
   "execution_count": 4,
   "metadata": {
    "collapsed": false
   },
   "outputs": [
    {
     "name": "stderr",
     "output_type": "stream",
     "text": [
      "/Users/karen/anaconda/lib/python2.7/site-packages/matplotlib/font_manager.py:273: UserWarning: Matplotlib is building the font cache using fc-list. This may take a moment.\n",
      "  warnings.warn('Matplotlib is building the font cache using fc-list. This may take a moment.')\n",
      "/Users/karen/anaconda/lib/python2.7/site-packages/IPython/html.py:14: ShimWarning: The `IPython.html` package has been deprecated. You should import from `notebook` instead. `IPython.html.widgets` has moved to `ipywidgets`.\n",
      "  \"`IPython.html.widgets` has moved to `ipywidgets`.\", ShimWarning)\n"
     ]
    }
   ],
   "source": [
    "import numpy as np\n",
    "import os\n",
    "from matplotlib import pyplot as plt\n",
    "%run 'functions_dump.py'"
   ]
  },
  {
   "cell_type": "code",
   "execution_count": 5,
   "metadata": {
    "collapsed": true
   },
   "outputs": [],
   "source": [
    "files_dump_folder = '/Users/karen/HIS3InterspeciesEpistasis/Analysis/Karen/files_dump/'\n",
    "aa3 = \"ALA CYS ASP GLU PHE GLY HIS ILE LYS LEU MET ASN PRO GLN ARG SER THR VAL TRP TYR XXX\".split()\n",
    "ascii_letters_upper = 'ABCDEFGHIJKLMNOPQRSTUVWXYZ'"
   ]
  },
  {
   "cell_type": "markdown",
   "metadata": {},
   "source": [
    "### PyMoling"
   ]
  },
  {
   "cell_type": "code",
   "execution_count": 6,
   "metadata": {
    "collapsed": false
   },
   "outputs": [
    {
     "name": "stdout",
     "output_type": "stream",
     "text": [
      " Applying pse_export_version=1.720 compatibility\n",
      " Save: wrote \"/Users/karen/Downloads/ptest2.pdb\".\n"
     ]
    }
   ],
   "source": [
    "swiss_mono_file = os.path.join(files_dump_folder, 'structure_predictions', 'HIS3_saccharomyces_cerevisiae__swissmodel_prediction__mono.pdb')\n",
    "assembly_4lom_file = os.path.join(files_dump_folder, 'structure_visualizations', '4lom_assembly.pdb')\n",
    "temp_file = '/Users/karen/Downloads/ptest2.pdb'\n",
    "\n",
    "cmd.reinitialize()\n",
    "cmd.load(assembly_4lom_file, '4lom_assembly')\n",
    "\n",
    "# loading swiss monomers 24 times\n",
    "for i in range(1,25):\n",
    "    cmd.do(\"load %s, swiss-%s\" % (swiss_mono_file, i))\n",
    "\n",
    "# aligning swiss monomers to 4lom assembly\n",
    "for i in range(1,25):\n",
    "    cmd.do(\"align swiss-%s, 4lom_assembly, target_state=%s\"  %(i, i))\n",
    "    \n",
    "# renaming chains because currently there is only chainA \n",
    "for i in range(1,25):\n",
    "    cmd.do(\"alter swiss-%s, chain='%s'\" %(i, ascii_letters_upper[i-1]))\n",
    "    \n",
    "merger = 'or'.join([\" swiss-%s \" % i for i in range(1,25)])\n",
    "save_session('/Users/karen/Downloads/4lom_and_his3.pse')\n",
    "cmd.do('save %s, %s' %(temp_file, merger))\n",
    "\n",
    "# save_session('/Users/karen/Downloads/swiss_assembly.pse')"
   ]
  },
  {
   "cell_type": "code",
   "execution_count": null,
   "metadata": {
    "collapsed": true
   },
   "outputs": [],
   "source": [
    "from IPython.html.widgets.widget_float import FloatProgress"
   ]
  },
  {
   "cell_type": "code",
   "execution_count": 21,
   "metadata": {
    "collapsed": false
   },
   "outputs": [],
   "source": [
    "import itertools\n",
    "\n",
    "cmd.reinitialize()\n",
    "cmd.load(temp_file, 'swiss_assembly')\n",
    "\n",
    "interfaces = {}\n",
    "f = FloatProgress(min=0, max=len(list(itertools.combinations(range(24), 2))))\n",
    "display(f)\n",
    "for chain_index1, chain_index2 in (itertools.combinations(range(24), 2)):\n",
    "    chain1, chain2 = ascii_letters_upper[chain_index1], ascii_letters_upper[chain_index2]\n",
    "    returned = interfaceResidues('swiss_assembly', cA = 'c. %s' %chain1, cB = 'c. %s' %chain2)\n",
    "    interfaces[chain1, chain2] = returned\n",
    "    f.value += 1"
   ]
  },
  {
   "cell_type": "code",
   "execution_count": 23,
   "metadata": {
    "collapsed": true
   },
   "outputs": [],
   "source": [
    "interface_residues = []\n",
    "for k,v in interfaces.items():\n",
    "    interface_residues.extend([e[1] for e in v])"
   ]
  },
  {
   "cell_type": "code",
   "execution_count": 29,
   "metadata": {
    "collapsed": false
   },
   "outputs": [],
   "source": [
    "interface_residues = set([int(p) for p in interface_residues])"
   ]
  },
  {
   "cell_type": "code",
   "execution_count": 26,
   "metadata": {
    "collapsed": false
   },
   "outputs": [
    {
     "name": "stdout",
     "output_type": "stream",
     "text": [
      " Applying pse_export_version=1.720 compatibility\n"
     ]
    }
   ],
   "source": [
    "cmd.reinitialize()\n",
    "open_or_fetch(temp_file)\n",
    "white_and_beautiful()\n",
    "color_positions(set(interface_residues))\n",
    "save_session('/Users/karen/Downloads/test123.pse')"
   ]
  },
  {
   "cell_type": "markdown",
   "metadata": {},
   "source": [
    "## Lucas"
   ]
  },
  {
   "cell_type": "code",
   "execution_count": 27,
   "metadata": {
    "collapsed": true
   },
   "outputs": [],
   "source": [
    "position_translation = pd.read_table('/Users/karen/Downloads/position_translation.csv')\n",
    "position_translation.set_index('relative_position', inplace=True)\n",
    "\n",
    "def get_absolute_position(segment_number, relative_position):\n",
    "    return int(position_translation.iloc[relative_position]['S'+str(segment_number)])\n",
    "\n",
    "lucas_sign_epistasis = pd.read_excel('/Users/karen/Downloads/SignEpiPairs.xlsx')\n",
    "lucas_sign_epistasis['VarPos_absolute'] = lucas_sign_epistasis.apply(lambda df: get_absolute_position(df['SegN'], df['VarPos']-1), axis=1)\n",
    "lucas_sign_epistasis['SubPos_absolute'] = lucas_sign_epistasis.apply(lambda df: get_absolute_position(df['SegN'], df['SubPos']-1), axis=1)\n",
    "# lucas_sign_epistasis['distance'] = lucas_sign_epistasis.apply(lambda df: calc_residue_dist(residues[df['VarPos_absolute']-1], residues[df['SubPos_absolute']-1]), axis=1)\n",
    "\n",
    "logodds_threshold = 5\n",
    "lucas_sign_epistasis['logodds_thresholded'] = lucas_sign_epistasis['logodds'].apply(lambda f: min(f, logodds_threshold))"
   ]
  },
  {
   "cell_type": "code",
   "execution_count": 50,
   "metadata": {
    "collapsed": false
   },
   "outputs": [],
   "source": [
    "lucas_sign_epistasis['SubPos_interface'] = lucas_sign_epistasis['SubPos_absolute'].apply(lambda p: p in interface_residues)\n",
    "lucas_sign_epistasis['VarPos_interface'] = lucas_sign_epistasis['VarPos_absolute'].apply(lambda p: p in interface_residues)\n",
    "lucas_sign_epistasis['interface'] = lucas_sign_epistasis['VarPos_interface']# + lucas_sign_epistasis['SubPos_interface']"
   ]
  },
  {
   "cell_type": "code",
   "execution_count": 65,
   "metadata": {
    "collapsed": false
   },
   "outputs": [
    {
     "name": "stdout",
     "output_type": "stream",
     "text": [
      " Applying pse_export_version=1.720 compatibility\n"
     ]
    }
   ],
   "source": [
    "cmd.reinitialize()\n",
    "open_or_fetch('/Users/karen/Downloads/swiss_assembly.pse')\n",
    "white_and_beautiful()\n",
    "\n",
    "sign_epistasis_interface = lucas_sign_epistasis[(lucas_sign_epistasis['interface']) & (lucas_sign_epistasis['pBon'] < 0.01)].VarPos_absolute.values\n",
    "sign_epistasis_not_in_interface = lucas_sign_epistasis[(~lucas_sign_epistasis['interface']) & (lucas_sign_epistasis['pBon'] < 0.01)].VarPos_absolute.values\n",
    "color_positions(set(sign_epistasis_interface), representation='spheres', constant_color='#00ff00')\n",
    "color_positions(set(sign_epistasis_not_in_interface), representation='spheres', constant_color='#ff0000')\n",
    "save_session('/Users/karen/Downloads/position128.pse')"
   ]
  }
 ],
 "metadata": {
  "kernelspec": {
   "display_name": "Python 2",
   "language": "python",
   "name": "python2"
  },
  "language_info": {
   "codemirror_mode": {
    "name": "ipython",
    "version": 2
   },
   "file_extension": ".py",
   "mimetype": "text/x-python",
   "name": "python",
   "nbconvert_exporter": "python",
   "pygments_lexer": "ipython2",
   "version": "2.7.13"
  }
 },
 "nbformat": 4,
 "nbformat_minor": 0
}
