{
 "cells": [
  {
   "cell_type": "code",
   "execution_count": 1,
   "metadata": {
    "collapsed": false
   },
   "outputs": [
    {
     "name": "stderr",
     "output_type": "stream",
     "text": [
      "/Users/karen/anaconda/lib/python2.7/site-packages/matplotlib/font_manager.py:273: UserWarning: Matplotlib is building the font cache using fc-list. This may take a moment.\n",
      "  warnings.warn('Matplotlib is building the font cache using fc-list. This may take a moment.')\n",
      "/Users/karen/anaconda/lib/python2.7/site-packages/IPython/html.py:14: ShimWarning: The `IPython.html` package has been deprecated. You should import from `notebook` instead. `IPython.html.widgets` has moved to `ipywidgets`.\n",
      "  \"`IPython.html.widgets` has moved to `ipywidgets`.\", ShimWarning)\n"
     ]
    },
    {
     "name": "stdout",
     "output_type": "stream",
     "text": [
      "\n",
      "Reading precalculated epistasis...\n",
      "/Users/karen/HIS3InterspeciesEpistasis/Analysis/Karen/files_dump/epistasis_in_foursomes/\n",
      "\n",
      "\n",
      "\n",
      "Variable \"ep_dict\" is a dictionary. \n",
      "Keys are tuples (mutA, mutB) and values are pandas.Series of epistasis between mutA and mutB in all backgrounds.\n",
      "\n",
      "Function get_ep_summary takes ep_dict as an argumant and applies an arbitrary function to every pd.Series object.\n",
      "\n",
      "natlib_filtering is currently True. This can be changed in the cell #2.\n",
      "\n"
     ]
    }
   ],
   "source": [
    "%run 'ks25_Read_epistasis.ipynb'\n",
    "notebook_prefix = 'ks26'\n",
    "image_counter = Counter()"
   ]
  },
  {
   "cell_type": "code",
   "execution_count": 57,
   "metadata": {
    "collapsed": true
   },
   "outputs": [],
   "source": [
    "import scipy\n",
    "from scipy import stats"
   ]
  },
  {
   "cell_type": "markdown",
   "metadata": {},
   "source": [
    "### Reading epistasis data"
   ]
  },
  {
   "cell_type": "code",
   "execution_count": 83,
   "metadata": {
    "collapsed": false
   },
   "outputs": [],
   "source": [
    "def get_ep_summary(epistasis_dictionary, function):\n",
    "    floatprogress = FloatProgress(min=0, max=len(epistasis_dictionary))\n",
    "    display(floatprogress)\n",
    "    summary_dict = OrderedDict()\n",
    "    for k,v in epistasis_dictionary.items():\n",
    "        summary_dict[k] = function(v)\n",
    "        floatprogress.value += 1\n",
    "    return summary_dict"
   ]
  },
  {
   "cell_type": "code",
   "execution_count": 84,
   "metadata": {
    "collapsed": false
   },
   "outputs": [],
   "source": [
    "ep_summary_mean = get_ep_summary(ep_dict, np.mean)\n",
    "ep_summary_median = get_ep_summary(ep_dict, np.median)\n",
    "ep_summary_std = get_ep_summary(ep_dict, np.std)\n",
    "ep_summary_skew = get_ep_summary(ep_dict, scipy.stats.skew)"
   ]
  },
  {
   "cell_type": "code",
   "execution_count": 85,
   "metadata": {
    "collapsed": false
   },
   "outputs": [
    {
     "data": {
      "text/html": [
       "<div>\n",
       "<table border=\"1\" class=\"dataframe\">\n",
       "  <thead>\n",
       "    <tr style=\"text-align: right;\">\n",
       "      <th></th>\n",
       "      <th>mutA</th>\n",
       "      <th>mutB</th>\n",
       "      <th>epistasis_mean</th>\n",
       "      <th>epistasis_median</th>\n",
       "      <th>epistasis_std</th>\n",
       "      <th>epistasis_skew</th>\n",
       "    </tr>\n",
       "  </thead>\n",
       "  <tbody>\n",
       "    <tr>\n",
       "      <th>0</th>\n",
       "      <td>102K</td>\n",
       "      <td>104L</td>\n",
       "      <td>-0.076168</td>\n",
       "      <td>0.0</td>\n",
       "      <td>0.232586</td>\n",
       "      <td>-0.868850</td>\n",
       "    </tr>\n",
       "    <tr>\n",
       "      <th>1</th>\n",
       "      <td>102K</td>\n",
       "      <td>105H</td>\n",
       "      <td>-0.022907</td>\n",
       "      <td>0.0</td>\n",
       "      <td>0.206599</td>\n",
       "      <td>-1.022725</td>\n",
       "    </tr>\n",
       "  </tbody>\n",
       "</table>\n",
       "</div>"
      ],
      "text/plain": [
       "   mutA  mutB  epistasis_mean  epistasis_median  epistasis_std  epistasis_skew\n",
       "0  102K  104L       -0.076168               0.0       0.232586       -0.868850\n",
       "1  102K  105H       -0.022907               0.0       0.206599       -1.022725"
      ]
     },
     "execution_count": 85,
     "metadata": {},
     "output_type": "execute_result"
    }
   ],
   "source": [
    "ep_summary = pd.DataFrame.from_items([('epistasis_mean', ep_summary_mean), \n",
    "                                      ('epistasis_median', ep_summary_median),\n",
    "                                     ('epistasis_std', ep_summary_std),\n",
    "                                     ('epistasis_skew', ep_summary_skew)])\n",
    "\n",
    "ep_summary.reset_index(inplace=True)\n",
    "ep_summary.rename(columns={'level_0':'mutA', 'level_1':'mutB'}, inplace=True)\n",
    "ep_summary[:2]"
   ]
  },
  {
   "cell_type": "markdown",
   "metadata": {},
   "source": [
    "### Reading structural information"
   ]
  },
  {
   "cell_type": "code",
   "execution_count": 86,
   "metadata": {
    "collapsed": false
   },
   "outputs": [
    {
     "name": "stdout",
     "output_type": "stream",
     "text": [
      "\n",
      "Variables: \n",
      "- structural_data:\t\tpandas.DataFrame with some structural information,\n",
      "- quantitative_columns_dict:\tnice names for some columns in structural_data,\n",
      "- his3_24mer_file:\t\tpath to predicted His3 24mer structure.\n",
      "\n"
     ]
    }
   ],
   "source": [
    "%run 'ks27_Read_structural_information.ipynb'"
   ]
  },
  {
   "cell_type": "markdown",
   "metadata": {},
   "source": [
    "### Merging structural information with epistasis data"
   ]
  },
  {
   "cell_type": "code",
   "execution_count": null,
   "metadata": {
    "collapsed": true
   },
   "outputs": [],
   "source": []
  }
 ],
 "metadata": {
  "kernelspec": {
   "display_name": "Python 2",
   "language": "python",
   "name": "python2"
  },
  "language_info": {
   "codemirror_mode": {
    "name": "ipython",
    "version": 2
   },
   "file_extension": ".py",
   "mimetype": "text/x-python",
   "name": "python",
   "nbconvert_exporter": "python",
   "pygments_lexer": "ipython2",
   "version": "2.7.13"
  }
 },
 "nbformat": 4,
 "nbformat_minor": 0
}
