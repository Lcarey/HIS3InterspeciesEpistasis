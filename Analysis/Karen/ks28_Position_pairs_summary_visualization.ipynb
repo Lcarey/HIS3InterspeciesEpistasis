{
 "cells": [
  {
   "cell_type": "code",
   "execution_count": 2,
   "metadata": {
    "collapsed": false
   },
   "outputs": [],
   "source": [
    "%run 'functions_dump.py'\n",
    "%run 'ks29_Get_folder_structure.ipynb'"
   ]
  },
  {
   "cell_type": "code",
   "execution_count": 3,
   "metadata": {
    "collapsed": false,
    "scrolled": true
   },
   "outputs": [],
   "source": [
    "structural_data = pd.read_hdf(files_dump_folder + 'structural_data_for_monomer.hdf', 'data')"
   ]
  },
  {
   "cell_type": "code",
   "execution_count": 8,
   "metadata": {
    "collapsed": false
   },
   "outputs": [],
   "source": [
    "colnames_His3_Scer_PLM = ['position1', 'amino_acid_1', 'position2', 'amino_acid_2', 'nothing', 'PML_score']\n",
    "evolutionary_coupling = pd.read_table(files_dump_folder + 'evolutionary_coupling_analysis_with_evfold/ev_couplings/' + 'His3_Scer_PLM.txt',\n",
    "             names=colnames_His3_Scer_PLM, sep=' ', header=None)"
   ]
  },
  {
   "cell_type": "code",
   "execution_count": 22,
   "metadata": {
    "collapsed": false
   },
   "outputs": [
    {
     "data": {
      "text/html": [
       "<div>\n",
       "<table border=\"1\" class=\"dataframe\">\n",
       "  <thead>\n",
       "    <tr style=\"text-align: right;\">\n",
       "      <th></th>\n",
       "      <th>position1</th>\n",
       "      <th>amino_acid_1</th>\n",
       "      <th>position2</th>\n",
       "      <th>amino_acid_2</th>\n",
       "      <th>nothing</th>\n",
       "      <th>PML_score</th>\n",
       "      <th>position_pair</th>\n",
       "    </tr>\n",
       "  </thead>\n",
       "  <tbody>\n",
       "    <tr>\n",
       "      <th>0</th>\n",
       "      <td>28</td>\n",
       "      <td>L</td>\n",
       "      <td>29</td>\n",
       "      <td>A</td>\n",
       "      <td>0</td>\n",
       "      <td>1.158260</td>\n",
       "      <td>(28, 29)</td>\n",
       "    </tr>\n",
       "    <tr>\n",
       "      <th>1</th>\n",
       "      <td>28</td>\n",
       "      <td>L</td>\n",
       "      <td>30</td>\n",
       "      <td>I</td>\n",
       "      <td>0</td>\n",
       "      <td>0.810840</td>\n",
       "      <td>(28, 30)</td>\n",
       "    </tr>\n",
       "    <tr>\n",
       "      <th>2</th>\n",
       "      <td>28</td>\n",
       "      <td>L</td>\n",
       "      <td>31</td>\n",
       "      <td>E</td>\n",
       "      <td>0</td>\n",
       "      <td>0.317860</td>\n",
       "      <td>(28, 31)</td>\n",
       "    </tr>\n",
       "    <tr>\n",
       "      <th>3</th>\n",
       "      <td>28</td>\n",
       "      <td>L</td>\n",
       "      <td>32</td>\n",
       "      <td>H</td>\n",
       "      <td>0</td>\n",
       "      <td>0.313349</td>\n",
       "      <td>(32, 28)</td>\n",
       "    </tr>\n",
       "  </tbody>\n",
       "</table>\n",
       "</div>"
      ],
      "text/plain": [
       "   position1 amino_acid_1  position2 amino_acid_2  nothing  PML_score  \\\n",
       "0         28            L         29            A        0   1.158260   \n",
       "1         28            L         30            I        0   0.810840   \n",
       "2         28            L         31            E        0   0.317860   \n",
       "3         28            L         32            H        0   0.313349   \n",
       "\n",
       "  position_pair  \n",
       "0      (28, 29)  \n",
       "1      (28, 30)  \n",
       "2      (28, 31)  \n",
       "3      (32, 28)  "
      ]
     },
     "execution_count": 22,
     "metadata": {},
     "output_type": "execute_result"
    }
   ],
   "source": [
    "evolutionary_coupling['position_pair'] = evolutionary_coupling.apply(lambda df: frozenset(df[['position1', 'position2']].values), axis=1)\n",
    "evolutionary_coupling[:4]"
   ]
  },
  {
   "cell_type": "code",
   "execution_count": null,
   "metadata": {
    "collapsed": false
   },
   "outputs": [],
   "source": [
    "evolutionary_coupling.groupby('position_pair')['PML_score'].agg(np.max)"
   ]
  },
  {
   "cell_type": "code",
   "execution_count": 25,
   "metadata": {
    "collapsed": false
   },
   "outputs": [
    {
     "name": "stdout",
     "output_type": "stream",
     "text": [
      "\n",
      "Reading precalculated epistasis...\n",
      "/Users/karen/HIS3InterspeciesEpistasis/Analysis/Karen/files_dump/epistasis_in_foursomes/\n",
      "\n",
      "\n",
      "\n",
      "Variables: \n",
      "\n",
      "- ep_dict: a dictionary, Keys are tuples (mutA, mutB) and values are pandas.Series of epistasis between mutA and mutB in all backgrounds. \n",
      "Tuples (mutA, mutB) are sorted by aa_position.\n",
      "\n",
      "- get_ep_summary: function that takes ep_dict as an argument and applies an arbitrary function to every pd.Series object. For example, ep_summary = get_ep_summary(ep_dict, np.mean)\n",
      "\n",
      "Important: natlib_filtering is currently True. This can be changed in the cell #2.\n",
      "\n"
     ]
    }
   ],
   "source": [
    "%run 'ks25_Read_epistasis.ipynb'"
   ]
  },
  {
   "cell_type": "code",
   "execution_count": 31,
   "metadata": {
    "collapsed": false
   },
   "outputs": [
    {
     "name": "stdout",
     "output_type": "stream",
     "text": [
      "['res_2' 'res_3' 'res_4' 'res_5' 'res_6' 'res_7' 'res_8' 'res_9' 'res_10'\n",
      " 'res_11' 'res_12' 'res_13' 'res_14' 'res_15' 'res_16' 'res_17' 'res_18'\n",
      " 'res_19' 'res_20' 'res_21' 'res_22' 'res_23' 'res_24' 'res_25' 'res_26'\n",
      " 'res_27' 'res_28' 'res_29' 'res_30' 'res_31' 'res_32' 'res_33' 'res_34'\n",
      " 'res_35' 'res_36' 'res_37' 'res_38' 'res_39' 'res_40' 'res_41' 'res_42'\n",
      " 'res_43' 'res_44' 'res_45' 'res_46' 'res_47' 'res_48' 'res_49' 'res_50'\n",
      " 'res_51' 'res_52' 'res_53' 'res_54' 'res_55' 'res_56' 'res_57' 'res_58'\n",
      " 'res_59' 'res_60' 'res_61' 'res_62' 'res_63' 'res_64' 'res_65' 'res_66'\n",
      " 'res_67' 'res_68' 'res_69' 'res_70' 'res_71' 'res_72' 'res_73' 'res_74'\n",
      " 'res_75' 'res_76' 'res_77' 'res_78' 'res_79' 'res_80' 'res_81' 'res_82'\n",
      " 'res_83' 'res_84' 'res_85' 'res_86' 'res_87' 'res_88' 'res_89' 'res_90'\n",
      " 'res_91' 'res_92' 'res_93' 'res_94' 'res_95' 'res_96' 'res_97' 'res_98'\n",
      " 'res_99' 'res_100' 'res_101' 'res_102' 'res_103' 'res_104' 'res_105'\n",
      " 'res_106' 'res_107' 'res_108' 'res_109' 'res_110' 'res_111' 'res_112'\n",
      " 'res_113' 'res_114' 'res_115' 'res_116' 'res_117' 'res_118' 'res_119'\n",
      " 'res_120' 'res_121' 'res_122' 'res_123' 'res_124' 'res_125' 'res_126'\n",
      " 'res_127' 'res_128' 'res_129' 'res_130' 'res_131' 'res_132' 'res_133'\n",
      " 'res_134' 'res_135' 'res_136' 'res_137' 'res_138' 'res_139' 'res_140'\n",
      " 'res_141' 'res_142' 'res_143' 'res_144' 'res_145' 'res_146' 'res_147'\n",
      " 'res_148' 'res_149' 'res_150' 'res_151' 'res_152' 'res_153' 'res_154'\n",
      " 'res_155' 'res_156' 'res_157' 'res_158' 'res_159' 'res_160' 'res_161'\n",
      " 'res_162' 'res_163' 'res_164' 'res_165' 'res_166' 'res_167' 'res_168'\n",
      " 'res_169' 'res_170' 'res_171' 'res_172' 'res_173' 'res_174' 'res_175'\n",
      " 'res_176' 'res_177' 'res_178' 'res_179' 'res_180' 'res_181' 'res_182'\n",
      " 'res_183' 'res_184' 'res_185' 'res_186' 'res_187' 'res_188' 'res_189'\n",
      " 'res_190' 'res_191' 'res_192' 'res_193' 'res_194' 'res_195' 'res_196'\n",
      " 'res_197' 'res_198' 'res_199' 'res_200' 'res_201' 'res_202' 'res_203'\n",
      " 'res_204' 'res_205' 'res_206' 'Mn_302' 'Mn_303' 'Mn_304'\n",
      " 'Mn_substrate_bound' 'substrate' 'position' 'secondary_structure'\n",
      " 'lucas_sign_epistasis' 'lucas_reciprocal_sign_epistasis' 'segment'\n",
      " 'Scer_aa' 'alignment_entropy' 'alignment_gap_fraction'\n",
      " 'conservation_score' 'ddG_mean' 'ddG_var']\n"
     ]
    }
   ],
   "source": [
    "print structural_data.columns.values"
   ]
  },
  {
   "cell_type": "code",
   "execution_count": null,
   "metadata": {
    "collapsed": true
   },
   "outputs": [],
   "source": []
  }
 ],
 "metadata": {
  "kernelspec": {
   "display_name": "Python 2",
   "language": "python",
   "name": "python2"
  },
  "language_info": {
   "codemirror_mode": {
    "name": "ipython",
    "version": 2
   },
   "file_extension": ".py",
   "mimetype": "text/x-python",
   "name": "python",
   "nbconvert_exporter": "python",
   "pygments_lexer": "ipython2",
   "version": "2.7.13"
  }
 },
 "nbformat": 4,
 "nbformat_minor": 0
}
