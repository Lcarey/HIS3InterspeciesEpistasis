{
 "cells": [
  {
   "cell_type": "code",
   "execution_count": 2,
   "metadata": {
    "collapsed": false
   },
   "outputs": [],
   "source": [
    "%run 'functions_dump.py'\n",
    "%run 'ks29_Get_folder_structure.ipynb'"
   ]
  },
  {
   "cell_type": "code",
   "execution_count": 3,
   "metadata": {
    "collapsed": false,
    "scrolled": true
   },
   "outputs": [],
   "source": [
    "structural_data = pd.read_hdf(files_dump_folder + 'structural_data_for_monomer.hdf', 'data')"
   ]
  },
  {
   "cell_type": "code",
   "execution_count": 8,
   "metadata": {
    "collapsed": false
   },
   "outputs": [],
   "source": [
    "colnames_His3_Scer_PLM = ['position1', 'amino_acid_1', 'position2', 'amino_acid_2', 'nothing', 'PML_score']\n",
    "evolutionary_coupling = pd.read_table(files_dump_folder + 'evolutionary_coupling_analysis_with_evfold/ev_couplings/' + 'His3_Scer_PLM.txt',\n",
    "             names=colnames_His3_Scer_PLM, sep=' ', header=None)"
   ]
  },
  {
   "cell_type": "code",
   "execution_count": 22,
   "metadata": {
    "collapsed": false
   },
   "outputs": [
    {
     "data": {
      "text/html": [
       "<div>\n",
       "<table border=\"1\" class=\"dataframe\">\n",
       "  <thead>\n",
       "    <tr style=\"text-align: right;\">\n",
       "      <th></th>\n",
       "      <th>position1</th>\n",
       "      <th>amino_acid_1</th>\n",
       "      <th>position2</th>\n",
       "      <th>amino_acid_2</th>\n",
       "      <th>nothing</th>\n",
       "      <th>PML_score</th>\n",
       "      <th>position_pair</th>\n",
       "    </tr>\n",
       "  </thead>\n",
       "  <tbody>\n",
       "    <tr>\n",
       "      <th>0</th>\n",
       "      <td>28</td>\n",
       "      <td>L</td>\n",
       "      <td>29</td>\n",
       "      <td>A</td>\n",
       "      <td>0</td>\n",
       "      <td>1.158260</td>\n",
       "      <td>(28, 29)</td>\n",
       "    </tr>\n",
       "    <tr>\n",
       "      <th>1</th>\n",
       "      <td>28</td>\n",
       "      <td>L</td>\n",
       "      <td>30</td>\n",
       "      <td>I</td>\n",
       "      <td>0</td>\n",
       "      <td>0.810840</td>\n",
       "      <td>(28, 30)</td>\n",
       "    </tr>\n",
       "    <tr>\n",
       "      <th>2</th>\n",
       "      <td>28</td>\n",
       "      <td>L</td>\n",
       "      <td>31</td>\n",
       "      <td>E</td>\n",
       "      <td>0</td>\n",
       "      <td>0.317860</td>\n",
       "      <td>(28, 31)</td>\n",
       "    </tr>\n",
       "    <tr>\n",
       "      <th>3</th>\n",
       "      <td>28</td>\n",
       "      <td>L</td>\n",
       "      <td>32</td>\n",
       "      <td>H</td>\n",
       "      <td>0</td>\n",
       "      <td>0.313349</td>\n",
       "      <td>(32, 28)</td>\n",
       "    </tr>\n",
       "  </tbody>\n",
       "</table>\n",
       "</div>"
      ],
      "text/plain": [
       "   position1 amino_acid_1  position2 amino_acid_2  nothing  PML_score  \\\n",
       "0         28            L         29            A        0   1.158260   \n",
       "1         28            L         30            I        0   0.810840   \n",
       "2         28            L         31            E        0   0.317860   \n",
       "3         28            L         32            H        0   0.313349   \n",
       "\n",
       "  position_pair  \n",
       "0      (28, 29)  \n",
       "1      (28, 30)  \n",
       "2      (28, 31)  \n",
       "3      (32, 28)  "
      ]
     },
     "execution_count": 22,
     "metadata": {},
     "output_type": "execute_result"
    }
   ],
   "source": [
    "evolutionary_coupling['position_pair'] = evolutionary_coupling.apply(lambda df: frozenset(df[['position1', 'position2']].values), axis=1)\n",
    "evolutionary_coupling[:4]"
   ]
  },
  {
   "cell_type": "code",
   "execution_count": null,
   "metadata": {
    "collapsed": false
   },
   "outputs": [],
   "source": [
    "evolutionary_coupling.groupby('position_pair')['PML_score'].agg(np.max)"
   ]
  },
  {
   "cell_type": "code",
   "execution_count": 25,
   "metadata": {
    "collapsed": false
   },
   "outputs": [
    {
     "name": "stdout",
     "output_type": "stream",
     "text": [
      "\n",
      "Reading precalculated epistasis...\n",
      "/Users/karen/HIS3InterspeciesEpistasis/Analysis/Karen/files_dump/epistasis_in_foursomes/\n",
      "\n",
      "\n",
      "\n",
      "Variables: \n",
      "\n",
      "- ep_dict: a dictionary, Keys are tuples (mutA, mutB) and values are pandas.Series of epistasis between mutA and mutB in all backgrounds. \n",
      "Tuples (mutA, mutB) are sorted by aa_position.\n",
      "\n",
      "- get_ep_summary: function that takes ep_dict as an argument and applies an arbitrary function to every pd.Series object. For example, ep_summary = get_ep_summary(ep_dict, np.mean)\n",
      "\n",
      "Important: natlib_filtering is currently True. This can be changed in the cell #2.\n",
      "\n"
     ]
    }
   ],
   "source": [
    "%run 'ks25_Read_epistasis.ipynb'"
   ]
  }
 ],
 "metadata": {
  "kernelspec": {
   "display_name": "Python 2",
   "language": "python",
   "name": "python2"
  },
  "language_info": {
   "codemirror_mode": {
    "name": "ipython",
    "version": 2
   },
   "file_extension": ".py",
   "mimetype": "text/x-python",
   "name": "python",
   "nbconvert_exporter": "python",
   "pygments_lexer": "ipython2",
   "version": "2.7.13"
  }
 },
 "nbformat": 4,
 "nbformat_minor": 0
}
