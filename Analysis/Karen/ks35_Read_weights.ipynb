{
 "cells": [
  {
   "cell_type": "code",
   "execution_count": 3,
   "metadata": {
    "collapsed": true
   },
   "outputs": [],
   "source": [
    "%run 'ks29_Get_folder_structure.ipynb'"
   ]
  },
  {
   "cell_type": "markdown",
   "metadata": {},
   "source": [
    "### Reading weights"
   ]
  },
  {
   "cell_type": "code",
   "execution_count": 5,
   "metadata": {
    "collapsed": true
   },
   "outputs": [],
   "source": [
    "from collections import OrderedDict\n",
    "from IPython.display import display\n",
    "import pandas as pd"
   ]
  },
  {
   "cell_type": "code",
   "execution_count": 6,
   "metadata": {
    "collapsed": false
   },
   "outputs": [],
   "source": [
    "# Relative >>> absolute position\n",
    "position_translation = pd.read_table(files_dump_folder + 'position_translation.csv')\n",
    "position_translation.set_index('relative_position', inplace=True)\n",
    "\n",
    "def get_absolute_position(segment_short, relative_position):\n",
    "    return int(position_translation.iloc[int(relative_position)][segment_short])"
   ]
  },
  {
   "cell_type": "code",
   "execution_count": 18,
   "metadata": {
    "collapsed": false
   },
   "outputs": [],
   "source": [
    "Scer_Uniprot = open(os.path.join(files_dump_folder, 'HIS3_saccharomyces_cerevisiae_from_Uniprot_P06633.txt')).read().rstrip()\n",
    "\n",
    "def get_mutant_weight(segment, genotype):\n",
    "    mutant_weight = 0\n",
    "    subset = weights_dict[segment]\n",
    "#     display(subset)\n",
    "    mutated_positions = [int(m[:-1]) for m in genotype.split(':')]\n",
    "    for position in subset.position.values:\n",
    "        if position not in mutated_positions:\n",
    "            wt_aa = Scer_Uniprot[position-1]\n",
    "            wt_state = str(position) + wt_aa\n",
    "            wt_weight = subset.loc[wt_state]['weight']\n",
    "            mutant_weight += wt_weight\n",
    "    for mutation in genotype.split(':'):\n",
    "        mutant_weight += subset.loc[mutation]['weight']\n",
    "    return mutant_weight"
   ]
  },
  {
   "cell_type": "code",
   "execution_count": 19,
   "metadata": {
    "collapsed": false,
    "scrolled": false
   },
   "outputs": [],
   "source": [
    "weights_folder = os.path.join(analysis_folder, 'Katya', 'NN', 'weights', '')\n",
    "weights_dict = OrderedDict()\n",
    "for segment in ['S%s' %i for i in range(1,13)]:\n",
    "    weights_dict[segment] = pd.read_csv(weights_folder + '%s.csv' %segment)\n",
    "    weights_dict[segment]['relative_numbering'] = weights_dict[segment]['Unnamed: 0']\n",
    "    weights_dict[segment]['mut_list_Scer'] = weights_dict[segment]['Unnamed: 0'].apply(\n",
    "        lambda s: str(get_absolute_position(segment, int(s[:-1]))) + s[-1])\n",
    "    weights_dict[segment]['segment'] = segment + '_scaled'\n",
    "    weights_dict[segment]['position'] = weights_dict[segment]['mut_list_Scer'].apply(lambda m: int(m[:-1]))\n",
    "    weights_dict[segment].set_index('mut_list_Scer', inplace=True)\n",
    "    weights_dict[segment]['mutant_weight'] = weights_dict[segment].index.map(lambda m: get_mutant_weight(segment, m))"
   ]
  },
  {
   "cell_type": "code",
   "execution_count": 29,
   "metadata": {
    "collapsed": true
   },
   "outputs": [],
   "source": [
    "def get_full_mutation(mutation):\n",
    "    if mutation == '' or not mutation > 0:\n",
    "        return ''\n",
    "    position = int(mutation[:-1])\n",
    "    return Scer_Uniprot[position-1] + mutation\n",
    "\n",
    "def convert_to_full_mutations(mut_combination):\n",
    "    if mut_combination == '' or not mut_combination > 0:\n",
    "        return ''\n",
    "    return ':'.join(get_full_mutation(mutation) for mutation in mut_combination.split(':'))"
   ]
  },
  {
   "cell_type": "code",
   "execution_count": 32,
   "metadata": {
    "collapsed": false
   },
   "outputs": [],
   "source": [
    "weights = pd.concat(weights_dict.values(), axis=0)\n",
    "weights['mut_list_Scer_full'] = weights.index.map(convert_to_full_mutations)\n",
    "weights.drop('Unnamed: 0', inplace=True, axis=1)"
   ]
  },
  {
   "cell_type": "code",
   "execution_count": 91,
   "metadata": {
    "collapsed": false
   },
   "outputs": [
    {
     "name": "stdout",
     "output_type": "stream",
     "text": [
      "\n",
      "Variables: \n",
      "\n",
      "- weights: pandas.DataFrame containing weights of mutations from neural network data (column 'weight') and weights, or fitness potential, of single mutants (column 'mutant_weight')\n",
      "\n"
     ]
    }
   ],
   "source": [
    "print '''\n",
    "Variables: \n",
    "\n",
    "- weights: pandas.DataFrame containing weights of mutations from neural network data (column 'weight') and weights, or fitness potential, of single mutants (column 'mutant_weight')\n",
    "'''"
   ]
  }
 ],
 "metadata": {
  "kernelspec": {
   "display_name": "Python 2",
   "language": "python",
   "name": "python2"
  },
  "language_info": {
   "codemirror_mode": {
    "name": "ipython",
    "version": 2
   },
   "file_extension": ".py",
   "mimetype": "text/x-python",
   "name": "python",
   "nbconvert_exporter": "python",
   "pygments_lexer": "ipython2",
   "version": "2.7.13"
  }
 },
 "nbformat": 4,
 "nbformat_minor": 0
}
