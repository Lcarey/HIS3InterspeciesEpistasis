{
 "cells": [
  {
   "cell_type": "code",
   "execution_count": 5,
   "metadata": {
    "collapsed": true
   },
   "outputs": [],
   "source": [
    "import pandas as pd\n",
    "import os"
   ]
  },
  {
   "cell_type": "code",
   "execution_count": 6,
   "metadata": {
    "collapsed": false
   },
   "outputs": [],
   "source": [
    "def find_folder_upstream(folder_name, max_iterations=50):\n",
    "    current_folder = os.getcwd()\n",
    "    counter = 0\n",
    "    while os.path.basename(current_folder) != folder_name and counter < max_iterations:\n",
    "        current_folder = os.path.dirname(current_folder)\n",
    "        counter += 1\n",
    "    if not counter < max_iterations:\n",
    "        return None\n",
    "    return current_folder\n",
    "\n",
    "root_folder_name = 'HIS3InterspeciesEpistasis'\n",
    "root_folder = find_folder_upstream(root_folder_name)\n",
    "if not root_folder:\n",
    "    print 'Did not find root folder for our github repository.\\nPlease run \"ks01\" notebook from a script inside the HIS3InterspeciesEpistasis folder!'\n",
    "\n",
    "data_folder = os.path.join(root_folder, 'Data', '')\n",
    "small_tables_folder = os.path.join(root_folder, 'Data_Small_Tables', '')\n",
    "analysis_folder = os.path.join(root_folder, 'Analysis', '')\n",
    "karen_folder = os.path.join(analysis_folder, 'Karen', '')\n",
    "figures_folder = os.path.join(karen_folder, 'figures', '')\n",
    "files_dump_folder = os.path.join(karen_folder, 'files_dump', '')\n",
    "structure_predictions_folder = os.path.join(files_dump_folder, 'structure_predictions', '')\n",
    "structure_visualizations_folder = os.path.join(files_dump_folder, 'structure_visualizations', '')\n",
    "pymol_sessions_folder = os.path.join(files_dump_folder, 'structure_visualizations/pymol_sessions/', '')"
   ]
  },
  {
   "cell_type": "code",
   "execution_count": 8,
   "metadata": {
    "collapsed": false,
    "scrolled": true
   },
   "outputs": [],
   "source": [
    "structural_data = pd.read_hdf(files_dump_folder + 'structural_data_for_predicted_24mer.hdf', 'data')\n",
    "\n",
    "his3_24mer_file = os.path.join(structure_predictions_folder, 'his3_24mer_assembly', 'his3_swiss_aligned_to_4lom_assembly.pdb')\n",
    "\n",
    "columns_to_exclude = ['Scer_aa', 'aa1', 'aa3', 'secondary_structure','amino_acid', 'pKa of ionizing side chaina']\n",
    "quantitative_columns = [c for c in structural_data.columns if 'res_' not in c and c not in columns_to_exclude]\n",
    "\n",
    "# printlist(quantitative_columns)"
   ]
  },
  {
   "cell_type": "code",
   "execution_count": 53,
   "metadata": {
    "collapsed": false
   },
   "outputs": [],
   "source": [
    "quantitative_columns_dict = {\n",
    "    'Mn_302': 'Distance to the Mn atom coordinating substrate (#302)',\n",
    "    'Mn_303' : 'Distance to the Mn atom coordinating (#303)',\n",
    "    'Mn_304' : 'Distance to the Mn atom between monomers (#304)',\n",
    "    'Mn_substrate_bound' : 'Minimal distance to a Mn atom coordinating substrate',\n",
    "    'substrate' : 'distance to the substrate',\n",
    "    'position' : 'sequence position',\n",
    "    'alignment_entropy' : 'Entropy of a position in alignment',\n",
    "    'alignment_gap_fraction' : 'Fraction of gaps in alignment',\n",
    "    'conservation_score' : 'Conservation score of position in alignment',\n",
    "    'Average residue mass (daltons)' : 'Average residue mass (daltons)',\n",
    "    'Occurrence in proteins, %' : 'Occurrence in proteins, %' ,\n",
    "    'Average volume of buried residues, A3' : 'Average volume of buried residues, A3',\n",
    "    'Van der Waals volume, A3' : 'Van der Waals volume, A3',\n",
    "    'Accessible surface area, A2' : 'Accessible surface area, A2',\n",
    "    'Fraction of buried among this aa' : 'Fraction of buried among this aa',\n",
    "    'Fraction of buried among all buried' : 'Fraction of buried among all buried',\n",
    "    'Polarity average ranking' : 'Average polarity ranking',\n",
    "    'Polarity ranking (Radzicka and Wolfenden 1988)' : 'Polarity ranking (Radzicka and Wolfenden 1988)',\n",
    "    'impact_mean' : 'Mean impact of mutations in all backgrounds',\n",
    "    'impact_median' : 'Mean impact of mutations in all backgrounds',\n",
    "    'impact_std' : 'Standard deviation impact of mutations in all backgrounds'}"
   ]
  },
  {
   "cell_type": "code",
   "execution_count": 51,
   "metadata": {
    "collapsed": true
   },
   "outputs": [],
   "source": [
    "his3_24mer_bottom_central_view = [\n",
    "    -0.666759610,    0.375603706,    0.643702269,\\\n",
    "    -0.048297253,    0.840119421,   -0.540242910,\\\n",
    "    -0.743705451,   -0.391300768,   -0.542018533,\\\n",
    "    -0.000000000,    0.000000000, -264.762390137,\\\n",
    "   -19.426000595,   19.426000595,   19.426000595,\\\n",
    "   191.891189575,  337.633605957,  -20.000000000 ]\n",
    "\n",
    "his3_24mer_side_view = [\n",
    "    -0.312344134,   -0.485218078,   -0.816704750,\\\n",
    "    -0.819489956,    0.572467387,   -0.026704516,\\\n",
    "     0.480499327,    0.660941422,   -0.576439440,\\\n",
    "     0.000170339,    0.000021577, -207.622711182,\\\n",
    "   -28.297613144,   26.598066330,   24.887435913,\\\n",
    "   134.759063721,  280.501373291,  -20.000000000 ]"
   ]
  },
  {
   "cell_type": "code",
   "execution_count": 13,
   "metadata": {
    "collapsed": false
   },
   "outputs": [
    {
     "name": "stdout",
     "output_type": "stream",
     "text": [
      "\n",
      "Variables: \n",
      "- structural_data:\t\tpandas.DataFrame with some structural information,\n",
      "- quantitative_columns_dict:\tnice names for some columns in structural_data,\n",
      "- his3_24mer_file:\t\tpath to predicted His3 24mer structure.\n",
      "\n"
     ]
    }
   ],
   "source": [
    "print '''\n",
    "Variables: \n",
    "- structural_data:\\t\\tpandas.DataFrame with some structural information,\n",
    "- quantitative_columns_dict:\\tnice names for some columns in structural_data,\n",
    "- his3_24mer_file:\\t\\tpath to predicted His3 24mer structure.\n",
    "'''"
   ]
  }
 ],
 "metadata": {
  "kernelspec": {
   "display_name": "Python 2",
   "language": "python",
   "name": "python2"
  },
  "language_info": {
   "codemirror_mode": {
    "name": "ipython",
    "version": 2
   },
   "file_extension": ".py",
   "mimetype": "text/x-python",
   "name": "python",
   "nbconvert_exporter": "python",
   "pygments_lexer": "ipython2",
   "version": "2.7.13"
  }
 },
 "nbformat": 4,
 "nbformat_minor": 0
}
