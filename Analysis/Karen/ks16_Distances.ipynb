{
 "cells": [
  {
   "cell_type": "code",
   "execution_count": 11,
   "metadata": {
    "collapsed": false
   },
   "outputs": [],
   "source": [
    "import sys\n",
    "import pymol\n",
    "from pymol import cmd, stored\n",
    "\n",
    "pymol.pymol_argv = ['pymol', '-qc'] # quiet / no GUI\n",
    "stdout = sys.stdout\n",
    "stderr = sys.stderr\n",
    "pymol.finish_launching(['pymol', '-xiq'])\n",
    "sys.stdout = stdout\n",
    "sys.stderr = stderr"
   ]
  },
  {
   "cell_type": "code",
   "execution_count": 12,
   "metadata": {
    "collapsed": false
   },
   "outputs": [],
   "source": [
    "import Bio.PDB\n",
    "import numpy as np\n",
    "import os\n",
    "from matplotlib import pyplot as plt\n",
    "% matplotlib inline\n",
    "%run 'ks01_Functions_only.ipynb'\n",
    "notebook_prefix = 'ks16'\n",
    "image_counter = Counter()"
   ]
  },
  {
   "cell_type": "code",
   "execution_count": 13,
   "metadata": {
    "collapsed": true
   },
   "outputs": [],
   "source": [
    "aa3 = \"ALA CYS ASP GLU PHE GLY HIS ILE LYS LEU MET ASN PRO GLN ARG SER THR VAL TRP TYR XXX\".split()\n",
    "ascii_letters = 'abcdefghijklmnopqrstuvwxyzABCDEFGHIJKLMNOPQRSTUVWXYZ'\n",
    "ascii_upper = 'ABCDEFGHIJKLMNOPQRSTUVWXYZ'"
   ]
  },
  {
   "cell_type": "code",
   "execution_count": 14,
   "metadata": {
    "collapsed": false
   },
   "outputs": [],
   "source": [
    "def calc_dist_matrix(chain1, chain2, stripping=True, mode='min'):\n",
    "    \"\"\"Returns a matrix of C-alpha distances between two chains\"\"\"\n",
    "    chain1_residues = rstrip_non_aa_residues(list(chain1.get_residues()))\n",
    "    chain2_residues = rstrip_non_aa_residues(list(chain2.get_residues()))\n",
    "    answer = np.zeros((len(chain1_residues), len(chain2_residues)), np.float)\n",
    "    for row, residue_one in enumerate(chain1_residues):\n",
    "        for col, residue_two in enumerate(chain2_residues) :\n",
    "            answer[row, col] = get_distance_between_residues(residue_one, residue_two, mode=mode)\n",
    "    return answer\n",
    "\n",
    "\n",
    "def get_minimal_distances_in_a_complex(chains):\n",
    "    distances = []\n",
    "    chains = [chain for chain in chains if chain.id in ascii_letters]\n",
    "    for chain1 in chains:\n",
    "        for chain2 in chains:\n",
    "            distances.append(calc_dist_matrix(chain1, chain2))\n",
    "    return np.amin(np.array(distances), axis=0)\n",
    "\n",
    "def strip_non_aa_residues(residues):\n",
    "    for index, residue in enumerate(residues):\n",
    "        if residue.resname not in aa3:\n",
    "            pass\n",
    "        else:\n",
    "            break\n",
    "    residues = residues[index:]\n",
    "    return residues\n",
    "\n",
    "\n",
    "def rstrip_non_aa_residues(residues):\n",
    "    for index, residue in enumerate(residues):\n",
    "        if residue.resname not in aa3:\n",
    "            break\n",
    "    residues = residues[:index]\n",
    "    return residues"
   ]
  },
  {
   "cell_type": "markdown",
   "metadata": {},
   "source": [
    "### Creating 24-mer using his3 prediction, transferring substrate and Mn from PDB 4LOM"
   ]
  },
  {
   "cell_type": "code",
   "execution_count": 15,
   "metadata": {
    "collapsed": false
   },
   "outputs": [
    {
     "name": "stdout",
     "output_type": "stream",
     "text": [
      " Save: wrote \"/Users/karen/HIS3InterspeciesEpistasis/Analysis/Karen/files_dump/structure_predictions/his3_24mer_assembly/his3_swiss_aligned_to_4lom_assembly.pdb\".\n",
      " Applying pse_export_version=1.720 compatibility\n"
     ]
    }
   ],
   "source": [
    "swiss_mono_file = os.path.join(structure_predictions_folder, 'his3_24mer_assembly', 'his3_swiss_mono.pdb')\n",
    "assembly_4lom_file = os.path.join(structure_predictions_folder, 'his3_24mer_assembly', '4lom_assembly.pdb')\n",
    "his3_aligned_to_4lom_assembly_file = os.path.join(structure_predictions_folder, 'his3_24mer_assembly', 'his3_swiss_aligned_to_4lom_assembly.pdb')\n",
    "his3_aligned_to_4lom_assembly_session_file = os.path.join(structure_predictions_folder, 'his3_24mer_assembly', 'his3_swiss_aligned_to_4lom_assembly.pse')\n",
    "\n",
    "cmd.reinitialize()\n",
    "cmd.load(assembly_4lom_file, '4lom_assembly')\n",
    "\n",
    "# loading swiss monomers 24 times\n",
    "for i in range(1,25):\n",
    "    cmd.do(\"load %s, swiss-%s\" % (swiss_mono_file, i))\n",
    "\n",
    "# aligning swiss monomers to 4lom assembly\n",
    "for i in range(1,25):\n",
    "    cmd.do(\"align swiss-%s, 4lom_assembly, target_state=%s\"  %(i, i))\n",
    "    \n",
    "# renaming chains because currently there is only chainA \n",
    "for i in range(1,25):\n",
    "    cmd.do(\"alter swiss-%s, chain='%s'\" %(i, ascii_upper[i-1]))\n",
    "\n",
    "# splitting 24 states of 4LOM into chains, renaming every chain with the same letters as his3 chains\n",
    "cmd.split_states('4lom_assembly')\n",
    "for i in range(1,25):\n",
    "    cmd.do(\"alter 4lom_assembly_%s, chain='%s'\" %(str(i).zfill(4), ascii_upper[i-1]))\n",
    "\n",
    "cmd.select('substrate', 'resn IYP')\n",
    "cmd.select('Mn', 'resn MN')\n",
    "\n",
    "to_save = ' or '.join([\"swiss-%s\" % i for i in range(1,25)] + ['substrate', 'Mn']) \n",
    "cmd.do('save %s, %s' %(his3_aligned_to_4lom_assembly_file, to_save))\n",
    "\n",
    "save_session(his3_aligned_to_4lom_assembly_session_file)"
   ]
  },
  {
   "cell_type": "markdown",
   "metadata": {},
   "source": [
    "### Analyzing structure"
   ]
  },
  {
   "cell_type": "code",
   "execution_count": 16,
   "metadata": {
    "collapsed": false
   },
   "outputs": [
    {
     "name": "stderr",
     "output_type": "stream",
     "text": [
      "/Users/karen/anaconda/lib/python2.7/site-packages/Bio/PDB/StructureBuilder.py:85: PDBConstructionWarning: WARNING: Chain A is discontinuous at line 37675.\n",
      "  PDBConstructionWarning)\n",
      "/Users/karen/anaconda/lib/python2.7/site-packages/Bio/PDB/PDBParser.py:287: PDBConstructionWarning: PDBConstructionException: ('H_IYP', 301, ' ') defined twice at line 37675.\n",
      "Exception ignored.\n",
      "Some atoms or residues may be missing in the data structure.\n",
      "  % message, PDBConstructionWarning)\n",
      "/Users/karen/anaconda/lib/python2.7/site-packages/Bio/PDB/PDBParser.py:287: PDBConstructionWarning: PDBConstructionException: ('H_ MN', 302, ' ') defined twice at line 37690.\n",
      "Exception ignored.\n",
      "Some atoms or residues may be missing in the data structure.\n",
      "  % message, PDBConstructionWarning)\n",
      "/Users/karen/anaconda/lib/python2.7/site-packages/Bio/PDB/PDBParser.py:287: PDBConstructionWarning: PDBConstructionException: ('H_ MN', 303, ' ') defined twice at line 37691.\n",
      "Exception ignored.\n",
      "Some atoms or residues may be missing in the data structure.\n",
      "  % message, PDBConstructionWarning)\n",
      "/Users/karen/anaconda/lib/python2.7/site-packages/Bio/PDB/PDBParser.py:287: PDBConstructionWarning: PDBConstructionException: ('H_ MN', 304, ' ') defined twice at line 37692.\n",
      "Exception ignored.\n",
      "Some atoms or residues may be missing in the data structure.\n",
      "  % message, PDBConstructionWarning)\n",
      "/Users/karen/anaconda/lib/python2.7/site-packages/Bio/PDB/StructureBuilder.py:85: PDBConstructionWarning: WARNING: Chain B is discontinuous at line 37693.\n",
      "  PDBConstructionWarning)\n",
      "/Users/karen/anaconda/lib/python2.7/site-packages/Bio/PDB/StructureBuilder.py:85: PDBConstructionWarning: WARNING: Chain C is discontinuous at line 37711.\n",
      "  PDBConstructionWarning)\n",
      "/Users/karen/anaconda/lib/python2.7/site-packages/Bio/PDB/StructureBuilder.py:85: PDBConstructionWarning: WARNING: Chain D is discontinuous at line 37729.\n",
      "  PDBConstructionWarning)\n",
      "/Users/karen/anaconda/lib/python2.7/site-packages/Bio/PDB/StructureBuilder.py:85: PDBConstructionWarning: WARNING: Chain E is discontinuous at line 37747.\n",
      "  PDBConstructionWarning)\n",
      "/Users/karen/anaconda/lib/python2.7/site-packages/Bio/PDB/StructureBuilder.py:85: PDBConstructionWarning: WARNING: Chain F is discontinuous at line 37765.\n",
      "  PDBConstructionWarning)\n",
      "/Users/karen/anaconda/lib/python2.7/site-packages/Bio/PDB/StructureBuilder.py:85: PDBConstructionWarning: WARNING: Chain G is discontinuous at line 37783.\n",
      "  PDBConstructionWarning)\n",
      "/Users/karen/anaconda/lib/python2.7/site-packages/Bio/PDB/StructureBuilder.py:85: PDBConstructionWarning: WARNING: Chain H is discontinuous at line 37801.\n",
      "  PDBConstructionWarning)\n",
      "/Users/karen/anaconda/lib/python2.7/site-packages/Bio/PDB/StructureBuilder.py:85: PDBConstructionWarning: WARNING: Chain I is discontinuous at line 37819.\n",
      "  PDBConstructionWarning)\n",
      "/Users/karen/anaconda/lib/python2.7/site-packages/Bio/PDB/StructureBuilder.py:85: PDBConstructionWarning: WARNING: Chain J is discontinuous at line 37837.\n",
      "  PDBConstructionWarning)\n",
      "/Users/karen/anaconda/lib/python2.7/site-packages/Bio/PDB/StructureBuilder.py:85: PDBConstructionWarning: WARNING: Chain K is discontinuous at line 37855.\n",
      "  PDBConstructionWarning)\n",
      "/Users/karen/anaconda/lib/python2.7/site-packages/Bio/PDB/StructureBuilder.py:85: PDBConstructionWarning: WARNING: Chain L is discontinuous at line 37873.\n",
      "  PDBConstructionWarning)\n",
      "/Users/karen/anaconda/lib/python2.7/site-packages/Bio/PDB/StructureBuilder.py:85: PDBConstructionWarning: WARNING: Chain M is discontinuous at line 37891.\n",
      "  PDBConstructionWarning)\n",
      "/Users/karen/anaconda/lib/python2.7/site-packages/Bio/PDB/StructureBuilder.py:85: PDBConstructionWarning: WARNING: Chain N is discontinuous at line 37909.\n",
      "  PDBConstructionWarning)\n",
      "/Users/karen/anaconda/lib/python2.7/site-packages/Bio/PDB/StructureBuilder.py:85: PDBConstructionWarning: WARNING: Chain O is discontinuous at line 37927.\n",
      "  PDBConstructionWarning)\n",
      "/Users/karen/anaconda/lib/python2.7/site-packages/Bio/PDB/StructureBuilder.py:85: PDBConstructionWarning: WARNING: Chain P is discontinuous at line 37945.\n",
      "  PDBConstructionWarning)\n",
      "/Users/karen/anaconda/lib/python2.7/site-packages/Bio/PDB/StructureBuilder.py:85: PDBConstructionWarning: WARNING: Chain Q is discontinuous at line 37963.\n",
      "  PDBConstructionWarning)\n",
      "/Users/karen/anaconda/lib/python2.7/site-packages/Bio/PDB/StructureBuilder.py:85: PDBConstructionWarning: WARNING: Chain R is discontinuous at line 37981.\n",
      "  PDBConstructionWarning)\n",
      "/Users/karen/anaconda/lib/python2.7/site-packages/Bio/PDB/StructureBuilder.py:85: PDBConstructionWarning: WARNING: Chain S is discontinuous at line 37999.\n",
      "  PDBConstructionWarning)\n",
      "/Users/karen/anaconda/lib/python2.7/site-packages/Bio/PDB/StructureBuilder.py:85: PDBConstructionWarning: WARNING: Chain T is discontinuous at line 38017.\n",
      "  PDBConstructionWarning)\n",
      "/Users/karen/anaconda/lib/python2.7/site-packages/Bio/PDB/StructureBuilder.py:85: PDBConstructionWarning: WARNING: Chain U is discontinuous at line 38035.\n",
      "  PDBConstructionWarning)\n",
      "/Users/karen/anaconda/lib/python2.7/site-packages/Bio/PDB/StructureBuilder.py:85: PDBConstructionWarning: WARNING: Chain V is discontinuous at line 38053.\n",
      "  PDBConstructionWarning)\n",
      "/Users/karen/anaconda/lib/python2.7/site-packages/Bio/PDB/StructureBuilder.py:85: PDBConstructionWarning: WARNING: Chain W is discontinuous at line 38071.\n",
      "  PDBConstructionWarning)\n",
      "/Users/karen/anaconda/lib/python2.7/site-packages/Bio/PDB/StructureBuilder.py:85: PDBConstructionWarning: WARNING: Chain X is discontinuous at line 38089.\n",
      "  PDBConstructionWarning)\n"
     ]
    }
   ],
   "source": [
    "structure = Bio.PDB.PDBParser().get_structure('his3_swiss_assembly', his3_aligned_to_4lom_assembly_file)\n",
    "model = structure[0]"
   ]
  },
  {
   "cell_type": "code",
   "execution_count": 17,
   "metadata": {
    "collapsed": false,
    "scrolled": false
   },
   "outputs": [],
   "source": [
    "substrates = [r for chain in model.get_chains() for r in chain if r.get_resname() == 'IYP']\n",
    "mn = [r for chain in model.get_chains() for r in chain if r.get_resname() == ' MN']\n",
    "lucas_pBon001=[7, 8, 9, 11, 13, 16, 18, 20, 22, 23, 24, 25, 26, 27, 28, 29, 38, 41, 56, 60, 62, 76, 77, 78, 79, 80, 81, 82, 85, 96, 97, 98, 99, 102, 104, 105, 106, 108, 110, 111, 112, 114, 115, 117, 119, 120, 121, 122, 131, 135, 137, 139, 140, 141, 142, 143, 144, 145, 147, 148, 151, 152, 154, 157, 160, 161, 163, 164, 165, 168, 169, 170, 172, 175, 177, 181, 189, 202, 203, 206, 207, 208, 209]"
   ]
  },
  {
   "cell_type": "code",
   "execution_count": 41,
   "metadata": {
    "collapsed": false
   },
   "outputs": [
    {
     "name": "stdout",
     "output_type": "stream",
     "text": [
      "72\n"
     ]
    }
   ],
   "source": [
    "print len([r for chain in model.get_chains() for r in chain if 'MN' in r.get_resname().upper()])"
   ]
  },
  {
   "cell_type": "code",
   "execution_count": 29,
   "metadata": {
    "collapsed": true
   },
   "outputs": [],
   "source": [
    "import re"
   ]
  },
  {
   "cell_type": "code",
   "execution_count": 37,
   "metadata": {
    "collapsed": false
   },
   "outputs": [],
   "source": [
    "string = 'A10KA26S'\n",
    "pattern = '(^\\D\\d+\\D)(\\D\\d+\\D$)'\n",
    "match = re.match(pattern, string)"
   ]
  },
  {
   "cell_type": "code",
   "execution_count": 39,
   "metadata": {
    "collapsed": false
   },
   "outputs": [
    {
     "ename": "TypeError",
     "evalue": "'builtin_function_or_method' object has no attribute '__getitem__'",
     "output_type": "error",
     "traceback": [
      "\u001b[0;31m---------------------------------------------------------------------------\u001b[0m",
      "\u001b[0;31mTypeError\u001b[0m                                 Traceback (most recent call last)",
      "\u001b[0;32m<ipython-input-39-efcef1d60641>\u001b[0m in \u001b[0;36m<module>\u001b[0;34m()\u001b[0m\n\u001b[0;32m----> 1\u001b[0;31m \u001b[0mmatch\u001b[0m\u001b[0;34m.\u001b[0m\u001b[0mgroups\u001b[0m\u001b[0;34m[\u001b[0m\u001b[0;36m0\u001b[0m\u001b[0;34m]\u001b[0m\u001b[0;34m\u001b[0m\u001b[0m\n\u001b[0m",
      "\u001b[0;31mTypeError\u001b[0m: 'builtin_function_or_method' object has no attribute '__getitem__'"
     ]
    }
   ],
   "source": [
    "match.groups[0]"
   ]
  },
  {
   "cell_type": "code",
   "execution_count": 28,
   "metadata": {
    "collapsed": false
   },
   "outputs": [
    {
     "data": {
      "text/html": [
       "<div>\n",
       "<table border=\"1\" class=\"dataframe\">\n",
       "  <thead>\n",
       "    <tr style=\"text-align: right;\">\n",
       "      <th></th>\n",
       "      <th>index</th>\n",
       "      <th>fused_mutations</th>\n",
       "    </tr>\n",
       "  </thead>\n",
       "  <tbody>\n",
       "    <tr>\n",
       "      <th>0</th>\n",
       "      <td>1</td>\n",
       "      <td>A10EA26S</td>\n",
       "    </tr>\n",
       "    <tr>\n",
       "      <th>1</th>\n",
       "      <td>1</td>\n",
       "      <td>A10KA26S</td>\n",
       "    </tr>\n",
       "    <tr>\n",
       "      <th>2</th>\n",
       "      <td>1</td>\n",
       "      <td>A10KA5E</td>\n",
       "    </tr>\n",
       "    <tr>\n",
       "      <th>3</th>\n",
       "      <td>1</td>\n",
       "      <td>A10KE5H</td>\n",
       "    </tr>\n",
       "    <tr>\n",
       "      <th>4</th>\n",
       "      <td>1</td>\n",
       "      <td>A10KE5K</td>\n",
       "    </tr>\n",
       "    <tr>\n",
       "      <th>5</th>\n",
       "      <td>1</td>\n",
       "      <td>A10KE5T</td>\n",
       "    </tr>\n",
       "    <tr>\n",
       "      <th>6</th>\n",
       "      <td>1</td>\n",
       "      <td>A10KF30L</td>\n",
       "    </tr>\n",
       "    <tr>\n",
       "      <th>7</th>\n",
       "      <td>1</td>\n",
       "      <td>A10TL9V</td>\n",
       "    </tr>\n",
       "    <tr>\n",
       "      <th>8</th>\n",
       "      <td>1</td>\n",
       "      <td>A26SA10E</td>\n",
       "    </tr>\n",
       "    <tr>\n",
       "      <th>9</th>\n",
       "      <td>1</td>\n",
       "      <td>A26SA10K</td>\n",
       "    </tr>\n",
       "    <tr>\n",
       "      <th>10</th>\n",
       "      <td>1</td>\n",
       "      <td>A26SA5D</td>\n",
       "    </tr>\n",
       "    <tr>\n",
       "      <th>11</th>\n",
       "      <td>1</td>\n",
       "      <td>A26SA5E</td>\n",
       "    </tr>\n",
       "    <tr>\n",
       "      <th>12</th>\n",
       "      <td>1</td>\n",
       "      <td>A26SD5H</td>\n",
       "    </tr>\n",
       "    <tr>\n",
       "      <th>13</th>\n",
       "      <td>1</td>\n",
       "      <td>A26SE10K</td>\n",
       "    </tr>\n",
       "    <tr>\n",
       "      <th>14</th>\n",
       "      <td>1</td>\n",
       "      <td>A26SE10T</td>\n",
       "    </tr>\n",
       "    <tr>\n",
       "      <th>15</th>\n",
       "      <td>1</td>\n",
       "      <td>A26SE5H</td>\n",
       "    </tr>\n",
       "    <tr>\n",
       "      <th>16</th>\n",
       "      <td>1</td>\n",
       "      <td>A26SE5K</td>\n",
       "    </tr>\n",
       "    <tr>\n",
       "      <th>17</th>\n",
       "      <td>1</td>\n",
       "      <td>A26SE5T</td>\n",
       "    </tr>\n",
       "    <tr>\n",
       "      <th>18</th>\n",
       "      <td>1</td>\n",
       "      <td>A26SF30L</td>\n",
       "    </tr>\n",
       "    <tr>\n",
       "      <th>19</th>\n",
       "      <td>1</td>\n",
       "      <td>A26SK10T</td>\n",
       "    </tr>\n",
       "    <tr>\n",
       "      <th>20</th>\n",
       "      <td>1</td>\n",
       "      <td>A5DA26S</td>\n",
       "    </tr>\n",
       "    <tr>\n",
       "      <th>21</th>\n",
       "      <td>1</td>\n",
       "      <td>A5EA10K</td>\n",
       "    </tr>\n",
       "    <tr>\n",
       "      <th>22</th>\n",
       "      <td>1</td>\n",
       "      <td>A5EA26S</td>\n",
       "    </tr>\n",
       "    <tr>\n",
       "      <th>23</th>\n",
       "      <td>1</td>\n",
       "      <td>A5EK10T</td>\n",
       "    </tr>\n",
       "    <tr>\n",
       "      <th>24</th>\n",
       "      <td>1</td>\n",
       "      <td>D5HA26S</td>\n",
       "    </tr>\n",
       "    <tr>\n",
       "      <th>25</th>\n",
       "      <td>1</td>\n",
       "      <td>D5TF6I</td>\n",
       "    </tr>\n",
       "    <tr>\n",
       "      <th>26</th>\n",
       "      <td>1</td>\n",
       "      <td>E10KA26S</td>\n",
       "    </tr>\n",
       "    <tr>\n",
       "      <th>27</th>\n",
       "      <td>1</td>\n",
       "      <td>E10TA26S</td>\n",
       "    </tr>\n",
       "    <tr>\n",
       "      <th>28</th>\n",
       "      <td>1</td>\n",
       "      <td>E5HA10K</td>\n",
       "    </tr>\n",
       "    <tr>\n",
       "      <th>29</th>\n",
       "      <td>1</td>\n",
       "      <td>E5HA26S</td>\n",
       "    </tr>\n",
       "    <tr>\n",
       "      <th>...</th>\n",
       "      <td>...</td>\n",
       "      <td>...</td>\n",
       "    </tr>\n",
       "    <tr>\n",
       "      <th>412</th>\n",
       "      <td>11</td>\n",
       "      <td>A17PL16V</td>\n",
       "    </tr>\n",
       "    <tr>\n",
       "      <th>413</th>\n",
       "      <td>11</td>\n",
       "      <td>E17PI16L</td>\n",
       "    </tr>\n",
       "    <tr>\n",
       "      <th>414</th>\n",
       "      <td>11</td>\n",
       "      <td>F6SL16V</td>\n",
       "    </tr>\n",
       "    <tr>\n",
       "      <th>415</th>\n",
       "      <td>11</td>\n",
       "      <td>H15PA14D</td>\n",
       "    </tr>\n",
       "    <tr>\n",
       "      <th>416</th>\n",
       "      <td>11</td>\n",
       "      <td>I16LA17P</td>\n",
       "    </tr>\n",
       "    <tr>\n",
       "      <th>417</th>\n",
       "      <td>11</td>\n",
       "      <td>I16LE17P</td>\n",
       "    </tr>\n",
       "    <tr>\n",
       "      <th>418</th>\n",
       "      <td>11</td>\n",
       "      <td>I16LP17Q</td>\n",
       "    </tr>\n",
       "    <tr>\n",
       "      <th>419</th>\n",
       "      <td>11</td>\n",
       "      <td>L16VA17P</td>\n",
       "    </tr>\n",
       "    <tr>\n",
       "      <th>420</th>\n",
       "      <td>11</td>\n",
       "      <td>L16VF6S</td>\n",
       "    </tr>\n",
       "    <tr>\n",
       "      <th>421</th>\n",
       "      <td>11</td>\n",
       "      <td>P17QI16L</td>\n",
       "    </tr>\n",
       "    <tr>\n",
       "      <th>422</th>\n",
       "      <td>12</td>\n",
       "      <td>A15SA17G</td>\n",
       "    </tr>\n",
       "    <tr>\n",
       "      <th>423</th>\n",
       "      <td>12</td>\n",
       "      <td>A15SD19K</td>\n",
       "    </tr>\n",
       "    <tr>\n",
       "      <th>424</th>\n",
       "      <td>12</td>\n",
       "      <td>A15SE19K</td>\n",
       "    </tr>\n",
       "    <tr>\n",
       "      <th>425</th>\n",
       "      <td>12</td>\n",
       "      <td>A15SK4N</td>\n",
       "    </tr>\n",
       "    <tr>\n",
       "      <th>426</th>\n",
       "      <td>12</td>\n",
       "      <td>A15SN4R</td>\n",
       "    </tr>\n",
       "    <tr>\n",
       "      <th>427</th>\n",
       "      <td>12</td>\n",
       "      <td>A17GA15S</td>\n",
       "    </tr>\n",
       "    <tr>\n",
       "      <th>428</th>\n",
       "      <td>12</td>\n",
       "      <td>A17GD19K</td>\n",
       "    </tr>\n",
       "    <tr>\n",
       "      <th>429</th>\n",
       "      <td>12</td>\n",
       "      <td>A17GN6V</td>\n",
       "    </tr>\n",
       "    <tr>\n",
       "      <th>430</th>\n",
       "      <td>12</td>\n",
       "      <td>C17GD19K</td>\n",
       "    </tr>\n",
       "    <tr>\n",
       "      <th>431</th>\n",
       "      <td>12</td>\n",
       "      <td>D19KA15S</td>\n",
       "    </tr>\n",
       "    <tr>\n",
       "      <th>432</th>\n",
       "      <td>12</td>\n",
       "      <td>D19KA17G</td>\n",
       "    </tr>\n",
       "    <tr>\n",
       "      <th>433</th>\n",
       "      <td>12</td>\n",
       "      <td>D19KC17G</td>\n",
       "    </tr>\n",
       "    <tr>\n",
       "      <th>434</th>\n",
       "      <td>12</td>\n",
       "      <td>D19NG17S</td>\n",
       "    </tr>\n",
       "    <tr>\n",
       "      <th>435</th>\n",
       "      <td>12</td>\n",
       "      <td>E19KA15S</td>\n",
       "    </tr>\n",
       "    <tr>\n",
       "      <th>436</th>\n",
       "      <td>12</td>\n",
       "      <td>G17SD19N</td>\n",
       "    </tr>\n",
       "    <tr>\n",
       "      <th>437</th>\n",
       "      <td>12</td>\n",
       "      <td>G17SN4R</td>\n",
       "    </tr>\n",
       "    <tr>\n",
       "      <th>438</th>\n",
       "      <td>12</td>\n",
       "      <td>K4NA15S</td>\n",
       "    </tr>\n",
       "    <tr>\n",
       "      <th>439</th>\n",
       "      <td>12</td>\n",
       "      <td>N4RA15S</td>\n",
       "    </tr>\n",
       "    <tr>\n",
       "      <th>440</th>\n",
       "      <td>12</td>\n",
       "      <td>N4RG17S</td>\n",
       "    </tr>\n",
       "    <tr>\n",
       "      <th>441</th>\n",
       "      <td>12</td>\n",
       "      <td>N6VA17G</td>\n",
       "    </tr>\n",
       "  </tbody>\n",
       "</table>\n",
       "<p>442 rows × 2 columns</p>\n",
       "</div>"
      ],
      "text/plain": [
       "     index fused_mutations\n",
       "0        1        A10EA26S\n",
       "1        1        A10KA26S\n",
       "2        1         A10KA5E\n",
       "3        1         A10KE5H\n",
       "4        1         A10KE5K\n",
       "5        1         A10KE5T\n",
       "6        1        A10KF30L\n",
       "7        1         A10TL9V\n",
       "8        1        A26SA10E\n",
       "9        1        A26SA10K\n",
       "10       1         A26SA5D\n",
       "11       1         A26SA5E\n",
       "12       1         A26SD5H\n",
       "13       1        A26SE10K\n",
       "14       1        A26SE10T\n",
       "15       1         A26SE5H\n",
       "16       1         A26SE5K\n",
       "17       1         A26SE5T\n",
       "18       1        A26SF30L\n",
       "19       1        A26SK10T\n",
       "20       1         A5DA26S\n",
       "21       1         A5EA10K\n",
       "22       1         A5EA26S\n",
       "23       1         A5EK10T\n",
       "24       1         D5HA26S\n",
       "25       1          D5TF6I\n",
       "26       1        E10KA26S\n",
       "27       1        E10TA26S\n",
       "28       1         E5HA10K\n",
       "29       1         E5HA26S\n",
       "..     ...             ...\n",
       "412     11        A17PL16V\n",
       "413     11        E17PI16L\n",
       "414     11         F6SL16V\n",
       "415     11        H15PA14D\n",
       "416     11        I16LA17P\n",
       "417     11        I16LE17P\n",
       "418     11        I16LP17Q\n",
       "419     11        L16VA17P\n",
       "420     11         L16VF6S\n",
       "421     11        P17QI16L\n",
       "422     12        A15SA17G\n",
       "423     12        A15SD19K\n",
       "424     12        A15SE19K\n",
       "425     12         A15SK4N\n",
       "426     12         A15SN4R\n",
       "427     12        A17GA15S\n",
       "428     12        A17GD19K\n",
       "429     12         A17GN6V\n",
       "430     12        C17GD19K\n",
       "431     12        D19KA15S\n",
       "432     12        D19KA17G\n",
       "433     12        D19KC17G\n",
       "434     12        D19NG17S\n",
       "435     12        E19KA15S\n",
       "436     12        G17SD19N\n",
       "437     12         G17SN4R\n",
       "438     12         K4NA15S\n",
       "439     12         N4RA15S\n",
       "440     12         N4RG17S\n",
       "441     12         N6VA17G\n",
       "\n",
       "[442 rows x 2 columns]"
      ]
     },
     "execution_count": 28,
     "metadata": {},
     "output_type": "execute_result"
    }
   ],
   "source": [
    "reciprocal_sign_epistasis = pd.read_table(files_dump_folder + 'RepSign.tab')\n",
    "reciprocal_sign_epistasis['mutation1'] = reciprocal_sign_epistasis['fused_mutations'].apply(lambda s: )"
   ]
  },
  {
   "cell_type": "code",
   "execution_count": 18,
   "metadata": {
    "collapsed": true
   },
   "outputs": [],
   "source": [
    "def get_distance_between_atoms(atom1, atom2):\n",
    "    diff_vector  = atom1.coord - atom2.coord\n",
    "    return np.sqrt(np.sum(diff_vector * diff_vector))\n",
    "\n",
    "\n",
    "def get_distance_between_residues(residue_one, residue_two, mode='min'):\n",
    "    assert mode in ['CA', 'min']\n",
    "    if mode == 'CA':\n",
    "        diff_vector  = residue_one[\"CA\"].coord - residue_two[\"CA\"].coord\n",
    "        return np.sqrt(np.sum(diff_vector * diff_vector))\n",
    "    if mode == 'min':\n",
    "        distances = []\n",
    "        for atom1 in residue_one.get_atom():\n",
    "            for atom2 in residue_two.get_atom():\n",
    "                distances.append(get_distance_between_atoms(atom1, atom2))\n",
    "        return min(distances)\n",
    "\n",
    "    \n",
    "def get_distance_to_other_residues(residue, other_residues, mode='min'):\n",
    "    distances = np.zeros(len(other_residues))\n",
    "    for index, other_residue in enumerate(other_residues):\n",
    "        distances[index] = get_distance_between_residues(residue, other_residue, mode=mode)\n",
    "    return distances"
   ]
  },
  {
   "cell_type": "code",
   "execution_count": 19,
   "metadata": {
    "collapsed": false,
    "scrolled": false
   },
   "outputs": [
    {
     "data": {
      "image/png": "[encoded data removed]",
      "text/plain": [
       "<matplotlib.figure.Figure at 0x11f26ded0>"
      ]
     },
     "metadata": {},
     "output_type": "display_data"
    }
   ],
   "source": [
    "title = 'Sign epistasis vs distance to substrate and Mn'\n",
    "\n",
    "substrate_color = 'blue'\n",
    "mn_color = 'magenta'\n",
    "\n",
    "sign_epistasis_dist_to_substrate = []\n",
    "no_sign_epistasis_dist_to_substrate = []\n",
    "sign_epistasis_dist_to_mn = []\n",
    "no_sign_epistasis_dist_to_mn = []\n",
    "\n",
    "plot_better()\n",
    "residues = list(list(model.get_chains())[0].get_residues())\n",
    "for index, residue in enumerate(strip_non_aa_residues(residues)):\n",
    "    \n",
    "    distance_to_substrate = min(get_distance_to_other_residues(residue, substrates))\n",
    "    distance_to_mn = min(get_distance_to_other_residues(residue, mn))\n",
    "    assert aa321[residue.get_resname()] == Scer_Uniprot[index+2 - 1]\n",
    "\n",
    "    plt.scatter(index+2, distance_to_substrate, edgecolor='none', color=substrate_color)\n",
    "    plt.scatter(index+2, distance_to_mn, edgecolor='none', color=mn_color)\n",
    "    if index+2 in lucas_pBon001:\n",
    "        sign_epistasis_dist_to_substrate.append(distance_to_substrate)\n",
    "        sign_epistasis_dist_to_mn.append(distance_to_mn)\n",
    "    else:\n",
    "        no_sign_epistasis_dist_to_substrate.append(distance_to_substrate)\n",
    "        no_sign_epistasis_dist_to_mn.append(distance_to_mn)\n",
    "\n",
    "for position in lucas_pBon001:\n",
    "    plt.axvline(position, ls='-', color='gray', alpha=0.2)\n",
    "\n",
    "plt.title('Vertical lines = positions with sign epistasis')\n",
    "plt.ylabel('Distance, A')\n",
    "plt.xlabel('Sequence position')\n",
    "plt.xlim(0,220)\n",
    "plt.scatter(None, None, edgecolor='none', color='blue', label='Distance to substrate')\n",
    "plt.scatter(None, None, edgecolor='none', color='magenta', label='Distance to Mn')\n",
    "plt.legend(loc='upper right', frameon=False)\n",
    "save_image(image_counter, title, figures_folder, notebook_prefix)\n",
    "\n",
    "plt.savefig(figures_folder+'%s.pdf' %'_'.join(title.split()))"
   ]
  },
  {
   "cell_type": "code",
   "execution_count": 20,
   "metadata": {
    "collapsed": false
   },
   "outputs": [
    {
     "data": {
      "image/png": "[encoded data removed]",
      "text/plain": [
       "<matplotlib.figure.Figure at 0x11f6c9e50>"
      ]
     },
     "metadata": {},
     "output_type": "display_data"
    }
   ],
   "source": [
    "title = 'Sign epistasis vs distance to substrate histogram'\n",
    "\n",
    "plot_better()\n",
    "plt.hist(sign_epistasis_dist_to_substrate, range=(0,35), bins=20, label='positions under sign epistasis', \n",
    "         edgecolor='none', alpha=0.4, color=substrate_color)\n",
    "plt.hist(no_sign_epistasis_dist_to_substrate, edgecolor='none', range=(0,35), bins=20, alpha=0.4, color='gray', label='other positions')\n",
    "plt.xlabel('Distance from substrate, A')\n",
    "plt.legend(loc='upper right', frameon=False)\n",
    "\n",
    "save_image(image_counter, title, figures_folder, notebook_prefix)\n",
    "plt.savefig(figures_folder+'%s.pdf' %'_'.join(title.split()))"
   ]
  },
  {
   "cell_type": "code",
   "execution_count": 21,
   "metadata": {
    "collapsed": false
   },
   "outputs": [
    {
     "data": {
      "image/png": "[encoded data removed]",
      "text/plain": [
       "<matplotlib.figure.Figure at 0x11f26de90>"
      ]
     },
     "metadata": {},
     "output_type": "display_data"
    }
   ],
   "source": [
    "title = 'Sign epistasis vs distance to substrate histogram'\n",
    "\n",
    "plot_better()\n",
    "plt.hist(sign_epistasis_dist_to_mn, range=(0,35), bins=20, label='positions under sign epistasis', \n",
    "         edgecolor='none', alpha=0.4, color=mn_color)\n",
    "plt.hist(no_sign_epistasis_dist_to_mn, edgecolor='none', range=(0,35), bins=20, alpha=0.4, color='gray', label='other positions')\n",
    "plt.xlabel('Distance from nearest Mn atom, A')\n",
    "plt.legend(loc='upper right', frameon=False)\n",
    "\n",
    "save_image(image_counter, title, figures_folder, notebook_prefix)\n",
    "plt.savefig(figures_folder+'%s.pdf' %'_'.join(title.split()))"
   ]
  },
  {
   "cell_type": "code",
   "execution_count": 31,
   "metadata": {
    "collapsed": false
   },
   "outputs": [
    {
     "name": "stdout",
     "output_type": "stream",
     "text": [
      "KS 2-sample test for distance substrate:\n",
      "Ks_2sampResult(statistic=0.26650000000000001, pvalue=0.0014917283920581389)\n",
      "\n",
      "KS 2-sample test for distance Mn:\n",
      "Ks_2sampResult(statistic=0.2185, pvalue=0.015804600397267665)\n"
     ]
    }
   ],
   "source": [
    "from scipy import stats\n",
    "print 'KS 2-sample test for distance substrate:\\n', stats.ks_2samp(sign_epistasis_dist_to_substrate, no_sign_epistasis_dist_to_substrate)\n",
    "print\n",
    "print 'KS 2-sample test for distance Mn:\\n',  stats.ks_2samp(sign_epistasis_dist_to_mn, no_sign_epistasis_dist_to_mn)"
   ]
  },
  {
   "cell_type": "code",
   "execution_count": null,
   "metadata": {
    "collapsed": true
   },
   "outputs": [],
   "source": []
  }
 ],
 "metadata": {
  "kernelspec": {
   "display_name": "Python 2",
   "language": "python",
   "name": "python2"
  },
  "language_info": {
   "codemirror_mode": {
    "name": "ipython",
    "version": 2
   },
   "file_extension": ".py",
   "mimetype": "text/x-python",
   "name": "python",
   "nbconvert_exporter": "python",
   "pygments_lexer": "ipython2",
   "version": "2.7.13"
  }
 },
 "nbformat": 4,
 "nbformat_minor": 0
}
