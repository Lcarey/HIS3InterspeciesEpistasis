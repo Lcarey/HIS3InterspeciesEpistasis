{
 "cells": [
  {
   "cell_type": "code",
   "execution_count": 1,
   "metadata": {
    "collapsed": true
   },
   "outputs": [],
   "source": [
    "import sys\n",
    "import pymol\n",
    "from pymol import cmd, stored"
   ]
  },
  {
   "cell_type": "code",
   "execution_count": 2,
   "metadata": {
    "collapsed": false
   },
   "outputs": [],
   "source": [
    "pymol.pymol_argv = ['pymol', '-qc'] # quiet / no GUI\n",
    "stdout = sys.stdout\n",
    "stderr = sys.stderr\n",
    "pymol.finish_launching(['pymol', '-xiq'])\n",
    "sys.stdout = stdout\n",
    "sys.stderr = stderr\n",
    "\n",
    "cmd.reinitialize()"
   ]
  },
  {
   "cell_type": "code",
   "execution_count": 8,
   "metadata": {
    "collapsed": true
   },
   "outputs": [],
   "source": [
    "import psico\n",
    "import psico.fullinit\n",
    "import psico.helping\n",
    "psico.helping.write_html_ref('psico-commands.html')"
   ]
  },
  {
   "cell_type": "code",
   "execution_count": 4,
   "metadata": {
    "collapsed": true
   },
   "outputs": [],
   "source": [
    "files_dump_folder = '/Users/karen/HIS3InterspeciesEpistasis/Analysis/Karen/files_dump/structure_predictions/'"
   ]
  },
  {
   "cell_type": "code",
   "execution_count": 5,
   "metadata": {
    "collapsed": true
   },
   "outputs": [],
   "source": [
    "pdb_file = files_dump_folder + 'HIS3_saccharomyces_cerevisiae__itasser_model1_prediction.pdb'"
   ]
  },
  {
   "cell_type": "code",
   "execution_count": 6,
   "metadata": {
    "collapsed": false
   },
   "outputs": [],
   "source": [
    "cmd.load(pdb_file)"
   ]
  },
  {
   "cell_type": "code",
   "execution_count": 9,
   "metadata": {
    "collapsed": true
   },
   "outputs": [],
   "source": [
    "cmd.save_pdb('/Users/karen/Downloads/khui.pdb')"
   ]
  },
  {
   "cell_type": "code",
   "execution_count": 11,
   "metadata": {
    "collapsed": false
   },
   "outputs": [],
   "source": [
    "import Bio\n",
    "from Bio import PDB\n",
    "pdb_file = os.path.join('/Users/karen/Downloads/khui.pdb')\n",
    "structure = Bio.PDB.PDBParser().get_structure('His3_itasser', pdb_file)\n"
   ]
  },
  {
   "cell_type": "code",
   "execution_count": 12,
   "metadata": {
    "collapsed": true
   },
   "outputs": [],
   "source": [
    "chain = list(list(structure.get_models())[0].get_chains())[0]"
   ]
  },
  {
   "cell_type": "code",
   "execution_count": 15,
   "metadata": {
    "collapsed": false
   },
   "outputs": [],
   "source": [
    "residues = list(chain.get_residues())\n",
    "r = residues[0]"
   ]
  },
  {
   "cell_type": "code",
   "execution_count": 20,
   "metadata": {
    "collapsed": false
   },
   "outputs": [
    {
     "data": {
      "text/plain": [
       "0"
      ]
     },
     "execution_count": 20,
     "metadata": {},
     "output_type": "execute_result"
    }
   ],
   "source": [
    "r.is_disordered()"
   ]
  },
  {
   "cell_type": "code",
   "execution_count": 29,
   "metadata": {
    "collapsed": false
   },
   "outputs": [],
   "source": [
    "ss = '''\n",
    "HELIX    1   1 GLY A   60  SER A   73  1                                  14\n",
    "HELIX    2   2 ASP A   89  LEU A  108  1                                  20\n",
    "HELIX    3   3 CYS A  157  SER A  171  1                                  15\n",
    "HELIX    4   4 ASP A  185  THR A  204  1                                  20\n",
    "SHEET    1   1 1 LYS A   5  ILE A  11  0\n",
    "SHEET    2   2 1 THR A  15  SER A  22  0\n",
    "SHEET    3   3 1 VAL A  52  ASN A  54  0\n",
    "SHEET    4   4 1 SER A  76  GLY A  83  0\n",
    "SHEET    5   5 1 PHE A 117  LEU A 124  0\n",
    "SHEET    6   6 1 ALA A 127  ASP A 134  0\n",
    "SHEET    7   7 1 ARG A 138  GLU A 144  0\n",
    "SHEET    8   8 1 ILE A 173  ARG A 181  0\n",
    "'''\n",
    "HELIX = []\n",
    "HELIX.extend(range (60,74))\n",
    "HELIX.extend(range (89,109))\n",
    "HELIX.extend(range (157,172))\n",
    "HELIX.extend(range (185,205))\n",
    "SHEET = []\n",
    "SHEET.extend(range(5,12))\n",
    "SHEET.extend(range(15,23))\n",
    "SHEET.extend(range(52,55))\n",
    "SHEET.extend(range(76,84))\n",
    "SHEET.extend(range(117,125))\n",
    "SHEET.extend(range(127,135))\n",
    "SHEET.extend(range(138,145))\n",
    "SHEET.extend(range(173,182))\n"
   ]
  }
 ],
 "metadata": {
  "kernelspec": {
   "display_name": "Python 2",
   "language": "python",
   "name": "python2"
  },
  "language_info": {
   "codemirror_mode": {
    "name": "ipython",
    "version": 2
   },
   "file_extension": ".py",
   "mimetype": "text/x-python",
   "name": "python",
   "nbconvert_exporter": "python",
   "pygments_lexer": "ipython2",
   "version": "2.7.13"
  }
 },
 "nbformat": 4,
 "nbformat_minor": 0
}
