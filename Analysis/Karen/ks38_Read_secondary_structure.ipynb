{
 "cells": [
  {
   "cell_type": "code",
   "execution_count": 1,
   "metadata": {
    "collapsed": true
   },
   "outputs": [],
   "source": [
    "# information from PyMol? using psico?\n",
    "# import psico\n",
    "# import psico.fullinit\n",
    "# import psico.helping\n",
    "# psico.helping.write_html_ref('psico-commands.html')\n",
    "\n",
    "helices = range (60,74) + range (89,109) + range (157,172) + range (185,205)\n",
    "sheets = range(5,12) + range(15,23) + range(52,55) + range(76,84) + range(117,125) + range(127,135) + range(138,145) + range(173,182)\n",
    "disordered = [position for position in range(1, 220) if position not in helices and position not in sheets] #220 = len(Scer_Uniprot)\n",
    "\n",
    "def get_secondary_structure(position):\n",
    "#     print position, position in helices, position in sheets\n",
    "    assert ~(position in helices and position in sheets)\n",
    "    if position in helices:\n",
    "        return 'helix'\n",
    "    elif position in sheets:\n",
    "        return 'sheet'\n",
    "    else:\n",
    "        return 'disordered'"
   ]
  },
  {
   "cell_type": "code",
   "execution_count": 3,
   "metadata": {
    "collapsed": false
   },
   "outputs": [
    {
     "name": "stdout",
     "output_type": "stream",
     "text": [
      "\n",
      "Variables: \n",
      "\n",
      "- helices:\t\t\tlist of position in alpha-helices\n",
      "- sheets:\t\t\tlist of position in beta-sheets\n",
      "- disordered:\t\t\tall positions that are not in alpha-helices or beta-sheets\n",
      "\n",
      "- get_secondary_structure:\ta function that returns secondary structure of a position\n",
      "\n"
     ]
    }
   ],
   "source": [
    "print '''\n",
    "Variables: \n",
    "\n",
    "- helices:\\t\\t\\tlist of position in alpha-helices\n",
    "- sheets:\\t\\t\\tlist of position in beta-sheets\n",
    "- disordered:\\t\\t\\tall positions that are not in alpha-helices or beta-sheets\n",
    "\n",
    "- get_secondary_structure:\\ta function that returns secondary structure of a position\n",
    "'''"
   ]
  }
 ],
 "metadata": {
  "kernelspec": {
   "display_name": "Python 2",
   "language": "python",
   "name": "python2"
  },
  "language_info": {
   "codemirror_mode": {
    "name": "ipython",
    "version": 2
   },
   "file_extension": ".py",
   "mimetype": "text/x-python",
   "name": "python",
   "nbconvert_exporter": "python",
   "pygments_lexer": "ipython2",
   "version": "2.7.13"
  }
 },
 "nbformat": 4,
 "nbformat_minor": 0
}
