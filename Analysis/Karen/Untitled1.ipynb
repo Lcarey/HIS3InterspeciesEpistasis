{
 "cells": [
  {
   "cell_type": "code",
   "execution_count": 1,
   "metadata": {
    "collapsed": false
   },
   "outputs": [
    {
     "name": "stderr",
     "output_type": "stream",
     "text": [
      "/Users/karen/anaconda/lib/python2.7/site-packages/matplotlib/font_manager.py:273: UserWarning: Matplotlib is building the font cache using fc-list. This may take a moment.\n",
      "  warnings.warn('Matplotlib is building the font cache using fc-list. This may take a moment.')\n"
     ]
    }
   ],
   "source": [
    "import Bio.PDB\n",
    "import numpy as np\n",
    "import os\n",
    "from matplotlib import pyplot as plt\n",
    "% matplotlib inline"
   ]
  },
  {
   "cell_type": "code",
   "execution_count": null,
   "metadata": {
    "collapsed": true
   },
   "outputs": [],
   "source": [
    "ascii_letters = 'abcdefghijklmnopqrstuvwxyzABCDEFGHIJKLMNOPQRSTUVWXYZ'\n",
    "\n",
    "def get_atom_distance(atom1, atom2):\n",
    "    diff_vector  = atom1.coord - atom2.coord\n",
    "    return np.sqrt(np.sum(diff_vector * diff_vector))\n",
    "\n",
    "def calc_residue_dist(residue_one, residue_two, mode='min'):\n",
    "    assert mode in ['CA', 'min']\n",
    "    if mode == 'CA':\n",
    "        diff_vector  = residue_one[\"CA\"].coord - residue_two[\"CA\"].coord\n",
    "        return np.sqrt(np.sum(diff_vector * diff_vector))\n",
    "    if mode == 'min':\n",
    "        distances = []\n",
    "        for atom1 in residue_one.get_atom():\n",
    "            for atom2 in residue_two.get_atom():\n",
    "                distances.append(get_atom_distance(atom1, atom2))\n",
    "        return min(distances)\n",
    "\n",
    "def strip_non_aa_residues(residues):\n",
    "    for index, residue in enumerate(residues):\n",
    "        if residue.resname not in aa3:\n",
    "            break\n",
    "    residues = residues[:index]\n",
    "    return residues\n",
    "\n",
    "def dist_to_other_residues(residue, all_residues, distance_type='CA'):\n",
    "    distances = np.empty_like(all_residues)\n",
    "    for index, other_residue in enumerate(all_residues):\n",
    "        distances[index] = calc_residue_dist(residue, other_residue)\n",
    "    return distances\n",
    "\n",
    "def calc_dist_matrix(chain1, chain2, stripping=True):\n",
    "    \"\"\"Returns a matrix of C-alpha distances between two chains\"\"\"\n",
    "    chain1_residues = strip_non_aa_residues(list(chain1.get_residues()))\n",
    "    chain2_residues = strip_non_aa_residues(list(chain2.get_residues()))\n",
    "    answer = np.zeros((len(chain1_residues), len(chain2_residues)), np.float)\n",
    "    for row, residue_one in enumerate(chain1_residues):\n",
    "        for col, residue_two in enumerate(chain2_residues) :\n",
    "            answer[row, col] = calc_residue_dist(residue_one, residue_two)\n",
    "    return answer\n",
    "\n",
    "\n",
    "def get_minimal_distances_in_a_complex(chains):\n",
    "    distances = []\n",
    "    chains = [chain for chain in chains if chain.id in ascii_letters]\n",
    "    for chain1 in chains:\n",
    "        for chain2 in chains:\n",
    "            distances.append(calc_dist_matrix(chain1, chain2))\n",
    "    return np.amin(np.array(distances), axis=0)"
   ]
  },
  {
   "cell_type": "code",
   "execution_count": 2,
   "metadata": {
    "collapsed": true
   },
   "outputs": [],
   "source": [
    "files_dump_folder = '/Users/karen/HIS3InterspeciesEpistasis/Analysis/Karen/files_dump/'\n",
    "aa3 = \"ALA CYS ASP GLU PHE GLY HIS ILE LYS LEU MET ASN PRO GLN ARG SER THR VAL TRP TYR XXX\".split()"
   ]
  },
  {
   "cell_type": "code",
   "execution_count": 3,
   "metadata": {
    "collapsed": true
   },
   "outputs": [],
   "source": [
    "pdb_file = os.path.join(files_dump_folder, 'structure_predictions', 'HIS3_saccharomyces_cerevisiae__swissmodel_prediction.pdb')\n",
    "structure = Bio.PDB.PDBParser().get_structure('His3_itasser', pdb_file)\n",
    "model = structure[0]"
   ]
  },
  {
   "cell_type": "code",
   "execution_count": 6,
   "metadata": {
    "collapsed": true
   },
   "outputs": [],
   "source": [
    "ascii_letters_upper = 'ABCDEFGHIJKLMNOPQRSTUVWXYZ'"
   ]
  },
  {
   "cell_type": "code",
   "execution_count": null,
   "metadata": {
    "collapsed": true
   },
   "outputs": [],
   "source": [
    "# cd /Users/karen/HIS3InterspeciesEpistasis/Analysis/Karen/files_dump/structure_visualizations/\n",
    "# load 4lom_assembly.pdb\n",
    "\n",
    "for i in range(1,25):cmd.do(\"load HIS3_saccharomyces_cerevisiae__swissmodel_prediction__mono.pdb, swiss-%s\" %i)\n",
    "for i in range(1,25): cmd.do(\"align swiss-%s, 4lom_assembly, target_state=%s\"  %( i,i))\n",
    "    \n",
    "# renaming chains because currently there is only chainA \n",
    "for i in range(1,25): cmd.do(\"alter swiss-%s, chain='%s'\" %(i,ascii_letters_upper[i]))"
   ]
  },
  {
   "cell_type": "code",
   "execution_count": 5,
   "metadata": {
    "collapsed": false
   },
   "outputs": [
    {
     "name": "stdout",
     "output_type": "stream",
     "text": [
      " swiss-1 or swiss-2 or swiss-3 or swiss-4 or swiss-5 or swiss-6 or swiss-7 or swiss-8 or swiss-9 or swiss-10 or swiss-11 or swiss-12 or swiss-13 or swiss-14 or swiss-15 or swiss-16 or swiss-17 or swiss-18 or swiss-19 or swiss-20 or swiss-21 or swiss-22 or swiss-23 or swiss-24 \n"
     ]
    }
   ],
   "source": [
    "merger = 'or'.join([\" swiss-%s \" % i for i in range(1,25)])\n",
    "print merger"
   ]
  }
 ],
 "metadata": {
  "kernelspec": {
   "display_name": "Python 2",
   "language": "python",
   "name": "python2"
  },
  "language_info": {
   "codemirror_mode": {
    "name": "ipython",
    "version": 2
   },
   "file_extension": ".py",
   "mimetype": "text/x-python",
   "name": "python",
   "nbconvert_exporter": "python",
   "pygments_lexer": "ipython2",
   "version": "2.7.13"
  }
 },
 "nbformat": 4,
 "nbformat_minor": 0
}
