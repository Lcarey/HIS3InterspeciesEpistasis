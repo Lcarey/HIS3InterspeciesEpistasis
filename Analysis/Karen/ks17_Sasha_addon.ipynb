{
 "cells": [
  {
   "cell_type": "code",
   "execution_count": null,
   "metadata": {},
   "outputs": [],
   "source": [
    "%run 'pymol_and_pdb_functions.py'\n",
    "import itertools\n",
    "notebook_prefix = 'ks16'\n",
    "\n",
    "%run 'ks01_Functions_only.ipynb'"
   ]
  },
  {
   "cell_type": "code",
   "execution_count": null,
   "metadata": {},
   "outputs": [],
   "source": [
    "rosetta_folder = os.path.join(analysis_folder, 'Sasha', 'rosetta_runs', '')\n",
    "predicted_ddG = pd.read_table(rosetta_folder + 'run-170503-results.csv')\n",
    "predicted_ddG['mut_number'] = predicted_ddG['mut_list_Scer'].apply(lambda s: s.count(':')+1)\n",
    "WT_score = np.mean([-562.382, -562.380, -562.375])\n",
    "predicted_ddG['ddG'] = predicted_ddG.apply(lambda x: np.mean([x['ddg_score1'],x['ddg_score2'],x['ddg_score3']]) - WT_score,axis=1)\n",
    "\n",
    "potential_dict = {}\n",
    "for i in range(1,13):\n",
    "    potential_dict['S%s_scaled' %i] =  pd.read_csv('../Katya/NN/residuals/S%s.csv' %i)\n",
    "potential_with_segments_column = []\n",
    "for segment_,data_ in potential_dict.items():\n",
    "    print segment_\n",
    "    data_copy = data_.copy()\n",
    "    data_copy['segment'] = segment_\n",
    "    potential_with_segments_column.append(data_copy)\n",
    "potential_concat = pd.concat(potential_with_segments_column,axis=0)\n",
    "potential_and_ddG = pd.merge(predicted_ddG,potential_concat,on='aa_seq')"
   ]
  },
  {
   "cell_type": "code",
   "execution_count": null,
   "metadata": {
    "collapsed": true
   },
   "outputs": [],
   "source": [
    "from scipy.stats import gaussian_kde\n",
    "\n",
    "def density_scatter(x,y,ax,s=5):\n",
    "    xy = np.vstack([x,y])\n",
    "    z = gaussian_kde(xy)(xy)\n",
    "\n",
    "    # Sort the points by density, so that the densest points are plotted last\n",
    "    idx = z.argsort()\n",
    "    x, y, z = x[idx], y[idx], z[idx]\n",
    "\n",
    "    ax.scatter(x, y, c=z, s=s, edgecolor='')\n",
    "\n",
    "plt.close('all')\n",
    "# axes = plt.subplots(nrows=2,ncols=6)\n",
    "fig = plt.figure(figsize=(12,8))\n",
    "for i in range(1,13):\n",
    "\n",
    "    d = potential_and_ddG[potential_and_ddG['segment_x']=='S%s_scaled'%i]\n",
    "#     plt.scatter(potential_and_ddG['ddG'],potential_and_ddG['fitnessPotential'])\n",
    "    ax = fig.add_subplot(3,4,i)\n",
    "#     np.hist2d(d.ddG.values,d.fitnessPotential.values,bins=50,range=[[-10,45],[-30,16]]);\n",
    "    density_scatter(d.ddG.values,d.fitnessPotential.values,ax)\n",
    "    ax.set_xlim([-10,45])\n",
    "    ax.set_ylim([-30,16])\n",
    "    if i == 9:\n",
    "        plt.xlabel(\"ddG\",size=14)\n",
    "        plt.ylabel('fitnessPotential',size=14)\n",
    "#     if i in [1,2,3,4,5,6,7,8,]:\n",
    "#         ax.set_xticks([])\n",
    "#     if i in [2,3,4,6,7,8,10,11,12]:\n",
    "#         ax.set_yticks([])\n",
    "#     plt.text(13,-27,\"S%s\\nSC = %.2f\" % (i, stats.spearmanr(d.ddG.values,d.fitnessPotential.values).correlation),color='black',size=16 )\n",
    "    ax.set_title(\"Segment %s, corr = %.2f\" % (i, stats.spearmanr(d.ddG.values,d.fitnessPotential.values).correlation),size=8,fontweight='bold')\n",
    "plt.subplots_adjust(hspace =.3)\n",
    "plt.subplots_adjust(wspace =.3)"
   ]
  }
 ],
 "metadata": {
  "anaconda-cloud": {},
  "kernelspec": {
   "display_name": "Python [default]",
   "language": "python",
   "name": "python2"
  },
  "language_info": {
   "codemirror_mode": {
    "name": "ipython",
    "version": 2
   },
   "file_extension": ".py",
   "mimetype": "text/x-python",
   "name": "python",
   "nbconvert_exporter": "python",
   "pygments_lexer": "ipython2",
   "version": "2.7.13"
  }
 },
 "nbformat": 4,
 "nbformat_minor": 2
}
