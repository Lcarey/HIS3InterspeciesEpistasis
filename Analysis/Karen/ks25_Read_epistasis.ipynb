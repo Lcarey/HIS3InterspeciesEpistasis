{
 "cells": [
  {
   "cell_type": "code",
   "execution_count": 38,
   "metadata": {
    "collapsed": false
   },
   "outputs": [],
   "source": [
    "import itertools\n",
    "import sys\n",
    "print \"Running notebook 'ks01_Data_import.ipynb'...\\n\"\n",
    "%run 'ks01_Data_import.ipynb'\n",
    "notebook_prefix = 'ks25'\n",
    "image_counter = Counter()"
   ]
  },
  {
   "cell_type": "markdown",
   "metadata": {},
   "source": [
    "### Reading precalculated in ks08 epistatic interactions"
   ]
  },
  {
   "cell_type": "code",
   "execution_count": 39,
   "metadata": {
    "collapsed": true
   },
   "outputs": [],
   "source": [
    "folder_with_precalculated_epistasis = files_dump_folder + 'epistasis_in_foursomes/'\n",
    "natlib_filtering = True"
   ]
  },
  {
   "cell_type": "markdown",
   "metadata": {},
   "source": [
    "#### Reading files"
   ]
  },
  {
   "cell_type": "code",
   "execution_count": 40,
   "metadata": {
    "collapsed": false
   },
   "outputs": [
    {
     "name": "stdout",
     "output_type": "stream",
     "text": [
      "\n",
      "Reading precalculated epistasis...\n",
      "/Users/karen/HIS3InterspeciesEpistasis/Analysis/Karen/files_dump/epistasis_in_foursomes/\n",
      "\n",
      "\n"
     ]
    }
   ],
   "source": [
    "ep_dict = OrderedDict()\n",
    "print '\\nReading precalculated epistasis...\\n%s\\n' %folder_with_precalculated_epistasis\n",
    "for segment in data:\n",
    "    sys.stdout.flush()\n",
    "    directory =  os.path.join(folder_with_precalculated_epistasis, segment.split('_')[0], '')\n",
    "    list_of_files = [f for f in os.listdir(directory) if '.hdf' in f]\n",
    "    for f in list_of_files:\n",
    "        to_rstrip = '--epistasis_values.hdf'\n",
    "        mutA, mutB = f.rstrip(to_rstrip).split('_')[-3], f.rstrip(to_rstrip).split('_')[-1]\n",
    "        sorted_tuple = tuple(sorted([mutA, mutB], key=lambda m: m[:-1]))\n",
    "        if natlib_filtering:\n",
    "            if mutA in natural_unique_single_mutations['all_segments'] and mutB in natural_unique_single_mutations['all_segments']:\n",
    "                ep_dict[sorted_tuple] = pd.read_hdf(directory + f, 'data')\n",
    "        else:\n",
    "            ep_dict[sorted_tuple] = pd.read_hdf(directory + f, 'data')       \n",
    "print"
   ]
  },
  {
   "cell_type": "code",
   "execution_count": 3,
   "metadata": {
    "collapsed": false
   },
   "outputs": [],
   "source": [
    "def get_ep_summary(epistasis_dictionary, function):\n",
    "    floatprogress = FloatProgress(min=0, max=len(epistasis_dictionary))\n",
    "    display(floatprogress)\n",
    "    summary_dict = OrderedDict()\n",
    "    for k,v in epistasis_dictionary.items():\n",
    "        summary_dict[k] = function(v.dropna())\n",
    "        floatprogress.value += 1\n",
    "    return summary_dict\n",
    "\n",
    "def get_fraction_strong(ep_series, strong_epistasis_threshold=0.4, mode='abs'):\n",
    "    assert mode in ['abs', 'both_signs']\n",
    "    if mode == 'abs':\n",
    "        strong = ep_series[np.abs(ep_series) > strong_epistasis_threshold]\n",
    "        return 1. * len(strong) / len(ep_series)\n",
    "    else:\n",
    "        strong_negative = ep_series[ep_series < -1 * strong_epistasis_threshold]\n",
    "        strong_positive = ep_series[ep_series > strong_epistasis_threshold]\n",
    "        return 1. * len(strong_negative) / len(ep_series), 1. * len(strong_positive) / len(ep_series)"
   ]
  },
  {
   "cell_type": "code",
   "execution_count": 1,
   "metadata": {
    "collapsed": true
   },
   "outputs": [],
   "source": [
    "def get_ep_summary_by_positions(epistasis_dictionary, function_for_series_summary, averaging_function):\n",
    "    summary_dict = get_ep_summary(epistasis_dictionary, function_for_series_summary)\n",
    "    positions_summary_dict = defaultdict(list)\n",
    "    for mutA, mutB in summary_dict:\n",
    "        positionA, positionB = int(mutA[:-1]), int(mutB[:-1])\n",
    "        positions_summary_dict[frozenset((positionA, positionB))].append(summary_dict[mutA, mutB])\n",
    "    for k,v in positions_summary_dict.items():\n",
    "        positions_summary_dict[k] = averaging_function(v)\n",
    "    return positions_summary_dict"
   ]
  },
  {
   "cell_type": "code",
   "execution_count": 67,
   "metadata": {
    "collapsed": false
   },
   "outputs": [
    {
     "name": "stdout",
     "output_type": "stream",
     "text": [
      "\n",
      "Variables: \n",
      "\n",
      "- ep_dict: a dictionary, Keys are tuples (mutA, mutB) and values are pandas.Series of epistasis between mutA and mutB in all backgrounds. \n",
      "Tuples (mutA, mutB) are sorted by aa_position.\n",
      "\n",
      "- get_ep_summary: a function that takes ep_dict as an argument and applies an arbitrary function to every pd.Series object. For example, ep_summary = get_ep_summary(ep_dict, np.mean)\n",
      "\n",
      "- get_ep_summary_by_positions: a function that uses get_ep_summary and then averages results by position_pair. For example, get_ep_summary_by_positions(ep_dict, np.max, np.mean) will apply np.max to epistasis series and then use np.mean to average across a position pair. \n",
      "\n",
      "Important: natlib_filtering is currently True. This can be changed in the cell #2.\n",
      "\n"
     ]
    }
   ],
   "source": [
    "print '''\n",
    "Variables: \n",
    "\n",
    "- ep_dict: a dictionary, Keys are tuples (mutA, mutB) and values are pandas.Series of epistasis between mutA and mutB in all backgrounds. \n",
    "Tuples (mutA, mutB) are sorted by aa_position.\n",
    "\n",
    "- get_ep_summary: a function that takes ep_dict as an argument and applies an arbitrary function to every pd.Series object. For example, ep_summary = get_ep_summary(ep_dict, np.mean)\n",
    "\n",
    "- get_ep_summary_by_positions: a function that uses get_ep_summary and then averages results by position_pair. For example, get_ep_summary_by_positions(ep_dict, np.max, np.mean) will apply np.max to epistasis series and then use np.mean to average across a position pair. \n",
    "\n",
    "Important: natlib_filtering is currently %s. This can be changed in the cell #2.\n",
    "''' %natlib_filtering"
   ]
  }
 ],
 "metadata": {
  "kernelspec": {
   "display_name": "Python 2",
   "language": "python",
   "name": "python2"
  },
  "language_info": {
   "codemirror_mode": {
    "name": "ipython",
    "version": 2
   },
   "file_extension": ".py",
   "mimetype": "text/x-python",
   "name": "python",
   "nbconvert_exporter": "python",
   "pygments_lexer": "ipython2",
   "version": "2.7.13"
  }
 },
 "nbformat": 4,
 "nbformat_minor": 0
}
