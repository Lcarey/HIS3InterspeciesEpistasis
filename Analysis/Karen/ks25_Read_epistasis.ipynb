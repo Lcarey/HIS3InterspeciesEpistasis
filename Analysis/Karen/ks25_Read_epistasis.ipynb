{
 "cells": [
  {
   "cell_type": "code",
   "execution_count": 38,
   "metadata": {
    "collapsed": false
   },
   "outputs": [],
   "source": [
    "import itertools\n",
    "import sys\n",
    "%run 'ks01_Data_import.ipynb'\n",
    "notebook_prefix = 'ks25'\n",
    "image_counter = Counter()"
   ]
  },
  {
   "cell_type": "markdown",
   "metadata": {},
   "source": [
    "### Reading precalculated in ks08 epistatic interactions"
   ]
  },
  {
   "cell_type": "code",
   "execution_count": 39,
   "metadata": {
    "collapsed": true
   },
   "outputs": [],
   "source": [
    "folder_with_precalculated_epistasis = files_dump_folder + 'epistasis_in_foursomes/'\n",
    "natlib_filtering = True"
   ]
  },
  {
   "cell_type": "markdown",
   "metadata": {},
   "source": [
    "#### Reading files"
   ]
  },
  {
   "cell_type": "code",
   "execution_count": 40,
   "metadata": {
    "collapsed": false
   },
   "outputs": [
    {
     "name": "stdout",
     "output_type": "stream",
     "text": [
      "\n",
      "Reading precalculated epistasis...\n",
      "/Users/karen/HIS3InterspeciesEpistasis/Analysis/Karen/files_dump/epistasis_in_foursomes/\n",
      "\n",
      "\n"
     ]
    }
   ],
   "source": [
    "ep_dict = OrderedDict()\n",
    "print '\\nReading precalculated epistasis...\\n%s\\n' %folder_with_precalculated_epistasis\n",
    "for segment in data:\n",
    "    sys.stdout.flush()\n",
    "    directory =  os.path.join(folder_with_precalculated_epistasis, segment.split('_')[0], '')\n",
    "    list_of_files = [f for f in os.listdir(directory) if '.hdf' in f]\n",
    "    for f in list_of_files:\n",
    "        to_rstrip = '--epistasis_values.hdf'\n",
    "        mutA, mutB = f.rstrip(to_rstrip).split('_')[-3], f.rstrip(to_rstrip).split('_')[-1]\n",
    "        if natlib_filtering:\n",
    "            if mutA in natural_unique_single_mutations['all_segments'] and mutB in natural_unique_single_mutations['all_segments']:\n",
    "                ep_dict[mutA, mutB] = pd.read_hdf(directory + f, 'data')\n",
    "        else:\n",
    "            ep_dict[mutA, mutB] = pd.read_hdf(directory + f, 'data')       \n",
    "print"
   ]
  },
  {
   "cell_type": "code",
   "execution_count": 44,
   "metadata": {
    "collapsed": true
   },
   "outputs": [],
   "source": [
    "def get_ep_summary(epistasis_dictionary, function):\n",
    "    floatprogress = FloatProgress(min=0, max=len(epistasis_dictionary))\n",
    "    display(floatprogress)\n",
    "    summary_dict = OrderedDict()\n",
    "    for k,v in epistasis_dictionary:\n",
    "        summary_dict[k] = function(v)\n",
    "        floatprogress.value += 1\n",
    "    return summary_dict"
   ]
  },
  {
   "cell_type": "code",
   "execution_count": 46,
   "metadata": {
    "collapsed": false
   },
   "outputs": [
    {
     "name": "stdout",
     "output_type": "stream",
     "text": [
      "\n",
      "Variable \"ep_dict\" is a dictionary. \n",
      "Keys are tuples (mutA, mutB) and values are pandas.Series of epistasis between mutA and mutB in all backgrounds.\n",
      "\n",
      "Function get_ep_summary takes ep_dict as an argumant and applies an arbitrary function to every pd.Series object.\n",
      "For example, ep_summary = get_ep_summary(ep_dict, np.mean)\n",
      "\n",
      "natlib_filtering is currently True. This can be changed in the cell #2.\n",
      "\n"
     ]
    }
   ],
   "source": [
    "print '''\n",
    "Variable \"ep_dict\" is a dictionary. \n",
    "Keys are tuples (mutA, mutB) and values are pandas.Series of epistasis between mutA and mutB in all backgrounds.\n",
    "\n",
    "Function get_ep_summary takes ep_dict as an argumant and applies an arbitrary function to every pd.Series object.\n",
    "For example, ep_summary = get_ep_summary(ep_dict, np.mean)\n",
    "\n",
    "natlib_filtering is currently %s. This can be changed in the cell #2.\n",
    "''' %natlib_filtering"
   ]
  }
 ],
 "metadata": {
  "kernelspec": {
   "display_name": "Python 2",
   "language": "python",
   "name": "python2"
  },
  "language_info": {
   "codemirror_mode": {
    "name": "ipython",
    "version": 2
   },
   "file_extension": ".py",
   "mimetype": "text/x-python",
   "name": "python",
   "nbconvert_exporter": "python",
   "pygments_lexer": "ipython2",
   "version": "2.7.13"
  }
 },
 "nbformat": 4,
 "nbformat_minor": 0
}
