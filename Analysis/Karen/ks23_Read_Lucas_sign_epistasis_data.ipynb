{
 "cells": [
  {
   "cell_type": "code",
   "execution_count": 2,
   "metadata": {
    "collapsed": true
   },
   "outputs": [],
   "source": [
    "import pandas as pd\n",
    "import numpy as np\n",
    "import os"
   ]
  },
  {
   "cell_type": "code",
   "execution_count": 3,
   "metadata": {
    "collapsed": false
   },
   "outputs": [],
   "source": [
    "def find_folder_upstream(folder_name, max_iterations=50):\n",
    "    current_folder = os.getcwd()\n",
    "    counter = 0\n",
    "    while os.path.basename(current_folder) != folder_name and counter < max_iterations:\n",
    "        current_folder = os.path.dirname(current_folder)\n",
    "        counter += 1\n",
    "    if not counter < max_iterations:\n",
    "        return None\n",
    "    return current_folder\n",
    "\n",
    "root_folder_name = 'HIS3InterspeciesEpistasis'\n",
    "root_folder = find_folder_upstream(root_folder_name)\n",
    "if not root_folder:\n",
    "    print 'Did not find root folder for our github repository.\\nPlease run \"ks01\" notebook from a script inside the HIS3InterspeciesEpistasis folder!'\n",
    "\n",
    "data_folder = os.path.join(root_folder, 'Data', '')\n",
    "small_tables_folder = os.path.join(root_folder, 'Data_Small_Tables', '')\n",
    "analysis_folder = os.path.join(root_folder, 'Analysis', '')\n",
    "karen_folder = os.path.join(analysis_folder, 'Karen', '')\n",
    "figures_folder = os.path.join(karen_folder, 'figures', '')\n",
    "files_dump_folder = os.path.join(karen_folder, 'files_dump', '')\n",
    "structure_predictions_folder = os.path.join(files_dump_folder, 'structure_predictions', '')\n",
    "structure_visualizations_folder = os.path.join(files_dump_folder, 'structure_visualizations', '')\n",
    "pymol_sessions_folder = os.path.join(files_dump_folder, 'structure_visualizations/pymol_sessions/', '')"
   ]
  },
  {
   "cell_type": "code",
   "execution_count": 4,
   "metadata": {
    "collapsed": false
   },
   "outputs": [],
   "source": [
    "# Relative >>> absolute position\n",
    "position_translation = pd.read_table(files_dump_folder + 'position_translation.csv')\n",
    "position_translation.set_index('relative_position', inplace=True)\n",
    "\n",
    "def get_absolute_position(segment_number, relative_position):\n",
    "    return int(position_translation.iloc[relative_position]['S'+str(segment_number)])"
   ]
  },
  {
   "cell_type": "code",
   "execution_count": 6,
   "metadata": {
    "collapsed": false
   },
   "outputs": [
    {
     "name": "stdout",
     "output_type": "stream",
     "text": [
      "94 positions under sign epistasis\n",
      "59 positions under reciprocal sign epistasis\n"
     ]
    }
   ],
   "source": [
    "lucas_sign_epistasis = pd.read_csv(files_dump_folder + 'sign_epistasis/' + 'lucas_sign_epistasis.csv')\n",
    "lucas_reciprocal_sign_epistasis = pd.read_csv(files_dump_folder + 'sign_epistasis/' + 'lucas_reciprocal_sign_epistasis.csv')\n",
    "\n",
    "all_sampled_positions = set.union(set(lucas_sign_epistasis['VarPos_absolute'].values), \n",
    "                                                set(lucas_sign_epistasis['SubPos_absolute'].values))\n",
    "\n",
    "\n",
    "p_value_threshold = 0.01\n",
    "filtered = lucas_sign_epistasis[lucas_sign_epistasis['pBon'] < p_value_threshold]\n",
    "sign_epistasis_positions = set.union(set(filtered['VarPos_absolute'].values), \n",
    "                                                set(filtered['SubPos_absolute'].values))\n",
    "sign_epistasis_positions = sorted([int(s) for s in sign_epistasis_positions])\n",
    "print len(sign_epistasis_positions), 'positions under sign epistasis'\n",
    "\n",
    "reciprocal_sign_epistasis_positions = set.union(set(lucas_reciprocal_sign_epistasis['position1'].values), \n",
    "                                                set(lucas_reciprocal_sign_epistasis['position1'].values))\n",
    "reciprocal_sign_epistasis_positions = sorted([int(s) for s in reciprocal_sign_epistasis_positions])\n",
    "print len(reciprocal_sign_epistasis_positions), 'positions under reciprocal sign epistasis'"
   ]
  },
  {
   "cell_type": "code",
   "execution_count": 8,
   "metadata": {
    "collapsed": true
   },
   "outputs": [],
   "source": [
    "for position in reciprocal_sign_epistasis_positions:\n",
    "    if position not in sign_epistasis_positions:\n",
    "        print position"
   ]
  },
  {
   "cell_type": "code",
   "execution_count": null,
   "metadata": {
    "collapsed": true
   },
   "outputs": [],
   "source": [
    "sign_cols = ['VarPos_absolute', 'SubPos_absolute', 'pBon', 'logodds']"
   ]
  },
  {
   "cell_type": "code",
   "execution_count": 25,
   "metadata": {
    "collapsed": false
   },
   "outputs": [
    {
     "name": "stdout",
     "output_type": "stream",
     "text": [
      "Pandas DataFrames available:\n",
      "lucas_sign_epistasis, lucas_reciprocal_sign_epistasis\n",
      "\n",
      "pBon threshold = 0.01\n",
      "The following sets of positions are available:\n",
      "all_sampled_positions, sign_epistasis_positions, reciprocal_sign_epistasis_positions\n"
     ]
    }
   ],
   "source": [
    "print 'Pandas DataFrames available:'\n",
    "print 'lucas_sign_epistasis, lucas_reciprocal_sign_epistasis'\n",
    "print\n",
    "print 'pBon threshold = %s' %p_value_threshold\n",
    "print 'The following sets of positions are available:\\nall_sampled_positions, sign_epistasis_positions, reciprocal_sign_epistasis_positions'"
   ]
  }
 ],
 "metadata": {
  "kernelspec": {
   "display_name": "Python 2",
   "language": "python",
   "name": "python2"
  },
  "language_info": {
   "codemirror_mode": {
    "name": "ipython",
    "version": 2
   },
   "file_extension": ".py",
   "mimetype": "text/x-python",
   "name": "python",
   "nbconvert_exporter": "python",
   "pygments_lexer": "ipython2",
   "version": "2.7.13"
  }
 },
 "nbformat": 4,
 "nbformat_minor": 0
}
