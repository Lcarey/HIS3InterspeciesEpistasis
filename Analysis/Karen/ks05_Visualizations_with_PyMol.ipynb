{
 "cells": [
  {
   "cell_type": "code",
   "execution_count": 1,
   "metadata": {
    "collapsed": true
   },
   "outputs": [],
   "source": [
    "import pymol\n",
    "from pymol import cmd, stored\n",
    "import matplotlib\n",
    "from matplotlib import cm\n",
    "import sys"
   ]
  },
  {
   "cell_type": "code",
   "execution_count": 2,
   "metadata": {
    "collapsed": false
   },
   "outputs": [],
   "source": [
    "def open_or_fetch(PDB_ID_or_filename, object_name=None):\n",
    "    if len(PDB_ID_or_filename) in [4,5] and '.' not in PDB_ID_or_filename:\n",
    "        cmd.fetch(PDB_ID_or_filename, async=0)\n",
    "    else:\n",
    "        if not object_name:\n",
    "            object_name = PDB_ID_or_filename\n",
    "        cmd.load(PDB_ID_or_filename, object_name)\n",
    "        \n",
    "def save_session(filename_pse='test.pse', pymol_viewer_version='1.72'):\n",
    "    cmd.set('pse_export_version', pymol_viewer_version)\n",
    "    cmd.save(filename_pse)\n",
    "\n",
    "def white_and_beautiful(representation='cartoon'):\n",
    "    cmd.hide('lines', 'all')\n",
    "    cmd.show(representation, 'all')\n",
    "    cmd.select('waters', 'name o')\n",
    "    cmd.hide('everything', 'waters')\n",
    "    cmd.color('white', 'all')\n",
    "    cmd.set('bg_rgb', '(1,1,1)')\n",
    "    cmd.set('surface_quality', '1')\n",
    "    cmd.set('transparency', '0.5')\n",
    "    \n",
    "def prepare_GFP_2WUR():\n",
    "    cmd.fetch('2WUR', async=0)\n",
    "    white_and_beautiful()\n",
    "    cmd.select('waters', 'name o')\n",
    "    cmd.select('chr', 'resn GYS')\n",
    "    cmd.select('aa_64_68', 'resi 64+68')\n",
    "    cmd.select('aa_64_68_mainchain', 'aa_64_68 and name C+CO+CA+N')\n",
    "    cmd.hide('everything', 'waters')\n",
    "    cmd.show('sticks', 'chr')\n",
    "    cmd.color('green', 'chr')\n",
    "    cmd.show('sticks', 'aa_64_68_mainchain')\n",
    "    \n",
    "def color_positions(positions, values=None, representation='spheres', colormap=matplotlib.cm.cool, constant_color=120):\n",
    "    # only positive values\n",
    "    if type(constant_color) == int or type(constant_color) == float:\n",
    "        color = colormap(constant_color)\n",
    "    elif type(constant_color) == str:\n",
    "        color = mpl.colors.hex2color(constant_color)\n",
    "    elif type(constant_color) == tuple:\n",
    "        color = constant_color\n",
    "    else:\n",
    "        print 'Weird color!'\n",
    "\n",
    "    if str(values) != 'None':\n",
    "        values = 1. * np.array(values) / max(values)\n",
    "    for index, position in enumerate(positions):\n",
    "        if str(values) != 'None':\n",
    "            color=colormap(values[index])\n",
    "        colorName = \"color_\" + str(position)\n",
    "        selName = \"temp_selection\"\n",
    "        cmd.set_color(colorName, color[0:3])\n",
    "        cmd.select(selName, 'resi %s' %position)\n",
    "        cmd.show(representation, selName)\n",
    "        cmd.color(colorName, selName)\n",
    "        \n",
    "def get_residues_from_selection(selection_name, only_numbers=True):\n",
    "    stored.list=[]\n",
    "    if only_numbers:\n",
    "        cmd.iterate(\"(%s & n. ca)\" %selection_name, \"stored.list.append(resi)\")\n",
    "        return [int(resi) for resi in stored.list]\n",
    "    else:\n",
    "        cmd.iterate(\"(%s & n. ca)\" %selection_name, \"stored.list.append((resi, resn))\")\n",
    "        return [(int(resi), resn) for resi, resn in stored.list]\n",
    "    \n",
    "def save_session_properly(session_counter, title, folder, prefix):\n",
    "    session_name = '%s_pse%s_%s.pse' %(prefix, image_counter.get_number(), '_'.join(title.split()))\n",
    "    save_session(os.path.join(folder, session_name))"
   ]
  },
  {
   "cell_type": "markdown",
   "metadata": {},
   "source": [
    "### PyMol games"
   ]
  },
  {
   "cell_type": "code",
   "execution_count": 3,
   "metadata": {
    "collapsed": false
   },
   "outputs": [],
   "source": [
    "pymol.pymol_argv = ['pymol', '-qc'] # quiet / no GUI\n",
    "stdout = sys.stdout\n",
    "stderr = sys.stderr\n",
    "pymol.finish_launching(['pymol', '-xiq'])\n",
    "sys.stdout = stdout\n",
    "sys.stderr = stderr"
   ]
  },
  {
   "cell_type": "code",
   "execution_count": 4,
   "metadata": {
    "collapsed": false
   },
   "outputs": [
    {
     "name": "stderr",
     "output_type": "stream",
     "text": [
      "/Users/karen/anaconda/lib/python2.7/site-packages/matplotlib/font_manager.py:273: UserWarning: Matplotlib is building the font cache using fc-list. This may take a moment.\n",
      "  warnings.warn('Matplotlib is building the font cache using fc-list. This may take a moment.')\n"
     ]
    },
    {
     "data": {
      "image/png": "[encoded data removed]",
      "text/plain": [
       "<matplotlib.figure.Figure at 0x12555d650>"
      ]
     },
     "metadata": {},
     "output_type": "display_data"
    },
    {
     "name": "stdout",
     "output_type": "stream",
     "text": [
      "1891 unique mutations across all segments\n",
      "There are 231 single mutations with known effects. They are found in 120 positions\n"
     ]
    },
    {
     "name": "stderr",
     "output_type": "stream",
     "text": [
      "/Users/karen/anaconda/lib/python2.7/site-packages/ipykernel/__main__.py:2: SettingWithCopyWarning: \n",
      "A value is trying to be set on a copy of a slice from a DataFrame.\n",
      "Try using .loc[row_indexer,col_indexer] = value instead\n",
      "\n",
      "See the caveats in the documentation: http://pandas.pydata.org/pandas-docs/stable/indexing.html#indexing-view-versus-copy\n",
      "  from ipykernel import kernelapp as app\n"
     ]
    }
   ],
   "source": [
    "%run 'ks01_Data_import.ipynb'\n",
    "notebook_prefix = 'ks05'\n",
    "image_counter = Counter()\n",
    "session_counter = Counter()"
   ]
  },
  {
   "cell_type": "markdown",
   "metadata": {},
   "source": [
    "#### Creating .pse files with every segment's positions"
   ]
  },
  {
   "cell_type": "code",
   "execution_count": 5,
   "metadata": {
    "collapsed": false
   },
   "outputs": [],
   "source": [
    "pdb_file = 'files_dump/structure_predictions/HIS3_saccharomyces_cerevisiae__itasser_model1_prediction.pdb'\n",
    "pse_with_ligand = 'files_dump/structure_visualizations/HIS3_saccharomyces_cerevisiae__itasser_model1_prediction__aligned_with_4LOM_with_ligand_white_6A.pse'\n",
    "object_name='his3_prediction'"
   ]
  },
  {
   "cell_type": "code",
   "execution_count": 6,
   "metadata": {
    "collapsed": false
   },
   "outputs": [
    {
     "name": "stdout",
     "output_type": "stream",
     "text": [
      " Applying pse_export_version=1.720 compatibility\n",
      " Applying pse_export_version=1.720 compatibility\n",
      " Applying pse_export_version=1.720 compatibility\n",
      " Applying pse_export_version=1.720 compatibility\n",
      " Applying pse_export_version=1.720 compatibility\n",
      " Applying pse_export_version=1.720 compatibility\n",
      " Applying pse_export_version=1.720 compatibility\n",
      " Applying pse_export_version=1.720 compatibility\n",
      " Applying pse_export_version=1.720 compatibility\n",
      " Applying pse_export_version=1.720 compatibility\n",
      " Applying pse_export_version=1.720 compatibility\n",
      " Applying pse_export_version=1.720 compatibility\n"
     ]
    }
   ],
   "source": [
    "for segment_name in positions.segment.values:\n",
    "    title = 'Segment %s positions' %segment_name\n",
    "    position_list = positions[positions.segment == segment_name].positions_Uniprot_P06633.values[0]\n",
    "    cmd.reinitialize()\n",
    "    open_or_fetch(pdb_file, object_name=object_name)\n",
    "    white_and_beautiful()\n",
    "    color_positions(position_list, constant_color=segment_colors[segment_name])\n",
    "    save_session_properly(session_counter, title, pymol_sessions_folder, notebook_prefix)"
   ]
  },
  {
   "cell_type": "markdown",
   "metadata": {},
   "source": [
    "#### Coloring segments positions by fitness of single mutants"
   ]
  },
  {
   "cell_type": "code",
   "execution_count": 8,
   "metadata": {
    "collapsed": false,
    "scrolled": false
   },
   "outputs": [
    {
     "name": "stdout",
     "output_type": "stream",
     "text": [
      " Applying pse_export_version=1.720 compatibility\n",
      " Applying pse_export_version=1.720 compatibility\n",
      " Applying pse_export_version=1.720 compatibility\n",
      " Applying pse_export_version=1.720 compatibility\n",
      " Applying pse_export_version=1.720 compatibility\n",
      " Applying pse_export_version=1.720 compatibility\n",
      " Applying pse_export_version=1.720 compatibility\n",
      " Applying pse_export_version=1.720 compatibility\n",
      " Applying pse_export_version=1.720 compatibility\n",
      " Applying pse_export_version=1.720 compatibility\n",
      " Applying pse_export_version=1.720 compatibility\n",
      " Applying pse_export_version=1.720 compatibility\n"
     ]
    }
   ],
   "source": [
    "for segment_name in positions.segment.values:\n",
    "    title = 'Fitness of single mutants in segment %s' %segment_name\n",
    "    position_list = positions[positions.segment == segment_name].positions_Uniprot_P06633.values[0]\n",
    "    by_position = data_singles[segment_name + '_scaled'].groupby('position_Scer')['s'].agg(np.median)\n",
    "    cmd.reinitialize()\n",
    "    open_or_fetch(pdb_file, object_name=object_name)\n",
    "    white_and_beautiful()\n",
    "    color_positions(position_list, constant_color='#999999')\n",
    "    color_positions(by_position.index, values=by_position.values)\n",
    "    save_session_properly(session_counter, title, pymol_sessions_folder, notebook_prefix)"
   ]
  },
  {
   "cell_type": "markdown",
   "metadata": {},
   "source": [
    "#### Coloring all positions by fitness of single mutants"
   ]
  },
  {
   "cell_type": "code",
   "execution_count": 9,
   "metadata": {
    "collapsed": false,
    "scrolled": false
   },
   "outputs": [
    {
     "name": "stdout",
     "output_type": "stream",
     "text": [
      " Applying pse_export_version=1.720 compatibility\n"
     ]
    }
   ],
   "source": [
    "title = 'Fitness of single mutants across all segments'\n",
    "position_list = []\n",
    "by_position = pd.Series(dtype=np.float)\n",
    "for segment_name in positions.segment.values:\n",
    "    position_list.extend(list(positions[positions.segment == segment_name].positions_Uniprot_P06633.values[0]))\n",
    "    by_position_segment = data_singles[segment_name + '_scaled'].groupby('position_Scer')['s'].agg(np.median)\n",
    "    by_position = by_position.append(by_position_segment, verify_integrity=True)\n",
    "cmd.reinitialize()\n",
    "open_or_fetch(pse_with_ligand)\n",
    "# white_and_beautiful()\n",
    "color_positions(position_list, constant_color='#999999')\n",
    "color_positions(by_position.index, values=by_position.values)\n",
    "save_session_properly(session_counter, title, pymol_sessions_folder, notebook_prefix)"
   ]
  },
  {
   "cell_type": "markdown",
   "metadata": {},
   "source": [
    "#### Mutations in active site"
   ]
  },
  {
   "cell_type": "code",
   "execution_count": 10,
   "metadata": {
    "collapsed": false,
    "scrolled": true
   },
   "outputs": [
    {
     "name": "stdout",
     "output_type": "stream",
     "text": [
      " Applying pse_export_version=1.720 compatibility\n"
     ]
    }
   ],
   "source": [
    "title = 'Fitness of single mutants in active site'\n",
    "cmd.reinitialize()\n",
    "open_or_fetch(pse_with_ligand)\n",
    "active_site = get_residues_from_selection('res_around_ligand_6A & HIS3_saccharomyces_cerevisiae__itasser_model1_prediction')\n",
    "position_list = by_position.loc[active_site]\n",
    "color_positions(position_list.index, constant_color='#999999')\n",
    "color_positions(position_list[~np.isnan(position_list)].index, values=position_list[~np.isnan(position_list)].values)\n",
    "save_session_properly(session_counter, title, pymol_sessions_folder, notebook_prefix)"
   ]
  },
  {
   "cell_type": "code",
   "execution_count": 19,
   "metadata": {
    "collapsed": false
   },
   "outputs": [
    {
     "ename": "AttributeError",
     "evalue": "'list' object has no attribute 'items'",
     "output_type": "error",
     "traceback": [
      "\u001b[0;31m---------------------------------------------------------------------------\u001b[0m",
      "\u001b[0;31mAttributeError\u001b[0m                            Traceback (most recent call last)",
      "\u001b[0;32m<ipython-input-19-90f5dc11c59a>\u001b[0m in \u001b[0;36m<module>\u001b[0;34m()\u001b[0m\n\u001b[1;32m      1\u001b[0m \u001b[0mdoubles\u001b[0m \u001b[0;34m=\u001b[0m \u001b[0mOrderedDict\u001b[0m\u001b[0;34m(\u001b[0m\u001b[0;34m)\u001b[0m\u001b[0;34m\u001b[0m\u001b[0m\n\u001b[0;32m----> 2\u001b[0;31m \u001b[0;32mfor\u001b[0m \u001b[0msegment_name\u001b[0m\u001b[0;34m,\u001b[0m \u001b[0msegment_data\u001b[0m \u001b[0;32min\u001b[0m \u001b[0mknown_single_mutations\u001b[0m\u001b[0;34m.\u001b[0m\u001b[0mitems\u001b[0m\u001b[0;34m(\u001b[0m\u001b[0;34m)\u001b[0m\u001b[0;34m:\u001b[0m\u001b[0;34m\u001b[0m\u001b[0m\n\u001b[0m\u001b[1;32m      3\u001b[0m     \u001b[0mdoubles\u001b[0m\u001b[0;34m[\u001b[0m\u001b[0msegment_name\u001b[0m\u001b[0;34m]\u001b[0m \u001b[0;34m=\u001b[0m \u001b[0msegment_data\u001b[0m\u001b[0;34m[\u001b[0m\u001b[0msegment_data\u001b[0m\u001b[0;34m.\u001b[0m\u001b[0mmut_number\u001b[0m \u001b[0;34m==\u001b[0m \u001b[0;36m2\u001b[0m\u001b[0;34m]\u001b[0m\u001b[0;34m\u001b[0m\u001b[0m\n",
      "\u001b[0;31mAttributeError\u001b[0m: 'list' object has no attribute 'items'"
     ]
    }
   ],
   "source": [
    "doubles = OrderedDict()\n",
    "for segment_name, segment_data in known_single_mutations.items():\n",
    "    doubles[segment_name] = segment_data[segment_data.mut_number == 2]"
   ]
  },
  {
   "cell_type": "code",
   "execution_count": 18,
   "metadata": {
    "collapsed": false,
    "scrolled": false
   },
   "outputs": [
    {
     "data": {
      "text/html": [
       "<div>\n",
       "<table border=\"1\" class=\"dataframe\">\n",
       "  <thead>\n",
       "    <tr style=\"text-align: right;\">\n",
       "      <th></th>\n",
       "      <th>aa_seq</th>\n",
       "      <th>t0_fr</th>\n",
       "      <th>t1_fr</th>\n",
       "      <th>t2_fr</th>\n",
       "      <th>t0_fr_var</th>\n",
       "      <th>t1_fr_var</th>\n",
       "      <th>t2_fr_var</th>\n",
       "      <th>size</th>\n",
       "      <th>y0</th>\n",
       "      <th>s</th>\n",
       "      <th>...</th>\n",
       "      <th>dist_node_37</th>\n",
       "      <th>dist_node_38</th>\n",
       "      <th>dist_node_39</th>\n",
       "      <th>dist_node_40</th>\n",
       "      <th>dist_node_41</th>\n",
       "      <th>dist_min_sp</th>\n",
       "      <th>dist_min_all</th>\n",
       "      <th>mut_list_Scer</th>\n",
       "      <th>mut_number</th>\n",
       "      <th>epistasis</th>\n",
       "    </tr>\n",
       "  </thead>\n",
       "  <tbody>\n",
       "  </tbody>\n",
       "</table>\n",
       "<p>0 rows × 70 columns</p>\n",
       "</div>"
      ],
      "text/plain": [
       "Empty DataFrame\n",
       "Columns: [aa_seq, t0_fr, t1_fr, t2_fr, t0_fr_var, t1_fr_var, t2_fr_var, size, y0, s, y0_std, s_std, nonsense, s_original, s_std_original, len, nogap, stop, shift, middle, mut_list, nat, lib, nat_lib, dist_Agos, dist_Anid, dist_Calb, dist_Cgla, dist_Cgui, dist_Clus, dist_Cpar, dist_Ctro, dist_Dhan, dist_Klac, dist_Kwal, dist_Lelo, dist_Ncra, dist_Sbay, dist_Scas, dist_Scer, dist_Sjap, dist_Sklu, dist_Soct, dist_Spom, dist_Ylip, dist_node_22, dist_node_23, dist_node_24, dist_node_25, dist_node_26, dist_node_27, dist_node_28, dist_node_29, dist_node_30, dist_node_31, dist_node_32, dist_node_33, dist_node_34, dist_node_35, dist_node_36, dist_node_37, dist_node_38, dist_node_39, dist_node_40, dist_node_41, dist_min_sp, dist_min_all, mut_list_Scer, mut_number, epistasis]\n",
       "Index: []\n",
       "\n",
       "[0 rows x 70 columns]"
      ]
     },
     "metadata": {},
     "output_type": "display_data"
    },
    {
     "data": {
      "text/html": [
       "<div>\n",
       "<table border=\"1\" class=\"dataframe\">\n",
       "  <thead>\n",
       "    <tr style=\"text-align: right;\">\n",
       "      <th></th>\n",
       "      <th>aa_seq</th>\n",
       "      <th>t0_fr</th>\n",
       "      <th>t1_fr</th>\n",
       "      <th>t2_fr</th>\n",
       "      <th>t0_fr_var</th>\n",
       "      <th>t1_fr_var</th>\n",
       "      <th>t2_fr_var</th>\n",
       "      <th>size</th>\n",
       "      <th>y0</th>\n",
       "      <th>s</th>\n",
       "      <th>...</th>\n",
       "      <th>dist_node_37</th>\n",
       "      <th>dist_node_38</th>\n",
       "      <th>dist_node_39</th>\n",
       "      <th>dist_node_40</th>\n",
       "      <th>dist_node_41</th>\n",
       "      <th>dist_min_sp</th>\n",
       "      <th>dist_min_all</th>\n",
       "      <th>mut_list_Scer</th>\n",
       "      <th>mut_number</th>\n",
       "      <th>epistasis</th>\n",
       "    </tr>\n",
       "  </thead>\n",
       "  <tbody>\n",
       "  </tbody>\n",
       "</table>\n",
       "<p>0 rows × 70 columns</p>\n",
       "</div>"
      ],
      "text/plain": [
       "Empty DataFrame\n",
       "Columns: [aa_seq, t0_fr, t1_fr, t2_fr, t0_fr_var, t1_fr_var, t2_fr_var, size, y0, s, y0_std, s_std, nonsense, s_original, s_std_original, len, nogap, stop, shift, middle, mut_list, nat, lib, nat_lib, dist_Agos, dist_Anid, dist_Calb, dist_Cgla, dist_Cgui, dist_Clus, dist_Cpar, dist_Ctro, dist_Dhan, dist_Klac, dist_Kwal, dist_Lelo, dist_Ncra, dist_Sbay, dist_Scas, dist_Scer, dist_Sjap, dist_Sklu, dist_Soct, dist_Spom, dist_Ylip, dist_node_22, dist_node_23, dist_node_24, dist_node_25, dist_node_26, dist_node_27, dist_node_28, dist_node_29, dist_node_30, dist_node_31, dist_node_32, dist_node_33, dist_node_34, dist_node_35, dist_node_36, dist_node_37, dist_node_38, dist_node_39, dist_node_40, dist_node_41, dist_min_sp, dist_min_all, mut_list_Scer, mut_number, epistasis]\n",
       "Index: []\n",
       "\n",
       "[0 rows x 70 columns]"
      ]
     },
     "metadata": {},
     "output_type": "display_data"
    },
    {
     "data": {
      "text/html": [
       "<div>\n",
       "<table border=\"1\" class=\"dataframe\">\n",
       "  <thead>\n",
       "    <tr style=\"text-align: right;\">\n",
       "      <th></th>\n",
       "      <th>aa_seq</th>\n",
       "      <th>t0_fr</th>\n",
       "      <th>t1_fr</th>\n",
       "      <th>t2_fr</th>\n",
       "      <th>t0_fr_var</th>\n",
       "      <th>t1_fr_var</th>\n",
       "      <th>t2_fr_var</th>\n",
       "      <th>size</th>\n",
       "      <th>y0</th>\n",
       "      <th>s</th>\n",
       "      <th>...</th>\n",
       "      <th>dist_node_37</th>\n",
       "      <th>dist_node_38</th>\n",
       "      <th>dist_node_39</th>\n",
       "      <th>dist_node_40</th>\n",
       "      <th>dist_node_41</th>\n",
       "      <th>dist_min_sp</th>\n",
       "      <th>dist_min_all</th>\n",
       "      <th>mut_list_Scer</th>\n",
       "      <th>mut_number</th>\n",
       "      <th>epistasis</th>\n",
       "    </tr>\n",
       "  </thead>\n",
       "  <tbody>\n",
       "  </tbody>\n",
       "</table>\n",
       "<p>0 rows × 70 columns</p>\n",
       "</div>"
      ],
      "text/plain": [
       "Empty DataFrame\n",
       "Columns: [aa_seq, t0_fr, t1_fr, t2_fr, t0_fr_var, t1_fr_var, t2_fr_var, size, y0, s, y0_std, s_std, nonsense, s_original, s_std_original, len, nogap, stop, shift, middle, mut_list, nat, lib, nat_lib, dist_Agos, dist_Anid, dist_Calb, dist_Cgla, dist_Cgui, dist_Clus, dist_Cpar, dist_Ctro, dist_Dhan, dist_Klac, dist_Kwal, dist_Lelo, dist_Ncra, dist_Sbay, dist_Scas, dist_Scer, dist_Sjap, dist_Sklu, dist_Soct, dist_Spom, dist_Ylip, dist_node_22, dist_node_23, dist_node_24, dist_node_25, dist_node_26, dist_node_27, dist_node_28, dist_node_29, dist_node_30, dist_node_31, dist_node_32, dist_node_33, dist_node_34, dist_node_35, dist_node_36, dist_node_37, dist_node_38, dist_node_39, dist_node_40, dist_node_41, dist_min_sp, dist_min_all, mut_list_Scer, mut_number, epistasis]\n",
       "Index: []\n",
       "\n",
       "[0 rows x 70 columns]"
      ]
     },
     "metadata": {},
     "output_type": "display_data"
    },
    {
     "data": {
      "text/html": [
       "<div>\n",
       "<table border=\"1\" class=\"dataframe\">\n",
       "  <thead>\n",
       "    <tr style=\"text-align: right;\">\n",
       "      <th></th>\n",
       "      <th>aa_seq</th>\n",
       "      <th>t0_fr</th>\n",
       "      <th>t1_fr</th>\n",
       "      <th>t2_fr</th>\n",
       "      <th>t0_fr_var</th>\n",
       "      <th>t1_fr_var</th>\n",
       "      <th>t2_fr_var</th>\n",
       "      <th>size</th>\n",
       "      <th>y0</th>\n",
       "      <th>s</th>\n",
       "      <th>...</th>\n",
       "      <th>dist_node_37</th>\n",
       "      <th>dist_node_38</th>\n",
       "      <th>dist_node_39</th>\n",
       "      <th>dist_node_40</th>\n",
       "      <th>dist_node_41</th>\n",
       "      <th>dist_min_sp</th>\n",
       "      <th>dist_min_all</th>\n",
       "      <th>mut_list_Scer</th>\n",
       "      <th>mut_number</th>\n",
       "      <th>epistasis</th>\n",
       "    </tr>\n",
       "  </thead>\n",
       "  <tbody>\n",
       "  </tbody>\n",
       "</table>\n",
       "<p>0 rows × 70 columns</p>\n",
       "</div>"
      ],
      "text/plain": [
       "Empty DataFrame\n",
       "Columns: [aa_seq, t0_fr, t1_fr, t2_fr, t0_fr_var, t1_fr_var, t2_fr_var, size, y0, s, y0_std, s_std, nonsense, s_original, s_std_original, len, nogap, stop, shift, middle, mut_list, nat, lib, nat_lib, dist_Agos, dist_Anid, dist_Calb, dist_Cgla, dist_Cgui, dist_Clus, dist_Cpar, dist_Ctro, dist_Dhan, dist_Klac, dist_Kwal, dist_Lelo, dist_Ncra, dist_Sbay, dist_Scas, dist_Scer, dist_Sjap, dist_Sklu, dist_Soct, dist_Spom, dist_Ylip, dist_node_22, dist_node_23, dist_node_24, dist_node_25, dist_node_26, dist_node_27, dist_node_28, dist_node_29, dist_node_30, dist_node_31, dist_node_32, dist_node_33, dist_node_34, dist_node_35, dist_node_36, dist_node_37, dist_node_38, dist_node_39, dist_node_40, dist_node_41, dist_min_sp, dist_min_all, mut_list_Scer, mut_number, epistasis]\n",
       "Index: []\n",
       "\n",
       "[0 rows x 70 columns]"
      ]
     },
     "metadata": {},
     "output_type": "display_data"
    },
    {
     "data": {
      "text/html": [
       "<div>\n",
       "<table border=\"1\" class=\"dataframe\">\n",
       "  <thead>\n",
       "    <tr style=\"text-align: right;\">\n",
       "      <th></th>\n",
       "      <th>aa_seq</th>\n",
       "      <th>t0_fr</th>\n",
       "      <th>t1_fr</th>\n",
       "      <th>t2_fr</th>\n",
       "      <th>t0_fr_var</th>\n",
       "      <th>t1_fr_var</th>\n",
       "      <th>t2_fr_var</th>\n",
       "      <th>size</th>\n",
       "      <th>y0</th>\n",
       "      <th>s</th>\n",
       "      <th>...</th>\n",
       "      <th>dist_node_37</th>\n",
       "      <th>dist_node_38</th>\n",
       "      <th>dist_node_39</th>\n",
       "      <th>dist_node_40</th>\n",
       "      <th>dist_node_41</th>\n",
       "      <th>dist_min_sp</th>\n",
       "      <th>dist_min_all</th>\n",
       "      <th>mut_list_Scer</th>\n",
       "      <th>mut_number</th>\n",
       "      <th>epistasis</th>\n",
       "    </tr>\n",
       "  </thead>\n",
       "  <tbody>\n",
       "  </tbody>\n",
       "</table>\n",
       "<p>0 rows × 70 columns</p>\n",
       "</div>"
      ],
      "text/plain": [
       "Empty DataFrame\n",
       "Columns: [aa_seq, t0_fr, t1_fr, t2_fr, t0_fr_var, t1_fr_var, t2_fr_var, size, y0, s, y0_std, s_std, nonsense, s_original, s_std_original, len, nogap, stop, shift, middle, mut_list, nat, lib, nat_lib, dist_Agos, dist_Anid, dist_Calb, dist_Cgla, dist_Cgui, dist_Clus, dist_Cpar, dist_Ctro, dist_Dhan, dist_Klac, dist_Kwal, dist_Lelo, dist_Ncra, dist_Sbay, dist_Scas, dist_Scer, dist_Sjap, dist_Sklu, dist_Soct, dist_Spom, dist_Ylip, dist_node_22, dist_node_23, dist_node_24, dist_node_25, dist_node_26, dist_node_27, dist_node_28, dist_node_29, dist_node_30, dist_node_31, dist_node_32, dist_node_33, dist_node_34, dist_node_35, dist_node_36, dist_node_37, dist_node_38, dist_node_39, dist_node_40, dist_node_41, dist_min_sp, dist_min_all, mut_list_Scer, mut_number, epistasis]\n",
       "Index: []\n",
       "\n",
       "[0 rows x 70 columns]"
      ]
     },
     "metadata": {},
     "output_type": "display_data"
    },
    {
     "data": {
      "text/html": [
       "<div>\n",
       "<table border=\"1\" class=\"dataframe\">\n",
       "  <thead>\n",
       "    <tr style=\"text-align: right;\">\n",
       "      <th></th>\n",
       "      <th>aa_seq</th>\n",
       "      <th>t0_fr</th>\n",
       "      <th>t1_fr</th>\n",
       "      <th>t2_fr</th>\n",
       "      <th>t0_fr_var</th>\n",
       "      <th>t1_fr_var</th>\n",
       "      <th>t2_fr_var</th>\n",
       "      <th>size</th>\n",
       "      <th>y0</th>\n",
       "      <th>s</th>\n",
       "      <th>...</th>\n",
       "      <th>dist_node_37</th>\n",
       "      <th>dist_node_38</th>\n",
       "      <th>dist_node_39</th>\n",
       "      <th>dist_node_40</th>\n",
       "      <th>dist_node_41</th>\n",
       "      <th>dist_min_sp</th>\n",
       "      <th>dist_min_all</th>\n",
       "      <th>mut_list_Scer</th>\n",
       "      <th>mut_number</th>\n",
       "      <th>epistasis</th>\n",
       "    </tr>\n",
       "  </thead>\n",
       "  <tbody>\n",
       "  </tbody>\n",
       "</table>\n",
       "<p>0 rows × 70 columns</p>\n",
       "</div>"
      ],
      "text/plain": [
       "Empty DataFrame\n",
       "Columns: [aa_seq, t0_fr, t1_fr, t2_fr, t0_fr_var, t1_fr_var, t2_fr_var, size, y0, s, y0_std, s_std, nonsense, s_original, s_std_original, len, nogap, stop, shift, middle, mut_list, nat, lib, nat_lib, dist_Agos, dist_Anid, dist_Calb, dist_Cgla, dist_Cgui, dist_Clus, dist_Cpar, dist_Ctro, dist_Dhan, dist_Klac, dist_Kwal, dist_Lelo, dist_Ncra, dist_Sbay, dist_Scas, dist_Scer, dist_Sjap, dist_Sklu, dist_Soct, dist_Spom, dist_Ylip, dist_node_22, dist_node_23, dist_node_24, dist_node_25, dist_node_26, dist_node_27, dist_node_28, dist_node_29, dist_node_30, dist_node_31, dist_node_32, dist_node_33, dist_node_34, dist_node_35, dist_node_36, dist_node_37, dist_node_38, dist_node_39, dist_node_40, dist_node_41, dist_min_sp, dist_min_all, mut_list_Scer, mut_number, epistasis]\n",
       "Index: []\n",
       "\n",
       "[0 rows x 70 columns]"
      ]
     },
     "metadata": {},
     "output_type": "display_data"
    },
    {
     "data": {
      "text/html": [
       "<div>\n",
       "<table border=\"1\" class=\"dataframe\">\n",
       "  <thead>\n",
       "    <tr style=\"text-align: right;\">\n",
       "      <th></th>\n",
       "      <th>aa_seq</th>\n",
       "      <th>t0_fr</th>\n",
       "      <th>t1_fr</th>\n",
       "      <th>t2_fr</th>\n",
       "      <th>t0_fr_var</th>\n",
       "      <th>t1_fr_var</th>\n",
       "      <th>t2_fr_var</th>\n",
       "      <th>size</th>\n",
       "      <th>y0</th>\n",
       "      <th>s</th>\n",
       "      <th>...</th>\n",
       "      <th>dist_node_37</th>\n",
       "      <th>dist_node_38</th>\n",
       "      <th>dist_node_39</th>\n",
       "      <th>dist_node_40</th>\n",
       "      <th>dist_node_41</th>\n",
       "      <th>dist_min_sp</th>\n",
       "      <th>dist_min_all</th>\n",
       "      <th>mut_list_Scer</th>\n",
       "      <th>mut_number</th>\n",
       "      <th>epistasis</th>\n",
       "    </tr>\n",
       "  </thead>\n",
       "  <tbody>\n",
       "  </tbody>\n",
       "</table>\n",
       "<p>0 rows × 70 columns</p>\n",
       "</div>"
      ],
      "text/plain": [
       "Empty DataFrame\n",
       "Columns: [aa_seq, t0_fr, t1_fr, t2_fr, t0_fr_var, t1_fr_var, t2_fr_var, size, y0, s, y0_std, s_std, nonsense, s_original, s_std_original, len, nogap, stop, shift, middle, mut_list, nat, lib, nat_lib, dist_Agos, dist_Anid, dist_Calb, dist_Cgla, dist_Cgui, dist_Clus, dist_Cpar, dist_Ctro, dist_Dhan, dist_Klac, dist_Kwal, dist_Lelo, dist_Ncra, dist_Sbay, dist_Scas, dist_Scer, dist_Sjap, dist_Sklu, dist_Soct, dist_Spom, dist_Ylip, dist_node_22, dist_node_23, dist_node_24, dist_node_25, dist_node_26, dist_node_27, dist_node_28, dist_node_29, dist_node_30, dist_node_31, dist_node_32, dist_node_33, dist_node_34, dist_node_35, dist_node_36, dist_node_37, dist_node_38, dist_node_39, dist_node_40, dist_node_41, dist_min_sp, dist_min_all, mut_list_Scer, mut_number, epistasis]\n",
       "Index: []\n",
       "\n",
       "[0 rows x 70 columns]"
      ]
     },
     "metadata": {},
     "output_type": "display_data"
    },
    {
     "data": {
      "text/html": [
       "<div>\n",
       "<table border=\"1\" class=\"dataframe\">\n",
       "  <thead>\n",
       "    <tr style=\"text-align: right;\">\n",
       "      <th></th>\n",
       "      <th>aa_seq</th>\n",
       "      <th>t0_fr</th>\n",
       "      <th>t1_fr</th>\n",
       "      <th>t2_fr</th>\n",
       "      <th>t0_fr_var</th>\n",
       "      <th>t1_fr_var</th>\n",
       "      <th>t2_fr_var</th>\n",
       "      <th>size</th>\n",
       "      <th>y0</th>\n",
       "      <th>s</th>\n",
       "      <th>...</th>\n",
       "      <th>dist_node_37</th>\n",
       "      <th>dist_node_38</th>\n",
       "      <th>dist_node_39</th>\n",
       "      <th>dist_node_40</th>\n",
       "      <th>dist_node_41</th>\n",
       "      <th>dist_min_sp</th>\n",
       "      <th>dist_min_all</th>\n",
       "      <th>mut_list_Scer</th>\n",
       "      <th>mut_number</th>\n",
       "      <th>epistasis</th>\n",
       "    </tr>\n",
       "  </thead>\n",
       "  <tbody>\n",
       "  </tbody>\n",
       "</table>\n",
       "<p>0 rows × 70 columns</p>\n",
       "</div>"
      ],
      "text/plain": [
       "Empty DataFrame\n",
       "Columns: [aa_seq, t0_fr, t1_fr, t2_fr, t0_fr_var, t1_fr_var, t2_fr_var, size, y0, s, y0_std, s_std, nonsense, s_original, s_std_original, len, nogap, stop, shift, middle, mut_list, nat, lib, nat_lib, dist_Agos, dist_Anid, dist_Calb, dist_Cgla, dist_Cgui, dist_Clus, dist_Cpar, dist_Ctro, dist_Dhan, dist_Klac, dist_Kwal, dist_Lelo, dist_Ncra, dist_Sbay, dist_Scas, dist_Scer, dist_Sjap, dist_Sklu, dist_Soct, dist_Spom, dist_Ylip, dist_node_22, dist_node_23, dist_node_24, dist_node_25, dist_node_26, dist_node_27, dist_node_28, dist_node_29, dist_node_30, dist_node_31, dist_node_32, dist_node_33, dist_node_34, dist_node_35, dist_node_36, dist_node_37, dist_node_38, dist_node_39, dist_node_40, dist_node_41, dist_min_sp, dist_min_all, mut_list_Scer, mut_number, epistasis]\n",
       "Index: []\n",
       "\n",
       "[0 rows x 70 columns]"
      ]
     },
     "metadata": {},
     "output_type": "display_data"
    },
    {
     "data": {
      "text/html": [
       "<div>\n",
       "<table border=\"1\" class=\"dataframe\">\n",
       "  <thead>\n",
       "    <tr style=\"text-align: right;\">\n",
       "      <th></th>\n",
       "      <th>aa_seq</th>\n",
       "      <th>t0_fr</th>\n",
       "      <th>t1_fr</th>\n",
       "      <th>t2_fr</th>\n",
       "      <th>t0_fr_var</th>\n",
       "      <th>t1_fr_var</th>\n",
       "      <th>t2_fr_var</th>\n",
       "      <th>size</th>\n",
       "      <th>y0</th>\n",
       "      <th>s</th>\n",
       "      <th>...</th>\n",
       "      <th>dist_node_37</th>\n",
       "      <th>dist_node_38</th>\n",
       "      <th>dist_node_39</th>\n",
       "      <th>dist_node_40</th>\n",
       "      <th>dist_node_41</th>\n",
       "      <th>dist_min_sp</th>\n",
       "      <th>dist_min_all</th>\n",
       "      <th>mut_list_Scer</th>\n",
       "      <th>mut_number</th>\n",
       "      <th>epistasis</th>\n",
       "    </tr>\n",
       "  </thead>\n",
       "  <tbody>\n",
       "  </tbody>\n",
       "</table>\n",
       "<p>0 rows × 70 columns</p>\n",
       "</div>"
      ],
      "text/plain": [
       "Empty DataFrame\n",
       "Columns: [aa_seq, t0_fr, t1_fr, t2_fr, t0_fr_var, t1_fr_var, t2_fr_var, size, y0, s, y0_std, s_std, nonsense, s_original, s_std_original, len, nogap, stop, shift, middle, mut_list, nat, lib, nat_lib, dist_Agos, dist_Anid, dist_Calb, dist_Cgla, dist_Cgui, dist_Clus, dist_Cpar, dist_Ctro, dist_Dhan, dist_Klac, dist_Kwal, dist_Lelo, dist_Ncra, dist_Sbay, dist_Scas, dist_Scer, dist_Sjap, dist_Sklu, dist_Soct, dist_Spom, dist_Ylip, dist_node_22, dist_node_23, dist_node_24, dist_node_25, dist_node_26, dist_node_27, dist_node_28, dist_node_29, dist_node_30, dist_node_31, dist_node_32, dist_node_33, dist_node_34, dist_node_35, dist_node_36, dist_node_37, dist_node_38, dist_node_39, dist_node_40, dist_node_41, dist_min_sp, dist_min_all, mut_list_Scer, mut_number, epistasis]\n",
       "Index: []\n",
       "\n",
       "[0 rows x 70 columns]"
      ]
     },
     "metadata": {},
     "output_type": "display_data"
    },
    {
     "data": {
      "text/html": [
       "<div>\n",
       "<table border=\"1\" class=\"dataframe\">\n",
       "  <thead>\n",
       "    <tr style=\"text-align: right;\">\n",
       "      <th></th>\n",
       "      <th>aa_seq</th>\n",
       "      <th>t0_fr</th>\n",
       "      <th>t1_fr</th>\n",
       "      <th>t2_fr</th>\n",
       "      <th>t0_fr_var</th>\n",
       "      <th>t1_fr_var</th>\n",
       "      <th>t2_fr_var</th>\n",
       "      <th>size</th>\n",
       "      <th>y0</th>\n",
       "      <th>s</th>\n",
       "      <th>...</th>\n",
       "      <th>dist_node_37</th>\n",
       "      <th>dist_node_38</th>\n",
       "      <th>dist_node_39</th>\n",
       "      <th>dist_node_40</th>\n",
       "      <th>dist_node_41</th>\n",
       "      <th>dist_min_sp</th>\n",
       "      <th>dist_min_all</th>\n",
       "      <th>mut_list_Scer</th>\n",
       "      <th>mut_number</th>\n",
       "      <th>epistasis</th>\n",
       "    </tr>\n",
       "  </thead>\n",
       "  <tbody>\n",
       "  </tbody>\n",
       "</table>\n",
       "<p>0 rows × 70 columns</p>\n",
       "</div>"
      ],
      "text/plain": [
       "Empty DataFrame\n",
       "Columns: [aa_seq, t0_fr, t1_fr, t2_fr, t0_fr_var, t1_fr_var, t2_fr_var, size, y0, s, y0_std, s_std, nonsense, s_original, s_std_original, len, nogap, stop, shift, middle, mut_list, nat, lib, nat_lib, dist_Agos, dist_Anid, dist_Calb, dist_Cgla, dist_Cgui, dist_Clus, dist_Cpar, dist_Ctro, dist_Dhan, dist_Klac, dist_Kwal, dist_Lelo, dist_Ncra, dist_Sbay, dist_Scas, dist_Scer, dist_Sjap, dist_Sklu, dist_Soct, dist_Spom, dist_Ylip, dist_node_22, dist_node_23, dist_node_24, dist_node_25, dist_node_26, dist_node_27, dist_node_28, dist_node_29, dist_node_30, dist_node_31, dist_node_32, dist_node_33, dist_node_34, dist_node_35, dist_node_36, dist_node_37, dist_node_38, dist_node_39, dist_node_40, dist_node_41, dist_min_sp, dist_min_all, mut_list_Scer, mut_number, epistasis]\n",
       "Index: []\n",
       "\n",
       "[0 rows x 70 columns]"
      ]
     },
     "metadata": {},
     "output_type": "display_data"
    },
    {
     "data": {
      "image/png": "[encoded data removed]",
      "text/plain": [
       "<matplotlib.figure.Figure at 0x1530a9990>"
      ]
     },
     "metadata": {},
     "output_type": "display_data"
    },
    {
     "data": {
      "image/png": "[encoded data removed]",
      "text/plain": [
       "<matplotlib.figure.Figure at 0x14c12add0>"
      ]
     },
     "metadata": {},
     "output_type": "display_data"
    },
    {
     "data": {
      "image/png": "[encoded data removed]",
      "text/plain": [
       "<matplotlib.figure.Figure at 0x14c12ad50>"
      ]
     },
     "metadata": {},
     "output_type": "display_data"
    },
    {
     "data": {
      "image/png": "[encoded data removed]",
      "text/plain": [
       "<matplotlib.figure.Figure at 0x1677fd350>"
      ]
     },
     "metadata": {},
     "output_type": "display_data"
    },
    {
     "data": {
      "image/png": "[encoded data removed]",
      "text/plain": [
       "<matplotlib.figure.Figure at 0x15a07bc10>"
      ]
     },
     "metadata": {},
     "output_type": "display_data"
    },
    {
     "data": {
      "image/png": "[encoded data removed]",
      "text/plain": [
       "<matplotlib.figure.Figure at 0x15a07b750>"
      ]
     },
     "metadata": {},
     "output_type": "display_data"
    },
    {
     "data": {
      "image/png": "[encoded data removed]",
      "text/plain": [
       "<matplotlib.figure.Figure at 0x159445910>"
      ]
     },
     "metadata": {},
     "output_type": "display_data"
    },
    {
     "data": {
      "image/png": "[encoded data removed]",
      "text/plain": [
       "<matplotlib.figure.Figure at 0x15a0d7190>"
      ]
     },
     "metadata": {},
     "output_type": "display_data"
    },
    {
     "data": {
      "image/png": "[encoded data removed]",
      "text/plain": [
       "<matplotlib.figure.Figure at 0x173959dd0>"
      ]
     },
     "metadata": {},
     "output_type": "display_data"
    },
    {
     "data": {
      "image/png": "[encoded data removed]",
      "text/plain": [
       "<matplotlib.figure.Figure at 0x173959d90>"
      ]
     },
     "metadata": {},
     "output_type": "display_data"
    }
   ],
   "source": [
    "for segment_name, segment_data in known_single_mutations.items():\n",
    "    doubles[segment_name] = segment_data[segment_data.mut_number == 2]\n",
    "for m in single_mut_fitness_dict.keys()[:10]:\n",
    "    all_doubles = segment_data[segment_data.mut_number == 2]\n",
    "    doubles_with_mutation = all_doubles[all_doubles.mut_list_Scer.str.contains(m)]\n",
    "    display(doubles_with_mutation)\n",
    "    plot_better()\n",
    "    plt.hist(doubles_with_mutation['s'].values)\n",
    "    plt.axvline(single_mut_fitness_dict[m])"
   ]
  },
  {
   "cell_type": "code",
   "execution_count": null,
   "metadata": {
    "collapsed": true
   },
   "outputs": [],
   "source": []
  }
 ],
 "metadata": {
  "kernelspec": {
   "display_name": "Python 2",
   "language": "python",
   "name": "python2"
  },
  "language_info": {
   "codemirror_mode": {
    "name": "ipython",
    "version": 2
   },
   "file_extension": ".py",
   "mimetype": "text/x-python",
   "name": "python",
   "nbconvert_exporter": "python",
   "pygments_lexer": "ipython2",
   "version": "2.7.13"
  }
 },
 "nbformat": 4,
 "nbformat_minor": 0
}
