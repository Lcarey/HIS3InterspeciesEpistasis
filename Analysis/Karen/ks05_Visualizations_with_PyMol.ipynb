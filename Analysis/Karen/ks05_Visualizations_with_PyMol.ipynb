{
 "cells": [
  {
   "cell_type": "code",
   "execution_count": 1,
   "metadata": {
    "collapsed": true
   },
   "outputs": [],
   "source": [
    "import pymol\n",
    "from pymol import cmd, stored\n",
    "import matplotlib\n",
    "from matplotlib import cm\n",
    "import sys\n",
    "from collections import defaultdict"
   ]
  },
  {
   "cell_type": "code",
   "execution_count": 36,
   "metadata": {
    "collapsed": false
   },
   "outputs": [],
   "source": [
    "def open_or_fetch(PDB_ID_or_filename, object_name=None):\n",
    "    if len(PDB_ID_or_filename) in [4,5] and '.' not in PDB_ID_or_filename:\n",
    "        cmd.fetch(PDB_ID_or_filename, async=0)\n",
    "    else:\n",
    "        if not object_name:\n",
    "            object_name = PDB_ID_or_filename\n",
    "        cmd.load(PDB_ID_or_filename, object_name)\n",
    "        \n",
    "def save_session(filename_pse='test.pse', pymol_viewer_version='1.72'):\n",
    "    cmd.set('pse_export_version', pymol_viewer_version)\n",
    "    cmd.save(filename_pse)\n",
    "\n",
    "def white_and_beautiful(representation='cartoon'):\n",
    "    cmd.hide('lines', 'all')\n",
    "    cmd.show(representation, 'all')\n",
    "    cmd.select('waters', 'name o')\n",
    "    cmd.hide('everything', 'waters')\n",
    "    cmd.color('gray90', 'all')\n",
    "    cmd.set('bg_rgb', '(1,1,1)')\n",
    "    cmd.set('surface_quality', '1')\n",
    "    cmd.set('transparency', '0.5')\n",
    "    cmd.set('ray_opaque_background', 'off')\n",
    "\n",
    "    \n",
    "def prepare_GFP_2WUR():\n",
    "    cmd.fetch('2WUR', async=0)\n",
    "    white_and_beautiful()\n",
    "    cmd.select('waters', 'name o')\n",
    "    cmd.select('chr', 'resn GYS')\n",
    "    cmd.select('aa_64_68', 'resi 64+68')\n",
    "    cmd.select('aa_64_68_mainchain', 'aa_64_68 and name C+CO+CA+N')\n",
    "    cmd.hide('everything', 'waters')\n",
    "    cmd.show('sticks', 'chr')\n",
    "    cmd.color('green', 'chr')\n",
    "    cmd.show('sticks', 'aa_64_68_mainchain')\n",
    "    \n",
    "def color_positions(positions, values=None, representation='spheres', colormap=matplotlib.cm.cool, constant_color=120):\n",
    "    # only positive values\n",
    "    assert min(values) >= 0\n",
    "    if type(constant_color) == int or type(constant_color) == float:\n",
    "        color = colormap(constant_color)\n",
    "    elif type(constant_color) == str:\n",
    "        color = mpl.colors.hex2color(constant_color)\n",
    "    elif type(constant_color) == tuple:\n",
    "        color = constant_color\n",
    "    else:\n",
    "        print 'Weird color!'\n",
    "\n",
    "    if str(values) != 'None':\n",
    "        values = np.array(values) - min(values)\n",
    "        values = 1. * values / max(values)\n",
    "    for index, position in enumerate(positions):\n",
    "        if str(values) != 'None':\n",
    "            color=colormap(values[index])\n",
    "        colorName = \"color_\" + str(position)\n",
    "        selName = \"temp_selection\"\n",
    "        cmd.set_color(colorName, color[0:3])\n",
    "        cmd.select(selName, 'resi %s' %position)\n",
    "        cmd.show(representation, selName)\n",
    "        cmd.color(colorName, selName)\n",
    "        \n",
    "def get_residues_from_selection(selection_name, only_numbers=True):\n",
    "    stored.list=[]\n",
    "    if only_numbers:\n",
    "        cmd.iterate(\"(%s & n. ca)\" %selection_name, \"stored.list.append(resi)\")\n",
    "        return [int(resi) for resi in stored.list]\n",
    "    else:\n",
    "        cmd.iterate(\"(%s & n. ca)\" %selection_name, \"stored.list.append((resi, resn))\")\n",
    "        return [(int(resi), resn) for resi, resn in stored.list]\n",
    "    \n",
    "def save_session_properly(session_counter, title, folder, prefix):\n",
    "    session_name = '%s_pse%s_%s.pse' %(prefix, image_counter.get_number(), '_'.join(title.split()))\n",
    "    save_session(os.path.join(folder, session_name))"
   ]
  },
  {
   "cell_type": "markdown",
   "metadata": {},
   "source": [
    "### PyMol games"
   ]
  },
  {
   "cell_type": "code",
   "execution_count": 3,
   "metadata": {
    "collapsed": false
   },
   "outputs": [],
   "source": [
    "pymol.pymol_argv = ['pymol', '-qc'] # quiet / no GUI\n",
    "stdout = sys.stdout\n",
    "stderr = sys.stderr\n",
    "pymol.finish_launching(['pymol', '-xiq'])\n",
    "sys.stdout = stdout\n",
    "sys.stderr = stderr"
   ]
  },
  {
   "cell_type": "code",
   "execution_count": 8,
   "metadata": {
    "collapsed": false
   },
   "outputs": [
    {
     "name": "stderr",
     "output_type": "stream",
     "text": [
      "/Users/karen/anaconda/lib/python2.7/site-packages/matplotlib/font_manager.py:273: UserWarning: Matplotlib is building the font cache using fc-list. This may take a moment.\n",
      "  warnings.warn('Matplotlib is building the font cache using fc-list. This may take a moment.')\n",
      "/Users/karen/anaconda/lib/python2.7/site-packages/IPython/html.py:14: ShimWarning: The `IPython.html` package has been deprecated. You should import from `notebook` instead. `IPython.html.widgets` has moved to `ipywidgets`.\n",
      "  \"`IPython.html.widgets` has moved to `ipywidgets`.\", ShimWarning)\n"
     ]
    },
    {
     "data": {
      "image/png": "[encoded data removed]",
      "text/plain": [
       "<matplotlib.figure.Figure at 0x14abc2610>"
      ]
     },
     "metadata": {},
     "output_type": "display_data"
    },
    {
     "name": "stdout",
     "output_type": "stream",
     "text": [
      "1891 unique mutations across all segments\n",
      "238 natural unique mutations across all segments\n",
      "There are 231 single mutations with known effects. They are found in 120 positions\n",
      "\n",
      "\n",
      "Now the following variables are available:\n",
      "\n",
      "- data: all data as a (sorted) dictionary in the form: 'segment_name': 'segment_data_as_pandas_dataframe'\n",
      "\n",
      "- unique_single_mutations: a dictionary with all single mutations for every segment\n",
      "\n",
      "- data_singles: a sorted dictionary in the form: 'segment_name': 'segment_data_as_pandas_dataframe' for genotypes containing a single substitution\n",
      "\n",
      "- single_mut_fitness_dict: a dictionary in the form: 'single mutation' : 'fitness'\n",
      "\n",
      "- data_known_mutations_only - a sorted dictionary in the form: 'segment_name': 'segment_data_as_pandas_dataframe', \n",
      "but only for those genotypes that consist of mutations with known effects (single mutant is measured).\n",
      "For this dictionary, epistasis is measured for every genotype.\n",
      "\n"
     ]
    },
    {
     "name": "stderr",
     "output_type": "stream",
     "text": [
      "/Users/karen/anaconda/lib/python2.7/site-packages/ipykernel/__main__.py:2: SettingWithCopyWarning: \n",
      "A value is trying to be set on a copy of a slice from a DataFrame.\n",
      "Try using .loc[row_indexer,col_indexer] = value instead\n",
      "\n",
      "See the caveats in the documentation: http://pandas.pydata.org/pandas-docs/stable/indexing.html#indexing-view-versus-copy\n",
      "  from ipykernel import kernelapp as app\n"
     ]
    }
   ],
   "source": [
    "%run 'ks01_Data_import.ipynb'\n",
    "notebook_prefix = 'ks05'\n",
    "image_counter = Counter()\n",
    "session_counter = Counter()"
   ]
  },
  {
   "cell_type": "markdown",
   "metadata": {},
   "source": [
    "#### Creating .pse files with every segment's positions"
   ]
  },
  {
   "cell_type": "code",
   "execution_count": 36,
   "metadata": {
    "collapsed": false
   },
   "outputs": [],
   "source": [
    "pdb_file = 'files_dump/structure_predictions/HIS3_saccharomyces_cerevisiae__itasser_model1_prediction.pdb'\n",
    "pdb_file = 'files_dump/structure_visualizations/HIS3_saccharomyces_cerevisiae__itasser_model1_prediction__aligned_with_4LOM.pse'\n",
    "\n",
    "pse_with_ligand = 'files_dump/structure_visualizations/HIS3_saccharomyces_cerevisiae__itasser_model1_prediction__aligned_with_4LOM_with_ligand_white_6A.pse'\n",
    "object_name='his3_prediction'"
   ]
  },
  {
   "cell_type": "code",
   "execution_count": 7,
   "metadata": {
    "collapsed": false
   },
   "outputs": [
    {
     "name": "stdout",
     "output_type": "stream",
     "text": [
      " Applying pse_export_version=1.720 compatibility\n",
      " Applying pse_export_version=1.720 compatibility\n",
      " Applying pse_export_version=1.720 compatibility\n",
      " Applying pse_export_version=1.720 compatibility\n",
      " Applying pse_export_version=1.720 compatibility\n",
      " Applying pse_export_version=1.720 compatibility\n",
      " Applying pse_export_version=1.720 compatibility\n",
      " Applying pse_export_version=1.720 compatibility\n",
      " Applying pse_export_version=1.720 compatibility\n",
      " Applying pse_export_version=1.720 compatibility\n",
      " Applying pse_export_version=1.720 compatibility\n",
      " Applying pse_export_version=1.720 compatibility\n"
     ]
    }
   ],
   "source": [
    "for segment_name in positions.segment.values:\n",
    "    title = 'Segment %s positions' %segment_name\n",
    "    position_list = positions[positions.segment == segment_name].positions_Uniprot_P06633.values[0]\n",
    "    cmd.reinitialize()\n",
    "    open_or_fetch(pdb_file, object_name=object_name)\n",
    "    white_and_beautiful()\n",
    "    color_positions(position_list, constant_color=segment_colors[segment_name])\n",
    "    save_session_properly(session_counter, title, pymol_sessions_folder, notebook_prefix)"
   ]
  },
  {
   "cell_type": "markdown",
   "metadata": {},
   "source": [
    "#### Coloring segments positions by fitness of single mutants"
   ]
  },
  {
   "cell_type": "code",
   "execution_count": 8,
   "metadata": {
    "collapsed": false,
    "scrolled": false
   },
   "outputs": [
    {
     "name": "stdout",
     "output_type": "stream",
     "text": [
      " Applying pse_export_version=1.720 compatibility\n",
      " Applying pse_export_version=1.720 compatibility\n",
      " Applying pse_export_version=1.720 compatibility\n",
      " Applying pse_export_version=1.720 compatibility\n",
      " Applying pse_export_version=1.720 compatibility\n",
      " Applying pse_export_version=1.720 compatibility\n",
      " Applying pse_export_version=1.720 compatibility\n",
      " Applying pse_export_version=1.720 compatibility\n",
      " Applying pse_export_version=1.720 compatibility\n",
      " Applying pse_export_version=1.720 compatibility\n",
      " Applying pse_export_version=1.720 compatibility\n",
      " Applying pse_export_version=1.720 compatibility\n"
     ]
    }
   ],
   "source": [
    "for segment_name in positions.segment.values:\n",
    "    title = 'Fitness of single mutants in segment %s' %segment_name\n",
    "    position_list = positions[positions.segment == segment_name].positions_Uniprot_P06633.values[0]\n",
    "    by_position = data_singles[segment_name + '_scaled'].groupby('position_Scer')['s'].agg(np.median)\n",
    "    cmd.reinitialize()\n",
    "    open_or_fetch(pdb_file, object_name=object_name)\n",
    "    white_and_beautiful()\n",
    "    color_positions(position_list, constant_color='#999999')\n",
    "    color_positions(by_position.index, values=by_position.values)\n",
    "    cmd.hide('everything', '4LOM')\n",
    "    cmd.color('orange', 'ligand')\n",
    "    cmd.show('spheres', 'ligand')\n",
    "    save_session_properly(session_counter, title, pymol_sessions_folder, notebook_prefix)"
   ]
  },
  {
   "cell_type": "markdown",
   "metadata": {},
   "source": [
    "#### Coloring all positions by fitness of single mutants"
   ]
  },
  {
   "cell_type": "code",
   "execution_count": 9,
   "metadata": {
    "collapsed": false,
    "scrolled": false
   },
   "outputs": [
    {
     "name": "stdout",
     "output_type": "stream",
     "text": [
      " Applying pse_export_version=1.720 compatibility\n"
     ]
    }
   ],
   "source": [
    "title = 'Fitness of single mutants across all segments'\n",
    "position_list = []\n",
    "by_position = pd.Series(dtype=np.float)\n",
    "for segment_name in positions.segment.values:\n",
    "    position_list.extend(list(positions[positions.segment == segment_name].positions_Uniprot_P06633.values[0]))\n",
    "    by_position_segment = data_singles[segment_name + '_scaled'].groupby('position_Scer')['s'].agg(np.median)\n",
    "    by_position = by_position.append(by_position_segment, verify_integrity=True)\n",
    "cmd.reinitialize()\n",
    "open_or_fetch(pse_with_ligand)\n",
    "# white_and_beautiful()\n",
    "color_positions(position_list, constant_color='#999999')\n",
    "color_positions(by_position.index, values=by_position.values)\n",
    "save_session_properly(session_counter, title, pymol_sessions_folder, notebook_prefix)"
   ]
  },
  {
   "cell_type": "markdown",
   "metadata": {},
   "source": [
    "#### Mutations in active site"
   ]
  },
  {
   "cell_type": "code",
   "execution_count": 10,
   "metadata": {
    "collapsed": false,
    "scrolled": true
   },
   "outputs": [
    {
     "name": "stdout",
     "output_type": "stream",
     "text": [
      " Applying pse_export_version=1.720 compatibility\n"
     ]
    }
   ],
   "source": [
    "title = 'Fitness of single mutants in active site'\n",
    "cmd.reinitialize()\n",
    "open_or_fetch(pse_with_ligand)\n",
    "active_site = get_residues_from_selection('res_around_ligand_6A & HIS3_saccharomyces_cerevisiae__itasser_model1_prediction')\n",
    "position_list = by_position.loc[active_site]\n",
    "color_positions(position_list.index, constant_color='#999999')\n",
    "color_positions(position_list[~np.isnan(position_list)].index, values=position_list[~np.isnan(position_list)].values)\n",
    "save_session_properly(session_counter, title, pymol_sessions_folder, notebook_prefix)"
   ]
  },
  {
   "cell_type": "markdown",
   "metadata": {},
   "source": [
    "### For Katya"
   ]
  },
  {
   "cell_type": "code",
   "execution_count": 67,
   "metadata": {
    "collapsed": false
   },
   "outputs": [
    {
     "name": "stdout",
     "output_type": "stream",
     "text": [
      " Applying pse_export_version=1.720 compatibility\n"
     ]
    }
   ],
   "source": [
    "# for Katya\n",
    "# katya_mutations = ['112T', '172W', '181Y', '181K', '184I', '185T', '187T', '190D', '201K', '204I', '205T', '206S', '207T', '210D', '85I']\n",
    "# katya_positions = [int(m[:-1]) for m in katya_mutations]\n",
    "katya_mutations1 = ['181Y', '181K', '184I', '185T', '187T', '190D']\n",
    "katya_positions1 = [int(m[:-1]) for m in katya_mutations1]\n",
    "\n",
    "katya_mutations2 = ['201K', '204I', '205T', '206S', '207T', '210D']\n",
    "katya_positions2 = [int(m[:-1]) for m in katya_mutations2]\n",
    "\n",
    "title = 'Positions for Katya'\n",
    "cmd.reinitialize()\n",
    "open_or_fetch(pdb_file, object_name=object_name)\n",
    "white_and_beautiful()\n",
    "color_positions(katya_positions1, representation='sticks', constant_color=10)\n",
    "color_positions(katya_positions2, representation='sticks', constant_color=250)\n",
    "cmd.hide('everything', '4LOM')\n",
    "cmd.color('orange', 'ligand')\n",
    "cmd.show('spheres', 'ligand')\n",
    "save_session_properly(session_counter, title, pymol_sessions_folder, notebook_prefix)"
   ]
  },
  {
   "cell_type": "code",
   "execution_count": 55,
   "metadata": {
    "collapsed": false
   },
   "outputs": [
    {
     "name": "stdout",
     "output_type": "stream",
     "text": [
      " Applying pse_export_version=1.720 compatibility\n",
      " Applying pse_export_version=1.720 compatibility\n",
      " Applying pse_export_version=1.720 compatibility\n",
      " Applying pse_export_version=1.720 compatibility\n",
      " Applying pse_export_version=1.720 compatibility\n",
      " Applying pse_export_version=1.720 compatibility\n",
      " Applying pse_export_version=1.720 compatibility\n",
      " Applying pse_export_version=1.720 compatibility\n",
      " Applying pse_export_version=1.720 compatibility\n",
      " Applying pse_export_version=1.720 compatibility\n"
     ]
    }
   ],
   "source": [
    "for i in range(10):\n",
    "    title = 'GFP positions iteration %s' %i\n",
    "    cmd.reinitialize()\n",
    "    prepare_GFP_2WUR()\n",
    "    white_and_beautiful()\n",
    "    color_positions(np.random.choice(range(235), 39), representation='ribbon')\n",
    "    save_session_properly(session_counter, title, pymol_sessions_folder, notebook_prefix)"
   ]
  },
  {
   "cell_type": "markdown",
   "metadata": {},
   "source": [
    "### Coloring positions by median impact of mutations in all backgrounds"
   ]
  },
  {
   "cell_type": "markdown",
   "metadata": {},
   "source": [
    "### Nat_lib"
   ]
  },
  {
   "cell_type": "markdown",
   "metadata": {},
   "source": [
    "#### Using precalculated impacts"
   ]
  },
  {
   "cell_type": "code",
   "execution_count": 21,
   "metadata": {
    "collapsed": false
   },
   "outputs": [],
   "source": [
    "by_positions = OrderedDict()\n",
    "directory = os.path.join(files_dump_folder, 'impacts_of_mutations_in_all_backgrounds__nat_lib')\n",
    "for segment in data_natural:\n",
    "    by_positions[segment] = defaultdict(list)\n",
    "    for f in os.listdir(directory):\n",
    "        segm = f.split('_')[1]\n",
    "        mutation = f.split('_')[-1].split('.')[0]\n",
    "        position = int(mutation[:-1])\n",
    "        if segm == segment.split('_')[0]:\n",
    "            by_positions[segment][position].append(pd.read_hdf(os.path.join(directory, f)))"
   ]
  },
  {
   "cell_type": "markdown",
   "metadata": {},
   "source": [
    "#### Creating PyMol session files"
   ]
  },
  {
   "cell_type": "code",
   "execution_count": 50,
   "metadata": {
    "collapsed": false
   },
   "outputs": [
    {
     "name": "stdout",
     "output_type": "stream",
     "text": [
      " Applying pse_export_version=1.720 compatibility\n",
      " Applying pse_export_version=1.720 compatibility\n",
      " Applying pse_export_version=1.720 compatibility\n",
      " Applying pse_export_version=1.720 compatibility\n",
      " Applying pse_export_version=1.720 compatibility\n",
      " Applying pse_export_version=1.720 compatibility\n",
      " Applying pse_export_version=1.720 compatibility\n",
      " Applying pse_export_version=1.720 compatibility\n",
      " Applying pse_export_version=1.720 compatibility\n",
      " Applying pse_export_version=1.720 compatibility\n",
      " Applying pse_export_version=1.720 compatibility\n",
      " Applying pse_export_version=1.720 compatibility\n"
     ]
    }
   ],
   "source": [
    "for segment in data_natural:\n",
    "    positions = []\n",
    "    impacts = []\n",
    "    for position in by_positions[segment]:\n",
    "        impact_values = []\n",
    "        for series in by_positions[segment][position]:\n",
    "            impact_values.extend(series.values)\n",
    "        positions.append(position)\n",
    "        impacts.append(wt_fitness + np.median(impact_values))\n",
    "    impacts.append(0) #to scale all segments similarly\n",
    "#     print positions, impacts\n",
    "    title = 'segment %s - positions colored by median impact of mutations in all backgrounds in nat_lib' %segment.split('_')[0]\n",
    "    cmd.reinitialize()\n",
    "    open_or_fetch(pdb_file, object_name=object_name)\n",
    "    white_and_beautiful()\n",
    "    color_positions(positions, values=impacts, representation='spheres')\n",
    "    cmd.hide('everything', '4LOM')\n",
    "    cmd.color('orange', 'ligand')\n",
    "    cmd.show('spheres', 'ligand')\n",
    "    save_session_properly(session_counter, title, pymol_sessions_folder, notebook_prefix)"
   ]
  },
  {
   "cell_type": "code",
   "execution_count": 58,
   "metadata": {
    "collapsed": false
   },
   "outputs": [
    {
     "name": "stdout",
     "output_type": "stream",
     "text": [
      " Applying pse_export_version=1.720 compatibility\n"
     ]
    }
   ],
   "source": [
    "pdb_file = 'files_dump/structure_predictions/HIS3_saccharomyces_cerevisiae__swissmodel_prediction.pdb'\n",
    "positions = []\n",
    "impacts = []\n",
    "for segment in data_natural:\n",
    "    for position in by_positions[segment]:\n",
    "        impact_values = []\n",
    "        for series in by_positions[segment][position]:\n",
    "            impact_values.extend(series.values)\n",
    "        positions.append(position)\n",
    "        impacts.append(wt_fitness + np.median(impact_values))\n",
    "impacts = [max(e, 0.38) for e in impacts]\n",
    "title = 'all segments - positions colored by median impact of mutations in all backgrounds in nat_lib'\n",
    "cmd.reinitialize()\n",
    "open_or_fetch(pdb_file, object_name=object_name)\n",
    "white_and_beautiful()\n",
    "color_positions(positions, values=impacts, representation='lines')\n",
    "# cmd.hide('everything', '4LOM')\n",
    "# cmd.color('orange', 'ligand')\n",
    "# cmd.show('spheres', 'ligand')\n",
    "for segment in data_natural:\n",
    "    cmd.select('segment_%s' %segment.split('_')[0], 'resi %s' %('+'.join([str(e) for e in by_positions[segment]])))\n",
    "save_session_properly(session_counter, title, pymol_sessions_folder, notebook_prefix)"
   ]
  },
  {
   "cell_type": "markdown",
   "metadata": {},
   "source": [
    "## Full lib"
   ]
  },
  {
   "cell_type": "markdown",
   "metadata": {},
   "source": [
    "#### Using precalculated impacts"
   ]
  },
  {
   "cell_type": "code",
   "execution_count": 21,
   "metadata": {
    "collapsed": false
   },
   "outputs": [],
   "source": [
    "by_positions = OrderedDict()\n",
    "directory = os.path.join(files_dump_folder, 'impacts_of_mutations_in_all_backgrounds__full_lib')\n",
    "for segment in data:\n",
    "    by_positions[segment] = defaultdict(list)\n",
    "    for f in os.listdir(directory):\n",
    "        segm = f.split('_')[1]\n",
    "        mutation = f.split('_')[-1].split('.')[0]\n",
    "        position = int(mutation[:-1])\n",
    "        if segm == segment.split('_')[0]:\n",
    "            by_positions[segment][position].append(pd.read_hdf(os.path.join(directory, f)))"
   ]
  },
  {
   "cell_type": "markdown",
   "metadata": {},
   "source": [
    "#### Creating PyMol session files"
   ]
  },
  {
   "cell_type": "code",
   "execution_count": 24,
   "metadata": {
    "collapsed": false
   },
   "outputs": [
    {
     "name": "stdout",
     "output_type": "stream",
     "text": [
      " Applying pse_export_version=1.720 compatibility\n",
      " Applying pse_export_version=1.720 compatibility\n",
      " Applying pse_export_version=1.720 compatibility\n",
      " Applying pse_export_version=1.720 compatibility\n",
      " Applying pse_export_version=1.720 compatibility\n",
      " Applying pse_export_version=1.720 compatibility\n",
      " Applying pse_export_version=1.720 compatibility\n",
      " Applying pse_export_version=1.720 compatibility\n",
      " Applying pse_export_version=1.720 compatibility\n",
      " Applying pse_export_version=1.720 compatibility\n",
      " Applying pse_export_version=1.720 compatibility\n",
      " Applying pse_export_version=1.720 compatibility\n"
     ]
    }
   ],
   "source": [
    "pdb_file = 'files_dump/structure_predictions/HIS3_saccharomyces_cerevisiae__itasser_model1_prediction.pdb'\n",
    "for segment in data_natural:\n",
    "    positions = []\n",
    "    impacts = []\n",
    "    for position in by_positions[segment]:\n",
    "        impact_values = []\n",
    "        for series in by_positions[segment][position]:\n",
    "            impact_values.extend(series.values)\n",
    "        positions.append(position)\n",
    "        impacts.append(wt_fitness + np.median(impact_values))\n",
    "    impacts.append(0) #to scale all segments similarly\n",
    "#     print positions, impacts\n",
    "    title = 'segment %s - positions colored by median impact of mutations in all backgrounds in nat_lib' %segment.split('_')[0]\n",
    "    cmd.reinitialize()\n",
    "    open_or_fetch(pdb_file)\n",
    "    white_and_beautiful()\n",
    "    color_positions(positions, values=impacts, representation='spheres')\n",
    "#     cmd.hide('everything', '4LOM')\n",
    "#     cmd.color('orange', 'ligand')\n",
    "#     cmd.show('spheres', 'ligand')\n",
    "    save_session_properly(session_counter, title, pymol_sessions_folder, notebook_prefix)"
   ]
  },
  {
   "cell_type": "code",
   "execution_count": 27,
   "metadata": {
    "collapsed": false
   },
   "outputs": [
    {
     "name": "stdout",
     "output_type": "stream",
     "text": [
      " Applying pse_export_version=1.720 compatibility\n"
     ]
    }
   ],
   "source": [
    "pdb_file = 'files_dump/structure_visualizations/HIS3_saccharomyces_cerevisiae__itasser_model1_prediction__aligned_with_4LOM.pse'\n",
    "positions = []\n",
    "impacts = []\n",
    "for segment in data_natural:\n",
    "    for position in by_positions[segment]:\n",
    "        impact_values = []\n",
    "        for series in by_positions[segment][position]:\n",
    "            impact_values.extend(series.values)\n",
    "        positions.append(position)\n",
    "        impacts.append(wt_fitness + np.median(impact_values))\n",
    "impacts = [max(e, 0.38) for e in impacts]\n",
    "title = 'all segments - positions colored by median impact of mutations in all backgrounds in nat_lib'\n",
    "cmd.reinitialize()\n",
    "open_or_fetch(pdb_file)\n",
    "white_and_beautiful()\n",
    "color_positions(positions, values=impacts, representation='lines')\n",
    "cmd.hide('everything', '4LOM')\n",
    "cmd.color('orange', 'ligand')\n",
    "cmd.show('spheres', 'ligand')\n",
    "for segment in data_natural:\n",
    "    cmd.select('segment_%s' %segment.split('_')[0], 'resi %s' %('+'.join([str(e) for e in by_positions[segment]])))\n",
    "save_session_properly(session_counter, title, pymol_sessions_folder, notebook_prefix)"
   ]
  },
  {
   "cell_type": "markdown",
   "metadata": {},
   "source": [
    "## Mapping sign epistasis"
   ]
  },
  {
   "cell_type": "code",
   "execution_count": 4,
   "metadata": {
    "collapsed": false
   },
   "outputs": [],
   "source": [
    "def select_residue(position_number):\n",
    "    selection_name = 'r%s' %position_number\n",
    "    what_to_select = 'resi %s' %position_number\n",
    "    cmd.select(selection_name, what_to_select)\n",
    "    print selection_name, what_to_select\n",
    "    return selection_name"
   ]
  },
  {
   "cell_type": "code",
   "execution_count": 18,
   "metadata": {
    "collapsed": false
   },
   "outputs": [
    {
     "name": "stdout",
     "output_type": "stream",
     "text": [
      "r10 resi 10\n",
      "r20 resi 20\n",
      "13.046792984\n",
      " Applying pse_export_version=1.720 compatibility\n"
     ]
    }
   ],
   "source": [
    "pdb_file = 'files_dump/structure_predictions/HIS3_saccharomyces_cerevisiae__itasser_model1_prediction.pdb'\n",
    "title = 'line_test'\n",
    "cmd.reinitialize()\n",
    "open_or_fetch(pdb_file, object_name='HIS3_itasser')\n",
    "white_and_beautiful()\n",
    "pos1 = select_residue(10)\n",
    "pos2 = select_residue(20)\n",
    "print cmd.distance('qwe', pos1, pos2)\n",
    "save_session_properly(session_counter, title, pymol_sessions_folder, notebook_prefix)"
   ]
  },
  {
   "cell_type": "code",
   "execution_count": 38,
   "metadata": {
    "collapsed": false
   },
   "outputs": [
    {
     "data": {
      "text/plain": [
       "Index([u'VarPos', u'Perm', u'GroupCount', u'mean_FitImpactThreshBad3',\n",
       "       u'sum_FitImpactThreshBad3', u'mean_FitImpactThreshGood3',\n",
       "       u'sum_FitImpactThreshGood3', u'mean_FitImpactThreshBad2',\n",
       "       u'sum_FitImpactThreshBad2', u'mean_FitImpactThreshGood2',\n",
       "       u'sum_FitImpactThreshGood2', u'ValidationAcc', u'RealPos'],\n",
       "      dtype='object')"
      ]
     },
     "execution_count": 38,
     "metadata": {},
     "output_type": "execute_result"
    }
   ],
   "source": [
    "lucas_epistasis.columns"
   ]
  },
  {
   "cell_type": "code",
   "execution_count": 55,
   "metadata": {
    "collapsed": false
   },
   "outputs": [],
   "source": [
    "def deviation_from_diagonal(df):\n",
    "    return np.abs(np.log(df['mean_FitImpactThreshGood2'] / df['mean_FitImpactThreshBad2']))"
   ]
  },
  {
   "cell_type": "code",
   "execution_count": 61,
   "metadata": {
    "collapsed": false
   },
   "outputs": [
    {
     "name": "stdout",
     "output_type": "stream",
     "text": [
      " Applying pse_export_version=1.720 compatibility\n"
     ]
    }
   ],
   "source": [
    "lucas_epistasis = pd.read_table('/Users/karen/Downloads/Seg2SignEpi.txt')\n",
    "subset = lucas_epistasis[lucas_epistasis.ValidationAcc > 0.]\n",
    "subset['diagnoal_deviation'] = subset.apply(deviation_from_diagonal, axis=1)\n",
    "\n",
    "pdb_file = 'files_dump/structure_predictions/HIS3_saccharomyces_cerevisiae__swissmodel_prediction.pdb'\n",
    "columns = ['mean_FitImpactThreshGood2', 'sum_FitImpactThreshGood2', 'mean_FitImpactThreshBad2', 'sum_FitImpactThreshBad2']\n",
    "for column in ['diagnoal_deviation']:\n",
    "    title = 'Lucas sign epistasis dataset for segment 2  %s' %column \n",
    "    cmd.reinitialize()\n",
    "    open_or_fetch(pdb_file, object_name='HIS3')\n",
    "    white_and_beautiful()\n",
    "    to_plot = subset.groupby('RealPos')[column].agg(np.max)\n",
    "    color_positions(to_plot.index, to_plot.values)\n",
    "    save_session_properly(session_counter, title, pymol_sessions_folder, notebook_prefix)"
   ]
  },
  {
   "cell_type": "code",
   "execution_count": 60,
   "metadata": {
    "collapsed": false
   },
   "outputs": [
    {
     "data": {
      "text/plain": [
       "<matplotlib.collections.PathCollection at 0x157101710>"
      ]
     },
     "execution_count": 60,
     "metadata": {},
     "output_type": "execute_result"
    },
    {
     "data": {
      "image/png": "[encoded data removed]",
      "text/plain": [
       "<matplotlib.figure.Figure at 0x1144ea650>"
      ]
     },
     "metadata": {},
     "output_type": "display_data"
    }
   ],
   "source": [
    "plt.scatter(subset['diagnoal_deviation'], subset['ValidationAcc'])"
   ]
  }
 ],
 "metadata": {
  "kernelspec": {
   "display_name": "Python 2",
   "language": "python",
   "name": "python2"
  },
  "language_info": {
   "codemirror_mode": {
    "name": "ipython",
    "version": 2
   },
   "file_extension": ".py",
   "mimetype": "text/x-python",
   "name": "python",
   "nbconvert_exporter": "python",
   "pygments_lexer": "ipython2",
   "version": "2.7.13"
  }
 },
 "nbformat": 4,
 "nbformat_minor": 0
}
