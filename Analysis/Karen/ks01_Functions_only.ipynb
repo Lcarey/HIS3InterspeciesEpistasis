{
 "cells": [
  {
   "cell_type": "code",
   "execution_count": 1,
   "metadata": {
    "collapsed": false
   },
   "outputs": [
    {
     "name": "stderr",
     "output_type": "stream",
     "text": [
      "/Users/karen/anaconda/lib/python2.7/site-packages/matplotlib/font_manager.py:273: UserWarning: Matplotlib is building the font cache using fc-list. This may take a moment.\n",
      "  warnings.warn('Matplotlib is building the font cache using fc-list. This may take a moment.')\n",
      "/Users/karen/anaconda/lib/python2.7/site-packages/IPython/html.py:14: ShimWarning: The `IPython.html` package has been deprecated. You should import from `notebook` instead. `IPython.html.widgets` has moved to `ipywidgets`.\n",
      "  \"`IPython.html.widgets` has moved to `ipywidgets`.\", ShimWarning)\n"
     ]
    }
   ],
   "source": [
    "import sys\n",
    "import pandas as pd\n",
    "import numpy as np\n",
    "import os\n",
    "from os.path import join\n",
    "from matplotlib import pyplot as plt\n",
    "import matplotlib\n",
    "matplotlib.rcParams['pdf.fonttype'] = 42\n",
    "from collections import OrderedDict\n",
    "from collections import defaultdict\n",
    "import ast\n",
    "import gc\n",
    "import Bio.PDB\n",
    "from Bio import SeqIO\n",
    "from IPython.display import display\n",
    "from collections import Counter \n",
    "import itertools\n",
    "from IPython.html.widgets.widget_float import FloatProgress\n",
    "\n",
    "%matplotlib inline\n",
    "notebook_prefix = 'ks01'"
   ]
  },
  {
   "cell_type": "markdown",
   "metadata": {},
   "source": [
    "## Orienting"
   ]
  },
  {
   "cell_type": "code",
   "execution_count": 2,
   "metadata": {
    "collapsed": false
   },
   "outputs": [],
   "source": [
    "def find_folder_upstream(folder_name, max_iterations=50):\n",
    "    current_folder = os.getcwd()\n",
    "    counter = 0\n",
    "    while os.path.basename(current_folder) != folder_name and counter < max_iterations:\n",
    "        current_folder = os.path.dirname(current_folder)\n",
    "        counter += 1\n",
    "    if not counter < max_iterations:\n",
    "        return None\n",
    "    return current_folder"
   ]
  },
  {
   "cell_type": "code",
   "execution_count": 3,
   "metadata": {
    "collapsed": false
   },
   "outputs": [],
   "source": [
    "root_folder_name = 'HIS3InterspeciesEpistasis'\n",
    "root_folder = find_folder_upstream(root_folder_name)\n",
    "if not root_folder:\n",
    "    print 'Did not find root folder for our github repository.\\nPlease run \"ks01\" notebook from a script inside the HIS3InterspeciesEpistasis folder!'\n",
    "\n",
    "data_folder = os.path.join(root_folder, 'Data', '')\n",
    "small_tables_folder = os.path.join(root_folder, 'Data_Small_Tables', '')\n",
    "analysis_folder = os.path.join(root_folder, 'Analysis', '')\n",
    "karen_folder = os.path.join(analysis_folder, 'Karen', '')\n",
    "figures_folder = os.path.join(karen_folder, 'figures', '')\n",
    "files_dump_folder = os.path.join(karen_folder, 'files_dump', '')\n",
    "structure_predictions_folder = os.path.join(files_dump_folder, 'structure_predictions', '')\n",
    "pymol_sessions_folder = os.path.join(files_dump_folder, 'structure_visualizations/pymol_sessions/', '')"
   ]
  },
  {
   "cell_type": "markdown",
   "metadata": {},
   "source": [
    "## General stuff"
   ]
  },
  {
   "cell_type": "code",
   "execution_count": 4,
   "metadata": {
    "collapsed": false
   },
   "outputs": [],
   "source": [
    "old_dir = os.getcwd()\n",
    "os.chdir(karen_folder)\n",
    "%run 'functions_dump.py'\n",
    "os.chdir(old_dir)\n",
    "image_counter = Counter()"
   ]
  },
  {
   "cell_type": "code",
   "execution_count": 5,
   "metadata": {
    "collapsed": true
   },
   "outputs": [],
   "source": [
    "segment_colors_list = [('S1','#00aba9'), ('S2','#ff0097'), ('S3','#a200ff'), ('S4','#b8d000'), ('S5','#1ba1e2'), ('S6','#f09609'), \n",
    "('S7','#edc951'), ('S8','#cc2a36'), ('S9','#4f372d'), ('S10','#0c457d'), ('S11','#616161'), ('S12','#800080')]\n",
    "segment_colors = OrderedDict(segment_colors_list)"
   ]
  },
  {
   "cell_type": "markdown",
   "metadata": {},
   "source": [
    "### Working with positions"
   ]
  },
  {
   "cell_type": "code",
   "execution_count": 6,
   "metadata": {
    "collapsed": false
   },
   "outputs": [],
   "source": [
    "def remove_gaps(seq):\n",
    "    return ''.join([c for c in seq if c != '-'])\n",
    "\n",
    "def get_wt_position(position_in_alignment):\n",
    "    truncated_seq = remove_gaps(aligned_Scer[:position_in_alignment+1])\n",
    "    return len(truncated_seq)\n",
    "\n",
    "def relative_to_absolute_numbering(mutation, segment, df_with_data):\n",
    "    display(df_with_data[segment][df_with_data[segment].mut_list == mutation][['mut_list', 'mut_list_Scer']])\n",
    "    return df_with_data[segment][df_with_data[segment].mut_list == mutation].mut_list_Scer.values[0]"
   ]
  },
  {
   "cell_type": "code",
   "execution_count": 7,
   "metadata": {
    "collapsed": false
   },
   "outputs": [],
   "source": [
    "Scer_Uniprot = open(os.path.join(files_dump_folder, 'HIS3_saccharomyces_cerevisiae_from_Uniprot_P06633.txt')).read().rstrip()\n",
    "alignment_file = os.path.join(small_tables_folder, 'aa_seq.txt')\n",
    "for seq_record in SeqIO.parse(alignment_file, 'fasta'):\n",
    "    if seq_record.id == 'Scer':\n",
    "        aligned_Scer = str(seq_record.seq)\n",
    "        break\n",
    "assert remove_gaps(aligned_Scer) == Scer_Uniprot"
   ]
  },
  {
   "cell_type": "code",
   "execution_count": 8,
   "metadata": {
    "collapsed": false,
    "scrolled": true
   },
   "outputs": [
    {
     "data": {
      "text/html": [
       "<div>\n",
       "<table border=\"1\" class=\"dataframe\">\n",
       "  <thead>\n",
       "    <tr style=\"text-align: right;\">\n",
       "      <th>Unnamed: 0</th>\n",
       "      <th>segment</th>\n",
       "      <th>wt1</th>\n",
       "      <th>positions_alignment</th>\n",
       "      <th>len1</th>\n",
       "      <th>len2</th>\n",
       "      <th>start1</th>\n",
       "      <th>end1</th>\n",
       "      <th>wt2</th>\n",
       "      <th>start2</th>\n",
       "      <th>end2</th>\n",
       "      <th>start_Scer</th>\n",
       "      <th>end_Scer</th>\n",
       "      <th>positions_Uniprot_P06633</th>\n",
       "    </tr>\n",
       "  </thead>\n",
       "  <tbody>\n",
       "    <tr>\n",
       "      <th>0</th>\n",
       "      <td>S1</td>\n",
       "      <td>EALGAVRGVK</td>\n",
       "      <td>[140, 141, 142, 143, 144, 145, 146, 147, 148, ...</td>\n",
       "      <td>10</td>\n",
       "      <td>10</td>\n",
       "      <td>140</td>\n",
       "      <td>149</td>\n",
       "      <td>EALSRAVVDL</td>\n",
       "      <td>160</td>\n",
       "      <td>169</td>\n",
       "      <td>106</td>\n",
       "      <td>135</td>\n",
       "      <td>[106, 107, 108, 109, 110, 111, 112, 113, 114, ...</td>\n",
       "    </tr>\n",
       "    <tr>\n",
       "      <th>1</th>\n",
       "      <td>S2</td>\n",
       "      <td>SNRPYAVVE</td>\n",
       "      <td>[170, 171, 172, 173, 174, 175, 176, 177, 178, ...</td>\n",
       "      <td>9</td>\n",
       "      <td>9</td>\n",
       "      <td>170</td>\n",
       "      <td>178</td>\n",
       "      <td>LSCEMIPHF</td>\n",
       "      <td>189</td>\n",
       "      <td>197</td>\n",
       "      <td>136</td>\n",
       "      <td>163</td>\n",
       "      <td>[136, 137, 138, 139, 140, 141, 142, 143, 144, ...</td>\n",
       "    </tr>\n",
       "    <tr>\n",
       "      <th>2</th>\n",
       "      <td>S3</td>\n",
       "      <td>LGLQREKVGD</td>\n",
       "      <td>[179, 180, 181, 182, 183, 184, 185, 186, 187, ...</td>\n",
       "      <td>10</td>\n",
       "      <td>7</td>\n",
       "      <td>179</td>\n",
       "      <td>188</td>\n",
       "      <td>LESFAEA</td>\n",
       "      <td>198</td>\n",
       "      <td>204</td>\n",
       "      <td>145</td>\n",
       "      <td>170</td>\n",
       "      <td>[145, 146, 147, 148, 149, 150, 151, 152, 153, ...</td>\n",
       "    </tr>\n",
       "  </tbody>\n",
       "</table>\n",
       "</div>"
      ],
      "text/plain": [
       "Unnamed: 0 segment         wt1  \\\n",
       "0               S1  EALGAVRGVK   \n",
       "1               S2   SNRPYAVVE   \n",
       "2               S3  LGLQREKVGD   \n",
       "\n",
       "Unnamed: 0                                positions_alignment len1 len2  \\\n",
       "0           [140, 141, 142, 143, 144, 145, 146, 147, 148, ...   10   10   \n",
       "1           [170, 171, 172, 173, 174, 175, 176, 177, 178, ...    9    9   \n",
       "2           [179, 180, 181, 182, 183, 184, 185, 186, 187, ...   10    7   \n",
       "\n",
       "Unnamed: 0 start1 end1         wt2 start2 end2 start_Scer end_Scer  \\\n",
       "0             140  149  EALSRAVVDL    160  169        106      135   \n",
       "1             170  178   LSCEMIPHF    189  197        136      163   \n",
       "2             179  188     LESFAEA    198  204        145      170   \n",
       "\n",
       "Unnamed: 0                           positions_Uniprot_P06633  \n",
       "0           [106, 107, 108, 109, 110, 111, 112, 113, 114, ...  \n",
       "1           [136, 137, 138, 139, 140, 141, 142, 143, 144, ...  \n",
       "2           [145, 146, 147, 148, 149, 150, 151, 152, 153, ...  "
      ]
     },
     "execution_count": 8,
     "metadata": {},
     "output_type": "execute_result"
    }
   ],
   "source": [
    "positions = pd.read_table(os.path.join(small_tables_folder, 'positions.csv'))\n",
    "positions = positions.set_index('Unnamed: 0').transpose().reset_index()\n",
    "positions.rename(columns={'index' : 'segment', 'positions':'positions_alignment'}, inplace=True)\n",
    "positions.reset_index(drop=True, inplace=True)\n",
    "positions['positions_alignment'] = positions['positions_alignment'].apply(lambda s: ast.literal_eval(s))\n",
    "positions['positions_Uniprot_P06633'] = positions.positions_alignment.apply(lambda l: [get_wt_position(p) for p in l])\n",
    "segment_names = positions.segment.values # not explicitly sorted\n",
    "positions.to_csv(os.path.join(files_dump_folder, 'information_about_segments.csv'), index=False)\n",
    "positions[:3]"
   ]
  },
  {
   "cell_type": "code",
   "execution_count": 9,
   "metadata": {
    "collapsed": false
   },
   "outputs": [],
   "source": [
    "title = 'Positions of segments according to Uniprot sequence'\n",
    "plot_better(grid='', height=2)\n",
    "old_y = 2\n",
    "for row in positions.iterrows():\n",
    "    for position in row[1].positions_Uniprot_P06633:\n",
    "        new_y = np.random.choice([1,2])\n",
    "        while new_y == old_y:\n",
    "            new_y = np.random.choice([1,2])\n",
    "    x = row[1].positions_Uniprot_P06633\n",
    "    plt.plot(x, [new_y for e in x], '.', lw=3, alpha=0.7, label=row[1].segment, color=segment_colors[row[1].segment])\n",
    "    plt.text(np.median(x), new_y + 0.3, row[1].segment)\n",
    "    old_y = new_y\n",
    "plt.ylim(0,4)\n",
    "plt.yticks([])\n",
    "plt.xlabel('Positions according to Uniprot sequence')\n",
    "plt.title(title)\n",
    "plt.close()"
   ]
  },
  {
   "cell_type": "markdown",
   "metadata": {},
   "source": [
    "### Adding from_aa to notation of mutations"
   ]
  },
  {
   "cell_type": "code",
   "execution_count": 11,
   "metadata": {
    "collapsed": false
   },
   "outputs": [],
   "source": [
    "def get_full_mutation(mutation):\n",
    "    if mutation == '' or not mutation > 0:\n",
    "        return ''\n",
    "    position = int(mutation[:-1])\n",
    "    assert Scer_Uniprot[position-1] != mutation[-1]\n",
    "    return Scer_Uniprot[position-1] + mutation\n",
    "\n",
    "def convert_to_full_mutations(mut_combination):\n",
    "    if mut_combination == '' or not mut_combination > 0:\n",
    "        return ''\n",
    "    return ':'.join(get_full_mutation(mutation) for mutation in mut_combination.split(':'))"
   ]
  },
  {
   "cell_type": "markdown",
   "metadata": {},
   "source": [
    "## Amino acid properties table"
   ]
  },
  {
   "cell_type": "code",
   "execution_count": null,
   "metadata": {
    "collapsed": false
   },
   "outputs": [],
   "source": [
    "# amino acid codes\n",
    "aa_long = ['alanine', 'cysteine', 'aspartic acid', 'glutamic acid', 'phenylalanine', 'glycine', \n",
    "           'histidine', 'isoleucine', 'lysine', 'leucine', 'methionine', 'asparagine', 'proline',\n",
    "           'glutamine', 'arginine', 'serine', 'threonine', 'valine', 'tryptophan', 'tyrosine', 'unknown_aa'] \n",
    "aa1 = list(\"ACDEFGHIKLMNPQRSTVWYX\")\n",
    "aa3 = \"ALA CYS ASP GLU PHE GLY HIS ILE LYS LEU MET ASN PRO GLN ARG SER THR VAL TRP TYR XXX\".split()\n",
    "aa123 = dict(zip(aa1, aa3))\n",
    "aa321 = dict(zip(aa3, aa1))\n",
    "aa_full_to_1 = dict(zip(aa_long, aa1))\n",
    "aa_1_to_full = dict(zip(aa1, aa_long))"
   ]
  },
  {
   "cell_type": "code",
   "execution_count": null,
   "metadata": {
    "collapsed": false
   },
   "outputs": [],
   "source": [
    "# Original table http://www.proteinsandproteomics.org/content/free/tables_1/table08.pdf\n",
    "\n",
    "aa_properties = pd.read_table(os.path.join(files_dump_folder, 'properties_of_amino_acids.csv'), sep=';')\n",
    "\n",
    "aa_properties['Fraction of buried among this aa'] = aa_properties['Percent buried residues'].apply(lambda s: float(s.split()[0]))\n",
    "aa_properties['Fraction of buried among all buried'] = aa_properties['Percent buried residues'].apply(lambda s: float(s.split()[1][1:-1]))\n",
    "\n",
    "aa_properties['Polarity average ranking'] = aa_properties['Ranking of amino acid polarities'].apply(lambda s: float(s.split()[0]))\n",
    "aa_properties['Polarity ranking (Radzicka and Wolfenden 1988)'] = aa_properties['Ranking of amino acid polarities'].apply(lambda s: float(s.split()[1][1:-1]))\n",
    "\n",
    "aa_properties['amino_acid'] = aa_properties['Amino acid residue'].apply(lambda s: s.lower())\n",
    "aa_properties.set_index('amino_acid', inplace=True)\n",
    "\n",
    "aa_properties.drop(['Unnamed: 8', 'Unnamed: 10', 'Percent buried residues', 'Ranking of amino acid polarities', 'Amino acid residue'], inplace=True, axis=1)\n",
    "aa_properties = aa_properties.astype(np.float, raise_on_error=False)\n",
    "\n",
    "quantitative_properties = [p for p in aa_properties.columns if 'pKa' not in p]\n",
    "\n",
    "def get_aa_properties_by_single_letter_code(aa_1):\n",
    "    return aa_properties.loc[aa_1_to_full[aa_1]]"
   ]
  }
 ],
 "metadata": {
  "kernelspec": {
   "display_name": "Python 2",
   "language": "python",
   "name": "python2"
  },
  "language_info": {
   "codemirror_mode": {
    "name": "ipython",
    "version": 2
   },
   "file_extension": ".py",
   "mimetype": "text/x-python",
   "name": "python",
   "nbconvert_exporter": "python",
   "pygments_lexer": "ipython2",
   "version": "2.7.13"
  }
 },
 "nbformat": 4,
 "nbformat_minor": 0
}
