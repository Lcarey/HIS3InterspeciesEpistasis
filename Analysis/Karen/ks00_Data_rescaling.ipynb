{
 "cells": [
  {
   "cell_type": "code",
   "execution_count": 15,
   "metadata": {
    "collapsed": false
   },
   "outputs": [],
   "source": [
    "import numpy as np\n",
    "from scipy import stats\n",
    "import pandas as pd\n",
    "import os\n",
    "from collections import OrderedDict\n",
    "from matplotlib import pyplot as plt\n",
    "%matplotlib inline"
   ]
  },
  {
   "cell_type": "code",
   "execution_count": 5,
   "metadata": {
    "collapsed": false
   },
   "outputs": [],
   "source": [
    "def find_folder_upstream(folder_name, max_iterations=50):\n",
    "    current_folder = os.getcwd()\n",
    "    counter = 0\n",
    "    while os.path.basename(current_folder) != folder_name and counter < max_iterations:\n",
    "        current_folder = os.path.dirname(current_folder)\n",
    "        counter += 1\n",
    "    if not counter < max_iterations:\n",
    "        return None\n",
    "    return current_folder\n",
    "\n",
    "root_folder_name = 'HIS3InterspeciesEpistasis'\n",
    "root_folder = find_folder_upstream(root_folder_name)\n",
    "if not root_folder:\n",
    "    print 'Did not find root folder for our github repository.\\nPlease run \"ks01\" notebook from a script inside the HIS3InterspeciesEpistasis folder!'\n",
    "\n",
    "data_folder = os.path.join(root_folder, 'Data')\n",
    "small_tables_folder = os.path.join(root_folder, 'Data_Small_Tables')\n",
    "analysis_folder = os.path.join(root_folder, 'Analysis')\n",
    "karen_folder = os.path.join(analysis_folder, 'Karen')"
   ]
  },
  {
   "cell_type": "code",
   "execution_count": 8,
   "metadata": {
    "collapsed": false
   },
   "outputs": [],
   "source": [
    "data_all = OrderedDict()\n",
    "files = [f for f in os.listdir(data_folder) if '.csv' in f]\n",
    "for f in sorted(files, key = lambda s: int(s.split('_')[0][1:])):\n",
    "    data_all[f[:-9]] = pd.read_table(os.path.join(data_folder, f))"
   ]
  },
  {
   "cell_type": "code",
   "execution_count": 21,
   "metadata": {
    "collapsed": false
   },
   "outputs": [
    {
     "data": {
      "text/plain": [
       "[<matplotlib.lines.Line2D at 0x14991a350>]"
      ]
     },
     "execution_count": 21,
     "metadata": {},
     "output_type": "execute_result"
    },
    {
     "data": {
      "image/png": "[encoded data removed]",
      "text/plain": [
       "<matplotlib.figure.Figure at 0x14a13c450>"
      ]
     },
     "metadata": {},
     "output_type": "display_data"
    }
   ],
   "source": [
    "data = data_all['S1_scaled'][data_all['S1_scaled'].s > 0.3].s.values\n",
    "kde = stats.gaussian_kde(data)\n",
    "x = np.linspace(data.min(), data.max(), 100)\n",
    "p = kde(x)\n",
    "center_of_peak = x[np.argmax(p)]\n",
    "plt.axvline(center_of_peak, color='red', ls='--')\n",
    "plt.plot(x,p)"
   ]
  }
 ],
 "metadata": {
  "kernelspec": {
   "display_name": "Python 2",
   "language": "python",
   "name": "python2"
  },
  "language_info": {
   "codemirror_mode": {
    "name": "ipython",
    "version": 2
   },
   "file_extension": ".py",
   "mimetype": "text/x-python",
   "name": "python",
   "nbconvert_exporter": "python",
   "pygments_lexer": "ipython2",
   "version": "2.7.13"
  }
 },
 "nbformat": 4,
 "nbformat_minor": 0
}
