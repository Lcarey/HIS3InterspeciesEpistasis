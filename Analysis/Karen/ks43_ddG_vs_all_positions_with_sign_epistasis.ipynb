{
 "cells": [
  {
   "cell_type": "code",
   "execution_count": 1,
   "metadata": {
    "collapsed": true
   },
   "outputs": [],
   "source": [
    "import matplotlib\n",
    "matplotlib.rcParams['pdf.fonttype'] = 42\n"
   ]
  },
  {
   "cell_type": "code",
   "execution_count": 2,
   "metadata": {
    "collapsed": true
   },
   "outputs": [],
   "source": [
    "from scipy import stats"
   ]
  },
  {
   "cell_type": "code",
   "execution_count": 3,
   "metadata": {
    "collapsed": false
   },
   "outputs": [
    {
     "name": "stdout",
     "output_type": "stream",
     "text": [
      "Running notebook 'ks01_Data_import.ipynb'...\n",
      "\n"
     ]
    },
    {
     "name": "stderr",
     "output_type": "stream",
     "text": [
      "/Users/karen/anaconda/lib/python2.7/site-packages/matplotlib/font_manager.py:273: UserWarning: Matplotlib is building the font cache using fc-list. This may take a moment.\n",
      "  warnings.warn('Matplotlib is building the font cache using fc-list. This may take a moment.')\n",
      "/Users/karen/anaconda/lib/python2.7/site-packages/IPython/html.py:14: ShimWarning: The `IPython.html` package has been deprecated. You should import from `notebook` instead. `IPython.html.widgets` has moved to `ipywidgets`.\n",
      "  \"`IPython.html.widgets` has moved to `ipywidgets`.\", ShimWarning)\n"
     ]
    },
    {
     "name": "stdout",
     "output_type": "stream",
     "text": [
      "\n",
      "Variables: \n",
      "\n",
      "- positions:\t\t\ta pandas.DataFrame with information about position numbers, segments etc\n",
      "- get_segment_of_a_genotype:\ta function that return the segment of genotype (the most likely segment\n",
      "\t\t\t\tbecause sometimes it's not possible to say for sure)\n",
      "\n",
      "\n",
      "Reading precalculated epistasis...\n",
      "/Users/karen/HIS3InterspeciesEpistasis/Analysis/Karen/files_dump/epistasis_in_foursomes/\n",
      "\n",
      "\n",
      "\n",
      "Variables: \n",
      "\n",
      "- ep_dict: a dictionary, Keys are tuples (mutA, mutB) and values are pandas.Series of epistasis between mutA and mutB in all backgrounds. \n",
      "Tuples (mutA, mutB) are sorted by aa_position.\n",
      "\n",
      "- get_ep_summary: a function that takes ep_dict as an argument and applies an arbitrary function to every pd.Series object. For example, ep_summary = get_ep_summary(ep_dict, np.mean)\n",
      "\n",
      "- get_ep_summary_by_positions: a function that uses get_ep_summary and then averages results by position_pair. For example, get_ep_summary_by_positions(ep_dict, np.max, np.mean) will apply np.max to epistasis series and then use np.mean to average across a position pair. \n",
      "\n",
      "Important: natlib_filtering is currently True. This can be changed in the cell #2.\n",
      "\n"
     ]
    }
   ],
   "source": [
    "%run 'ks25_Read_epistasis.ipynb'"
   ]
  },
  {
   "cell_type": "code",
   "execution_count": 4,
   "metadata": {
    "collapsed": false
   },
   "outputs": [
    {
     "name": "stdout",
     "output_type": "stream",
     "text": [
      "\n",
      "Variables: \n",
      "\n",
      "- positions:\t\t\ta pandas.DataFrame with information about position numbers, segments etc\n",
      "- get_segment_of_a_genotype:\ta function that return the segment of genotype (the most likely segment\n",
      "\t\t\t\tbecause sometimes it's not possible to say for sure)\n",
      "\n",
      "\n",
      "Variables: \n",
      "\n",
      "- fit_dict: a dictionary, keys are mutations and values are pandas.Series of fitness impacts in all backgrounds. \n",
      "\n"
     ]
    }
   ],
   "source": [
    "%run 'ks21_Read_impacts_of_mutations.ipynb'"
   ]
  },
  {
   "cell_type": "code",
   "execution_count": 5,
   "metadata": {
    "collapsed": false
   },
   "outputs": [
    {
     "name": "stdout",
     "output_type": "stream",
     "text": [
      "\n",
      "Variables: \n",
      "\n",
      "- positions:\t\t\ta pandas.DataFrame with information about position numbers, segments etc\n",
      "- get_segment_of_a_genotype:\ta function that return the segment of genotype (the most likely segment\n",
      "\t\t\t\tbecause sometimes it's not possible to say for sure)\n",
      "\n",
      "\n",
      "Variables: \n",
      "- predicted_ddG:\t\tPandas DataFrame with all calculated ddG (single, double and triple mutants (?)),\n",
      "- predicted_doubles:\t\tdoubles only (Pandas DataFrame),\n",
      "- predicted_singles:\t\tsingles only (Pandas DataFrame),\n",
      "- get_ddG:\t\t\tfunction that returns predicted ddG for a genotype\n",
      "- by_position_mean_ddG:\t\tmean ddG value at each position,\n",
      "- by_position_var_ddG:\t\tvariance of predicted ddG at each position.\n",
      "\n"
     ]
    }
   ],
   "source": [
    "%run 'ks20_Read_ddG.ipynb'"
   ]
  },
  {
   "cell_type": "code",
   "execution_count": 6,
   "metadata": {
    "collapsed": false
   },
   "outputs": [
    {
     "name": "stdout",
     "output_type": "stream",
     "text": [
      "\n",
      "Variables: \n",
      "\n",
      "- weights: pandas.DataFrame containing weights of mutations from neural network data (column 'weight') and weights, or fitness potential, of single mutants (column 'mutant_weight')\n",
      "\n"
     ]
    }
   ],
   "source": [
    "%run 'ks35_Read_weights.ipynb'"
   ]
  },
  {
   "cell_type": "code",
   "execution_count": 7,
   "metadata": {
    "collapsed": false
   },
   "outputs": [
    {
     "name": "stdout",
     "output_type": "stream",
     "text": [
      "94 positions under sign epistasis\n",
      "59 positions under reciprocal sign epistasis\n",
      "Pandas DataFrames available:\n",
      "lucas_sign_epistasis, lucas_reciprocal_sign_epistasis\n",
      "\n",
      "pBon threshold = 0.01\n",
      "The following sets of positions are available:\n",
      "all_sampled_positions, sign_epistasis_positions, reciprocal_sign_epistasis_positions\n"
     ]
    }
   ],
   "source": [
    "%run 'ks23_Read_Lucas_sign_epistasis_data.ipynb'"
   ]
  },
  {
   "cell_type": "code",
   "execution_count": 8,
   "metadata": {
    "collapsed": false
   },
   "outputs": [],
   "source": [
    "lucas_sign_epistasis['mutA'] = lucas_sign_epistasis.apply(lambda df: df['Perm'][0] + str(df['VarPos_absolute']) + df['Perm'][1], axis=1)\n",
    "lucas_sign_epistasis['mutB'] = lucas_sign_epistasis.apply(lambda df: df['SubPerm'][0] + str(df['SubPos_absolute']) + df['SubPerm'][1], axis=1)\n",
    "lucas_sign_epistasis['mut_list_Scer_full'] = lucas_sign_epistasis.apply(lambda df: ':'.join(sorted([df['mutA'], df['mutB']], key=lambda s: int(s[1:-1]))), axis=1)\n",
    "lucas_sign_epistasis['mut_list_Scer'] = lucas_sign_epistasis.apply(lambda df: ':'.join(sorted([df['mutA'][1:], df['mutB'][1:]], key=lambda s: int(s[:-1]))), axis=1)\n",
    "lucas_sign_epistasis.set_index('mut_list_Scer_full', inplace=True)"
   ]
  },
  {
   "cell_type": "code",
   "execution_count": 22,
   "metadata": {
    "collapsed": false
   },
   "outputs": [],
   "source": [
    "def get_genotype(mutations):\n",
    "    return ':'.join(sorted(mutations, key=lambda m: int(m[:-1])))\n",
    "\n",
    "def get_position(mutation):\n",
    "    return int(mutation[:-1])\n",
    "\n",
    "ddG_table = predicted_ddG\n",
    "segment = 'S2_scaled'\n",
    "\n",
    "folding_effects = OrderedDict()\n",
    "epistasis_effects = OrderedDict()\n",
    "\n",
    "for mutA in natural_unique_single_mutations[segment]:\n",
    "        eps = []\n",
    "        folding = []\n",
    "        for mutB in natural_unique_single_mutations[segment]:\n",
    "            if get_position(mutA) != get_position(mutB):\n",
    "                double_mutant = get_genotype([mutA, mutB]) \n",
    "                ddG_double = ddG_table.loc[double_mutant].ddG\n",
    "                ddG_singleB = ddG_table.loc[mutB].ddG\n",
    "                ddG_singleA_in_bgrB = ddG_double - ddG_singleB\n",
    "                epistasisA_in_bgrB = ep_dict[tuple(double_mutant.split(':'))].mean()\n",
    "                folding.append(ddG_singleA_in_bgrB)\n",
    "                eps.append(epistasisA_in_bgrB)\n",
    "        folding_effects[mutA] = folding\n",
    "        epistasis_effects[mutA] = eps\n",
    "        break\n",
    "        \n",
    "        plot_better()\n",
    "        plt.scatter(folding, eps)"
   ]
  }
 ],
 "metadata": {
  "kernelspec": {
   "display_name": "Python 2",
   "language": "python",
   "name": "python2"
  },
  "language_info": {
   "codemirror_mode": {
    "name": "ipython",
    "version": 2
   },
   "file_extension": ".py",
   "mimetype": "text/x-python",
   "name": "python",
   "nbconvert_exporter": "python",
   "pygments_lexer": "ipython2",
   "version": "2.7.13"
  }
 },
 "nbformat": 4,
 "nbformat_minor": 0
}
