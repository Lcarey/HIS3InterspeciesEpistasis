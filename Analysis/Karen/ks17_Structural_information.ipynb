{
 "cells": [
  {
   "cell_type": "code",
   "execution_count": 1,
   "metadata": {
    "collapsed": false
   },
   "outputs": [],
   "source": [
    "%run 'pymol_and_pdb_functions.py'\n",
    "start_pymol()"
   ]
  },
  {
   "cell_type": "code",
   "execution_count": 2,
   "metadata": {
    "collapsed": false
   },
   "outputs": [
    {
     "name": "stderr",
     "output_type": "stream",
     "text": [
      "/Users/karen/anaconda/lib/python2.7/site-packages/matplotlib/font_manager.py:273: UserWarning: Matplotlib is building the font cache using fc-list. This may take a moment.\n",
      "  warnings.warn('Matplotlib is building the font cache using fc-list. This may take a moment.')\n",
      "/Users/karen/anaconda/lib/python2.7/site-packages/IPython/html.py:14: ShimWarning: The `IPython.html` package has been deprecated. You should import from `notebook` instead. `IPython.html.widgets` has moved to `ipywidgets`.\n",
      "  \"`IPython.html.widgets` has moved to `ipywidgets`.\", ShimWarning)\n"
     ]
    }
   ],
   "source": [
    "import itertools\n",
    "\n",
    "%run 'ks01_Functions_only.ipynb'\n",
    "notebook_prefix = 'ks16'\n",
    "image_counter = Counter()"
   ]
  },
  {
   "cell_type": "markdown",
   "metadata": {},
   "source": [
    "### Reading 24-mer structure"
   ]
  },
  {
   "cell_type": "code",
   "execution_count": 3,
   "metadata": {
    "collapsed": false,
    "scrolled": true
   },
   "outputs": [
    {
     "name": "stderr",
     "output_type": "stream",
     "text": [
      "/Users/karen/anaconda/lib/python2.7/site-packages/Bio/PDB/StructureBuilder.py:85: PDBConstructionWarning: WARNING: Chain A is discontinuous at line 37657.\n",
      "  PDBConstructionWarning)\n",
      "/Users/karen/anaconda/lib/python2.7/site-packages/Bio/PDB/StructureBuilder.py:85: PDBConstructionWarning: WARNING: Chain B is discontinuous at line 37675.\n",
      "  PDBConstructionWarning)\n",
      "/Users/karen/anaconda/lib/python2.7/site-packages/Bio/PDB/StructureBuilder.py:85: PDBConstructionWarning: WARNING: Chain C is discontinuous at line 37693.\n",
      "  PDBConstructionWarning)\n",
      "/Users/karen/anaconda/lib/python2.7/site-packages/Bio/PDB/StructureBuilder.py:85: PDBConstructionWarning: WARNING: Chain D is discontinuous at line 37711.\n",
      "  PDBConstructionWarning)\n",
      "/Users/karen/anaconda/lib/python2.7/site-packages/Bio/PDB/StructureBuilder.py:85: PDBConstructionWarning: WARNING: Chain E is discontinuous at line 37729.\n",
      "  PDBConstructionWarning)\n",
      "/Users/karen/anaconda/lib/python2.7/site-packages/Bio/PDB/StructureBuilder.py:85: PDBConstructionWarning: WARNING: Chain F is discontinuous at line 37747.\n",
      "  PDBConstructionWarning)\n",
      "/Users/karen/anaconda/lib/python2.7/site-packages/Bio/PDB/StructureBuilder.py:85: PDBConstructionWarning: WARNING: Chain G is discontinuous at line 37765.\n",
      "  PDBConstructionWarning)\n",
      "/Users/karen/anaconda/lib/python2.7/site-packages/Bio/PDB/StructureBuilder.py:85: PDBConstructionWarning: WARNING: Chain H is discontinuous at line 37783.\n",
      "  PDBConstructionWarning)\n",
      "/Users/karen/anaconda/lib/python2.7/site-packages/Bio/PDB/StructureBuilder.py:85: PDBConstructionWarning: WARNING: Chain I is discontinuous at line 37801.\n",
      "  PDBConstructionWarning)\n",
      "/Users/karen/anaconda/lib/python2.7/site-packages/Bio/PDB/StructureBuilder.py:85: PDBConstructionWarning: WARNING: Chain J is discontinuous at line 37819.\n",
      "  PDBConstructionWarning)\n",
      "/Users/karen/anaconda/lib/python2.7/site-packages/Bio/PDB/StructureBuilder.py:85: PDBConstructionWarning: WARNING: Chain K is discontinuous at line 37837.\n",
      "  PDBConstructionWarning)\n",
      "/Users/karen/anaconda/lib/python2.7/site-packages/Bio/PDB/StructureBuilder.py:85: PDBConstructionWarning: WARNING: Chain L is discontinuous at line 37855.\n",
      "  PDBConstructionWarning)\n",
      "/Users/karen/anaconda/lib/python2.7/site-packages/Bio/PDB/StructureBuilder.py:85: PDBConstructionWarning: WARNING: Chain M is discontinuous at line 37873.\n",
      "  PDBConstructionWarning)\n",
      "/Users/karen/anaconda/lib/python2.7/site-packages/Bio/PDB/StructureBuilder.py:85: PDBConstructionWarning: WARNING: Chain N is discontinuous at line 37891.\n",
      "  PDBConstructionWarning)\n",
      "/Users/karen/anaconda/lib/python2.7/site-packages/Bio/PDB/StructureBuilder.py:85: PDBConstructionWarning: WARNING: Chain O is discontinuous at line 37909.\n",
      "  PDBConstructionWarning)\n",
      "/Users/karen/anaconda/lib/python2.7/site-packages/Bio/PDB/StructureBuilder.py:85: PDBConstructionWarning: WARNING: Chain P is discontinuous at line 37927.\n",
      "  PDBConstructionWarning)\n",
      "/Users/karen/anaconda/lib/python2.7/site-packages/Bio/PDB/StructureBuilder.py:85: PDBConstructionWarning: WARNING: Chain Q is discontinuous at line 37945.\n",
      "  PDBConstructionWarning)\n",
      "/Users/karen/anaconda/lib/python2.7/site-packages/Bio/PDB/StructureBuilder.py:85: PDBConstructionWarning: WARNING: Chain R is discontinuous at line 37963.\n",
      "  PDBConstructionWarning)\n",
      "/Users/karen/anaconda/lib/python2.7/site-packages/Bio/PDB/StructureBuilder.py:85: PDBConstructionWarning: WARNING: Chain S is discontinuous at line 37981.\n",
      "  PDBConstructionWarning)\n",
      "/Users/karen/anaconda/lib/python2.7/site-packages/Bio/PDB/StructureBuilder.py:85: PDBConstructionWarning: WARNING: Chain T is discontinuous at line 37999.\n",
      "  PDBConstructionWarning)\n",
      "/Users/karen/anaconda/lib/python2.7/site-packages/Bio/PDB/StructureBuilder.py:85: PDBConstructionWarning: WARNING: Chain U is discontinuous at line 38017.\n",
      "  PDBConstructionWarning)\n",
      "/Users/karen/anaconda/lib/python2.7/site-packages/Bio/PDB/StructureBuilder.py:85: PDBConstructionWarning: WARNING: Chain V is discontinuous at line 38035.\n",
      "  PDBConstructionWarning)\n",
      "/Users/karen/anaconda/lib/python2.7/site-packages/Bio/PDB/StructureBuilder.py:85: PDBConstructionWarning: WARNING: Chain W is discontinuous at line 38053.\n",
      "  PDBConstructionWarning)\n",
      "/Users/karen/anaconda/lib/python2.7/site-packages/Bio/PDB/StructureBuilder.py:85: PDBConstructionWarning: WARNING: Chain X is discontinuous at line 38071.\n",
      "  PDBConstructionWarning)\n"
     ]
    }
   ],
   "source": [
    "his3_aligned_to_4lom_assembly_file = os.path.join(structure_predictions_folder, 'his3_24mer_assembly', \n",
    "                                                  'his3_swiss_aligned_to_4lom_assembly.pdb')\n",
    "structure = Bio.PDB.PDBParser().get_structure('his3_swiss_assembly', his3_aligned_to_4lom_assembly_file)\n",
    "model = structure[0]"
   ]
  },
  {
   "cell_type": "markdown",
   "metadata": {},
   "source": [
    "### Calculating distances"
   ]
  },
  {
   "cell_type": "code",
   "execution_count": 4,
   "metadata": {
    "collapsed": false
   },
   "outputs": [],
   "source": [
    "distance_dict = OrderedDict()\n",
    "prefix = 'res_'\n",
    "\n",
    "constant_chain = model['A']\n",
    "positions_in_crystal = [r.id[1] for r in constant_chain.get_residues() if r.get_resname() in aa3]\n",
    "\n",
    "f = FloatProgress(min=0, max=len(list(constant_chain.get_residues())))\n",
    "display(f)\n",
    "\n",
    "for residue in constant_chain.get_residues():\n",
    "    if residue.get_resname() in aa3:\n",
    "        distance_dict[prefix + '%s' %residue.id[1]] = OrderedDict()\n",
    "\n",
    "        # distances to other residues\n",
    "        for position in positions_in_crystal:\n",
    "            distances = []\n",
    "            for other_chain in model.get_chains():\n",
    "                distances.append(get_distance_between_residues(residue, other_chain[position]))\n",
    "            distance_dict[prefix + '%s' %residue.id[1]][prefix + '%s' %position] = min(distances)\n",
    "\n",
    "        # distances to Mn ions\n",
    "        for position in [302, 303, 304]:\n",
    "            distances = []\n",
    "            for other_chain in model.get_chains():\n",
    "                other_residue = [r for r in other_chain if position == r.id[1]][0]\n",
    "                distances.append(get_distance_between_residues(residue, other_residue))\n",
    "            distance_dict[prefix + '%s' %residue.id[1]]['Mn_' + '%s' %position] = min(distances)\n",
    "        distance_dict[prefix + '%s' %residue.id[1]]['Mn_substrate_bound'] = min(\n",
    "            distance_dict[prefix + '%s' %residue.id[1]]['Mn_' + '302'],\n",
    "            distance_dict[prefix + '%s' %residue.id[1]]['Mn_' + '303'])\n",
    "            \n",
    "        # distances to substrate\n",
    "        for position in [301]:\n",
    "            distances = []\n",
    "            for other_chain in model.get_chains():\n",
    "                other_residue = [r for r in other_chain if position == r.id[1]][0]\n",
    "                distances.append(get_distance_between_residues(residue, other_residue))\n",
    "            distance_dict[prefix + '%s' %residue.id[1]]['substrate'] = min(distances)\n",
    "    f.value += 1"
   ]
  },
  {
   "cell_type": "code",
   "execution_count": 5,
   "metadata": {
    "collapsed": true
   },
   "outputs": [],
   "source": [
    "structural_data = pd.DataFrame.from_dict(distance_dict, orient='index')\n",
    "new_index = sorted(structural_data.index.values, key=lambda s: int(s[4:]))\n",
    "structural_data = structural_data.reindex(new_index)\n",
    "structural_data['position'] = structural_data.index.map(lambda s: int(s[4:]))"
   ]
  },
  {
   "cell_type": "markdown",
   "metadata": {},
   "source": [
    "### Secondary structure"
   ]
  },
  {
   "cell_type": "code",
   "execution_count": 21,
   "metadata": {
    "collapsed": false,
    "scrolled": false
   },
   "outputs": [],
   "source": [
    "# information from PyMol?\n",
    "helices = range (60,74) + range (89,109) + range (157,172) + range (185,205)\n",
    "sheets = range(5,12) + range(15,23) + range(52,55) + range(76,84) + range(117,125) + range(127,135) + range(138,145) + range(173,182)\n",
    "disordered = [position for position in range(1, len(Scer_Uniprot)) if position not in helices and position not in sheets]\n",
    "\n",
    "def get_secondary_structure(position):\n",
    "#     print position, position in helices, position in sheets\n",
    "    assert ~(position in helices and position in sheets)\n",
    "    if position in helices:\n",
    "        return 'helix'\n",
    "    elif position in sheets:\n",
    "        return 'sheet'\n",
    "    else:\n",
    "        return 'disordered'\n",
    "\n",
    "structural_data['secondary_structure'] = structural_data['position'].apply(get_secondary_structure)"
   ]
  },
  {
   "cell_type": "markdown",
   "metadata": {
    "collapsed": true
   },
   "source": [
    "### Finding interface residues"
   ]
  },
  {
   "cell_type": "code",
   "execution_count": null,
   "metadata": {
    "collapsed": false
   },
   "outputs": [],
   "source": [
    "ascii_letters_upper = 'ABCDEFGHIJKLMNOPQRSTUVWXYZ'\n",
    "\n",
    "cmd.reinitialize()\n",
    "cmd.load(his3_aligned_to_4lom_assembly_file, 'his3_swiss_assembly')\n",
    "\n",
    "interfaces = {}\n",
    "f = FloatProgress(min=0, max=len(list(itertools.combinations(range(24), 2))))\n",
    "display(f)\n",
    "for chain_index1, chain_index2 in (itertools.combinations(range(24), 2)):\n",
    "    chain1, chain2 = ascii_letters_upper[chain_index1], ascii_letters_upper[chain_index2]\n",
    "    returned = interfaceResidues('his3_swiss_assembly', cA = 'c. %s' %chain1, cB = 'c. %s' %chain2)\n",
    "    interfaces[chain1, chain2] = returned\n",
    "    f.value += 1\n",
    "    \n",
    "interface_residues = []\n",
    "for k,v in interfaces.items():\n",
    "    interface_residues.extend([e[1] for e in v])\n",
    "interface_residues = sorted(list(set([int(p) for p in interface_residues])))\n",
    "\n",
    "structural_data['interface'] = structural_data.index.map(lambda s: int(s[4:]) in interface_residues)"
   ]
  },
  {
   "cell_type": "markdown",
   "metadata": {},
   "source": [
    "### Reading data on sign epistasis from Lucas"
   ]
  },
  {
   "cell_type": "code",
   "execution_count": 7,
   "metadata": {
    "collapsed": true
   },
   "outputs": [],
   "source": [
    "# Relative >>> absolute position\n",
    "position_translation = pd.read_table(files_dump_folder + 'position_translation.csv')\n",
    "position_translation.set_index('relative_position', inplace=True)\n",
    "\n",
    "def get_absolute_position(segment_number, relative_position):\n",
    "    return int(position_translation.iloc[relative_position]['S'+str(segment_number)])"
   ]
  },
  {
   "cell_type": "code",
   "execution_count": 8,
   "metadata": {
    "collapsed": false
   },
   "outputs": [
    {
     "name": "stdout",
     "output_type": "stream",
     "text": [
      "94 positions under sign epistasis\n",
      "59 positions under reciprocal sign epistasis\n"
     ]
    }
   ],
   "source": [
    "lucas_sign_epistasis = pd.read_csv(files_dump_folder + 'sign_epistasis/' + 'lucas_sign_epistasis.csv')\n",
    "lucas_reciprocal_sign_epistasis = pd.read_csv(files_dump_folder + 'sign_epistasis/' + 'lucas_reciprocal_sign_epistasis.csv')\n",
    "\n",
    "p_value_threshold = 0.01\n",
    "filtered = lucas_sign_epistasis[lucas_sign_epistasis['pBon'] < p_value_threshold]\n",
    "sign_epistasis_positions = set.union(set(filtered['VarPos_absolute'].values), \n",
    "                                                set(filtered['SubPos_absolute'].values))\n",
    "sign_epistasis_positions = sorted([int(s) for s in sign_epistasis_positions])\n",
    "print len(sign_epistasis_positions), 'positions under sign epistasis'\n",
    "\n",
    "reciprocal_sign_epistasis_positions = set.union(set(lucas_reciprocal_sign_epistasis['position1'].values), \n",
    "                                                set(lucas_reciprocal_sign_epistasis['position1'].values))\n",
    "reciprocal_sign_epistasis_positions = sorted([int(s) for s in reciprocal_sign_epistasis_positions])\n",
    "print len(reciprocal_sign_epistasis_positions), 'positions under reciprocal sign epistasis'\n",
    "\n",
    "structural_data['lucas_sign_epistasis'] = structural_data.index.map(lambda s: int(s[4:]) in sign_epistasis_positions)\n",
    "structural_data['lucas_reciprocal_sign_epistasis'] = structural_data.index.map(lambda s: int(s[4:]) in reciprocal_sign_epistasis_positions)"
   ]
  },
  {
   "cell_type": "markdown",
   "metadata": {},
   "source": [
    "### Saving files"
   ]
  },
  {
   "cell_type": "code",
   "execution_count": 9,
   "metadata": {
    "collapsed": true
   },
   "outputs": [],
   "source": [
    "structural_data.to_hdf(files_dump_folder + 'structural_data_for_predicted_24mer.hdf', 'data')\n",
    "structural_data.reset_index().to_csv(files_dump_folder + 'structural_data_for_predicted_24mer.csv', index=False)"
   ]
  }
 ],
 "metadata": {
  "kernelspec": {
   "display_name": "Python 2",
   "language": "python",
   "name": "python2"
  },
  "language_info": {
   "codemirror_mode": {
    "name": "ipython",
    "version": 2
   },
   "file_extension": ".py",
   "mimetype": "text/x-python",
   "name": "python",
   "nbconvert_exporter": "python",
   "pygments_lexer": "ipython2",
   "version": "2.7.13"
  }
 },
 "nbformat": 4,
 "nbformat_minor": 0
}
