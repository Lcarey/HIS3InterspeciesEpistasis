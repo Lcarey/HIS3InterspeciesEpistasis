{
 "cells": [
  {
   "cell_type": "code",
   "execution_count": 15,
   "metadata": {
    "collapsed": true
   },
   "outputs": [],
   "source": [
    "import pandas as pd\n",
    "import os\n",
    "from Bio import SeqIO\n",
    "import ast"
   ]
  },
  {
   "cell_type": "code",
   "execution_count": 16,
   "metadata": {
    "collapsed": true
   },
   "outputs": [],
   "source": [
    "def find_folder_upstream(folder_name, max_iterations=50):\n",
    "    current_folder = os.getcwd()\n",
    "    counter = 0\n",
    "    while os.path.basename(current_folder) != folder_name and counter < max_iterations:\n",
    "        current_folder = os.path.dirname(current_folder)\n",
    "        counter += 1\n",
    "    if not counter < max_iterations:\n",
    "        return None\n",
    "    return current_folder"
   ]
  },
  {
   "cell_type": "code",
   "execution_count": 17,
   "metadata": {
    "collapsed": true
   },
   "outputs": [],
   "source": [
    "root_folder_name = 'HIS3InterspeciesEpistasis'\n",
    "root_folder = find_folder_upstream(root_folder_name)\n",
    "if not root_folder:\n",
    "    print 'Did not find root folder for our github repository.\\nPlease run \"ks01\" notebook from a script inside the HIS3InterspeciesEpistasis folder!'\n",
    "\n",
    "data_folder = os.path.join(root_folder, 'Data', '')\n",
    "small_tables_folder = os.path.join(root_folder, 'Data_Small_Tables', '')\n",
    "analysis_folder = os.path.join(root_folder, 'Analysis', '')\n",
    "karen_folder = os.path.join(analysis_folder, 'Karen', '')\n",
    "figures_folder = os.path.join(karen_folder, 'figures', '')\n",
    "files_dump_folder = os.path.join(karen_folder, 'files_dump', '')\n",
    "structure_predictions_folder = os.path.join(files_dump_folder, 'structure_predictions', '')\n",
    "structure_visualizations_folder = os.path.join(files_dump_folder, 'structure_visualizations', '')\n",
    "pymol_sessions_folder = os.path.join(files_dump_folder, 'structure_visualizations/pymol_sessions/', '')"
   ]
  },
  {
   "cell_type": "markdown",
   "metadata": {},
   "source": [
    "### Working with positions"
   ]
  },
  {
   "cell_type": "code",
   "execution_count": 18,
   "metadata": {
    "collapsed": false
   },
   "outputs": [],
   "source": [
    "def remove_gaps(seq):\n",
    "    return ''.join([c for c in seq if c != '-'])\n",
    "\n",
    "def get_wt_position(position_in_alignment):\n",
    "    truncated_seq = remove_gaps(aligned_Scer[:position_in_alignment+1])\n",
    "    return len(truncated_seq)\n",
    "\n",
    "def relative_to_absolute_numbering(mutation, segment, df_with_data):\n",
    "    display(df_with_data[segment][df_with_data[segment].mut_list == mutation][['mut_list', 'mut_list_Scer']])\n",
    "    return df_with_data[segment][df_with_data[segment].mut_list == mutation].mut_list_Scer.values[0]"
   ]
  },
  {
   "cell_type": "code",
   "execution_count": 19,
   "metadata": {
    "collapsed": false
   },
   "outputs": [],
   "source": [
    "Scer_Uniprot = open(os.path.join(files_dump_folder, 'HIS3_saccharomyces_cerevisiae_from_Uniprot_P06633.txt')).read().rstrip()\n",
    "alignment_file = os.path.join(small_tables_folder, 'aa_seq.txt')\n",
    "for seq_record in SeqIO.parse(alignment_file, 'fasta'):\n",
    "    if seq_record.id == 'Scer':\n",
    "        aligned_Scer = str(seq_record.seq)\n",
    "        break\n",
    "assert remove_gaps(aligned_Scer) == Scer_Uniprot"
   ]
  },
  {
   "cell_type": "code",
   "execution_count": 20,
   "metadata": {
    "collapsed": false,
    "scrolled": true
   },
   "outputs": [
    {
     "data": {
      "text/html": [
       "<div>\n",
       "<table border=\"1\" class=\"dataframe\">\n",
       "  <thead>\n",
       "    <tr style=\"text-align: right;\">\n",
       "      <th>Unnamed: 0</th>\n",
       "      <th>segment</th>\n",
       "      <th>wt1</th>\n",
       "      <th>positions_alignment</th>\n",
       "      <th>len1</th>\n",
       "      <th>len2</th>\n",
       "      <th>start1</th>\n",
       "      <th>end1</th>\n",
       "      <th>wt2</th>\n",
       "      <th>start2</th>\n",
       "      <th>end2</th>\n",
       "      <th>start_Scer</th>\n",
       "      <th>end_Scer</th>\n",
       "      <th>positions_Uniprot_P06633</th>\n",
       "    </tr>\n",
       "  </thead>\n",
       "  <tbody>\n",
       "    <tr>\n",
       "      <th>0</th>\n",
       "      <td>S1</td>\n",
       "      <td>EALGAVRGVK</td>\n",
       "      <td>[140, 141, 142, 143, 144, 145, 146, 147, 148, ...</td>\n",
       "      <td>10</td>\n",
       "      <td>10</td>\n",
       "      <td>140</td>\n",
       "      <td>149</td>\n",
       "      <td>EALSRAVVDL</td>\n",
       "      <td>160</td>\n",
       "      <td>169</td>\n",
       "      <td>106</td>\n",
       "      <td>135</td>\n",
       "      <td>[106, 107, 108, 109, 110, 111, 112, 113, 114, ...</td>\n",
       "    </tr>\n",
       "    <tr>\n",
       "      <th>1</th>\n",
       "      <td>S2</td>\n",
       "      <td>SNRPYAVVE</td>\n",
       "      <td>[170, 171, 172, 173, 174, 175, 176, 177, 178, ...</td>\n",
       "      <td>9</td>\n",
       "      <td>9</td>\n",
       "      <td>170</td>\n",
       "      <td>178</td>\n",
       "      <td>LSCEMIPHF</td>\n",
       "      <td>189</td>\n",
       "      <td>197</td>\n",
       "      <td>136</td>\n",
       "      <td>163</td>\n",
       "      <td>[136, 137, 138, 139, 140, 141, 142, 143, 144, ...</td>\n",
       "    </tr>\n",
       "    <tr>\n",
       "      <th>2</th>\n",
       "      <td>S3</td>\n",
       "      <td>LGLQREKVGD</td>\n",
       "      <td>[179, 180, 181, 182, 183, 184, 185, 186, 187, ...</td>\n",
       "      <td>10</td>\n",
       "      <td>7</td>\n",
       "      <td>179</td>\n",
       "      <td>188</td>\n",
       "      <td>LESFAEA</td>\n",
       "      <td>198</td>\n",
       "      <td>204</td>\n",
       "      <td>145</td>\n",
       "      <td>170</td>\n",
       "      <td>[145, 146, 147, 148, 149, 150, 151, 152, 153, ...</td>\n",
       "    </tr>\n",
       "  </tbody>\n",
       "</table>\n",
       "</div>"
      ],
      "text/plain": [
       "Unnamed: 0 segment         wt1  \\\n",
       "0               S1  EALGAVRGVK   \n",
       "1               S2   SNRPYAVVE   \n",
       "2               S3  LGLQREKVGD   \n",
       "\n",
       "Unnamed: 0                                positions_alignment len1 len2  \\\n",
       "0           [140, 141, 142, 143, 144, 145, 146, 147, 148, ...   10   10   \n",
       "1           [170, 171, 172, 173, 174, 175, 176, 177, 178, ...    9    9   \n",
       "2           [179, 180, 181, 182, 183, 184, 185, 186, 187, ...   10    7   \n",
       "\n",
       "Unnamed: 0 start1 end1         wt2 start2 end2 start_Scer end_Scer  \\\n",
       "0             140  149  EALSRAVVDL    160  169        106      135   \n",
       "1             170  178   LSCEMIPHF    189  197        136      163   \n",
       "2             179  188     LESFAEA    198  204        145      170   \n",
       "\n",
       "Unnamed: 0                           positions_Uniprot_P06633  \n",
       "0           [106, 107, 108, 109, 110, 111, 112, 113, 114, ...  \n",
       "1           [136, 137, 138, 139, 140, 141, 142, 143, 144, ...  \n",
       "2           [145, 146, 147, 148, 149, 150, 151, 152, 153, ...  "
      ]
     },
     "execution_count": 20,
     "metadata": {},
     "output_type": "execute_result"
    }
   ],
   "source": [
    "positions = pd.read_table(os.path.join(small_tables_folder, 'positions.csv'))\n",
    "positions = positions.set_index('Unnamed: 0').transpose().reset_index()\n",
    "positions.rename(columns={'index' : 'segment', 'positions':'positions_alignment'}, inplace=True)\n",
    "positions.reset_index(drop=True, inplace=True)\n",
    "positions['positions_alignment'] = positions['positions_alignment'].apply(lambda s: ast.literal_eval(s))\n",
    "positions['positions_Uniprot_P06633'] = positions.positions_alignment.apply(lambda l: [get_wt_position(p) for p in l])\n",
    "segment_names = positions.segment.values # not explicitly sorted\n",
    "positions.to_csv(os.path.join(files_dump_folder, 'information_about_segments.csv'), index=False)"
   ]
  },
  {
   "cell_type": "code",
   "execution_count": 30,
   "metadata": {
    "collapsed": false
   },
   "outputs": [],
   "source": [
    "# getting segment numbers for every position\n",
    "position_to_segment = {}\n",
    "for segment in positions.segment:\n",
    "    for position in positions.set_index('segment').loc[segment]['positions_Uniprot_P06633']:\n",
    "        position_to_segment[position] = segment\n",
    "        \n",
    "def get_segment(position_or_mutation):\n",
    "    if type(position_or_mutation) == int or type(position_or_mutation) == float:\n",
    "        return position_to_segment[int(position_or_mutation)] \n",
    "    elif type(position_or_mutation) == str:\n",
    "        return position_to_segment[int(position_or_mutation[:-1])] \n",
    "    \n",
    "def get_segment_of_a_genotype(mut_comb):\n",
    "    segments= []\n",
    "    mutation1 = mut_comb.split(':')[0]\n",
    "    position = int(mutation1[:-1])\n",
    "    segment = get_segment(position)\n",
    "    if len(mut_comb.split(':')) == 1:\n",
    "        return segment\n",
    "    segments.append(segment)\n",
    "    for mutation in mut_comb.split(':'):\n",
    "        if mutation != mutation1:\n",
    "            if segment != get_segment(int(mutation[:-1])):\n",
    "                segment = get_segment(int(mutation[:-1]))\n",
    "                segments.append(segment)\n",
    "            else:\n",
    "                return segment"
   ]
  },
  {
   "cell_type": "code",
   "execution_count": 24,
   "metadata": {
    "collapsed": false
   },
   "outputs": [
    {
     "name": "stdout",
     "output_type": "stream",
     "text": [
      "\n",
      "Variables: \n",
      "\n",
      "- positions:\t\t\ta pandas.DataFrame with information about position numbers, segments etc\n",
      "\n",
      "- get_segment_of_a_genotype:\ta function that return the segment of genotype (the most likely segment\n",
      "\t\t\t\tbecause sometimes it's not possible to say for sure)\n",
      "\n"
     ]
    }
   ],
   "source": [
    "print '''\n",
    "Variables: \n",
    "\n",
    "- positions:\\t\\t\\ta pandas.DataFrame with information about position numbers, segments etc\n",
    "- get_segment_of_a_genotype:\\ta function that return the segment of genotype (the most likely segment\\n\\t\\t\\t\\tbecause sometimes it's not possible to say for sure)\n",
    "'''"
   ]
  }
 ],
 "metadata": {
  "anaconda-cloud": {},
  "kernelspec": {
   "display_name": "Python [conda env:python2]",
   "language": "python",
   "name": "conda-env-python2-py"
  },
  "language_info": {
   "codemirror_mode": {
    "name": "ipython",
    "version": 2
   },
   "file_extension": ".py",
   "mimetype": "text/x-python",
   "name": "python",
   "nbconvert_exporter": "python",
   "pygments_lexer": "ipython2",
   "version": "2.7.13"
  }
 },
 "nbformat": 4,
 "nbformat_minor": 0
}
