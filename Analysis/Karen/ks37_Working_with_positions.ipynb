{
 "cells": [
  {
   "cell_type": "code",
   "execution_count": 2,
   "metadata": {
    "collapsed": true
   },
   "outputs": [],
   "source": [
    "import pandas as pd\n",
    "import os\n",
    "from Bio import SeqIO\n",
    "import ast"
   ]
  },
  {
   "cell_type": "code",
   "execution_count": 3,
   "metadata": {
    "collapsed": true
   },
   "outputs": [],
   "source": [
    "def find_folder_upstream(folder_name, max_iterations=50):\n",
    "    current_folder = os.getcwd()\n",
    "    counter = 0\n",
    "    while os.path.basename(current_folder) != folder_name and counter < max_iterations:\n",
    "        current_folder = os.path.dirname(current_folder)\n",
    "        counter += 1\n",
    "    if not counter < max_iterations:\n",
    "        return None\n",
    "    return current_folder"
   ]
  },
  {
   "cell_type": "code",
   "execution_count": 4,
   "metadata": {
    "collapsed": true
   },
   "outputs": [],
   "source": [
    "root_folder_name = 'HIS3InterspeciesEpistasis'\n",
    "root_folder = find_folder_upstream(root_folder_name)\n",
    "if not root_folder:\n",
    "    print 'Did not find root folder for our github repository.\\nPlease run \"ks01\" notebook from a script inside the HIS3InterspeciesEpistasis folder!'\n",
    "\n",
    "data_folder = os.path.join(root_folder, 'Data', '')\n",
    "small_tables_folder = os.path.join(root_folder, 'Data_Small_Tables', '')\n",
    "analysis_folder = os.path.join(root_folder, 'Analysis', '')\n",
    "karen_folder = os.path.join(analysis_folder, 'Karen', '')\n",
    "figures_folder = os.path.join(karen_folder, 'figures', '')\n",
    "files_dump_folder = os.path.join(karen_folder, 'files_dump', '')\n",
    "structure_predictions_folder = os.path.join(files_dump_folder, 'structure_predictions', '')\n",
    "structure_visualizations_folder = os.path.join(files_dump_folder, 'structure_visualizations', '')\n",
    "pymol_sessions_folder = os.path.join(files_dump_folder, 'structure_visualizations/pymol_sessions/', '')"
   ]
  },
  {
   "cell_type": "markdown",
   "metadata": {},
   "source": [
    "### Working with positions"
   ]
  },
  {
   "cell_type": "code",
   "execution_count": 5,
   "metadata": {
    "collapsed": false
   },
   "outputs": [],
   "source": [
    "def remove_gaps(seq):\n",
    "    return ''.join([c for c in seq if c != '-'])\n",
    "\n",
    "def get_wt_position(position_in_alignment):\n",
    "    truncated_seq = remove_gaps(aligned_Scer[:position_in_alignment+1])\n",
    "    return len(truncated_seq)\n",
    "\n",
    "def relative_to_absolute_numbering(mutation, segment, df_with_data):\n",
    "    display(df_with_data[segment][df_with_data[segment].mut_list == mutation][['mut_list', 'mut_list_Scer']])\n",
    "    return df_with_data[segment][df_with_data[segment].mut_list == mutation].mut_list_Scer.values[0]"
   ]
  },
  {
   "cell_type": "code",
   "execution_count": 6,
   "metadata": {
    "collapsed": false
   },
   "outputs": [],
   "source": [
    "Scer_Uniprot = open(os.path.join(files_dump_folder, 'HIS3_saccharomyces_cerevisiae_from_Uniprot_P06633.txt')).read().rstrip()\n",
    "alignment_file = os.path.join(small_tables_folder, 'aa_seq.txt')\n",
    "for seq_record in SeqIO.parse(alignment_file, 'fasta'):\n",
    "    if seq_record.id == 'Scer':\n",
    "        aligned_Scer = str(seq_record.seq)\n",
    "        break\n",
    "assert remove_gaps(aligned_Scer) == Scer_Uniprot"
   ]
  },
  {
   "cell_type": "code",
   "execution_count": 7,
   "metadata": {
    "collapsed": false,
    "scrolled": true
   },
   "outputs": [],
   "source": [
    "positions = pd.read_table(os.path.join(small_tables_folder, 'positions.csv'))\n",
    "positions = positions.set_index('Unnamed: 0').transpose().reset_index()\n",
    "positions.rename(columns={'index' : 'segment', 'positions':'positions_alignment'}, inplace=True)\n",
    "positions.reset_index(drop=True, inplace=True)\n",
    "positions['positions_alignment'] = positions['positions_alignment'].apply(lambda s: ast.literal_eval(s))\n",
    "positions['positions_Uniprot_P06633'] = positions.positions_alignment.apply(lambda l: [get_wt_position(p) for p in l])\n",
    "segment_names = positions.segment.values # not explicitly sorted\n",
    "positions.to_csv(os.path.join(files_dump_folder, 'information_about_segments.csv'), index=False)"
   ]
  },
  {
   "cell_type": "code",
   "execution_count": 9,
   "metadata": {
    "collapsed": false
   },
   "outputs": [
    {
     "data": {
      "text/html": [
       "<div>\n",
       "<table border=\"1\" class=\"dataframe\">\n",
       "  <thead>\n",
       "    <tr style=\"text-align: right;\">\n",
       "      <th>Unnamed: 0</th>\n",
       "      <th>wt1</th>\n",
       "      <th>wt2</th>\n",
       "      <th>positions_Uniprot_P06633</th>\n",
       "    </tr>\n",
       "  </thead>\n",
       "  <tbody>\n",
       "    <tr>\n",
       "      <th>0</th>\n",
       "      <td>EALGAVRGVK</td>\n",
       "      <td>EALSRAVVDL</td>\n",
       "      <td>[106, 107, 108, 109, 110, 111, 112, 113, 114, ...</td>\n",
       "    </tr>\n",
       "    <tr>\n",
       "      <th>1</th>\n",
       "      <td>SNRPYAVVE</td>\n",
       "      <td>LSCEMIPHF</td>\n",
       "      <td>[136, 137, 138, 139, 140, 141, 142, 143, 144, ...</td>\n",
       "    </tr>\n",
       "    <tr>\n",
       "      <th>2</th>\n",
       "      <td>LGLQREKVGD</td>\n",
       "      <td>LESFAEA</td>\n",
       "      <td>[145, 146, 147, 148, 149, 150, 151, 152, 153, ...</td>\n",
       "    </tr>\n",
       "    <tr>\n",
       "      <th>3</th>\n",
       "      <td>SRITLHVDCL</td>\n",
       "      <td>SAFKALAVAI</td>\n",
       "      <td>[171, 172, 173, 174, 175, 176, 177, 178, 179, ...</td>\n",
       "    </tr>\n",
       "    <tr>\n",
       "      <th>4</th>\n",
       "      <td>RGKNDHHRSE</td>\n",
       "      <td>REATSPNGTND</td>\n",
       "      <td>[181, 182, 183, 184, 185, 186, 187, 188, 189, ...</td>\n",
       "    </tr>\n",
       "    <tr>\n",
       "      <th>5</th>\n",
       "      <td>CGIALGQAFK</td>\n",
       "      <td>RFGSGFAPLD</td>\n",
       "      <td>[96, 97, 98, 99, 100, 101, 102, 103, 104, 105,...</td>\n",
       "    </tr>\n",
       "    <tr>\n",
       "      <th>6</th>\n",
       "      <td>IHALAKHSGW</td>\n",
       "      <td>HIDDHHTTED</td>\n",
       "      <td>[66, 67, 68, 69, 70, 71, 72, 73, 74, 75, 86, 8...</td>\n",
       "    </tr>\n",
       "    <tr>\n",
       "      <th>7</th>\n",
       "      <td>HTGIGFLDHM</td>\n",
       "      <td>SLIVECIGDL</td>\n",
       "      <td>[56, 57, 58, 59, 60, 61, 62, 63, 64, 65, 76, 7...</td>\n",
       "    </tr>\n",
       "    <tr>\n",
       "      <th>8</th>\n",
       "      <td>PEKEAE</td>\n",
       "      <td>TQSQVINV</td>\n",
       "      <td>[36, 37, 38, 39, 40, 41, 48, 49, 50, 51, 52, 5...</td>\n",
       "    </tr>\n",
       "    <tr>\n",
       "      <th>9</th>\n",
       "      <td>IEHSIF</td>\n",
       "      <td>AVAEQA</td>\n",
       "      <td>[30, 31, 32, 33, 34, 35, 42, 43, 44, 45, 46, 47]</td>\n",
       "    </tr>\n",
       "    <tr>\n",
       "      <th>10</th>\n",
       "      <td>NETKIQ</td>\n",
       "      <td>GGPLA</td>\n",
       "      <td>[13, 14, 15, 16, 17, 18, 25, 26, 27, 28, 29]</td>\n",
       "    </tr>\n",
       "    <tr>\n",
       "      <th>11</th>\n",
       "      <td>ALVKRIT</td>\n",
       "      <td>IAISLK</td>\n",
       "      <td>[6, 7, 8, 9, 10, 11, 12, 19, 20, 21, 22, 23, 24]</td>\n",
       "    </tr>\n",
       "  </tbody>\n",
       "</table>\n",
       "</div>"
      ],
      "text/plain": [
       "Unnamed: 0         wt1          wt2  \\\n",
       "0           EALGAVRGVK   EALSRAVVDL   \n",
       "1            SNRPYAVVE    LSCEMIPHF   \n",
       "2           LGLQREKVGD      LESFAEA   \n",
       "3           SRITLHVDCL   SAFKALAVAI   \n",
       "4           RGKNDHHRSE  REATSPNGTND   \n",
       "5           CGIALGQAFK   RFGSGFAPLD   \n",
       "6           IHALAKHSGW   HIDDHHTTED   \n",
       "7           HTGIGFLDHM   SLIVECIGDL   \n",
       "8               PEKEAE     TQSQVINV   \n",
       "9               IEHSIF       AVAEQA   \n",
       "10              NETKIQ        GGPLA   \n",
       "11             ALVKRIT       IAISLK   \n",
       "\n",
       "Unnamed: 0                           positions_Uniprot_P06633  \n",
       "0           [106, 107, 108, 109, 110, 111, 112, 113, 114, ...  \n",
       "1           [136, 137, 138, 139, 140, 141, 142, 143, 144, ...  \n",
       "2           [145, 146, 147, 148, 149, 150, 151, 152, 153, ...  \n",
       "3           [171, 172, 173, 174, 175, 176, 177, 178, 179, ...  \n",
       "4           [181, 182, 183, 184, 185, 186, 187, 188, 189, ...  \n",
       "5           [96, 97, 98, 99, 100, 101, 102, 103, 104, 105,...  \n",
       "6           [66, 67, 68, 69, 70, 71, 72, 73, 74, 75, 86, 8...  \n",
       "7           [56, 57, 58, 59, 60, 61, 62, 63, 64, 65, 76, 7...  \n",
       "8           [36, 37, 38, 39, 40, 41, 48, 49, 50, 51, 52, 5...  \n",
       "9            [30, 31, 32, 33, 34, 35, 42, 43, 44, 45, 46, 47]  \n",
       "10               [13, 14, 15, 16, 17, 18, 25, 26, 27, 28, 29]  \n",
       "11           [6, 7, 8, 9, 10, 11, 12, 19, 20, 21, 22, 23, 24]  "
      ]
     },
     "execution_count": 9,
     "metadata": {},
     "output_type": "execute_result"
    }
   ],
   "source": [
    "positions[['wt1', 'wt2', 'positions_Uniprot_P06633']]"
   ]
  },
  {
   "cell_type": "code",
   "execution_count": 10,
   "metadata": {
    "collapsed": false
   },
   "outputs": [],
   "source": [
    "# getting segment numbers for every position\n",
    "position_to_segment = {}\n",
    "for segment in positions.segment:\n",
    "    for position in positions.set_index('segment').loc[segment]['positions_Uniprot_P06633']:\n",
    "        position_to_segment[position] = segment\n",
    "        \n",
    "def get_segment(position_or_mutation):\n",
    "    if type(position_or_mutation) == int or type(position_or_mutation) == float:\n",
    "        return position_to_segment[int(position_or_mutation)] \n",
    "    elif type(position_or_mutation) == str:\n",
    "        return position_to_segment[int(position_or_mutation[:-1])] \n",
    "    \n",
    "def get_segment_of_a_genotype(mut_comb):\n",
    "    segments= []\n",
    "    mutation1 = mut_comb.split(':')[0]\n",
    "    position = int(mutation1[:-1])\n",
    "    segment = get_segment(position)\n",
    "    if len(mut_comb.split(':')) == 1:\n",
    "        return segment\n",
    "    segments.append(segment)\n",
    "    for mutation in mut_comb.split(':'):\n",
    "        if mutation != mutation1:\n",
    "            if segment != get_segment(int(mutation[:-1])):\n",
    "                segment = get_segment(int(mutation[:-1]))\n",
    "                segments.append(segment)\n",
    "            else:\n",
    "                return segment"
   ]
  },
  {
   "cell_type": "code",
   "execution_count": 24,
   "metadata": {
    "collapsed": false
   },
   "outputs": [
    {
     "name": "stdout",
     "output_type": "stream",
     "text": [
      "\n",
      "Variables: \n",
      "\n",
      "- positions:\t\t\ta pandas.DataFrame with information about position numbers, segments etc\n",
      "\n",
      "- get_segment_of_a_genotype:\ta function that return the segment of genotype (the most likely segment\n",
      "\t\t\t\tbecause sometimes it's not possible to say for sure)\n",
      "\n"
     ]
    }
   ],
   "source": [
    "print '''\n",
    "Variables: \n",
    "\n",
    "- positions:\\t\\t\\ta pandas.DataFrame with information about position numbers, segments etc\n",
    "- get_segment_of_a_genotype:\\ta function that return the segment of genotype (the most likely segment\\n\\t\\t\\t\\tbecause sometimes it's not possible to say for sure)\n",
    "'''"
   ]
  }
 ],
 "metadata": {
  "kernelspec": {
   "display_name": "Python 2",
   "language": "python",
   "name": "python2"
  },
  "language_info": {
   "codemirror_mode": {
    "name": "ipython",
    "version": 2
   },
   "file_extension": ".py",
   "mimetype": "text/x-python",
   "name": "python",
   "nbconvert_exporter": "python",
   "pygments_lexer": "ipython2",
   "version": "2.7.13"
  }
 },
 "nbformat": 4,
 "nbformat_minor": 0
}
