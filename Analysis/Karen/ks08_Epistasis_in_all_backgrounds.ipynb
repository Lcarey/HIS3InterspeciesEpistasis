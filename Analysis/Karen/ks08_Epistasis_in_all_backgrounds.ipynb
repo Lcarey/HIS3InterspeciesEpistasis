{
 "cells": [
  {
   "cell_type": "code",
   "execution_count": 1,
   "metadata": {
    "collapsed": false
   },
   "outputs": [
    {
     "name": "stderr",
     "output_type": "stream",
     "text": [
      "/Users/karen/anaconda/lib/python2.7/site-packages/matplotlib/font_manager.py:273: UserWarning: Matplotlib is building the font cache using fc-list. This may take a moment.\n",
      "  warnings.warn('Matplotlib is building the font cache using fc-list. This may take a moment.')\n",
      "/Users/karen/anaconda/lib/python2.7/site-packages/IPython/html.py:14: ShimWarning: The `IPython.html` package has been deprecated. You should import from `notebook` instead. `IPython.html.widgets` has moved to `ipywidgets`.\n",
      "  \"`IPython.html.widgets` has moved to `ipywidgets`.\", ShimWarning)\n"
     ]
    },
    {
     "data": {
      "image/png": "[encoded data removed]",
      "text/plain": [
       "<matplotlib.figure.Figure at 0x14cc4d410>"
      ]
     },
     "metadata": {},
     "output_type": "display_data"
    },
    {
     "name": "stdout",
     "output_type": "stream",
     "text": [
      "1891 unique mutations across all segments\n",
      "238 natural unique mutations across all segments\n",
      "There are 231 single mutations with known effects. They are found in 120 positions\n",
      "\n",
      "\n",
      "Now the following variables are available:\n",
      "\n",
      "- data: all data as a (sorted) dictionary in the form: 'segment_name': 'segment_data_as_pandas_dataframe'\n",
      "\n",
      "- unique_single_mutations: a dictionary with all single mutations for every segment\n",
      "\n",
      "- data_singles: a sorted dictionary in the form: 'segment_name': 'segment_data_as_pandas_dataframe' for genotypes containing a single substitution\n",
      "\n",
      "- single_mut_fitness_dict: a dictionary in the form: 'single mutation' : 'fitness'\n",
      "\n",
      "- data_known_mutations_only - a sorted dictionary in the form: 'segment_name': 'segment_data_as_pandas_dataframe', \n",
      "but only for those genotypes that consist of mutations with known effects (single mutant is measured).\n",
      "For this dictionary, epistasis is measured for every genotype.\n",
      "\n"
     ]
    }
   ],
   "source": [
    "import itertools\n",
    "import sys\n",
    "%run 'ks01_Data_import.ipynb'\n",
    "notebook_prefix = 'ks08'\n",
    "image_counter = Counter()\n",
    "from IPython.html.widgets.widget_float import FloatProgress\n",
    "import matplotlib as mpl\n",
    "from multiprocessing import Pool"
   ]
  },
  {
   "cell_type": "markdown",
   "metadata": {},
   "source": [
    "## Epistasis calculated for pairs of mutations based on foursomes: wt >mutA, mutB > mutAB"
   ]
  },
  {
   "cell_type": "markdown",
   "metadata": {},
   "source": [
    "#### Reading foursomes from files, calculating epistasis and writing it to files"
   ]
  },
  {
   "cell_type": "code",
   "execution_count": 2,
   "metadata": {
    "collapsed": true
   },
   "outputs": [],
   "source": [
    "def get_epistasis_values(hdf_file_foursomes, minimal_threshold=20):\n",
    "    mutA, mutB = hdf_file_foursomes.rstrip('.hdf').split('_')[-3], hdf_file_foursomes.rstrip('.hdf').split('_')[-1]\n",
    "    if mutA in unique_single_mutations[segment] and mutB in unique_single_mutations[segment]:\n",
    "        foursome = pd.read_hdf(directory + hdf_file_foursomes, 'data')\n",
    "        if len(foursome['wild_type']) > minimal_threshold:\n",
    "            ep = foursome['wild_type']['mut_list_Scer'].apply(lambda wt: foursome_epistasis(foursome, wt))\n",
    "#             background_fitness = foursome['wild_type']['s']\n",
    "#             mutA_impacts = foursome['mutA']['s'] - foursome['wild_type']['s']\n",
    "#             mutB_impacts = foursome['mutB']['s'] - foursome['wild_type']['s']\n",
    "#             mutAB_impacts = foursome['mutAB']['s'] - foursome['wild_type']['s']\n",
    "            ep.to_hdf(directory_to_save + hdf_file_foursomes.strip('.hdf') + '--epistasis_values.hdf', 'data')\n",
    "        else:\n",
    "            return None"
   ]
  },
  {
   "cell_type": "code",
   "execution_count": 3,
   "metadata": {
    "collapsed": false
   },
   "outputs": [],
   "source": [
    "needed = False\n",
    "if needed:\n",
    "    for segment in data:\n",
    "        print segment, '...'\n",
    "        sys.stdout.flush()\n",
    "        directory = check_dir('/Users/karen/Downloads/foursomes_full_lib/'+segment.split('_')[0]+'/')\n",
    "        directory_to_save = check_dir('/Users/karen/Downloads/foursomes_full_lib_epistasis/'+segment.split('_')[0]+'/')\n",
    "        list_of_files = [f for f in os.listdir(directory) if '.hdf' in f]\n",
    "        pool = Pool(8)\n",
    "        pool.map(get_epistasis_values, list_of_files)"
   ]
  },
  {
   "cell_type": "markdown",
   "metadata": {},
   "source": [
    "## Foursomes individually"
   ]
  },
  {
   "cell_type": "code",
   "execution_count": 4,
   "metadata": {
    "collapsed": false
   },
   "outputs": [],
   "source": [
    "needed = True\n",
    "if needed:\n",
    "    alpha = 0.4\n",
    "    wt_color = 'magenta'\n",
    "    mutA_color = 'green'\n",
    "    mutB_color = 'orange'\n",
    "\n",
    "    foursomes_folder = os.path.join(figures_folder, 'foursomes_nat')\n",
    "    for k,v in ep_dict.items():\n",
    "        foursome, ep, mutA_impacts, mutB_impacts  = v\n",
    "        plot_better()\n",
    "        plt.scatter(foursome['wild_type']['s'].values, ep.values, edgecolor='none', color='black', alpha=0.05);\n",
    "        title = 'Epistasis in foursomes with mutations %s and %s' %(k[0], k[1])\n",
    "        plt.title(title + '\\nN = %s' %len(foursome['wild_type']))\n",
    "        plt.axvline(wt_fitness, color=wt_color, alpha=alpha)\n",
    "        plt.text(0.52, 0.42, 'wild type', color=wt_color, alpha=alpha)\n",
    "        plt.axhline(0, color='gray', alpha=0.4)\n",
    "\n",
    "        plt.axvline(wt_fitness + mutA_impacts.median(), color=mutA_color, ls='-', alpha=alpha)\n",
    "        plt.axvline(wt_fitness + mutB_impacts.median(), color=mutB_color, ls='-', alpha=alpha)\n",
    "\n",
    "        try:\n",
    "    #         plt.axvline(single_mut_fitness_dict[k[0]], color=mutA_color, alpha=alpha)\n",
    "    #         plt.axvline(single_mut_fitness_dict[k[1]], color=mutB_color, alpha=alpha)\n",
    "            plt.text(0.52, 0.52, 'median impact of %s' % k[0], color=mutA_color, alpha=alpha)\n",
    "            plt.text(0.52, 0.47, 'median impact of %s' % k[1], color=mutB_color, alpha=alpha)\n",
    "        except:\n",
    "            pass\n",
    "        plt.xlim(0, 0.6)\n",
    "        plt.ylim(-0.6, 0.6)\n",
    "        plt.xlabel('Fitness of a \"wild type\" combination')\n",
    "        plt.ylabel('Epistasis in a foursome')\n",
    "        save_image(image_counter, title, foursomes_folder, notebook_prefix)\n",
    "        plt.close()"
   ]
  },
  {
   "cell_type": "markdown",
   "metadata": {},
   "source": [
    "### Each position individually"
   ]
  },
  {
   "cell_type": "code",
   "execution_count": 5,
   "metadata": {
    "collapsed": false,
    "scrolled": true
   },
   "outputs": [],
   "source": [
    "needed = False\n",
    "if needed:\n",
    "    colormap = mpl.cm.plasma\n",
    "    for segment in data:\n",
    "        positions = sorted(list(set([int(m[:-1]) for m in unique_single_mutations[segment]])))\n",
    "        for position in positions:\n",
    "            plot_better()\n",
    "            already = []\n",
    "            for mutA, mutB in ep_dict[segment]:\n",
    "                if str(position) == mutA[:-1] or str(position) == mutB[:-1]:\n",
    "                    if str(position) == mutA[:-1]:\n",
    "                        other_position = int(mutB[:-1])\n",
    "                    if str(position) == mutB[:-1]:\n",
    "                        other_position = int(mutA[:-1])\n",
    "                    color_value = int(float(positions.index(other_position)) / len(positions) * 255)\n",
    "                    color = colormap(color_value)\n",
    "                    if not other_position in already:\n",
    "                        plt.scatter(0,0, color=color, label=other_position)\n",
    "                        already.append(other_position)\n",
    "                    ep = ep_dict[segment][mutA, mutB][1]\n",
    "                    if len(ep) > 10:\n",
    "                        plt.scatter(ep.mean(), ep.std(), alpha=0.8, color=color)\n",
    "            plt.legend(loc=2, bbox_to_anchor=(1.05, 1), frameon=False)\n",
    "            plt.axhline(0, color='gray')\n",
    "            plt.axvline(0, color='gray')\n",
    "            title = 'Segment %s, pairs with position %s' %(segment.split('_')[0], position)\n",
    "            plt.title(title)\n",
    "            plt.xlabel('Mean\\nof epistasis values in various backgrounds')\n",
    "            plt.ylabel('Standard deviation\\n of epistasis values in various backgrounds')\n",
    "        #     save_image(image_counter, title, figures_folder, notebook_prefix)"
   ]
  },
  {
   "cell_type": "markdown",
   "metadata": {},
   "source": [
    "### Building dictionaries with summary of epistatic interactions"
   ]
  },
  {
   "cell_type": "code",
   "execution_count": 6,
   "metadata": {
    "collapsed": true
   },
   "outputs": [],
   "source": [
    "strong_epistasis_threshold = 0.2\n",
    "folder_with_precalculated_foursomes = '/Users/karen/Downloads/foursomes_full_lib_epistasis/'\n",
    "minimal_N = 20"
   ]
  },
  {
   "cell_type": "markdown",
   "metadata": {},
   "source": [
    "#### Reading files"
   ]
  },
  {
   "cell_type": "code",
   "execution_count": 7,
   "metadata": {
    "collapsed": false
   },
   "outputs": [],
   "source": [
    "ep_dict = OrderedDict()\n",
    "for segment in data:\n",
    "    ep_dict[segment] = {}\n",
    "    directory =  os.path.join(folder_with_precalculated_foursomes, segment.split('_')[0], '')\n",
    "    list_of_files = [f for f in os.listdir(directory) if '.hdf' in f]\n",
    "#     print segment, '(%s files)' %len(list_of_files), '...'\n",
    "#     sys.stdout.flush()\n",
    "\n",
    "    for f in list_of_files:\n",
    "        to_rstrip = '--epistasis_values.hdf'\n",
    "        mutA, mutB = f.rstrip(to_rstrip).split('_')[-3], f.rstrip(to_rstrip).split('_')[-1]\n",
    "        ep_dict[segment][mutA, mutB] = pd.read_hdf(directory + f, 'data')"
   ]
  },
  {
   "cell_type": "markdown",
   "metadata": {},
   "source": [
    "#### Interactions of every position with other positions"
   ]
  },
  {
   "cell_type": "code",
   "execution_count": 8,
   "metadata": {
    "collapsed": false
   },
   "outputs": [],
   "source": [
    "def get_empty_segment_position1_position2_defaultdict(segment_mutA_mutB_dict):\n",
    "    epistasis_by_positions = OrderedDict()\n",
    "    for segment in segment_mutA_mutB_dict:\n",
    "        epistasis_by_positions[segment] = OrderedDict()\n",
    "        mutA_positions = set(mutA[:-1] for mutA, mutB in segment_mutA_mutB_dict[segment])\n",
    "        mutB_positions = set(mutB[:-1] for mutA, mutB in segment_mutA_mutB_dict[segment])\n",
    "        all_positions = sorted(list(set.union(mutA_positions, mutB_positions)), key=lambda s: int(s))\n",
    "        for position1 in all_positions:\n",
    "            epistasis_by_positions[segment][position1] = OrderedDict()\n",
    "            for position2 in all_positions:\n",
    "                if position1 != position2:\n",
    "                    epistasis_by_positions[segment][position1][position2] = defaultdict(list)\n",
    "    return epistasis_by_positions"
   ]
  },
  {
   "cell_type": "code",
   "execution_count": 9,
   "metadata": {
    "collapsed": true
   },
   "outputs": [],
   "source": [
    "def fill_dictionary_with_values(dict_to_fill, segment_mutA_mutB_dict):\n",
    "    for segment in segment_mutA_mutB_dict:\n",
    "        for mutA, mutB in segment_mutA_mutB_dict[segment]:\n",
    "            posA, posB = mutA[:-1], mutB[:-1]\n",
    "            ep = segment_mutA_mutB_dict[segment][mutA, mutB]\n",
    "\n",
    "            if len(ep) > minimal_N:    \n",
    "                std = ep.std()\n",
    "                mean = ep.mean()\n",
    "                fraction_strong = 1. * len(ep[np.abs(ep) > strong_epistasis_threshold]) / len(ep)\n",
    "\n",
    "                dict_to_fill[segment][posA][posB]['std'].append(std)\n",
    "                dict_to_fill[segment][posB][posA]['std'].append(std)\n",
    "                \n",
    "                dict_to_fill[segment][posA][posB]['mean'].append(mean)\n",
    "                dict_to_fill[segment][posB][posA]['mean'].append(mean)\n",
    "\n",
    "                dict_to_fill[segment][posA][posB]['fraction_strong'].append(fraction_strong)\n",
    "                dict_to_fill[segment][posB][posA]['fraction_strong'].append(fraction_strong)\n",
    "                \n",
    "    return dict_to_fill"
   ]
  },
  {
   "cell_type": "code",
   "execution_count": 11,
   "metadata": {
    "collapsed": true
   },
   "outputs": [],
   "source": [
    "def filter_segment_position1_position2_dict(segment_position1_position2_dict, what_to_look_at):\n",
    "    filtered = {}\n",
    "    for segment in segment_position1_position2_dict:\n",
    "        filtered[segment] = {}\n",
    "        for position in segment_position1_position2_dict[segment]:\n",
    "            other_positions = segment_position1_position2_dict[segment][position].keys()\n",
    "            other_positions = [p for p in other_positions if len(segment_position1_position2_dict[segment][position][p][what_to_look_at]) > 0]\n",
    "            values = [np.mean(segment_position1_position2_dict[segment][position][p][what_to_look_at]) for p in other_positions \\\n",
    "                      if len(segment_position1_position2_dict[segment][position][p][what_to_look_at]) > 0]\n",
    "            filtered[segment][position] = other_positions, values\n",
    "    return filtered"
   ]
  }
 ],
 "metadata": {
  "kernelspec": {
   "display_name": "Python 2",
   "language": "python",
   "name": "python2"
  },
  "language_info": {
   "codemirror_mode": {
    "name": "ipython",
    "version": 2
   },
   "file_extension": ".py",
   "mimetype": "text/x-python",
   "name": "python",
   "nbconvert_exporter": "python",
   "pygments_lexer": "ipython2",
   "version": "2.7.13"
  }
 },
 "nbformat": 4,
 "nbformat_minor": 0
}
