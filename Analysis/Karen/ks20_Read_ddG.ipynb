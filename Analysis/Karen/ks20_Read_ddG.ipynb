{
 "cells": [
  {
   "cell_type": "code",
   "execution_count": 2,
   "metadata": {
    "collapsed": true
   },
   "outputs": [],
   "source": [
    "import pandas as pd\n",
    "import numpy as np\n",
    "import os"
   ]
  },
  {
   "cell_type": "code",
   "execution_count": 3,
   "metadata": {
    "collapsed": true
   },
   "outputs": [],
   "source": [
    "def find_folder_upstream(folder_name, max_iterations=50):\n",
    "    current_folder = os.getcwd()\n",
    "    counter = 0\n",
    "    while os.path.basename(current_folder) != folder_name and counter < max_iterations:\n",
    "        current_folder = os.path.dirname(current_folder)\n",
    "        counter += 1\n",
    "    if not counter < max_iterations:\n",
    "        return None\n",
    "    return current_folder\n",
    "\n",
    "root_folder_name = 'HIS3InterspeciesEpistasis'\n",
    "root_folder = find_folder_upstream(root_folder_name)\n",
    "if not root_folder:\n",
    "    print 'Did not find root folder for our github repository.\\nPlease run \"ks01\" notebook from a script inside the HIS3InterspeciesEpistasis folder!'\n",
    "\n",
    "data_folder = os.path.join(root_folder, 'Data', '')\n",
    "small_tables_folder = os.path.join(root_folder, 'Data_Small_Tables', '')\n",
    "analysis_folder = os.path.join(root_folder, 'Analysis', '')\n",
    "karen_folder = os.path.join(analysis_folder, 'Karen', '')\n",
    "figures_folder = os.path.join(karen_folder, 'figures', '')\n",
    "files_dump_folder = os.path.join(karen_folder, 'files_dump', '')\n",
    "structure_predictions_folder = os.path.join(files_dump_folder, 'structure_predictions', '')\n",
    "structure_visualizations_folder = os.path.join(files_dump_folder, 'structure_visualizations', '')\n",
    "pymol_sessions_folder = os.path.join(files_dump_folder, 'structure_visualizations/pymol_sessions/', '')"
   ]
  },
  {
   "cell_type": "code",
   "execution_count": 58,
   "metadata": {
    "collapsed": false
   },
   "outputs": [
    {
     "name": "stdout",
     "output_type": "stream",
     "text": [
      "\n",
      "Variables: \n",
      "\n",
      "- positions:\t\t\ta pandas.DataFrame with information about position numbers, segments etc\n",
      "\n",
      "- get_segment_of_a_genotype:\ta function that return the segment of genotype (the most likely segment\n",
      "\t\t\t\tbecause sometimes it's not possible to say for sure)\n",
      "\n"
     ]
    }
   ],
   "source": [
    "%run 'ks37_Working_with_positions.ipynb'"
   ]
  },
  {
   "cell_type": "code",
   "execution_count": 59,
   "metadata": {
    "collapsed": false
   },
   "outputs": [],
   "source": [
    "def get_full_mutation(mutation):\n",
    "    if mutation == '' or not mutation > 0:\n",
    "        return ''\n",
    "    position = int(mutation[:-1])\n",
    "    assert Scer_Uniprot[position-1] != mutation[-1]\n",
    "    return Scer_Uniprot[position-1] + mutation\n",
    "\n",
    "def convert_to_full_mutations(mut_combination):\n",
    "    if mut_combination == '' or not mut_combination > 0:\n",
    "        return ''\n",
    "    return ':'.join(get_full_mutation(mutation) for mutation in mut_combination.split(':'))"
   ]
  },
  {
   "cell_type": "code",
   "execution_count": 60,
   "metadata": {
    "collapsed": true
   },
   "outputs": [],
   "source": [
    "Scer_Uniprot = open(os.path.join(files_dump_folder, 'HIS3_saccharomyces_cerevisiae_from_Uniprot_P06633.txt')).read().rstrip()\n"
   ]
  },
  {
   "cell_type": "code",
   "execution_count": 63,
   "metadata": {
    "collapsed": false
   },
   "outputs": [],
   "source": [
    "rosetta_folder = os.path.join(analysis_folder, 'Sasha', 'rosetta_runs', '')\n",
    "\n",
    "ddG_set0 = pd.read_table(rosetta_folder + 'run-170503-results-with-explicit-ddG.csv')\n",
    "ddG_set0['mut_number'] = ddG_set0['mut_list_Scer'].apply(lambda s: s.count(':')+1)\n",
    "ddG_set0 = ddG_set0[ddG_set0['mut_number'] > 2]\n",
    "\n",
    "ddG_set1 = pd.read_table(rosetta_folder + '170522/' + '170522_aws_ddg_talaris__mutations_to_predict_ddG__set1.csv')\n",
    "ddG_set2 = pd.read_table(rosetta_folder + '170522/' + '170522_aws_ddg_talaris__mutations_to_predict_ddG__set2.csv')\n",
    "\n",
    "predicted_ddG = pd.concat([ddG_set0, ddG_set2])\n",
    "predicted_ddG.drop('aa_seq', inplace=True, axis=1)\n",
    "\n",
    "predicted_ddG['mut_number'] = predicted_ddG['mut_list_Scer'].apply(lambda s: s.count(':')+1)\n",
    "predicted_ddG['mut_list_Scer_full'] = predicted_ddG['mut_list_Scer'].apply(convert_to_full_mutations)\n",
    "\n",
    "predicted_ddG['segment'] = predicted_ddG['mut_list_Scer'].apply(get_segment_of_a_genotype)\n",
    "\n",
    "predicted_doubles = predicted_ddG[predicted_ddG['mut_number'] == 2].copy()\n",
    "predicted_singles = predicted_ddG[predicted_ddG['mut_number'] == 1].copy()"
   ]
  },
  {
   "cell_type": "code",
   "execution_count": 64,
   "metadata": {
    "collapsed": true
   },
   "outputs": [],
   "source": [
    "predicted_singles['position'] = predicted_singles['mut_list_Scer'].apply(lambda m: int(m[:-1]))\n",
    "by_position_mean_ddG = pd.DataFrame(predicted_singles.groupby('position')['ddG'].agg(np.mean))\n",
    "by_position_var_ddG = pd.DataFrame(predicted_singles.groupby('position')['ddG'].agg(np.var))\n",
    "\n",
    "predicted_ddG.set_index('mut_list_Scer', inplace=True)"
   ]
  },
  {
   "cell_type": "code",
   "execution_count": null,
   "metadata": {
    "collapsed": true
   },
   "outputs": [],
   "source": [
    "predicted_ddG.drop_duplicates(subset='mut_list_Scer_full', keep='last', inplace=True)"
   ]
  },
  {
   "cell_type": "code",
   "execution_count": 65,
   "metadata": {
    "collapsed": true
   },
   "outputs": [],
   "source": [
    "def get_ddG(mutation):\n",
    "    try:\n",
    "        return predicted_ddG.loc[mutation]['ddG']\n",
    "    except KeyError:\n",
    "        return None"
   ]
  },
  {
   "cell_type": "code",
   "execution_count": 66,
   "metadata": {
    "collapsed": false
   },
   "outputs": [
    {
     "name": "stdout",
     "output_type": "stream",
     "text": [
      "\n",
      "Variables: \n",
      "- predicted_ddG:\t\tPandas DataFrame with all calculated ddG (single, double and triple mutants (?)),\n",
      "- predicted_doubles:\t\tdoubles only (Pandas DataFrame),\n",
      "- predicted_singles:\t\tsingles only (Pandas DataFrame),\n",
      "- get_ddG:\t\t\tfunction that returns predicted ddG for a genotype\n",
      "- by_position_mean_ddG:\t\tmean ddG value at each position,\n",
      "- by_position_var_ddG:\t\tvariance of predicted ddG at each position.\n",
      "\n"
     ]
    }
   ],
   "source": [
    "print '''\n",
    "Variables: \n",
    "- predicted_ddG:\\t\\tPandas DataFrame with all calculated ddG (single, double and triple mutants (?)),\n",
    "- predicted_doubles:\\t\\tdoubles only (Pandas DataFrame),\n",
    "- predicted_singles:\\t\\tsingles only (Pandas DataFrame),\n",
    "- get_ddG:\\t\\t\\tfunction that returns predicted ddG for a genotype\n",
    "- by_position_mean_ddG:\\t\\tmean ddG value at each position,\n",
    "- by_position_var_ddG:\\t\\tvariance of predicted ddG at each position.\n",
    "'''"
   ]
  }
 ],
 "metadata": {
  "kernelspec": {
   "display_name": "Python 2",
   "language": "python",
   "name": "python2"
  },
  "language_info": {
   "codemirror_mode": {
    "name": "ipython",
    "version": 2
   },
   "file_extension": ".py",
   "mimetype": "text/x-python",
   "name": "python",
   "nbconvert_exporter": "python",
   "pygments_lexer": "ipython2",
   "version": "2.7.13"
  }
 },
 "nbformat": 4,
 "nbformat_minor": 0
}
