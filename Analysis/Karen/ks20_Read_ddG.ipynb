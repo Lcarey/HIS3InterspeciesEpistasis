{
 "cells": [
  {
   "cell_type": "code",
   "execution_count": 24,
   "metadata": {
    "collapsed": true
   },
   "outputs": [],
   "source": [
    "import pandas as pd\n",
    "import numpy as np\n",
    "import os"
   ]
  },
  {
   "cell_type": "code",
   "execution_count": 25,
   "metadata": {
    "collapsed": true
   },
   "outputs": [],
   "source": [
    "def find_folder_upstream(folder_name, max_iterations=50):\n",
    "    current_folder = os.getcwd()\n",
    "    counter = 0\n",
    "    while os.path.basename(current_folder) != folder_name and counter < max_iterations:\n",
    "        current_folder = os.path.dirname(current_folder)\n",
    "        counter += 1\n",
    "    if not counter < max_iterations:\n",
    "        return None\n",
    "    return current_folder\n",
    "\n",
    "root_folder_name = 'HIS3InterspeciesEpistasis'\n",
    "root_folder = find_folder_upstream(root_folder_name)\n",
    "if not root_folder:\n",
    "    print 'Did not find root folder for our github repository.\\nPlease run \"ks01\" notebook from a script inside the HIS3InterspeciesEpistasis folder!'\n",
    "\n",
    "data_folder = os.path.join(root_folder, 'Data', '')\n",
    "small_tables_folder = os.path.join(root_folder, 'Data_Small_Tables', '')\n",
    "analysis_folder = os.path.join(root_folder, 'Analysis', '')\n",
    "karen_folder = os.path.join(analysis_folder, 'Karen', '')\n",
    "figures_folder = os.path.join(karen_folder, 'figures', '')\n",
    "files_dump_folder = os.path.join(karen_folder, 'files_dump', '')\n",
    "structure_predictions_folder = os.path.join(files_dump_folder, 'structure_predictions', '')\n",
    "structure_visualizations_folder = os.path.join(files_dump_folder, 'structure_visualizations', '')\n",
    "pymol_sessions_folder = os.path.join(files_dump_folder, 'structure_visualizations/pymol_sessions/', '')"
   ]
  },
  {
   "cell_type": "code",
   "execution_count": 26,
   "metadata": {
    "collapsed": false
   },
   "outputs": [],
   "source": [
    "def get_full_mutation(mutation):\n",
    "    if mutation == '' or not mutation > 0:\n",
    "        return ''\n",
    "    position = int(mutation[:-1])\n",
    "    assert Scer_Uniprot[position-1] != mutation[-1]\n",
    "    return Scer_Uniprot[position-1] + mutation\n",
    "\n",
    "def convert_to_full_mutations(mut_combination):\n",
    "    if mut_combination == '' or not mut_combination > 0:\n",
    "        return ''\n",
    "    return ':'.join(get_full_mutation(mutation) for mutation in mut_combination.split(':'))"
   ]
  },
  {
   "cell_type": "code",
   "execution_count": 27,
   "metadata": {
    "collapsed": true
   },
   "outputs": [],
   "source": [
    "Scer_Uniprot = open(os.path.join(files_dump_folder, 'HIS3_saccharomyces_cerevisiae_from_Uniprot_P06633.txt')).read().rstrip()\n"
   ]
  },
  {
   "cell_type": "code",
   "execution_count": 28,
   "metadata": {
    "collapsed": false
   },
   "outputs": [],
   "source": [
    "rosetta_folder = os.path.join(analysis_folder, 'Sasha', 'rosetta_runs', '')\n",
    "predicted_ddG = pd.read_table(rosetta_folder + 'run-170503-results-with-explicit-ddG.csv')\n",
    "predicted_ddG['mut_number'] = predicted_ddG['mut_list_Scer'].apply(lambda s: s.count(':')+1)\n",
    "predicted_ddG['mut_list_Scer_full'] = predicted_ddG['mut_list_Scer'].apply(convert_to_full_mutations)\n",
    "\n",
    "predicted_doubles = predicted_ddG[predicted_ddG['mut_number'] == 2].copy()\n",
    "predicted_singles = predicted_ddG[predicted_ddG['mut_number'] == 1].copy()"
   ]
  },
  {
   "cell_type": "code",
   "execution_count": 29,
   "metadata": {
    "collapsed": true
   },
   "outputs": [],
   "source": [
    "predicted_singles['position'] = predicted_singles['mut_list_Scer'].apply(lambda m: int(m[:-1]))\n",
    "by_position_mean_ddG = pd.DataFrame(predicted_singles.groupby('position')['ddG'].agg(np.mean))\n",
    "by_position_var_ddG = pd.DataFrame(predicted_singles.groupby('position')['ddG'].agg(np.var))\n",
    "\n",
    "predicted_ddG.set_index('mut_list_Scer', inplace=True)"
   ]
  },
  {
   "cell_type": "code",
   "execution_count": 30,
   "metadata": {
    "collapsed": true
   },
   "outputs": [],
   "source": [
    "def get_ddG(mutation):\n",
    "    try:\n",
    "        return predicted_ddG.loc[mutation]['ddG']\n",
    "    except KeyError:\n",
    "        return None"
   ]
  },
  {
   "cell_type": "code",
   "execution_count": 31,
   "metadata": {
    "collapsed": false
   },
   "outputs": [
    {
     "name": "stdout",
     "output_type": "stream",
     "text": [
      "\n",
      "Variables: \n",
      "- predicted_ddG:\t\tPandas DataFrame with all calculated ddG (single, double and triple mutants (?)),\n",
      "- predicted_doubles:\t\tdoubles only (Pandas DataFrame),\n",
      "- predicted_singles:\t\tsingles only (Pandas DataFrame),\n",
      "- get_ddG:\t\t\tfunction that returns predicted ddG for a genotype\n",
      "- by_position_mean_ddG:\t\tmean ddG value at each position,\n",
      "- by_position_var_ddG:\t\tvariance of predicted ddG at each position.\n",
      "\n"
     ]
    }
   ],
   "source": [
    "print '''\n",
    "Variables: \n",
    "- predicted_ddG:\\t\\tPandas DataFrame with all calculated ddG (single, double and triple mutants (?)),\n",
    "- predicted_doubles:\\t\\tdoubles only (Pandas DataFrame),\n",
    "- predicted_singles:\\t\\tsingles only (Pandas DataFrame),\n",
    "- get_ddG:\\t\\t\\tfunction that returns predicted ddG for a genotype\n",
    "- by_position_mean_ddG:\\t\\tmean ddG value at each position,\n",
    "- by_position_var_ddG:\\t\\tvariance of predicted ddG at each position.\n",
    "'''"
   ]
  },
  {
   "cell_type": "code",
   "execution_count": 1,
   "metadata": {
    "collapsed": false
   },
   "outputs": [
    {
     "ename": "NameError",
     "evalue": "name 'pd' is not defined",
     "output_type": "error",
     "traceback": [
      "\u001b[0;31m---------------------------------------------------------------------------\u001b[0m",
      "\u001b[0;31mNameError\u001b[0m                                 Traceback (most recent call last)",
      "\u001b[0;32m<ipython-input-1-87017d1366b2>\u001b[0m in \u001b[0;36m<module>\u001b[0;34m()\u001b[0m\n\u001b[0;32m----> 1\u001b[0;31m \u001b[0mddG_set1\u001b[0m \u001b[0;34m=\u001b[0m \u001b[0mpd\u001b[0m\u001b[0;34m.\u001b[0m\u001b[0mread_table\u001b[0m\u001b[0;34m(\u001b[0m\u001b[0manalysis_folder\u001b[0m \u001b[0;34m+\u001b[0m \u001b[0;34m'Sasha/rosetta_runs/170522/'\u001b[0m \u001b[0;34m+\u001b[0m \u001b[0;34m'170522_aws_ddg_talaris__mutations_to_predict_ddG__set1.csv'\u001b[0m\u001b[0;34m)\u001b[0m\u001b[0;34m\u001b[0m\u001b[0m\n\u001b[0m\u001b[1;32m      2\u001b[0m \u001b[0mddG_set2\u001b[0m \u001b[0;34m=\u001b[0m \u001b[0mpd\u001b[0m\u001b[0;34m.\u001b[0m\u001b[0mread_table\u001b[0m\u001b[0;34m(\u001b[0m\u001b[0manalysis_folder\u001b[0m \u001b[0;34m+\u001b[0m \u001b[0;34m'Sasha/rosetta_runs/170522/'\u001b[0m \u001b[0;34m+\u001b[0m \u001b[0;34m'170522_aws_ddg_talaris__mutations_to_predict_ddG__set2.csv'\u001b[0m\u001b[0;34m)\u001b[0m\u001b[0;34m\u001b[0m\u001b[0m\n",
      "\u001b[0;31mNameError\u001b[0m: name 'pd' is not defined"
     ]
    }
   ],
   "source": [
    "ddG_set1 = pd.read_table(analysis_folder + 'Sasha/rosetta_runs/170522/' + '170522_aws_ddg_talaris__mutations_to_predict_ddG__set1.csv')\n",
    "ddG_set2 = pd.read_table(analysis_folder + 'Sasha/rosetta_runs/170522/' + '170522_aws_ddg_talaris__mutations_to_predict_ddG__set2.csv')"
   ]
  },
  {
   "cell_type": "code",
   "execution_count": null,
   "metadata": {
    "collapsed": true
   },
   "outputs": [],
   "source": []
  }
 ],
 "metadata": {
  "kernelspec": {
   "display_name": "Python 2",
   "language": "python",
   "name": "python2"
  },
  "language_info": {
   "codemirror_mode": {
    "name": "ipython",
    "version": 2
   },
   "file_extension": ".py",
   "mimetype": "text/x-python",
   "name": "python",
   "nbconvert_exporter": "python",
   "pygments_lexer": "ipython2",
   "version": "2.7.13"
  }
 },
 "nbformat": 4,
 "nbformat_minor": 0
}
