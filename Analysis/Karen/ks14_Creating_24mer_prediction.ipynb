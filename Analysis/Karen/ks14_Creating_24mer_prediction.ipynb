{
 "cells": [
  {
   "cell_type": "code",
   "execution_count": 1,
   "metadata": {
    "collapsed": false
   },
   "outputs": [],
   "source": [
    "%run 'pymol_and_pdb_functions.py'\n",
    "start_pymol()"
   ]
  },
  {
   "cell_type": "code",
   "execution_count": 2,
   "metadata": {
    "collapsed": false
   },
   "outputs": [
    {
     "name": "stderr",
     "output_type": "stream",
     "text": [
      "/Users/karen/anaconda/lib/python2.7/site-packages/matplotlib/font_manager.py:273: UserWarning: Matplotlib is building the font cache using fc-list. This may take a moment.\n",
      "  warnings.warn('Matplotlib is building the font cache using fc-list. This may take a moment.')\n",
      "/Users/karen/anaconda/lib/python2.7/site-packages/IPython/html.py:14: ShimWarning: The `IPython.html` package has been deprecated. You should import from `notebook` instead. `IPython.html.widgets` has moved to `ipywidgets`.\n",
      "  \"`IPython.html.widgets` has moved to `ipywidgets`.\", ShimWarning)\n"
     ]
    }
   ],
   "source": [
    "import itertools\n",
    "\n",
    "%run 'ks01_Functions_only.ipynb'\n",
    "notebook_prefix = 'ks16'\n",
    "image_counter = Counter()"
   ]
  },
  {
   "cell_type": "code",
   "execution_count": 3,
   "metadata": {
    "collapsed": true
   },
   "outputs": [],
   "source": [
    "aa3 = \"ALA CYS ASP GLU PHE GLY HIS ILE LYS LEU MET ASN PRO GLN ARG SER THR VAL TRP TYR XXX\".split()\n",
    "ascii_letters = 'abcdefghijklmnopqrstuvwxyzABCDEFGHIJKLMNOPQRSTUVWXYZ'\n",
    "ascii_upper = 'ABCDEFGHIJKLMNOPQRSTUVWXYZ'"
   ]
  },
  {
   "cell_type": "markdown",
   "metadata": {},
   "source": [
    "### Creating 24-mer using his3 prediction, transferring substrate and Mn from PDB 4LOM"
   ]
  },
  {
   "cell_type": "code",
   "execution_count": 4,
   "metadata": {
    "collapsed": false
   },
   "outputs": [
    {
     "name": "stdout",
     "output_type": "stream",
     "text": [
      " Save: wrote \"/Users/karen/HIS3InterspeciesEpistasis/Analysis/Karen/files_dump/structure_predictions/his3_24mer_assembly/his3_swiss_aligned_to_4lom_assembly.pdb\".\n",
      " Applying pse_export_version=1.720 compatibility\n"
     ]
    }
   ],
   "source": [
    "swiss_mono_file = os.path.join(structure_predictions_folder, 'his3_24mer_assembly', 'his3_swiss_mono.pdb')\n",
    "assembly_4lom_file = os.path.join(structure_predictions_folder, 'his3_24mer_assembly', '4lom_assembly.pdb')\n",
    "\n",
    "his3_aligned_to_4lom_assembly_file = os.path.join(structure_predictions_folder, \n",
    "                                                  'his3_24mer_assembly', 'his3_swiss_aligned_to_4lom_assembly.pdb')\n",
    "his3_aligned_to_4lom_assembly_session_file = os.path.join(structure_predictions_folder, \n",
    "                                                          'his3_24mer_assembly', 'his3_swiss_aligned_to_4lom_assembly.pse')\n",
    "\n",
    "cmd.reinitialize()\n",
    "cmd.load(assembly_4lom_file, '4lom_assembly')\n",
    "\n",
    "# loading swiss monomers 24 times\n",
    "for i in range(1,25):\n",
    "    cmd.do(\"load %s, swiss-%s\" % (swiss_mono_file, i))\n",
    "\n",
    "# aligning swiss monomers to 4lom assembly\n",
    "for i in range(1,25):\n",
    "    cmd.do(\"align swiss-%s, 4lom_assembly, target_state=%s\"  %(i, i))\n",
    "    \n",
    "# renaming chains because currently there is only chainA \n",
    "for i in range(1,25):\n",
    "    cmd.do(\"alter swiss-%s, chain='%s'\" %(i, ascii_upper[i-1]))\n",
    "\n",
    "# splitting 24 states of 4LOM into chains, renaming every chain with the same letters as his3 chains\n",
    "cmd.split_states('4lom_assembly')\n",
    "for i in range(1,25):\n",
    "    cmd.do(\"alter 4lom_assembly_%s, chain='%s'\" %(str(i).zfill(4), ascii_upper[i-1]))\n",
    "cmd.delete('4lom_assembly')\n",
    "\n",
    "cmd.select('substrate', 'resn IYP')\n",
    "cmd.select('Mn', 'resn MN')\n",
    "\n",
    "to_save = ' or '.join([\"swiss-%s\" % i for i in range(1,25)] + ['substrate', 'Mn']) \n",
    "cmd.do('save %s, %s' %(his3_aligned_to_4lom_assembly_file, to_save))\n",
    "\n",
    "save_session(his3_aligned_to_4lom_assembly_session_file)"
   ]
  }
 ],
 "metadata": {
  "kernelspec": {
   "display_name": "Python 2",
   "language": "python",
   "name": "python2"
  },
  "language_info": {
   "codemirror_mode": {
    "name": "ipython",
    "version": 2
   },
   "file_extension": ".py",
   "mimetype": "text/x-python",
   "name": "python",
   "nbconvert_exporter": "python",
   "pygments_lexer": "ipython2",
   "version": "2.7.13"
  }
 },
 "nbformat": 4,
 "nbformat_minor": 0
}
