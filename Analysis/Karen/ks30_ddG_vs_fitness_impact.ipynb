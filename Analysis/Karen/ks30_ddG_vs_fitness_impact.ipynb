{
 "cells": [
  {
   "cell_type": "code",
   "execution_count": 1,
   "metadata": {
    "collapsed": false
   },
   "outputs": [
    {
     "name": "stderr",
     "output_type": "stream",
     "text": [
      "/Users/karen/anaconda/lib/python2.7/site-packages/matplotlib/font_manager.py:273: UserWarning: Matplotlib is building the font cache using fc-list. This may take a moment.\n",
      "  warnings.warn('Matplotlib is building the font cache using fc-list. This may take a moment.')\n",
      "/Users/karen/anaconda/lib/python2.7/site-packages/IPython/html.py:14: ShimWarning: The `IPython.html` package has been deprecated. You should import from `notebook` instead. `IPython.html.widgets` has moved to `ipywidgets`.\n",
      "  \"`IPython.html.widgets` has moved to `ipywidgets`.\", ShimWarning)\n"
     ]
    }
   ],
   "source": [
    "%run 'functions_dump.py'"
   ]
  },
  {
   "cell_type": "code",
   "execution_count": 11,
   "metadata": {
    "collapsed": false
   },
   "outputs": [
    {
     "name": "stdout",
     "output_type": "stream",
     "text": [
      "11510\n",
      "259\n",
      "\n",
      "Variables: \n",
      "\n",
      "- fit_dict: a dictionary, keys are mutations and values are pandas.Series of fitness impacts in all backgrounds. \n",
      "\n"
     ]
    }
   ],
   "source": [
    "%run 'ks21_Read_impacts_of_mutations.ipynb'"
   ]
  },
  {
   "cell_type": "code",
   "execution_count": 67,
   "metadata": {
    "collapsed": false
   },
   "outputs": [
    {
     "name": "stdout",
     "output_type": "stream",
     "text": [
      "\n",
      "Variables: \n",
      "- predicted_ddG:\t\tPandas DataFrame with all calculated ddG (single, double and triple mutants (?)),\n",
      "- predicted_doubles:\t\tdoubles only (Pandas DataFrame),\n",
      "- predicted_singles:\t\tsingles only (Pandas DataFrame),\n",
      "- get_ddG:\t\t\tfunction that returns predicted ddG for a genotype\n",
      "- by_position_mean_ddG:\t\tmean ddG value at each position,\n",
      "- by_position_var_ddG:\t\tvariance of predicted ddG at each position.\n",
      "\n"
     ]
    }
   ],
   "source": [
    "%run 'ks20_Read_ddG.ipynb'"
   ]
  },
  {
   "cell_type": "code",
   "execution_count": 68,
   "metadata": {
    "collapsed": false
   },
   "outputs": [],
   "source": [
    "def get_neutrality(series_of_impacts, neutrality_threshold=0.4, noise_cutoff=0.01):\n",
    "    negative = series_of_impacts[series_of_impacts < -1 * neutrality_threshold]\n",
    "    positive = series_of_impacts[series_of_impacts > neutrality_threshold]\n",
    "    neutral = series_of_impacts[(series_of_impacts < neutrality_threshold) & (series_of_impacts > -1 * neutrality_threshold)]\n",
    "    fraction_negative = 1. * len(negative) / len(series_of_impacts)\n",
    "    fraction_positive = 1. * len(positive) / len(series_of_impacts)\n",
    "    if fraction_negative < noise_cutoff and fraction_positive < noise_cutoff:\n",
    "        return 'neutral'\n",
    "    if fraction_negative > noise_cutoff and fraction_positive < noise_cutoff:\n",
    "        return 'negative'\n",
    "    if fraction_negative < noise_cutoff and fraction_positive > noise_cutoff:\n",
    "        return 'positive'\n",
    "    if fraction_negative > noise_cutoff and fraction_positive > noise_cutoff:\n",
    "        return 'mixed_effects'\n",
    "    \n",
    "def get_neutrality_percents(series_of_impacts, neutrality_threshold=0.4, noise_cutoff=0.01):\n",
    "    negative = series_of_impacts[series_of_impacts < -1 * neutrality_threshold]\n",
    "    positive = series_of_impacts[series_of_impacts > neutrality_threshold]\n",
    "    neutral = series_of_impacts[(series_of_impacts <= neutrality_threshold) & (series_of_impacts >= -1 * neutrality_threshold)]\n",
    "    fraction_negative = 1. * len(negative) / len(series_of_impacts)\n",
    "    fraction_positive = 1. * len(positive) / len(series_of_impacts)\n",
    "    fraction_neutral = 1. * len(neutral) / len(series_of_impacts)\n",
    "    return fraction_negative, fraction_neutral, fraction_positive"
   ]
  },
  {
   "cell_type": "code",
   "execution_count": 90,
   "metadata": {
    "collapsed": false
   },
   "outputs": [],
   "source": [
    "neutrality_dict = get_fitness_summary(fit_dict, lambda series: get_neutrality_percents(series, neutrality_threshold=0.6))\n",
    "neutrality = pd.Series(neutrality_dict)\n",
    "\n",
    "predicted_singles['%_negative'] = predicted_singles['mut_list_Scer'].apply(lambda s: neutrality.loc[s][0])\n",
    "predicted_singles['%_neutral'] = predicted_singles['mut_list_Scer'].apply(lambda s: neutrality.loc[s][1])\n",
    "predicted_singles['%_positive'] = predicted_singles['mut_list_Scer'].apply(lambda s: neutrality.loc[s][2])"
   ]
  },
  {
   "cell_type": "code",
   "execution_count": 91,
   "metadata": {
    "collapsed": false
   },
   "outputs": [
    {
     "data": {
      "text/html": [
       "<div>\n",
       "<table border=\"1\" class=\"dataframe\">\n",
       "  <thead>\n",
       "    <tr style=\"text-align: right;\">\n",
       "      <th></th>\n",
       "      <th>%_negative</th>\n",
       "      <th>%_neutral</th>\n",
       "      <th>%_positive</th>\n",
       "      <th>ddG</th>\n",
       "    </tr>\n",
       "  </thead>\n",
       "  <tbody>\n",
       "    <tr>\n",
       "      <th>%_negative</th>\n",
       "      <td>1.000000</td>\n",
       "      <td>-1.000000</td>\n",
       "      <td>-0.134029</td>\n",
       "      <td>0.589722</td>\n",
       "    </tr>\n",
       "    <tr>\n",
       "      <th>%_neutral</th>\n",
       "      <td>-1.000000</td>\n",
       "      <td>1.000000</td>\n",
       "      <td>0.133732</td>\n",
       "      <td>-0.589702</td>\n",
       "    </tr>\n",
       "    <tr>\n",
       "      <th>%_positive</th>\n",
       "      <td>-0.134029</td>\n",
       "      <td>0.133732</td>\n",
       "      <td>1.000000</td>\n",
       "      <td>-0.146390</td>\n",
       "    </tr>\n",
       "    <tr>\n",
       "      <th>ddG</th>\n",
       "      <td>0.589722</td>\n",
       "      <td>-0.589702</td>\n",
       "      <td>-0.146390</td>\n",
       "      <td>1.000000</td>\n",
       "    </tr>\n",
       "  </tbody>\n",
       "</table>\n",
       "</div>"
      ],
      "text/plain": [
       "            %_negative  %_neutral  %_positive       ddG\n",
       "%_negative    1.000000  -1.000000   -0.134029  0.589722\n",
       "%_neutral    -1.000000   1.000000    0.133732 -0.589702\n",
       "%_positive   -0.134029   0.133732    1.000000 -0.146390\n",
       "ddG           0.589722  -0.589702   -0.146390  1.000000"
      ]
     },
     "metadata": {},
     "output_type": "display_data"
    },
    {
     "data": {
      "text/plain": [
       "<matplotlib.text.Text at 0x11b4ef5d0>"
      ]
     },
     "execution_count": 91,
     "metadata": {},
     "output_type": "execute_result"
    },
    {
     "data": {
      "image/png": "[encoded data removed]",
      "text/plain": [
       "<matplotlib.figure.Figure at 0x1549cb250>"
      ]
     },
     "metadata": {},
     "output_type": "display_data"
    }
   ],
   "source": [
    "cols = ['%_negative', '%_neutral', '%_positive', 'ddG']\n",
    "display(predicted_singles[cols].corr())\n",
    "plt.imshow(predicted_singles[cols].corr(), origin='lower', interpolation='none')\n",
    "plt.colorbar()\n",
    "plt.xticks(range(len(cols)), cols, rotation=30, ha='right')\n",
    "plt.yticks(range(len(cols)), cols)\n",
    "plt.title('Spearman coefficients:\\nfitness impacts vs ddG')"
   ]
  },
  {
   "cell_type": "code",
   "execution_count": 37,
   "metadata": {
    "collapsed": false
   },
   "outputs": [
    {
     "name": "stdout",
     "output_type": "stream",
     "text": [
      "0\n"
     ]
    },
    {
     "data": {
      "text/plain": [
       "<Container object of 4 artists>"
      ]
     },
     "execution_count": 37,
     "metadata": {},
     "output_type": "execute_result"
    },
    {
     "data": {
      "image/png": "[encoded data removed]",
      "text/plain": [
       "<matplotlib.figure.Figure at 0x16c9cd590>"
      ]
     },
     "metadata": {},
     "output_type": "display_data"
    }
   ],
   "source": [
    "plot_better()\n",
    "neutral = predicted_singles[predicted_singles['neutrality'] == 'neutral']\n",
    "negative = predicted_singles[predicted_singles['neutrality'] == 'negative']\n",
    "positive = predicted_singles[predicted_singles['neutrality'] == 'positive']\n",
    "mixed = predicted_singles[predicted_singles['neutrality'] == 'mixed_effects']\n",
    "\n",
    "print len(positive)\n",
    "\n",
    "plt.bar(range(4), [neutral['ddG'].mean(), negative['ddG'].mean(), positive['ddG'].mean(), mixed['ddG'].mean()])"
   ]
  },
  {
   "cell_type": "code",
   "execution_count": null,
   "metadata": {
    "collapsed": true
   },
   "outputs": [],
   "source": []
  }
 ],
 "metadata": {
  "kernelspec": {
   "display_name": "Python 2",
   "language": "python",
   "name": "python2"
  },
  "language_info": {
   "codemirror_mode": {
    "name": "ipython",
    "version": 2
   },
   "file_extension": ".py",
   "mimetype": "text/x-python",
   "name": "python",
   "nbconvert_exporter": "python",
   "pygments_lexer": "ipython2",
   "version": "2.7.13"
  }
 },
 "nbformat": 4,
 "nbformat_minor": 0
}
