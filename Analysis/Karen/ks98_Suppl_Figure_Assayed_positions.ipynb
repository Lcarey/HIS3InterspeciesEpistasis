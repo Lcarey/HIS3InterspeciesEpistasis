{
 "cells": [
  {
   "cell_type": "code",
   "execution_count": 1,
   "metadata": {
    "collapsed": false
   },
   "outputs": [],
   "source": [
    "import sys\n",
    "import pymol\n",
    "from pymol import cmd, stored\n",
    "import matplotlib\n",
    "matplotlib.rcParams['pdf.fonttype'] = 42"
   ]
  },
  {
   "cell_type": "code",
   "execution_count": 2,
   "metadata": {
    "collapsed": false
   },
   "outputs": [],
   "source": [
    "pymol.pymol_argv = ['pymol', '-qc'] # quiet / no GUI\n",
    "stdout = sys.stdout\n",
    "stderr = sys.stderr\n",
    "pymol.finish_launching(['pymol', '-xiq'])\n",
    "sys.stdout = stdout\n",
    "sys.stderr = stderr"
   ]
  },
  {
   "cell_type": "code",
   "execution_count": 4,
   "metadata": {
    "collapsed": false
   },
   "outputs": [
    {
     "name": "stderr",
     "output_type": "stream",
     "text": [
      "/Users/karen/anaconda/lib/python2.7/site-packages/matplotlib/font_manager.py:273: UserWarning: Matplotlib is building the font cache using fc-list. This may take a moment.\n",
      "  warnings.warn('Matplotlib is building the font cache using fc-list. This may take a moment.')\n",
      "/Users/karen/anaconda/lib/python2.7/site-packages/IPython/html.py:14: ShimWarning: The `IPython.html` package has been deprecated. You should import from `notebook` instead. `IPython.html.widgets` has moved to `ipywidgets`.\n",
      "  \"`IPython.html.widgets` has moved to `ipywidgets`.\", ShimWarning)\n"
     ]
    }
   ],
   "source": [
    "import numpy as np\n",
    "import os\n",
    "from matplotlib import pyplot as plt\n",
    "%run 'functions_dump.py'"
   ]
  },
  {
   "cell_type": "code",
   "execution_count": 5,
   "metadata": {
    "collapsed": true
   },
   "outputs": [],
   "source": [
    "files_dump_folder = '/Users/karen/HIS3InterspeciesEpistasis/Analysis/Karen/files_dump/'\n",
    "aa3 = \"ALA CYS ASP GLU PHE GLY HIS ILE LYS LEU MET ASN PRO GLN ARG SER THR VAL TRP TYR XXX\".split()\n",
    "ascii_letters_upper = 'ABCDEFGHIJKLMNOPQRSTUVWXYZ'"
   ]
  },
  {
   "cell_type": "code",
   "execution_count": 6,
   "metadata": {
    "collapsed": false
   },
   "outputs": [
    {
     "data": {
      "image/png": "[encoded data removed]",
      "text/plain": [
       "<matplotlib.figure.Figure at 0x14a6fba90>"
      ]
     },
     "metadata": {},
     "output_type": "display_data"
    },
    {
     "name": "stdout",
     "output_type": "stream",
     "text": [
      "1886 unique mutations across all segments\n",
      "238 natural unique mutations across all segments\n",
      "There are 231 single mutations with known effects. They are found in 120 positions\n"
     ]
    }
   ],
   "source": [
    "%run 'ks01_Data_import.ipynb'"
   ]
  },
  {
   "cell_type": "markdown",
   "metadata": {},
   "source": [
    "### PyMoling"
   ]
  },
  {
   "cell_type": "code",
   "execution_count": 7,
   "metadata": {
    "collapsed": false
   },
   "outputs": [],
   "source": [
    "def itasser_view():\n",
    "    cmd.set_view([\\\n",
    "        -0.973489642,   -0.181398124,    0.139324859,\\\n",
    "         0.100018367,    0.210196137,    0.972527623,\\\n",
    "        -0.205700472,    0.960678399,   -0.186481640,\\\n",
    "         0.000000000,    0.000000000, -173.329299927,\\\n",
    "        56.072074890,   56.086124420,   56.071060181,\\\n",
    "       142.140213013,  204.518432617,  -20.000000000])\n",
    "    \n",
    "def lucas_view():\n",
    "    cmd.set_view ([\\\n",
    "        -0.510012984,   -0.413525760,   -0.754239142,\\\n",
    "        -0.859676301,    0.215441972,    0.463183284,\\\n",
    "        -0.029043088,    0.884629667,   -0.465375006,\\\n",
    "         0.000000000,    0.000000000, -173.329299927,\\\n",
    "        56.072074890,   56.086124420,   56.071060181,\\\n",
    "       142.140213013,  204.518432617,  -20.000000000 ])"
   ]
  },
  {
   "cell_type": "code",
   "execution_count": 8,
   "metadata": {
    "collapsed": true
   },
   "outputs": [],
   "source": [
    "from IPython.display import Image"
   ]
  },
  {
   "cell_type": "code",
   "execution_count": 11,
   "metadata": {
    "collapsed": false
   },
   "outputs": [
    {
     "name": "stdout",
     "output_type": "stream",
     "text": [
      "set([2, 3, 4, 5, 6, 9])\n"
     ]
    }
   ],
   "source": [
    "count_wt_state = True\n",
    "natlib_mutations = [item for sublist in natural_unique_single_mutations.values() for item in sublist]\n",
    "natlib_by_positions = defaultdict(list)\n",
    "for mutation in natlib_mutations:\n",
    "    position = int(mutation[:-1])\n",
    "    natlib_by_positions[position].append(mutation)\n",
    "for position in natlib_by_positions:\n",
    "    natlib_by_positions[position] = set(natlib_by_positions[position])\n",
    "\n",
    "assayed_positions = natlib_by_positions.keys()\n",
    "possible_states = [len(natlib_by_positions[position]) + int(count_wt_state) for position in natlib_by_positions]\n",
    "print set(possible_states)"
   ]
  },
  {
   "cell_type": "code",
   "execution_count": 58,
   "metadata": {
    "collapsed": false
   },
   "outputs": [],
   "source": [
    "def get_color(value):\n",
    "    colors_dict = {9:(75,56,50), 6:(141,85,36), 5:(198,134,66), 4:(224,172,105), 3:(241,194,125), 2:(255,219,172)}\n",
    "    return [v/255. for v in colors_dict[value]]\n",
    "\n",
    "def color_positions(positions, values=None, representation='spheres', colormap=matplotlib.cm.cool):\n",
    "    for index, position in enumerate(positions):\n",
    "        if str(values) != 'None':\n",
    "            color=colormap(values[index])\n",
    "        colorName = \"color_\" + str(position)\n",
    "        selName = \"temp_selection\"\n",
    "        cmd.set_color(colorName, color[0:3])\n",
    "        cmd.select(selName, 'resi %s' %position)\n",
    "        cmd.show(representation, selName)\n",
    "        cmd.color(colorName, selName)"
   ]
  },
  {
   "cell_type": "code",
   "execution_count": 59,
   "metadata": {
    "collapsed": false
   },
   "outputs": [
    {
     "name": "stdout",
     "output_type": "stream",
     "text": [
      " Applying pse_export_version=1.720 compatibility\n"
     ]
    }
   ],
   "source": [
    "colormap = mpl.cm.pink_r\n",
    "\n",
    "cmd.reinitialize()\n",
    "open_or_fetch(files_dump_folder + 'structure_predictions/' + 'HIS3_saccharomyces_cerevisiae__itasser_model1_prediction.pdb',\n",
    "             object_name='his3_itasser_prediction')\n",
    "white_and_beautiful()\n",
    "lucas_view()\n",
    "\n",
    "items = natlib_by_positions.items()\n",
    "positions_to_color = [t[0] for t in items]\n",
    "values_to_color = [len(t[1])+1 for t in items]\n",
    "values_to_color.append(0)\n",
    "\n",
    "color_positions(positions_to_color, values_to_color, representation='cartoon', colormap=get_color)\n",
    "cmd.ray(4000)\n",
    "assayed_positions_png = '/Users/karen/Downloads/assayed_positions.png'\n",
    "cmd.png(assayed_positions_png)\n",
    "save_session('/Users/karen/Downloads/assayed_positions.pse')"
   ]
  },
  {
   "cell_type": "code",
   "execution_count": 57,
   "metadata": {
    "collapsed": false
   },
   "outputs": [
    {
     "data": {
      "image/png": "[encoded data removed]",
      "text/plain": [
       "<matplotlib.figure.Figure at 0x125392a10>"
      ]
     },
     "metadata": {},
     "output_type": "display_data"
    }
   ],
   "source": [
    "colors_dict = {9:(75,56,50), 6:(141,85,36), 5:(198,134,66), 4:(224,172,105), 3:(241,194,125), 2:(255,219,172)}\n",
    "\n",
    "for value, color in colors_dict.items():\n",
    "    plt.scatter(value, 1, color=rgb_to_hex(color[0], color[1], color[2]), s=1000)"
   ]
  },
  {
   "cell_type": "code",
   "execution_count": null,
   "metadata": {
    "collapsed": true
   },
   "outputs": [],
   "source": []
  }
 ],
 "metadata": {
  "kernelspec": {
   "display_name": "Python 2",
   "language": "python",
   "name": "python2"
  },
  "language_info": {
   "codemirror_mode": {
    "name": "ipython",
    "version": 2
   },
   "file_extension": ".py",
   "mimetype": "text/x-python",
   "name": "python",
   "nbconvert_exporter": "python",
   "pygments_lexer": "ipython2",
   "version": "2.7.13"
  }
 },
 "nbformat": 4,
 "nbformat_minor": 0
}
