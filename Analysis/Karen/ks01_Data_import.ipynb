{
 "cells": [
  {
   "cell_type": "markdown",
   "metadata": {},
   "source": [
    "# Preparing stuff"
   ]
  },
  {
   "cell_type": "code",
   "execution_count": 43,
   "metadata": {
    "collapsed": false
   },
   "outputs": [],
   "source": [
    "import pandas as pd\n",
    "import numpy as np\n",
    "import os\n",
    "from matplotlib import pyplot as plt\n",
    "from collections import OrderedDict\n",
    "import ast\n",
    "import Bio.PDB\n",
    "from Bio import SeqIO\n",
    "from IPython.display import display\n",
    "from collections import Counter \n",
    "%matplotlib inline\n",
    "%run 'functions_dump.py'\n",
    "notebook_prefix = 'ks01'\n",
    "image_counter = Counter()"
   ]
  },
  {
   "cell_type": "code",
   "execution_count": 51,
   "metadata": {
    "collapsed": false
   },
   "outputs": [],
   "source": [
    "segment_colors_list = [('S1','#00aba9'), ('S2','#ff0097'), ('S3','#a200ff'), ('S4','#b8d000'), ('S5','#1ba1e2'), ('S6','#f09609'), \n",
    "('S7','#edc951'), ('S8','#cc2a36'), ('S9','#4f372d'), ('S10','#0c457d'), ('S11','#616161'), ('S12','#800080')]\n",
    "segment_colors = OrderedDict(segment_colors_list)"
   ]
  },
  {
   "cell_type": "markdown",
   "metadata": {},
   "source": [
    "### Orienting myself"
   ]
  },
  {
   "cell_type": "code",
   "execution_count": 27,
   "metadata": {
    "collapsed": false
   },
   "outputs": [],
   "source": [
    "karen_folder = os.getcwd()\n",
    "analysis_folder = os.path.dirname(os.getcwd())\n",
    "root_folder = os.path.dirname(analysis_folder)\n",
    "data_folder = os.path.join(root_folder, 'Data')\n",
    "figures_folder = os.path.join(karen_folder, 'figures')\n",
    "small_tables_folder = os.path.join(root_folder, 'Data_Small_Tables')\n",
    "files_dump_folder = os.path.join(karen_folder, 'files_dump')\n",
    "structure_predictions_folder = os.path.join(files_dump_folder, 'structure_predictions')\n",
    "pymol_sessions_folder = os.path.join(files_dump_folder, 'structure_visualizations/pymol_sessions/')"
   ]
  },
  {
   "cell_type": "markdown",
   "metadata": {},
   "source": [
    "### Reading the data"
   ]
  },
  {
   "cell_type": "code",
   "execution_count": 21,
   "metadata": {
    "collapsed": false
   },
   "outputs": [],
   "source": [
    "data_all = OrderedDict()\n",
    "files = [f for f in os.listdir(data_folder) if '.csv' in f]\n",
    "for f in sorted(files, key = lambda s: int(s.split('_')[0][1:])):\n",
    "    data_all[f[:-9]] = pd.read_table(os.path.join(data_folder, f))"
   ]
  },
  {
   "cell_type": "code",
   "execution_count": 44,
   "metadata": {
    "collapsed": false
   },
   "outputs": [
    {
     "data": {
      "image/png": "[encoded data removed]",
      "text/plain": [
       "<matplotlib.figure.Figure at 0x1237d20d0>"
      ]
     },
     "metadata": {},
     "output_type": "display_data"
    }
   ],
   "source": [
    "title = 'Color code for segments'\n",
    "plt.figure(figsize=(1, 5))\n",
    "ax = plt.subplot(111)\n",
    "plt.tick_params(axis=\"both\", which=\"both\", bottom=\"off\", top=\"off\",  \n",
    "    labelbottom=\"off\", left=\"off\", right=\"off\", labelleft=\"off\")\n",
    "ax.spines[\"top\"].set_visible(False)  \n",
    "ax.spines[\"right\"].set_visible(False) \n",
    "ax.spines[\"bottom\"].set_visible(False)  \n",
    "ax.spines[\"left\"].set_visible(False) \n",
    "\n",
    "counter = 1\n",
    "for segment, color in sorted(segment_colors.items(), key=lambda s: int(s[0][1:]), reverse=True):\n",
    "    plt.plot(counter * np.array([1,1]), color=color, label=segment, lw=3)\n",
    "    plt.text(1.2, counter, segment, va='center')\n",
    "    counter += 1\n",
    "plt.xlim(-0.1, 1.8)\n",
    "plt.ylim(-0.1, counter + 0.1)\n",
    "plt.tight_layout()\n",
    "# save_image(image_counter, title, figures_folder, notebook_prefix)\n",
    "plt.close()"
   ]
  },
  {
   "cell_type": "markdown",
   "metadata": {},
   "source": [
    "### Working with positions"
   ]
  },
  {
   "cell_type": "code",
   "execution_count": 22,
   "metadata": {
    "collapsed": true
   },
   "outputs": [],
   "source": [
    "def remove_gaps(seq):\n",
    "    return ''.join([c for c in seq if c != '-'])\n",
    "\n",
    "def get_wt_position(position_in_alignment):\n",
    "    truncated_seq = remove_gaps(aligned_Scer[:position_in_alignment+1])\n",
    "    return len(truncated_seq)"
   ]
  },
  {
   "cell_type": "code",
   "execution_count": 23,
   "metadata": {
    "collapsed": false
   },
   "outputs": [],
   "source": [
    "Scer_Uniprot = open(os.path.join(files_dump_folder, 'HIS3_saccharomyces_cerevisiae_from_Uniprot_P06633.txt')).read().rstrip()\n",
    "alignment_file = os.path.join(small_tables_folder, 'aa_seq.txt')\n",
    "for seq_record in SeqIO.parse(alignment_file, 'fasta'):\n",
    "    if seq_record.id == 'Scer':\n",
    "        aligned_Scer = str(seq_record.seq)\n",
    "        break\n",
    "assert remove_gaps(aligned_Scer) == Scer_Uniprot"
   ]
  },
  {
   "cell_type": "code",
   "execution_count": 24,
   "metadata": {
    "collapsed": false,
    "scrolled": true
   },
   "outputs": [
    {
     "data": {
      "text/html": [
       "<div>\n",
       "<table border=\"1\" class=\"dataframe\">\n",
       "  <thead>\n",
       "    <tr style=\"text-align: right;\">\n",
       "      <th>Unnamed: 0</th>\n",
       "      <th>segment</th>\n",
       "      <th>wt1</th>\n",
       "      <th>positions_alignment</th>\n",
       "      <th>len1</th>\n",
       "      <th>len2</th>\n",
       "      <th>start1</th>\n",
       "      <th>end1</th>\n",
       "      <th>wt2</th>\n",
       "      <th>start2</th>\n",
       "      <th>end2</th>\n",
       "      <th>start_Scer</th>\n",
       "      <th>end_Scer</th>\n",
       "      <th>positions_Uniprot_P06633</th>\n",
       "    </tr>\n",
       "  </thead>\n",
       "  <tbody>\n",
       "    <tr>\n",
       "      <th>0</th>\n",
       "      <td>S1</td>\n",
       "      <td>EALGAVRGVK</td>\n",
       "      <td>[140, 141, 142, 143, 144, 145, 146, 147, 148, ...</td>\n",
       "      <td>10</td>\n",
       "      <td>10</td>\n",
       "      <td>140</td>\n",
       "      <td>149</td>\n",
       "      <td>EALSRAVVDL</td>\n",
       "      <td>160</td>\n",
       "      <td>169</td>\n",
       "      <td>106</td>\n",
       "      <td>135</td>\n",
       "      <td>[106, 107, 108, 109, 110, 111, 112, 113, 114, ...</td>\n",
       "    </tr>\n",
       "    <tr>\n",
       "      <th>1</th>\n",
       "      <td>S2</td>\n",
       "      <td>SNRPYAVVE</td>\n",
       "      <td>[170, 171, 172, 173, 174, 175, 176, 177, 178, ...</td>\n",
       "      <td>9</td>\n",
       "      <td>9</td>\n",
       "      <td>170</td>\n",
       "      <td>178</td>\n",
       "      <td>LSCEMIPHF</td>\n",
       "      <td>189</td>\n",
       "      <td>197</td>\n",
       "      <td>136</td>\n",
       "      <td>163</td>\n",
       "      <td>[136, 137, 138, 139, 140, 141, 142, 143, 144, ...</td>\n",
       "    </tr>\n",
       "    <tr>\n",
       "      <th>2</th>\n",
       "      <td>S3</td>\n",
       "      <td>LGLQREKVGD</td>\n",
       "      <td>[179, 180, 181, 182, 183, 184, 185, 186, 187, ...</td>\n",
       "      <td>10</td>\n",
       "      <td>7</td>\n",
       "      <td>179</td>\n",
       "      <td>188</td>\n",
       "      <td>LESFAEA</td>\n",
       "      <td>198</td>\n",
       "      <td>204</td>\n",
       "      <td>145</td>\n",
       "      <td>170</td>\n",
       "      <td>[145, 146, 147, 148, 149, 150, 151, 152, 153, ...</td>\n",
       "    </tr>\n",
       "    <tr>\n",
       "      <th>3</th>\n",
       "      <td>S4</td>\n",
       "      <td>SRITLHVDCL</td>\n",
       "      <td>[205, 206, 207, 208, 209, 210, 211, 212, 213, ...</td>\n",
       "      <td>10</td>\n",
       "      <td>10</td>\n",
       "      <td>205</td>\n",
       "      <td>214</td>\n",
       "      <td>SAFKALAVAI</td>\n",
       "      <td>225</td>\n",
       "      <td>234</td>\n",
       "      <td>171</td>\n",
       "      <td>200</td>\n",
       "      <td>[171, 172, 173, 174, 175, 176, 177, 178, 179, ...</td>\n",
       "    </tr>\n",
       "    <tr>\n",
       "      <th>4</th>\n",
       "      <td>S5</td>\n",
       "      <td>RGKNDHHRSE</td>\n",
       "      <td>[215, 216, 217, 218, 219, 220, 221, 222, 223, ...</td>\n",
       "      <td>10</td>\n",
       "      <td>11</td>\n",
       "      <td>215</td>\n",
       "      <td>224</td>\n",
       "      <td>REATSPNGTND</td>\n",
       "      <td>235</td>\n",
       "      <td>251</td>\n",
       "      <td>181</td>\n",
       "      <td>211</td>\n",
       "      <td>[181, 182, 183, 184, 185, 186, 187, 188, 189, ...</td>\n",
       "    </tr>\n",
       "    <tr>\n",
       "      <th>5</th>\n",
       "      <td>S6</td>\n",
       "      <td>CGIALGQAFK</td>\n",
       "      <td>[130, 131, 132, 133, 134, 135, 136, 137, 138, ...</td>\n",
       "      <td>10</td>\n",
       "      <td>10</td>\n",
       "      <td>130</td>\n",
       "      <td>139</td>\n",
       "      <td>RFGSGFAPLD</td>\n",
       "      <td>150</td>\n",
       "      <td>159</td>\n",
       "      <td>96</td>\n",
       "      <td>125</td>\n",
       "      <td>[96, 97, 98, 99, 100, 101, 102, 103, 104, 105,...</td>\n",
       "    </tr>\n",
       "    <tr>\n",
       "      <th>6</th>\n",
       "      <td>S7</td>\n",
       "      <td>IHALAKHSGW</td>\n",
       "      <td>[100, 101, 102, 103, 104, 105, 106, 107, 108, ...</td>\n",
       "      <td>10</td>\n",
       "      <td>10</td>\n",
       "      <td>100</td>\n",
       "      <td>109</td>\n",
       "      <td>HIDDHHTTED</td>\n",
       "      <td>120</td>\n",
       "      <td>129</td>\n",
       "      <td>66</td>\n",
       "      <td>95</td>\n",
       "      <td>[66, 67, 68, 69, 70, 71, 72, 73, 74, 75, 86, 8...</td>\n",
       "    </tr>\n",
       "    <tr>\n",
       "      <th>7</th>\n",
       "      <td>S8</td>\n",
       "      <td>HTGIGFLDHM</td>\n",
       "      <td>[90, 91, 92, 93, 94, 95, 96, 97, 98, 99, 110, ...</td>\n",
       "      <td>10</td>\n",
       "      <td>10</td>\n",
       "      <td>90</td>\n",
       "      <td>99</td>\n",
       "      <td>SLIVECIGDL</td>\n",
       "      <td>110</td>\n",
       "      <td>119</td>\n",
       "      <td>56</td>\n",
       "      <td>85</td>\n",
       "      <td>[56, 57, 58, 59, 60, 61, 62, 63, 64, 65, 76, 7...</td>\n",
       "    </tr>\n",
       "    <tr>\n",
       "      <th>8</th>\n",
       "      <td>S9</td>\n",
       "      <td>PEKEAE</td>\n",
       "      <td>[66, 67, 68, 73, 74, 75, 82, 83, 84, 85, 86, 8...</td>\n",
       "      <td>6</td>\n",
       "      <td>8</td>\n",
       "      <td>66</td>\n",
       "      <td>75</td>\n",
       "      <td>TQSQVINV</td>\n",
       "      <td>82</td>\n",
       "      <td>89</td>\n",
       "      <td>36</td>\n",
       "      <td>55</td>\n",
       "      <td>[36, 37, 38, 39, 40, 41, 48, 49, 50, 51, 52, 5...</td>\n",
       "    </tr>\n",
       "    <tr>\n",
       "      <th>9</th>\n",
       "      <td>S10</td>\n",
       "      <td>IEHSIF</td>\n",
       "      <td>[41, 42, 43, 44, 64, 65, 76, 77, 78, 79, 80, 81]</td>\n",
       "      <td>6</td>\n",
       "      <td>6</td>\n",
       "      <td>41</td>\n",
       "      <td>65</td>\n",
       "      <td>AVAEQA</td>\n",
       "      <td>76</td>\n",
       "      <td>81</td>\n",
       "      <td>30</td>\n",
       "      <td>47</td>\n",
       "      <td>[30, 31, 32, 33, 34, 35, 42, 43, 44, 45, 46, 47]</td>\n",
       "    </tr>\n",
       "    <tr>\n",
       "      <th>10</th>\n",
       "      <td>S11</td>\n",
       "      <td>NETKIQ</td>\n",
       "      <td>[24, 25, 26, 27, 28, 29, 36, 37, 38, 39, 40]</td>\n",
       "      <td>6</td>\n",
       "      <td>5</td>\n",
       "      <td>24</td>\n",
       "      <td>29</td>\n",
       "      <td>GGPLA</td>\n",
       "      <td>36</td>\n",
       "      <td>40</td>\n",
       "      <td>13</td>\n",
       "      <td>29</td>\n",
       "      <td>[13, 14, 15, 16, 17, 18, 25, 26, 27, 28, 29]</td>\n",
       "    </tr>\n",
       "    <tr>\n",
       "      <th>11</th>\n",
       "      <td>S12</td>\n",
       "      <td>ALVKRIT</td>\n",
       "      <td>[17, 18, 19, 20, 21, 22, 23, 30, 31, 32, 33, 3...</td>\n",
       "      <td>7</td>\n",
       "      <td>6</td>\n",
       "      <td>17</td>\n",
       "      <td>23</td>\n",
       "      <td>IAISLK</td>\n",
       "      <td>30</td>\n",
       "      <td>35</td>\n",
       "      <td>6</td>\n",
       "      <td>24</td>\n",
       "      <td>[6, 7, 8, 9, 10, 11, 12, 19, 20, 21, 22, 23, 24]</td>\n",
       "    </tr>\n",
       "  </tbody>\n",
       "</table>\n",
       "</div>"
      ],
      "text/plain": [
       "Unnamed: 0 segment         wt1  \\\n",
       "0               S1  EALGAVRGVK   \n",
       "1               S2   SNRPYAVVE   \n",
       "2               S3  LGLQREKVGD   \n",
       "3               S4  SRITLHVDCL   \n",
       "4               S5  RGKNDHHRSE   \n",
       "5               S6  CGIALGQAFK   \n",
       "6               S7  IHALAKHSGW   \n",
       "7               S8  HTGIGFLDHM   \n",
       "8               S9      PEKEAE   \n",
       "9              S10      IEHSIF   \n",
       "10             S11      NETKIQ   \n",
       "11             S12     ALVKRIT   \n",
       "\n",
       "Unnamed: 0                                positions_alignment len1 len2  \\\n",
       "0           [140, 141, 142, 143, 144, 145, 146, 147, 148, ...   10   10   \n",
       "1           [170, 171, 172, 173, 174, 175, 176, 177, 178, ...    9    9   \n",
       "2           [179, 180, 181, 182, 183, 184, 185, 186, 187, ...   10    7   \n",
       "3           [205, 206, 207, 208, 209, 210, 211, 212, 213, ...   10   10   \n",
       "4           [215, 216, 217, 218, 219, 220, 221, 222, 223, ...   10   11   \n",
       "5           [130, 131, 132, 133, 134, 135, 136, 137, 138, ...   10   10   \n",
       "6           [100, 101, 102, 103, 104, 105, 106, 107, 108, ...   10   10   \n",
       "7           [90, 91, 92, 93, 94, 95, 96, 97, 98, 99, 110, ...   10   10   \n",
       "8           [66, 67, 68, 73, 74, 75, 82, 83, 84, 85, 86, 8...    6    8   \n",
       "9            [41, 42, 43, 44, 64, 65, 76, 77, 78, 79, 80, 81]    6    6   \n",
       "10               [24, 25, 26, 27, 28, 29, 36, 37, 38, 39, 40]    6    5   \n",
       "11          [17, 18, 19, 20, 21, 22, 23, 30, 31, 32, 33, 3...    7    6   \n",
       "\n",
       "Unnamed: 0 start1 end1          wt2 start2 end2 start_Scer end_Scer  \\\n",
       "0             140  149   EALSRAVVDL    160  169        106      135   \n",
       "1             170  178    LSCEMIPHF    189  197        136      163   \n",
       "2             179  188      LESFAEA    198  204        145      170   \n",
       "3             205  214   SAFKALAVAI    225  234        171      200   \n",
       "4             215  224  REATSPNGTND    235  251        181      211   \n",
       "5             130  139   RFGSGFAPLD    150  159         96      125   \n",
       "6             100  109   HIDDHHTTED    120  129         66       95   \n",
       "7              90   99   SLIVECIGDL    110  119         56       85   \n",
       "8              66   75     TQSQVINV     82   89         36       55   \n",
       "9              41   65       AVAEQA     76   81         30       47   \n",
       "10             24   29        GGPLA     36   40         13       29   \n",
       "11             17   23       IAISLK     30   35          6       24   \n",
       "\n",
       "Unnamed: 0                           positions_Uniprot_P06633  \n",
       "0           [106, 107, 108, 109, 110, 111, 112, 113, 114, ...  \n",
       "1           [136, 137, 138, 139, 140, 141, 142, 143, 144, ...  \n",
       "2           [145, 146, 147, 148, 149, 150, 151, 152, 153, ...  \n",
       "3           [171, 172, 173, 174, 175, 176, 177, 178, 179, ...  \n",
       "4           [181, 182, 183, 184, 185, 186, 187, 188, 189, ...  \n",
       "5           [96, 97, 98, 99, 100, 101, 102, 103, 104, 105,...  \n",
       "6           [66, 67, 68, 69, 70, 71, 72, 73, 74, 75, 86, 8...  \n",
       "7           [56, 57, 58, 59, 60, 61, 62, 63, 64, 65, 76, 7...  \n",
       "8           [36, 37, 38, 39, 40, 41, 48, 49, 50, 51, 52, 5...  \n",
       "9            [30, 31, 32, 33, 34, 35, 42, 43, 44, 45, 46, 47]  \n",
       "10               [13, 14, 15, 16, 17, 18, 25, 26, 27, 28, 29]  \n",
       "11           [6, 7, 8, 9, 10, 11, 12, 19, 20, 21, 22, 23, 24]  "
      ]
     },
     "execution_count": 24,
     "metadata": {},
     "output_type": "execute_result"
    }
   ],
   "source": [
    "positions = pd.read_table(os.path.join(small_tables_folder, 'positions.csv'))\n",
    "positions = positions.set_index('Unnamed: 0').transpose().reset_index()\n",
    "positions.rename(columns={'index' : 'segment', 'positions':'positions_alignment'}, inplace=True)\n",
    "positions.reset_index(drop=True, inplace=True)\n",
    "positions['positions_alignment'] = positions['positions_alignment'].apply(lambda s: ast.literal_eval(s))\n",
    "positions['positions_Uniprot_P06633'] = positions.positions_alignment.apply(lambda l: [get_wt_position(p) for p in l])\n",
    "segment_names = positions.segment.values # not explicitly sorted\n",
    "positions.to_csv(os.path.join(files_dump_folder, 'information_about_segments.csv'), index=False)\n",
    "positions"
   ]
  },
  {
   "cell_type": "code",
   "execution_count": 58,
   "metadata": {
    "collapsed": false
   },
   "outputs": [
    {
     "data": {
      "image/png": "[encoded data removed]",
      "text/plain": [
       "<matplotlib.figure.Figure at 0x1420faf90>"
      ]
     },
     "metadata": {},
     "output_type": "display_data"
    }
   ],
   "source": [
    "title = 'Positions of segments according to Uniprot sequence'\n",
    "plot_better(grid='', height=2)\n",
    "old_y = 2\n",
    "for row in positions.iterrows():\n",
    "    for position in row[1].positions_Uniprot_P06633:\n",
    "        new_y = np.random.choice([1,2])\n",
    "        while new_y == old_y:\n",
    "            new_y = np.random.choice([1,2])\n",
    "    x = row[1].positions_Uniprot_P06633\n",
    "    plt.plot(x, [new_y for e in x], '.', lw=3, alpha=0.7, label=row[1].segment, color=segment_colors[row[1].segment])\n",
    "    plt.text(np.median(x), new_y + 0.3, row[1].segment)\n",
    "    old_y = new_y\n",
    "plt.ylim(0,4)\n",
    "plt.yticks([])\n",
    "plt.xlabel('Positions according to Uniprot sequence')\n",
    "plt.title(title)"
   ]
  },
  {
   "cell_type": "markdown",
   "metadata": {},
   "source": [
    "### Keeping only the mutants carrying substitutions (no indels, no mutations in the unmutated \"central region\")"
   ]
  },
  {
   "cell_type": "code",
   "execution_count": 28,
   "metadata": {
    "collapsed": true
   },
   "outputs": [],
   "source": [
    "def count_mutations(muts):\n",
    "    if not muts > 0:\n",
    "        return 0\n",
    "    else:\n",
    "        return muts.count(':') + 1"
   ]
  },
  {
   "cell_type": "code",
   "execution_count": 29,
   "metadata": {
    "collapsed": false
   },
   "outputs": [],
   "source": [
    "data = OrderedDict()\n",
    "for k,v in data_all.items():\n",
    "    data[k] = v[(v.middle == 1) & (v.nogap == 1)].copy()\n",
    "    data[k]['mut_number'] = data[k].mut_list_Scer.apply(count_mutations)"
   ]
  },
  {
   "cell_type": "markdown",
   "metadata": {},
   "source": [
    "### Unique single mutations"
   ]
  },
  {
   "cell_type": "code",
   "execution_count": 30,
   "metadata": {
    "collapsed": false,
    "scrolled": false
   },
   "outputs": [
    {
     "name": "stdout",
     "output_type": "stream",
     "text": [
      "1891 unique mutations across all segments\n"
     ]
    }
   ],
   "source": [
    "unique_single_mutations = OrderedDict()\n",
    "for segment_name, segment_data in data.items():\n",
    "    without_wt = segment_data.dropna(subset=['mut_list_Scer'])\n",
    "    unique_single_mutations[segment_name] = set(':'.join(without_wt.mut_list_Scer.values).split(':'))\n",
    "unique_single_mutations['all_segments'] = set().union(*unique_single_mutations.values())\n",
    "print len(unique_single_mutations['all_segments']), 'unique mutations across all segments'"
   ]
  },
  {
   "cell_type": "markdown",
   "metadata": {},
   "source": [
    "### Singles"
   ]
  },
  {
   "cell_type": "code",
   "execution_count": 31,
   "metadata": {
    "collapsed": false
   },
   "outputs": [
    {
     "name": "stdout",
     "output_type": "stream",
     "text": [
      "There are 231 single mutations with known effects. They are found in 120 positions\n"
     ]
    }
   ],
   "source": [
    "data_singles = OrderedDict()\n",
    "known_single_mutations = []\n",
    "for segment_name, segment_data in data.items():\n",
    "    data_singles[segment_name] = segment_data[segment_data.mut_list.str.count(':') == 0].copy()\n",
    "    data_singles[segment_name]['position_Scer'] = data_singles[segment_name]['mut_list_Scer'].apply(lambda s: int(s[:-1]))\n",
    "    known_single_mutations += set(':'.join(data_singles[segment_name].mut_list_Scer.values).split(':'))\n",
    "positions_with_known_mutations = set([int(m[:-1]) for m in known_single_mutations])\n",
    "print 'There are %s single mutations with known effects. They are found in %s positions' % (len(known_single_mutations),\n",
    "                                                                                            len(positions_with_known_mutations))"
   ]
  },
  {
   "cell_type": "markdown",
   "metadata": {},
   "source": [
    "#### A dictionary containing fitness for every known single mutation"
   ]
  },
  {
   "cell_type": "code",
   "execution_count": 32,
   "metadata": {
    "collapsed": false
   },
   "outputs": [],
   "source": [
    "single_mut_fitness_dict = {}\n",
    "for segment_data in data_singles.values():\n",
    "    single_mut_fitness_dict.update(dict(segment_data[['mut_list_Scer', 's']].values))"
   ]
  },
  {
   "cell_type": "markdown",
   "metadata": {},
   "source": [
    "### Genotypes consisting of mutations with known effects"
   ]
  },
  {
   "cell_type": "code",
   "execution_count": 33,
   "metadata": {
    "collapsed": true
   },
   "outputs": [],
   "source": [
    "def consists_of_known_mutations(mutations, list_of_known_singles):\n",
    "    for mutation in mutations.split(':'):\n",
    "        if not mutation in list_of_known_singles:\n",
    "            return False\n",
    "    return True"
   ]
  },
  {
   "cell_type": "code",
   "execution_count": 34,
   "metadata": {
    "collapsed": false,
    "scrolled": false
   },
   "outputs": [
    {
     "name": "stdout",
     "output_type": "stream",
     "text": [
      "Genotypes consisting of mutations with known effects:\n",
      "Segment S1_scaled: 95.56% of genotypes (=58146)\n",
      "Segment S2_scaled: 15.13% of genotypes (=12566)\n",
      "Segment S3_scaled: 64.52% of genotypes (=44837)\n",
      "Segment S4_scaled: 55.90% of genotypes (=35769)\n",
      "Segment S5_scaled: 92.84% of genotypes (=67955)\n",
      "Segment S6_scaled: 39.40% of genotypes (=25447)\n",
      "Segment S7_scaled: 85.34% of genotypes (=13815)\n",
      "Segment S8_scaled: 76.08% of genotypes (=45248)\n",
      "Segment S9_scaled: 0.23% of genotypes (=189)\n",
      "Segment S10_scaled: 94.07% of genotypes (=59763)\n",
      "Segment S11_scaled: 97.43% of genotypes (=33793)\n",
      "Segment S12_scaled: 15.01% of genotypes (=8685)\n"
     ]
    }
   ],
   "source": [
    "# print 'Genotypes consisting of mutations with known effects:'\n",
    "\n",
    "data_known_mutations_only = OrderedDict()\n",
    "for segment_name, segment_data in data.items():\n",
    "    without_wt = segment_data.dropna(subset=['mut_list_Scer']).copy()\n",
    "    data_known_mutations_only[segment_name] = without_wt[without_wt.mut_list_Scer.apply(\n",
    "            lambda muts: consists_of_known_mutations(muts, data_singles[segment_name].mut_list_Scer.values))]\n",
    "#     print 'Segment %s: %.2f%% of genotypes (=%s)' %(\n",
    "#         segment_name,\n",
    "#         100. * len(data_known_mutations_only[segment_name]) / len(data[segment_name]),\n",
    "#         len(data_known_mutations_only[segment_name]))"
   ]
  },
  {
   "cell_type": "markdown",
   "metadata": {},
   "source": [
    "### Calculating epistasis"
   ]
  },
  {
   "cell_type": "code",
   "execution_count": 35,
   "metadata": {
    "collapsed": false
   },
   "outputs": [],
   "source": [
    "wt_fitness = np.median([table[table.mut_number == 0].s.values[0] for table in data.values()])\n",
    "min_fitness = np.min([table.s.min() for table in data.values()])\n",
    "max_fitness = np.max([table.s.max() for table in data.values()])\n",
    "\n",
    "def mut_effect(fitness):\n",
    "    return fitness - wt_fitness\n",
    "\n",
    "min_mut_effect = mut_effect(min_fitness)\n",
    "max_mut_effect = mut_effect(max_fitness)\n",
    "\n",
    "def epistasis(single_mut_fitnesses, fitness_of_combination):\n",
    "    expected_mut_effect = sum([mut_effect(fitness) for fitness in single_mut_fitnesses])\n",
    "    expected_mut_effect = min(expected_mut_effect, max_mut_effect)\n",
    "    expected_mut_effect = max(expected_mut_effect, min_mut_effect)\n",
    "    return mut_effect(fitness_of_combination) - expected_mut_effect\n",
    "\n",
    "def epistasis_for_df(df):\n",
    "    mutations_combination = df['mut_list_Scer']\n",
    "    fitness_of_combination = df['s']\n",
    "    single_mut_fitnesses = []\n",
    "    for single_mutation in mutations_combination.split(':'):\n",
    "        single_mut_fitnesses.append(single_mut_fitness_dict[single_mutation])\n",
    "    return epistasis(single_mut_fitnesses, fitness_of_combination)"
   ]
  },
  {
   "cell_type": "code",
   "execution_count": 36,
   "metadata": {
    "collapsed": false
   },
   "outputs": [
    {
     "name": "stderr",
     "output_type": "stream",
     "text": [
      "/Users/karen/anaconda/lib/python2.7/site-packages/ipykernel/__main__.py:2: SettingWithCopyWarning: \n",
      "A value is trying to be set on a copy of a slice from a DataFrame.\n",
      "Try using .loc[row_indexer,col_indexer] = value instead\n",
      "\n",
      "See the caveats in the documentation: http://pandas.pydata.org/pandas-docs/stable/indexing.html#indexing-view-versus-copy\n",
      "  from ipykernel import kernelapp as app\n"
     ]
    }
   ],
   "source": [
    "for segment_name, segment_data in data_known_mutations_only.items():\n",
    "    segment_data['epistasis'] = segment_data.apply(epistasis_for_df, axis=1)"
   ]
  }
 ],
 "metadata": {
  "kernelspec": {
   "display_name": "Python 2",
   "language": "python",
   "name": "python2"
  },
  "language_info": {
   "codemirror_mode": {
    "name": "ipython",
    "version": 2
   },
   "file_extension": ".py",
   "mimetype": "text/x-python",
   "name": "python",
   "nbconvert_exporter": "python",
   "pygments_lexer": "ipython2",
   "version": "2.7.13"
  }
 },
 "nbformat": 4,
 "nbformat_minor": 0
}
