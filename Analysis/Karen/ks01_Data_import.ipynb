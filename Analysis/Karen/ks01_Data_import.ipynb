{
 "cells": [
  {
   "cell_type": "markdown",
   "metadata": {},
   "source": [
    "# Preparing stuff"
   ]
  },
  {
   "cell_type": "code",
   "execution_count": 1,
   "metadata": {
    "collapsed": false
   },
   "outputs": [
    {
     "name": "stderr",
     "output_type": "stream",
     "text": [
      "/Users/karen/anaconda/lib/python2.7/site-packages/matplotlib/font_manager.py:273: UserWarning: Matplotlib is building the font cache using fc-list. This may take a moment.\n",
      "  warnings.warn('Matplotlib is building the font cache using fc-list. This may take a moment.')\n"
     ]
    }
   ],
   "source": [
    "import pandas as pd\n",
    "import numpy as np\n",
    "import os\n",
    "from matplotlib import pyplot as plt\n",
    "from collections import OrderedDict\n",
    "import ast\n",
    "import Bio.PDB\n",
    "from Bio import SeqIO\n",
    "from IPython.display import display\n",
    "%matplotlib inline\n",
    "%run 'functions_dump.py'\n",
    "notebook_prefix = 'ks01'\n",
    "image_counter = Counter()"
   ]
  },
  {
   "cell_type": "markdown",
   "metadata": {},
   "source": [
    "### Orienting myself"
   ]
  },
  {
   "cell_type": "code",
   "execution_count": 2,
   "metadata": {
    "collapsed": false
   },
   "outputs": [],
   "source": [
    "karen_folder = os.getcwd()\n",
    "analysis_folder = os.path.dirname(os.getcwd())\n",
    "root_folder = os.path.dirname(analysis_folder)\n",
    "data_folder = os.path.join(root_folder, 'Data')\n",
    "figures_folder = os.path.join(karen_folder, 'figures')\n",
    "small_tables_folder = os.path.join(root_folder, 'Data_Small_Tables')\n",
    "files_dump_folder = os.path.join(karen_folder, 'files_dump')\n",
    "structure_predictions_folder = os.path.join(files_dump_folder, 'structure_predictions')"
   ]
  },
  {
   "cell_type": "markdown",
   "metadata": {},
   "source": [
    "### Reading the data"
   ]
  },
  {
   "cell_type": "code",
   "execution_count": 3,
   "metadata": {
    "collapsed": false
   },
   "outputs": [],
   "source": [
    "data_all = OrderedDict()\n",
    "files = [f for f in os.listdir(data_folder) if '.csv' in f]\n",
    "for f in sorted(files, key = lambda s: int(s.split('_')[0][1:])):\n",
    "    data_all[f[:-9]] = pd.read_table(os.path.join(data_folder, f))"
   ]
  },
  {
   "cell_type": "markdown",
   "metadata": {},
   "source": [
    "### Working with positions"
   ]
  },
  {
   "cell_type": "code",
   "execution_count": 4,
   "metadata": {
    "collapsed": true
   },
   "outputs": [],
   "source": [
    "def remove_gaps(seq):\n",
    "    return ''.join([c for c in seq if c != '-'])\n",
    "\n",
    "def get_wt_position(position_in_alignment):\n",
    "    truncated_seq = remove_gaps(aligned_Scer[:position_in_alignment+1])\n",
    "    return len(truncated_seq)"
   ]
  },
  {
   "cell_type": "code",
   "execution_count": 5,
   "metadata": {
    "collapsed": false
   },
   "outputs": [],
   "source": [
    "Scer_Uniprot = open(os.path.join(files_dump_folder, 'HIS3_saccharomyces_cerevisiae_from_Uniprot_P06633.txt')).read().rstrip()\n",
    "alignment_file = os.path.join(small_tables_folder, 'aa_seq.txt')\n",
    "for seq_record in SeqIO.parse(alignment_file, 'fasta'):\n",
    "    if seq_record.id == 'Scer':\n",
    "        aligned_Scer = str(seq_record.seq)\n",
    "        break\n",
    "assert remove_gaps(aligned_Scer) == Scer_Uniprot"
   ]
  },
  {
   "cell_type": "code",
   "execution_count": 6,
   "metadata": {
    "collapsed": false,
    "scrolled": false
   },
   "outputs": [
    {
     "data": {
      "text/html": [
       "<div>\n",
       "<table border=\"1\" class=\"dataframe\">\n",
       "  <thead>\n",
       "    <tr style=\"text-align: right;\">\n",
       "      <th>Unnamed: 0</th>\n",
       "      <th>segment</th>\n",
       "      <th>wt1</th>\n",
       "      <th>positions_alignment</th>\n",
       "      <th>len1</th>\n",
       "      <th>len2</th>\n",
       "      <th>start1</th>\n",
       "      <th>end1</th>\n",
       "      <th>wt2</th>\n",
       "      <th>start2</th>\n",
       "      <th>end2</th>\n",
       "      <th>positions_Uniprot_P06633</th>\n",
       "    </tr>\n",
       "  </thead>\n",
       "  <tbody>\n",
       "    <tr>\n",
       "      <th>0</th>\n",
       "      <td>S1</td>\n",
       "      <td>EALGAVRGVK</td>\n",
       "      <td>[140, 141, 142, 143, 144, 145, 146, 147, 148, ...</td>\n",
       "      <td>10</td>\n",
       "      <td>10</td>\n",
       "      <td>140</td>\n",
       "      <td>149</td>\n",
       "      <td>EALSRAVVDL</td>\n",
       "      <td>160</td>\n",
       "      <td>169</td>\n",
       "      <td>[106, 107, 108, 109, 110, 111, 112, 113, 114, ...</td>\n",
       "    </tr>\n",
       "    <tr>\n",
       "      <th>1</th>\n",
       "      <td>S2</td>\n",
       "      <td>SNRPYAVVE</td>\n",
       "      <td>[170, 171, 172, 173, 174, 175, 176, 177, 178, ...</td>\n",
       "      <td>9</td>\n",
       "      <td>9</td>\n",
       "      <td>170</td>\n",
       "      <td>178</td>\n",
       "      <td>LSCEMIPHF</td>\n",
       "      <td>189</td>\n",
       "      <td>197</td>\n",
       "      <td>[136, 137, 138, 139, 140, 141, 142, 143, 144, ...</td>\n",
       "    </tr>\n",
       "    <tr>\n",
       "      <th>2</th>\n",
       "      <td>S3</td>\n",
       "      <td>LGLQREKVGD</td>\n",
       "      <td>[179, 180, 181, 182, 183, 184, 185, 186, 187, ...</td>\n",
       "      <td>10</td>\n",
       "      <td>7</td>\n",
       "      <td>179</td>\n",
       "      <td>188</td>\n",
       "      <td>LESFAEA</td>\n",
       "      <td>198</td>\n",
       "      <td>204</td>\n",
       "      <td>[145, 146, 147, 148, 149, 150, 151, 152, 153, ...</td>\n",
       "    </tr>\n",
       "    <tr>\n",
       "      <th>3</th>\n",
       "      <td>S4</td>\n",
       "      <td>SRITLHVDCL</td>\n",
       "      <td>[205, 206, 207, 208, 209, 210, 211, 212, 213, ...</td>\n",
       "      <td>10</td>\n",
       "      <td>10</td>\n",
       "      <td>205</td>\n",
       "      <td>214</td>\n",
       "      <td>SAFKALAVAI</td>\n",
       "      <td>225</td>\n",
       "      <td>234</td>\n",
       "      <td>[171, 172, 173, 174, 175, 176, 177, 178, 179, ...</td>\n",
       "    </tr>\n",
       "    <tr>\n",
       "      <th>4</th>\n",
       "      <td>S5</td>\n",
       "      <td>RGKNDHHRSE</td>\n",
       "      <td>[215, 216, 217, 218, 219, 220, 221, 222, 223, ...</td>\n",
       "      <td>10</td>\n",
       "      <td>11</td>\n",
       "      <td>215</td>\n",
       "      <td>224</td>\n",
       "      <td>REATSPNGTND</td>\n",
       "      <td>235</td>\n",
       "      <td>251</td>\n",
       "      <td>[181, 182, 183, 184, 185, 186, 187, 188, 189, ...</td>\n",
       "    </tr>\n",
       "    <tr>\n",
       "      <th>5</th>\n",
       "      <td>S6</td>\n",
       "      <td>CGIALGQAFK</td>\n",
       "      <td>[130, 131, 132, 133, 134, 135, 136, 137, 138, ...</td>\n",
       "      <td>10</td>\n",
       "      <td>10</td>\n",
       "      <td>130</td>\n",
       "      <td>139</td>\n",
       "      <td>RFGSGFAPLD</td>\n",
       "      <td>150</td>\n",
       "      <td>159</td>\n",
       "      <td>[96, 97, 98, 99, 100, 101, 102, 103, 104, 105,...</td>\n",
       "    </tr>\n",
       "    <tr>\n",
       "      <th>6</th>\n",
       "      <td>S7</td>\n",
       "      <td>IHALAKHSGW</td>\n",
       "      <td>[100, 101, 102, 103, 104, 105, 106, 107, 108, ...</td>\n",
       "      <td>10</td>\n",
       "      <td>10</td>\n",
       "      <td>100</td>\n",
       "      <td>109</td>\n",
       "      <td>HIDDHHTTED</td>\n",
       "      <td>120</td>\n",
       "      <td>129</td>\n",
       "      <td>[66, 67, 68, 69, 70, 71, 72, 73, 74, 75, 86, 8...</td>\n",
       "    </tr>\n",
       "    <tr>\n",
       "      <th>7</th>\n",
       "      <td>S8</td>\n",
       "      <td>HTGIGFLDHM</td>\n",
       "      <td>[90, 91, 92, 93, 94, 95, 96, 97, 98, 99, 110, ...</td>\n",
       "      <td>10</td>\n",
       "      <td>10</td>\n",
       "      <td>90</td>\n",
       "      <td>99</td>\n",
       "      <td>SLIVECIGDL</td>\n",
       "      <td>110</td>\n",
       "      <td>119</td>\n",
       "      <td>[56, 57, 58, 59, 60, 61, 62, 63, 64, 65, 76, 7...</td>\n",
       "    </tr>\n",
       "    <tr>\n",
       "      <th>8</th>\n",
       "      <td>S9</td>\n",
       "      <td>PEKEAE</td>\n",
       "      <td>[66, 67, 68, 73, 74, 75, 82, 83, 84, 85, 86, 8...</td>\n",
       "      <td>6</td>\n",
       "      <td>8</td>\n",
       "      <td>66</td>\n",
       "      <td>75</td>\n",
       "      <td>TQSQVINV</td>\n",
       "      <td>82</td>\n",
       "      <td>89</td>\n",
       "      <td>[36, 37, 38, 39, 40, 41, 48, 49, 50, 51, 52, 5...</td>\n",
       "    </tr>\n",
       "    <tr>\n",
       "      <th>9</th>\n",
       "      <td>S10</td>\n",
       "      <td>IEHSIF</td>\n",
       "      <td>[41, 42, 43, 44, 64, 65, 76, 77, 78, 79, 80, 81]</td>\n",
       "      <td>6</td>\n",
       "      <td>6</td>\n",
       "      <td>41</td>\n",
       "      <td>65</td>\n",
       "      <td>AVAEQA</td>\n",
       "      <td>76</td>\n",
       "      <td>81</td>\n",
       "      <td>[30, 31, 32, 33, 34, 35, 42, 43, 44, 45, 46, 47]</td>\n",
       "    </tr>\n",
       "    <tr>\n",
       "      <th>10</th>\n",
       "      <td>S11</td>\n",
       "      <td>NETKIQ</td>\n",
       "      <td>[24, 25, 26, 27, 28, 29, 36, 37, 38, 39, 40]</td>\n",
       "      <td>6</td>\n",
       "      <td>5</td>\n",
       "      <td>24</td>\n",
       "      <td>29</td>\n",
       "      <td>GGPLA</td>\n",
       "      <td>36</td>\n",
       "      <td>40</td>\n",
       "      <td>[13, 14, 15, 16, 17, 18, 25, 26, 27, 28, 29]</td>\n",
       "    </tr>\n",
       "    <tr>\n",
       "      <th>11</th>\n",
       "      <td>S12</td>\n",
       "      <td>ALVKRIT</td>\n",
       "      <td>[17, 18, 19, 20, 21, 22, 23, 30, 31, 32, 33, 3...</td>\n",
       "      <td>7</td>\n",
       "      <td>6</td>\n",
       "      <td>17</td>\n",
       "      <td>23</td>\n",
       "      <td>IAISLK</td>\n",
       "      <td>30</td>\n",
       "      <td>35</td>\n",
       "      <td>[6, 7, 8, 9, 10, 11, 12, 19, 20, 21, 22, 23, 24]</td>\n",
       "    </tr>\n",
       "  </tbody>\n",
       "</table>\n",
       "</div>"
      ],
      "text/plain": [
       "Unnamed: 0 segment         wt1  \\\n",
       "0               S1  EALGAVRGVK   \n",
       "1               S2   SNRPYAVVE   \n",
       "2               S3  LGLQREKVGD   \n",
       "3               S4  SRITLHVDCL   \n",
       "4               S5  RGKNDHHRSE   \n",
       "5               S6  CGIALGQAFK   \n",
       "6               S7  IHALAKHSGW   \n",
       "7               S8  HTGIGFLDHM   \n",
       "8               S9      PEKEAE   \n",
       "9              S10      IEHSIF   \n",
       "10             S11      NETKIQ   \n",
       "11             S12     ALVKRIT   \n",
       "\n",
       "Unnamed: 0                                positions_alignment len1 len2  \\\n",
       "0           [140, 141, 142, 143, 144, 145, 146, 147, 148, ...   10   10   \n",
       "1           [170, 171, 172, 173, 174, 175, 176, 177, 178, ...    9    9   \n",
       "2           [179, 180, 181, 182, 183, 184, 185, 186, 187, ...   10    7   \n",
       "3           [205, 206, 207, 208, 209, 210, 211, 212, 213, ...   10   10   \n",
       "4           [215, 216, 217, 218, 219, 220, 221, 222, 223, ...   10   11   \n",
       "5           [130, 131, 132, 133, 134, 135, 136, 137, 138, ...   10   10   \n",
       "6           [100, 101, 102, 103, 104, 105, 106, 107, 108, ...   10   10   \n",
       "7           [90, 91, 92, 93, 94, 95, 96, 97, 98, 99, 110, ...   10   10   \n",
       "8           [66, 67, 68, 73, 74, 75, 82, 83, 84, 85, 86, 8...    6    8   \n",
       "9            [41, 42, 43, 44, 64, 65, 76, 77, 78, 79, 80, 81]    6    6   \n",
       "10               [24, 25, 26, 27, 28, 29, 36, 37, 38, 39, 40]    6    5   \n",
       "11          [17, 18, 19, 20, 21, 22, 23, 30, 31, 32, 33, 3...    7    6   \n",
       "\n",
       "Unnamed: 0 start1 end1          wt2 start2 end2  \\\n",
       "0             140  149   EALSRAVVDL    160  169   \n",
       "1             170  178    LSCEMIPHF    189  197   \n",
       "2             179  188      LESFAEA    198  204   \n",
       "3             205  214   SAFKALAVAI    225  234   \n",
       "4             215  224  REATSPNGTND    235  251   \n",
       "5             130  139   RFGSGFAPLD    150  159   \n",
       "6             100  109   HIDDHHTTED    120  129   \n",
       "7              90   99   SLIVECIGDL    110  119   \n",
       "8              66   75     TQSQVINV     82   89   \n",
       "9              41   65       AVAEQA     76   81   \n",
       "10             24   29        GGPLA     36   40   \n",
       "11             17   23       IAISLK     30   35   \n",
       "\n",
       "Unnamed: 0                           positions_Uniprot_P06633  \n",
       "0           [106, 107, 108, 109, 110, 111, 112, 113, 114, ...  \n",
       "1           [136, 137, 138, 139, 140, 141, 142, 143, 144, ...  \n",
       "2           [145, 146, 147, 148, 149, 150, 151, 152, 153, ...  \n",
       "3           [171, 172, 173, 174, 175, 176, 177, 178, 179, ...  \n",
       "4           [181, 182, 183, 184, 185, 186, 187, 188, 189, ...  \n",
       "5           [96, 97, 98, 99, 100, 101, 102, 103, 104, 105,...  \n",
       "6           [66, 67, 68, 69, 70, 71, 72, 73, 74, 75, 86, 8...  \n",
       "7           [56, 57, 58, 59, 60, 61, 62, 63, 64, 65, 76, 7...  \n",
       "8           [36, 37, 38, 39, 40, 41, 48, 49, 50, 51, 52, 5...  \n",
       "9            [30, 31, 32, 33, 34, 35, 42, 43, 44, 45, 46, 47]  \n",
       "10               [13, 14, 15, 16, 17, 18, 25, 26, 27, 28, 29]  \n",
       "11           [6, 7, 8, 9, 10, 11, 12, 19, 20, 21, 22, 23, 24]  "
      ]
     },
     "execution_count": 6,
     "metadata": {},
     "output_type": "execute_result"
    }
   ],
   "source": [
    "positions = pd.read_table(os.path.join(small_tables_folder, 'positions.csv'))\n",
    "positions = positions.set_index('Unnamed: 0').transpose().reset_index()\n",
    "positions.rename(columns={'index' : 'segment', 'positions':'positions_alignment'}, inplace=True)\n",
    "positions.reset_index(drop=True, inplace=True)\n",
    "positions['positions_alignment'] = positions['positions_alignment'].apply(lambda s: ast.literal_eval(s))\n",
    "positions['positions_Uniprot_P06633'] = positions.positions_alignment.apply(lambda l: [get_wt_position(p) for p in l])\n",
    "segment_names = positions.segment.values # not explicitly sorted\n",
    "positions.to_csv(os.path.join(files_dump_folder, 'information_about_segments.csv'), index=False)\n",
    "positions"
   ]
  },
  {
   "cell_type": "code",
   "execution_count": 7,
   "metadata": {
    "collapsed": false
   },
   "outputs": [
    {
     "data": {
      "image/png": "[encoded data removed]",
      "text/plain": [
       "<matplotlib.figure.Figure at 0x11da108d0>"
      ]
     },
     "metadata": {},
     "output_type": "display_data"
    }
   ],
   "source": [
    "title = 'Positions of segments according to alignment'\n",
    "plot_better(grid='', height=2)\n",
    "old_y = 2\n",
    "for row in positions.iterrows():\n",
    "    for position in row[1].positions_alignment:\n",
    "        new_y = np.random.choice([1,2])\n",
    "        while new_y == old_y:\n",
    "            new_y = np.random.choice([1,2])\n",
    "    x = row[1].positions_alignment\n",
    "    plt.plot(x, [new_y for e in x], '_', lw=3, alpha=0.7, label=row[1].segment)\n",
    "    plt.text(np.median(x), new_y + 0.3, row[1].segment)\n",
    "    old_y = new_y\n",
    "plt.ylim(0,4)\n",
    "plt.yticks([])\n",
    "plt.xlabel('Positions according to the aligment')\n",
    "plt.title(title)\n",
    "save_image(image_counter, title, figures_folder, notebook_prefix)"
   ]
  },
  {
   "cell_type": "code",
   "execution_count": 8,
   "metadata": {
    "collapsed": false
   },
   "outputs": [
    {
     "data": {
      "image/png": "[encoded data removed]",
      "text/plain": [
       "<matplotlib.figure.Figure at 0x143105910>"
      ]
     },
     "metadata": {},
     "output_type": "display_data"
    }
   ],
   "source": [
    "title = 'Positions of segments according to Uniprot sequence'\n",
    "plot_better(grid='', height=2)\n",
    "old_y = 2\n",
    "for row in positions.iterrows():\n",
    "    for position in row[1].positions_Uniprot_P06633:\n",
    "        new_y = np.random.choice([1,2])\n",
    "        while new_y == old_y:\n",
    "            new_y = np.random.choice([1,2])\n",
    "    x = row[1].positions_Uniprot_P06633\n",
    "    plt.plot(x, [new_y for e in x], '_', lw=3, alpha=0.7, label=row[1].segment)\n",
    "    plt.text(np.median(x), new_y + 0.3, row[1].segment)\n",
    "    old_y = new_y\n",
    "plt.ylim(0,4)\n",
    "plt.yticks([])\n",
    "plt.xlabel('Positions according to Uniprot sequence')\n",
    "plt.title(title)\n",
    "save_image(image_counter, title, figures_folder, notebook_prefix)"
   ]
  },
  {
   "cell_type": "code",
   "execution_count": 9,
   "metadata": {
    "collapsed": false
   },
   "outputs": [
    {
     "data": {
      "image/png": "[encoded data removed]",
      "text/plain": [
       "<matplotlib.figure.Figure at 0x10aa68950>"
      ]
     },
     "metadata": {},
     "output_type": "display_data"
    }
   ],
   "source": [
    "title = 'Wild type positions versus alignment positions'\n",
    "ps = [item for sublist in positions.positions_alignment.values.flatten() for item in sublist]\n",
    "wt_ps = [get_wt_position(p) for p in ps]\n",
    "\n",
    "plot_better(height=2.5, grid='')\n",
    "\n",
    "plt.plot(wt_ps, [1.5 for e in wt_ps], '.')\n",
    "plt.text(220, 1.48, 'Wild type positions reconstructed from positions_alignment')\n",
    "\n",
    "plt.plot(range(len(Scer_Uniprot)), [1.2 for e in range(len(Scer_Uniprot))], '.')\n",
    "plt.text(230, 1.18, 'Positions of the wt sequence from Uniprot')\n",
    "\n",
    "plt.plot(ps, [1 for e in ps], '.')\n",
    "plt.text(260, 0.98, 'Positions mentioned in positions.csv')\n",
    "\n",
    "plt.ylim(0,2)\n",
    "plt.yticks()\n",
    "plt.xlim(0, max([max(ps), len(Scer_Uniprot)]))\n",
    "plt.title(title)\n",
    "save_image(image_counter, title, figures_folder, notebook_prefix)"
   ]
  },
  {
   "cell_type": "markdown",
   "metadata": {},
   "source": [
    "### Keeping only the mutants carrying substitutions (no indels, no mutations in the unmutated \"central region\")"
   ]
  },
  {
   "cell_type": "code",
   "execution_count": 10,
   "metadata": {
    "collapsed": false
   },
   "outputs": [],
   "source": [
    "data = OrderedDict()\n",
    "for k,v in data_all.items():\n",
    "    data[k] = v[(v.middle == 1) & (v.nogap == 1)]"
   ]
  },
  {
   "cell_type": "markdown",
   "metadata": {},
   "source": [
    "### Singles"
   ]
  },
  {
   "cell_type": "code",
   "execution_count": 11,
   "metadata": {
    "collapsed": true
   },
   "outputs": [],
   "source": [
    "data_singles = OrderedDict()\n",
    "for segment_name, segment_data in data.items():\n",
    "    data_singles[segment_name] = segment_data[segment_data.mut_list.str.count(':') == 0]"
   ]
  },
  {
   "cell_type": "code",
   "execution_count": null,
   "metadata": {
    "collapsed": true
   },
   "outputs": [],
   "source": []
  }
 ],
 "metadata": {
  "kernelspec": {
   "display_name": "Python 2",
   "language": "python",
   "name": "python2"
  },
  "language_info": {
   "codemirror_mode": {
    "name": "ipython",
    "version": 2
   },
   "file_extension": ".py",
   "mimetype": "text/x-python",
   "name": "python",
   "nbconvert_exporter": "python",
   "pygments_lexer": "ipython2",
   "version": "2.7.11"
  }
 },
 "nbformat": 4,
 "nbformat_minor": 0
}
