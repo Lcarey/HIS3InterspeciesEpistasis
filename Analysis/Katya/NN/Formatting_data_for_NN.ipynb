{
 "cells": [
  {
   "cell_type": "code",
   "execution_count": 4,
   "metadata": {
    "collapsed": true
   },
   "outputs": [],
   "source": [
    "import tensorflow as tf\n",
    "import pandas as pd\n",
    "import numpy as np\n",
    "from matplotlib import pyplot as plt\n",
    "import seaborn as sns\n",
    "from mpl_toolkits.mplot3d import Axes3D\n",
    "from matplotlib.ticker import LinearLocator, FormatStrFormatter\n",
    "from matplotlib import cm\n",
    "import os\n",
    "import distance\n",
    "%matplotlib inline\n",
    "sns.set(rc={'axes.facecolor':'#FFFFFF'})\n",
    "sns.set_style('whitegrid')\n",
    "pd.set_option('display.max_columns', 100)"
   ]
  },
  {
   "cell_type": "code",
   "execution_count": 25,
   "metadata": {
    "collapsed": false
   },
   "outputs": [],
   "source": [
    "data = {}\n",
    "clean_data = {}\n",
    "mut_data = {}\n",
    "\n",
    "for f in os.listdir('/Users/katya/Lab/CRG/Research/HIS3InterspeciesEpistasis/Data/'):\n",
    "    if 'csv' in f:\n",
    "        data[f[:-16]] = pd.DataFrame.from_csv('/Users/katya/Lab/CRG/Research/HIS3InterspeciesEpistasis/Data/' + f, sep='\\t')\n",
    "        clean_data[f[:-16]] = data[f[:-16]][(data[f[:-16]].nonsense == 0) & (data[f[:-16]].middle == 1)]\n",
    "        mut_data[f[:-16]] = pd.DataFrame(clean_data[f[:-16]].mut_list)\n",
    "        mut_data[f[:-16]]['fitness'] = clean_data[f[:-16]].s\n",
    "        mut_data[f[:-16]].index = mut_data[f[:-16]].mut_list\n",
    "        mut_data[f[:-16]].drop(['mut_list'], axis=1, inplace=True)\n",
    "        mut_data[f[:-16]].to_csv('/Users/katya/Lab/CRG/Research/HIS3InterspeciesEpistasis/Analysis/Katya/NN/' + f[:-16] + '.txt', sep='\\t')"
   ]
  }
 ],
 "metadata": {
  "kernelspec": {
   "display_name": "Python 2",
   "language": "python",
   "name": "python2"
  },
  "language_info": {
   "codemirror_mode": {
    "name": "ipython",
    "version": 2
   },
   "file_extension": ".py",
   "mimetype": "text/x-python",
   "name": "python",
   "nbconvert_exporter": "python",
   "pygments_lexer": "ipython2",
   "version": "2.7.11"
  }
 },
 "nbformat": 4,
 "nbformat_minor": 0
}
