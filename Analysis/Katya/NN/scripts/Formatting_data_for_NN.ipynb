{
 "cells": [
  {
   "cell_type": "code",
   "execution_count": 1,
   "metadata": {
    "collapsed": true
   },
   "outputs": [],
   "source": [
    "import tensorflow as tf\n",
    "import pandas as pd\n",
    "import numpy as np\n",
    "from matplotlib import pyplot as plt\n",
    "import seaborn as sns\n",
    "from mpl_toolkits.mplot3d import Axes3D\n",
    "from matplotlib.ticker import LinearLocator, FormatStrFormatter\n",
    "from matplotlib import cm\n",
    "import os\n",
    "import distance\n",
    "%matplotlib inline\n",
    "sns.set(rc={'axes.facecolor':'#FFFFFF'})\n",
    "sns.set_style('whitegrid')\n",
    "pd.set_option('display.max_columns', 100)"
   ]
  },
  {
   "cell_type": "code",
   "execution_count": 6,
   "metadata": {
    "collapsed": false
   },
   "outputs": [
    {
     "name": "stdout",
     "output_type": "stream",
     "text": [
      "S6\n",
      "84037\n",
      "45635\n",
      "S11\n",
      "37422\n",
      "16857\n",
      "S8\n",
      "73806\n",
      "46328\n",
      "S10\n",
      "80233\n",
      "29965\n",
      "S7\n",
      "26377\n",
      "4315\n",
      "S9\n",
      "84245\n",
      "30862\n",
      "S4\n",
      "69220\n",
      "44368\n",
      "S12\n",
      "63825\n",
      "33275\n",
      "S5\n",
      "100509\n",
      "51319\n",
      "S3\n",
      "95082\n",
      "48530\n",
      "S2\n",
      "123219\n",
      "46229\n",
      "S1\n",
      "126087\n",
      "58147\n"
     ]
    }
   ],
   "source": [
    "data = {}\n",
    "clean_data = {}\n",
    "mut_data = {}\n",
    "\n",
    "for f in os.listdir('/home/katya/local/HIS3InterspeciesEpistasis/Data/'):\n",
    "    if 'csv' in f:\n",
    "        data[f[:-16]] = pd.DataFrame.from_csv('/home/katya/local/HIS3InterspeciesEpistasis/Data/' + f, sep='\\t')\n",
    "        clean_data[f[:-16]] = data[f[:-16]][(data[f[:-16]].nonsense == 0) & (data[f[:-16]].middle == 1)]\n",
    "        mut_data[f[:-16]] = pd.DataFrame(clean_data[f[:-16]].mut_list)\n",
    "        mut_data[f[:-16]]['fitness'] = clean_data[f[:-16]].s\n",
    "        mut_data[f[:-16]].index = mut_data[f[:-16]].mut_list\n",
    "        mut_data[f[:-16]].drop(['mut_list'], axis=1, inplace=True)\n",
    "        mut_data[f[:-16]].to_csv('/home/katya/local/HIS3InterspeciesEpistasis/Analysis/Katya/NN/' + f[:-16] + '.txt', sep='\\t')"
   ]
  },
  {
   "cell_type": "code",
   "execution_count": null,
   "metadata": {
    "collapsed": true
   },
   "outputs": [],
   "source": []
  }
 ],
 "metadata": {
  "kernelspec": {
   "display_name": "Python [conda env:python2]",
   "language": "python",
   "name": "conda-env-python2-py"
  },
  "language_info": {
   "codemirror_mode": {
    "name": "ipython",
    "version": 2
   },
   "file_extension": ".py",
   "mimetype": "text/x-python",
   "name": "python",
   "nbconvert_exporter": "python",
   "pygments_lexer": "ipython2",
   "version": "2.7.13"
  }
 },
 "nbformat": 4,
 "nbformat_minor": 0
}
