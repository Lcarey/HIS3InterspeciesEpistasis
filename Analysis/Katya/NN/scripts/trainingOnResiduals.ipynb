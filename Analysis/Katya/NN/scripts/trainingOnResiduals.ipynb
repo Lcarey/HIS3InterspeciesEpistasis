{
 "cells": [
  {
   "cell_type": "code",
   "execution_count": 1,
   "metadata": {
    "collapsed": false
   },
   "outputs": [
    {
     "name": "stderr",
     "output_type": "stream",
     "text": [
      "/home/katya/anaconda3/envs/python2/lib/python2.7/site-packages/sklearn/cross_validation.py:44: DeprecationWarning: This module was deprecated in version 0.18 in favor of the model_selection module into which all the refactored classes and functions are moved. Also note that the interface of the new CV iterators are different from that of this module. This module will be removed in 0.20.\n",
      "  \"This module will be removed in 0.20.\", DeprecationWarning)\n",
      "Using TensorFlow backend.\n"
     ]
    }
   ],
   "source": [
    "%run 'Functions.ipynb'"
   ]
  },
  {
   "cell_type": "code",
   "execution_count": 3,
   "metadata": {
    "collapsed": false
   },
   "outputs": [],
   "source": [
    "data, labels, unique_mutations, aa_seq = read_data('S5')\n",
    "model = Sequential()\n",
    "\n",
    "init = initializers.Orthogonal(gain=1.0, seed=None)\n",
    "\n",
    "model.add(Dense(1, input_dim=data.shape[1], activation='sigmoid', kernel_initializer=init))\n",
    "model.add(Dense(100, activation='sigmoid', kernel_initializer=init))\n",
    "model.add(Dense(1, activation='sigmoid', kernel_initializer=init))\n",
    "\n",
    "opt = optimizers.RMSprop(lr=0.01, rho=0.9, epsilon=1e-08, decay=0.0)\n",
    "\n",
    "model.compile(optimizer=opt,\n",
    "              loss='mean_squared_error',\n",
    "              verbose=0)\n",
    "\n",
    "hist = model.fit(data, labels, epochs=500, batch_size=400, shuffle=True, verbose=0)\n",
    "weights = model.layers[0].get_weights()[0]\n",
    "biases = model.layers[0].get_weights()[1]\n",
    "\n",
    "proba = model.predict_proba(data, batch_size=100, verbose=0)\n",
    "\n",
    "true = labels\n",
    "predicted = proba.flatten()\n",
    "fitness_potential = data.dot(weights) + biases[0]"
   ]
  },
  {
   "cell_type": "code",
   "execution_count": null,
   "metadata": {
    "collapsed": true
   },
   "outputs": [],
   "source": []
  }
 ],
 "metadata": {
  "kernelspec": {
   "display_name": "Python [conda env:python2]",
   "language": "python",
   "name": "conda-env-python2-py"
  },
  "language_info": {
   "codemirror_mode": {
    "name": "ipython",
    "version": 2
   },
   "file_extension": ".py",
   "mimetype": "text/x-python",
   "name": "python",
   "nbconvert_exporter": "python",
   "pygments_lexer": "ipython2",
   "version": "2.7.13"
  }
 },
 "nbformat": 4,
 "nbformat_minor": 1
}
