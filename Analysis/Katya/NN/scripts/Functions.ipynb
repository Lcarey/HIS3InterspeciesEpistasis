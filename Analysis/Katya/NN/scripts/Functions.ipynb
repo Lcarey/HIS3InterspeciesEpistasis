{
 "cells": [
  {
   "cell_type": "markdown",
   "metadata": {},
   "source": [
    "This notebook is for import"
   ]
  },
  {
   "cell_type": "code",
   "execution_count": 1,
   "metadata": {
    "collapsed": false
   },
   "outputs": [
    {
     "name": "stderr",
     "output_type": "stream",
     "text": [
      "/home/katya/anaconda3/envs/python2/lib/python2.7/site-packages/sklearn/cross_validation.py:44: DeprecationWarning: This module was deprecated in version 0.18 in favor of the model_selection module into which all the refactored classes and functions are moved. Also note that the interface of the new CV iterators are different from that of this module. This module will be removed in 0.20.\n",
      "  \"This module will be removed in 0.20.\", DeprecationWarning)\n",
      "Using TensorFlow backend.\n"
     ]
    }
   ],
   "source": [
    "from __future__ import print_function\n",
    "from __future__ import division\n",
    "from sklearn import cross_validation\n",
    "import tensorflow as tf\n",
    "import numpy as np\n",
    "import seaborn as sns\n",
    "from scipy.stats import gaussian_kde\n",
    "from keras.models import Sequential\n",
    "from keras.layers import Dense, Activation\n",
    "from keras.layers.core import Dense, Dropout, Activation\n",
    "from keras import optimizers,initializers\n",
    "import pandas as pd\n",
    "from matplotlib import pyplot as plt\n",
    "from keras.optimizers import RMSprop\n",
    "from keras.utils import np_utils\n",
    "from mpl_toolkits.mplot3d import Axes3D\n",
    "from scipy import stats\n",
    "sns.set(rc={'axes.facecolor':'white'})\n",
    "pd.set_option('display.max_rows', 1000)\n",
    "\n",
    "%matplotlib inline"
   ]
  },
  {
   "cell_type": "code",
   "execution_count": 2,
   "metadata": {
    "collapsed": true
   },
   "outputs": [],
   "source": [
    "# Plot the observed values versus predicted using density plot\n",
    "def density_plot(x, y):\n",
    "    ''' x = observed, y = predicted '''\n",
    "    x = x[(~np.isnan(x)) & (~np.isnan(y))]\n",
    "    y = y[(~np.isnan(x)) & (~np.isnan(y))]\n",
    "\n",
    "    # Calculate the point density\n",
    "    xy = np.vstack([x, y])\n",
    "    z = gaussian_kde(xy)(xy)\n",
    "\n",
    "    # Sort the points by density, so that the densest points are plotted last\n",
    "    idx = z.argsort()\n",
    "    x, y, z = x[idx], y[idx], z[idx]\n",
    "\n",
    "    # formatting\n",
    "#     plt.figure(figsize=[8, 6])\n",
    "    plt.scatter(x, y, c=z, s=3, edgecolor='', cmap='viridis_r')\n",
    "#     plt.xlim(0, 1)\n",
    "#     plt.ylim(0, 1)\n",
    "    plt.xlabel('Observed brightness')\n",
    "    plt.ylabel('Predicted brightness')\n",
    "    plt.title(chunk)\n",
    "    plt.tick_params(axis=\"both\", which=\"both\", bottom=\"off\", top=\"off\",\n",
    "                    labelbottom=\"on\", left=\"off\", right=\"off\", labelleft=\"on\")\n",
    "    plt.gca().spines[\"top\"].set_visible(False)\n",
    "    plt.gca().spines[\"right\"].set_visible(False)\n",
    "    plt.gca().spines[\"bottom\"].set_color('gray')\n",
    "    plt.gca().spines[\"left\"].set_color('gray')\n",
    "    plt.gca().xaxis.grid(True)\n",
    "    plt.gca().yaxis.grid(True)"
   ]
  },
  {
   "cell_type": "code",
   "execution_count": 19,
   "metadata": {
    "collapsed": false
   },
   "outputs": [],
   "source": [
    "#############READING DATA#############\n",
    "######EXTRACTING DATA AND LABELS######\n",
    "\n",
    "def read_data(chunk):\n",
    "    input_file = '/home/katya/start/HIS3InterspeciesEpistasis/Analysis/Katya/NN/data/' + chunk + '.txt'\n",
    "    data = pd.read_table(input_file)\n",
    "    data.columns = ['mutList', 'fitness']\n",
    "    data.mutList = data.mutList.fillna('')\n",
    "    unique_mutations = set(':'.join(data.mutList).split(':'))\n",
    "    unique_mutations = sorted(list(unique_mutations))\n",
    "    if '' in unique_mutations:\n",
    "        unique_mutations.remove('')\n",
    "\n",
    "    data = data.reindex(np.random.permutation(data.index))\n",
    "    nn_genotypes_values = np.zeros((len(data), len(unique_mutations)))\n",
    "    nn_brightness_values = data.fitness.values\n",
    "    \n",
    "    for i in range(len(unique_mutations)):\n",
    "        nn_genotypes_values[:, i] = data.mutList.str.contains(unique_mutations[i]).astype(np.float32)\n",
    "\n",
    "    nn_brightness_values = (nn_brightness_values - min(nn_brightness_values)) / max(\n",
    "        nn_brightness_values - min(nn_brightness_values))\n",
    "    \n",
    "    return nn_genotypes_values, nn_brightness_values"
   ]
  },
  {
   "cell_type": "code",
   "execution_count": 15,
   "metadata": {
    "collapsed": true
   },
   "outputs": [],
   "source": [
    "#############PLOTTING FITNESS POTENTIAL VS FITNESS#############\n",
    "\n",
    "def fitness_potential_plotting(weights_set, num=1):\n",
    "    plt.figure(figsize=(4*5+3,3*5))\n",
    "    plt.suptitle('Fitness potential vs Fitness', size=30, x=0.8, y=1.6)\n",
    "    count=1\n",
    "    for chunk in chunks:\n",
    "        plt.subplot(3,4,count)\n",
    "        plt.subplots_adjust(top = 1.5,right=1.5)\n",
    "        plt.title(chunk, fontsize=20)\n",
    "\n",
    "        plt.plot(fitness_potential[chunk][:,weights_set][:10000], true[chunk][:10000], 'ok', alpha = 0.01)\n",
    "        \n",
    "        plt.plot(fitness_potential[chunk][:,weights_set][:10000], predicted[chunk][:10000], '.', c='#36D1C4', alpha = 0.03)\n",
    "        \n",
    "        if num == 2:\n",
    "            plt.plot(fitness_potential[chunk][:,weights_set+1][:10000], predicted[chunk][:10000], '.', c='#FF006C', alpha = 0.01)\n",
    "\n",
    "        plt.grid(True, ls='--', lw=0.5, dash_capstyle = 'round', c='gray')\n",
    "        plt.xlabel('Fitness potential', fontsize=15)\n",
    "        plt.ylabel('Observed values', fontsize=15)\n",
    "        count+=1"
   ]
  },
  {
   "cell_type": "code",
   "execution_count": 7,
   "metadata": {
    "collapsed": true
   },
   "outputs": [],
   "source": [
    "chunks = [('S'+str(x)) for x in range(1,13)]"
   ]
  },
  {
   "cell_type": "code",
   "execution_count": 16,
   "metadata": {
    "collapsed": false
   },
   "outputs": [],
   "source": [
    "#############EXTRACTING UNIQUE MUTATIONS FOR EACH OF THE SEGMENTS#############\n",
    "\n",
    "unique_mutations = {}\n",
    "for chunk in chunks:\n",
    "    input_file = '/home/katya/start/HIS3InterspeciesEpistasis/Analysis/Katya/NN/data/' + chunk + '.txt'\n",
    "    df = pd.read_table(input_file)\n",
    "    df.columns = ['mutList', 'fitness']\n",
    "    df.mutList = df.mutList.fillna('')\n",
    "    unique_mutations[chunk] = set(':'.join(df.mutList).split(':'))\n",
    "    unique_mutations[chunk] = sorted(list(unique_mutations[chunk] ))\n",
    "    if '' in unique_mutations[chunk]:\n",
    "        unique_mutations[chunk] .remove('')"
   ]
  },
  {
   "cell_type": "code",
   "execution_count": null,
   "metadata": {
    "collapsed": true
   },
   "outputs": [],
   "source": []
  }
 ],
 "metadata": {
  "anaconda-cloud": {},
  "kernelspec": {
   "display_name": "Python [conda env:python2]",
   "language": "python",
   "name": "conda-env-python2-py"
  },
  "language_info": {
   "codemirror_mode": {
    "name": "ipython",
    "version": 2
   },
   "file_extension": ".py",
   "mimetype": "text/x-python",
   "name": "python",
   "nbconvert_exporter": "python",
   "pygments_lexer": "ipython2",
   "version": "2.7.13"
  }
 },
 "nbformat": 4,
 "nbformat_minor": 1
}
