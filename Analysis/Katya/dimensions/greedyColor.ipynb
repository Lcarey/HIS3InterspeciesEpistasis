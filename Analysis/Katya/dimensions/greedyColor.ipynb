{
 "cells": [
  {
   "cell_type": "code",
   "execution_count": 17,
   "metadata": {
    "collapsed": true
   },
   "outputs": [],
   "source": [
    "import pandas as pd\n",
    "import networkx as nx"
   ]
  },
  {
   "cell_type": "code",
   "execution_count": 3,
   "metadata": {
    "collapsed": false,
    "scrolled": false
   },
   "outputs": [],
   "source": [
    "df = pd.read_excel('SignEpiPairs_ReallyInterestingPositives.xlsx')"
   ]
  },
  {
   "cell_type": "code",
   "execution_count": 95,
   "metadata": {
    "collapsed": false
   },
   "outputs": [],
   "source": [
    "graph = df[df.SegN==12]\n",
    "graph = graph.reset_index(drop=True)"
   ]
  },
  {
   "cell_type": "code",
   "execution_count": 96,
   "metadata": {
    "collapsed": false
   },
   "outputs": [],
   "source": [
    "H = nx.Graph()\n",
    "\n",
    "for i in range(len(graph)):\n",
    "    node1 = str(graph['VarPos'].ix[i]) + str(graph['Perm'].ix[i])\n",
    "    node2 = str(graph['SubPos'].ix[i]) + str(graph['SubPerm'].ix[i]) \n",
    "    if node1 not in H.nodes():\n",
    "        H.add_node(node1)\n",
    "    if node2 not in H.nodes():\n",
    "        H.add_node(node2)\n",
    "    H.add_edge(node1, node2, {'color':'gray','thickness':2})"
   ]
  },
  {
   "cell_type": "code",
   "execution_count": 97,
   "metadata": {
    "collapsed": false
   },
   "outputs": [
    {
     "data": {
      "text/plain": [
       "{'15AS': 1,\n",
       " '17CG': 1,\n",
       " '17CS': 0,\n",
       " '17GS': 0,\n",
       " '18IL': 1,\n",
       " '19DK': 0,\n",
       " '19DN': 1,\n",
       " '19EK': 0,\n",
       " '2FL': 1,\n",
       " '2FS': 1,\n",
       " '2LS': 0,\n",
       " '3FI': 1,\n",
       " '3FV': 1,\n",
       " '4NR': 2,\n",
       " '4NS': 0,\n",
       " '6DI': 0,\n",
       " '6DV': 1}"
      ]
     },
     "execution_count": 97,
     "metadata": {},
     "output_type": "execute_result"
    }
   ],
   "source": [
    "nx.greedy_color(H)"
   ]
  },
  {
   "cell_type": "code",
   "execution_count": null,
   "metadata": {
    "collapsed": true
   },
   "outputs": [],
   "source": []
  }
 ],
 "metadata": {
  "anaconda-cloud": {},
  "kernelspec": {
   "display_name": "Python [conda env:python2]",
   "language": "python",
   "name": "conda-env-python2-py"
  },
  "language_info": {
   "codemirror_mode": {
    "name": "ipython",
    "version": 2
   },
   "file_extension": ".py",
   "mimetype": "text/x-python",
   "name": "python",
   "nbconvert_exporter": "python",
   "pygments_lexer": "ipython2",
   "version": "2.7.13"
  }
 },
 "nbformat": 4,
 "nbformat_minor": 1
}
