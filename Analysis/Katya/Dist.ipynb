{
 "cells": [
  {
   "cell_type": "code",
   "execution_count": 1,
   "metadata": {
    "collapsed": false
   },
   "outputs": [],
   "source": [
    "import pandas as pd\n",
    "import numpy as np\n",
    "from matplotlib import pyplot as plt\n",
    "import seaborn as sns\n",
    "from mpl_toolkits.mplot3d import Axes3D\n",
    "from matplotlib.ticker import LinearLocator, FormatStrFormatter\n",
    "from matplotlib import cm\n",
    "import os\n",
    "import distance\n",
    "%matplotlib inline\n",
    "sns.set(rc={'axes.facecolor':'#FFFFFF'})\n",
    "sns.set_style('whitegrid')\n",
    "pd.set_option('display.max_columns', 100)"
   ]
  },
  {
   "cell_type": "code",
   "execution_count": 3,
   "metadata": {
    "collapsed": false
   },
   "outputs": [],
   "source": [
    "data = {}\n",
    "clean_data = {}\n",
    "\n",
    "for f in os.listdir('/home/katya/local/HIS3InterspeciesEpistasis/Data/'):\n",
    "    if 'csv' in f:\n",
    "        data[f[:-16]] = pd.DataFrame.from_csv('/home/katya/local/HIS3InterspeciesEpistasis/Data/' + f, sep = '\\t')\n",
    "        clean_data[f[:-16]] = data[f[:-16]][(data[f[:-16]].nonsense == 0) & (data[f[:-16]].middle == 1)]"
   ]
  },
  {
   "cell_type": "code",
   "execution_count": 27,
   "metadata": {
    "collapsed": false
   },
   "outputs": [],
   "source": [
    "test = pd.DataFrame(clean_data['S1'].dist_Scer)"
   ]
  },
  {
   "cell_type": "code",
   "execution_count": 29,
   "metadata": {
    "collapsed": false
   },
   "outputs": [],
   "source": [
    "test['Fitness'] = clean_data['S1'].s"
   ]
  },
  {
   "cell_type": "code",
   "execution_count": 31,
   "metadata": {
    "collapsed": false
   },
   "outputs": [],
   "source": [
    "test.to_csv('/home/katya/local/HIS3InterspeciesEpistasis/Analysis/Katya/Fig2/s1Dist.csv', sep='\\t')"
   ]
  },
  {
   "cell_type": "code",
   "execution_count": 58,
   "metadata": {
    "collapsed": true
   },
   "outputs": [],
   "source": [
    "coordinates=pd.DataFrame(columns=['x','y'])"
   ]
  },
  {
   "cell_type": "code",
   "execution_count": 59,
   "metadata": {
    "collapsed": false
   },
   "outputs": [],
   "source": [
    "for i in range(len(test[test.dist_Scer==1])):\n",
    "    x = test[test.dist_Scer==0].Fitness[0]\n",
    "    y = test[test.dist_Scer==1].Fitness[i]\n",
    "    coordinates.loc[i] = [x, y]"
   ]
  },
  {
   "cell_type": "code",
   "execution_count": 61,
   "metadata": {
    "collapsed": false
   },
   "outputs": [],
   "source": [
    "coordinates.to_csv('/home/katya/local/coordinates.txt', sep='\\t')"
   ]
  },
  {
   "cell_type": "code",
   "execution_count": 4,
   "metadata": {
    "collapsed": true
   },
   "outputs": [],
   "source": [
    "columns = list(clean_data['S1'].columns)"
   ]
  },
  {
   "cell_type": "code",
   "execution_count": 5,
   "metadata": {
    "collapsed": false
   },
   "outputs": [],
   "source": [
    "sqs = {}\n",
    "\n",
    "for chunk in clean_data:\n",
    "    sqs[chunk] = list(clean_data[chunk].index)"
   ]
  },
  {
   "cell_type": "code",
   "execution_count": 7,
   "metadata": {
    "collapsed": false
   },
   "outputs": [],
   "source": [
    "positions = pd.DataFrame.from_csv('/home/katya/local/HIS3InterspeciesEpistasis/Data_Small_Tables/positions.csv', sep = '\\t')"
   ]
  },
  {
   "cell_type": "code",
   "execution_count": 8,
   "metadata": {
    "collapsed": false
   },
   "outputs": [],
   "source": [
    "for chunk in clean_data:\n",
    "    for ind in range(len(sqs[chunk])):\n",
    "        sqs[chunk][ind] = sqs[chunk][ind][:int(positions[chunk].ix['len1'])] + sqs[chunk][ind][-int(positions[chunk].ix['len2']):]"
   ]
  },
  {
   "cell_type": "code",
   "execution_count": null,
   "metadata": {
    "collapsed": false
   },
   "outputs": [
    {
     "name": "stdout",
     "output_type": "stream",
     "text": [
      "S9\n",
      "S8\n"
     ]
    }
   ],
   "source": [
    "neighbors = {}\n",
    "\n",
    "for chunk in clean_data:\n",
    "    l = []\n",
    "    f = open('/home/katya/local/' + chunk + '.txt','w+')\n",
    "    print chunk\n",
    "    for sq1 in sqs[chunk]:\n",
    "        l.append(sq1)\n",
    "        f.write('\\n')\n",
    "        f.write(sq1)\n",
    "        for sq2 in sqs[chunk]:\n",
    "            if distance.hamming(sq1, sq2) == 1 and sq2 not in l:\n",
    "                f.write('\\n')\n",
    "                f.write(sq1+'\\t')\n",
    "                f.write(sq2)"
   ]
  },
  {
   "cell_type": "code",
   "execution_count": null,
   "metadata": {
    "collapsed": false
   },
   "outputs": [],
   "source": [
    "neighbors.keys()"
   ]
  },
  {
   "cell_type": "code",
   "execution_count": 62,
   "metadata": {
    "collapsed": false
   },
   "outputs": [],
   "source": [
    "f = open('/home/katya/local/test_nodes.sift','w+')\n",
    "\n",
    "for key in neighbors:\n",
    "    if len(neighbors[key]) == 0:\n",
    "        f.write('\\n')\n",
    "        f.write(key)\n",
    "    else:\n",
    "        for item in neighbors[key]:\n",
    "            f.write('\\n')\n",
    "            f.write(key+'\\t')\n",
    "            f.write('type A\\t')\n",
    "            f.write(item)\n",
    "    \n",
    "f.close()"
   ]
  },
  {
   "cell_type": "code",
   "execution_count": null,
   "metadata": {
    "collapsed": true
   },
   "outputs": [],
   "source": []
  }
 ],
 "metadata": {
  "kernelspec": {
   "display_name": "Python 2",
   "language": "python",
   "name": "python2"
  },
  "language_info": {
   "codemirror_mode": {
    "name": "ipython",
    "version": 2
   },
   "file_extension": ".py",
   "mimetype": "text/x-python",
   "name": "python",
   "nbconvert_exporter": "python",
   "pygments_lexer": "ipython2",
   "version": "2.7.13"
  }
 },
 "nbformat": 4,
 "nbformat_minor": 0
}
