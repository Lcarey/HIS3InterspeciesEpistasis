{
 "cells": [
  {
   "cell_type": "code",
   "execution_count": 7,
   "metadata": {
    "collapsed": false
   },
   "outputs": [],
   "source": [
    "import pandas as pd\n",
    "import ete3"
   ]
  },
  {
   "cell_type": "code",
   "execution_count": 16,
   "metadata": {
    "collapsed": true
   },
   "outputs": [],
   "source": [
    "t = Tree('((((((((((Scer: 0.022705, Sbay: 0.022705): 0.059736, Scas: 0.082440): 0.052672, ((Kwal: 0.061178, Sklu: 0.061178): 0.035586, Klac: 0.096764): 0.038348): 0.092410, (((Clus: 0.096235, Dhan: 0.096235): 0.066720, ((Calb: 0.031422, Ctro: 0.031422): 0.097722, (Cpar: 0.097123, Lelo: 0.097123): 0.032022): 0.033811): 0.014084, Cgui: 0.177039): 0.050484): 0.008089, Cgla: 0.235612): 0.020326, Agos: 0.255938): 0.088209, Ncra: 0.344146): 0.028399, (Sjap: 0.103814, (Soct: 0.074526, Spom: 0.074526): 0.029289): 0.268732): 0.018656, Ylip: 0.391202): 0.000000, Anid: 0.391202): 0.197607;')"
   ]
  },
  {
   "cell_type": "code",
   "execution_count": 17,
   "metadata": {
    "collapsed": false
   },
   "outputs": [
    {
     "id": "stdout",
     "output_type": "stream",
     "text": [
      "\n",
      "                              /-Scer\n",
      "                           /-|\n",
      "                        /-|   \\-Sbay\n",
      "                       |  |\n",
      "                       |   \\-Scas\n",
      "                     /-|\n",
      "                    |  |      /-Kwal\n",
      "                    |  |   /-|\n",
      "                    |   \\-|   \\-Sklu\n",
      "                    |     |\n",
      "                    |      \\-Klac\n",
      "                    |\n",
      "                  /-|         /-Clus\n",
      "                 |  |      /-|\n",
      "                 |  |     |   \\-Dhan\n",
      "                 |  |     |\n",
      "                 |  |   /-|      /-Calb\n",
      "                 |  |  |  |   /-|\n",
      "                 |  |  |  |  |   \\-Ctro\n",
      "               /-|  |  |   \\-|\n",
      "              |  |   \\-|     |   /-Cpar\n",
      "              |  |     |      \\-|\n",
      "              |  |     |         \\-Lelo\n",
      "            /-|  |     |\n",
      "           |  |  |      \\-Cgui\n",
      "           |  |  |\n",
      "         /-|  |   \\-Cgla\n",
      "        |  |  |\n",
      "        |  |   \\-Agos\n",
      "      /-|  |\n",
      "     |  |   \\-Ncra\n",
      "     |  |\n",
      "     |  |   /-Sjap\n",
      "   /-|   \\-|\n",
      "  |  |     |   /-Soct\n",
      "  |  |      \\-|\n",
      "--|  |         \\-Spom\n",
      "  |  |\n",
      "  |   \\-Ylip\n",
      "  |\n",
      "   \\-Anid\n"
     ]
    }
   ],
   "source": [
    "print (t)"
   ]
  },
  {
   "cell_type": "code",
   "execution_count": 20,
   "metadata": {
    "collapsed": false
   },
   "outputs": [],
   "source": [
    "t.unroot()"
   ]
  },
  {
   "cell_type": "code",
   "execution_count": 21,
   "metadata": {
    "collapsed": false
   },
   "outputs": [
    {
     "id": "stdout",
     "output_type": "stream",
     "text": [
      "\n",
      "   /-Anid\n",
      "  |\n",
      "  |                        /-Scer\n",
      "  |                     /-|\n",
      "  |                  /-|   \\-Sbay\n",
      "  |                 |  |\n",
      "  |                 |   \\-Scas\n",
      "  |               /-|\n",
      "  |              |  |      /-Kwal\n",
      "  |              |  |   /-|\n",
      "  |              |   \\-|   \\-Sklu\n",
      "  |              |     |\n",
      "  |              |      \\-Klac\n",
      "  |              |\n",
      "  |            /-|         /-Clus\n",
      "  |           |  |      /-|\n",
      "  |           |  |     |   \\-Dhan\n",
      "  |           |  |     |\n",
      "  |           |  |   /-|      /-Calb\n",
      "  |           |  |  |  |   /-|\n",
      "--|           |  |  |  |  |   \\-Ctro\n",
      "  |         /-|  |  |   \\-|\n",
      "  |        |  |   \\-|     |   /-Cpar\n",
      "  |        |  |     |      \\-|\n",
      "  |        |  |     |         \\-Lelo\n",
      "  |      /-|  |     |\n",
      "  |     |  |  |      \\-Cgui\n",
      "  |     |  |  |\n",
      "  |   /-|  |   \\-Cgla\n",
      "  |  |  |  |\n",
      "  |  |  |   \\-Agos\n",
      "  |--|  |\n",
      "  |  |   \\-Ncra\n",
      "  |  |\n",
      "  |  |   /-Sjap\n",
      "  |   \\-|\n",
      "  |     |   /-Soct\n",
      "  |      \\-|\n",
      "  |         \\-Spom\n",
      "  |\n",
      "   \\-Ylip\n"
     ]
    }
   ],
   "source": [
    "print (t)"
   ]
  },
  {
   "cell_type": "code",
   "execution_count": 22,
   "metadata": {
    "collapsed": false
   },
   "outputs": [
    {
     "eid": "idError",
     "evalue": "id 'TreeStyle' is not defined",
     "output_type": "error",
     "traceback": [
      "\u001b[0;31m---------------------------------------------------------------------------\u001b[0m",
      "\u001b[0;31midError\u001b[0m                                 Traceback (most recent call last)",
      "\u001b[0;32m<ipython-input-22-c51ee24c6526>\u001b[0m in \u001b[0;36m<module>\u001b[0;34m()\u001b[0m\n\u001b[1;32m      1\u001b[0m \u001b[0mt\u001b[0m \u001b[0;34m=\u001b[0m \u001b[0mTree\u001b[0m\u001b[0;34m(\u001b[0m\u001b[0;34m)\u001b[0m\u001b[0;34m\u001b[0m\u001b[0m\n\u001b[1;32m      2\u001b[0m \u001b[0mt\u001b[0m\u001b[0;34m.\u001b[0m\u001b[0mpopulate\u001b[0m\u001b[0;34m(\u001b[0m\u001b[0;36m30\u001b[0m\u001b[0;34m)\u001b[0m\u001b[0;34m\u001b[0m\u001b[0m\n\u001b[0;32m----> 3\u001b[0;31m \u001b[0mts\u001b[0m \u001b[0;34m=\u001b[0m \u001b[0mTreeStyle\u001b[0m\u001b[0;34m(\u001b[0m\u001b[0;34m)\u001b[0m\u001b[0;34m\u001b[0m\u001b[0m\n\u001b[0m\u001b[1;32m      4\u001b[0m \u001b[0mts\u001b[0m\u001b[0;34m.\u001b[0m\u001b[0mshow_leaf_id\u001b[0m \u001b[0;34m=\u001b[0m \u001b[0;32mTrue\u001b[0m\u001b[0;34m\u001b[0m\u001b[0m\n\u001b[1;32m      5\u001b[0m \u001b[0mts\u001b[0m\u001b[0;34m.\u001b[0m\u001b[0mmode\u001b[0m \u001b[0;34m=\u001b[0m \u001b[0;34m\"c\"\u001b[0m\u001b[0;34m\u001b[0m\u001b[0m\n",
      "\u001b[0;31midError\u001b[0m: id 'TreeStyle' is not defined"
     ]
    }
   ],
   "source": [
    "t = Tree()\n",
    "t.populate(30)\n",
    "ts = TreeStyle()\n",
    "ts.show_leaf_id = True\n",
    "ts.mode = \"c\"\n",
    "ts.arc_start = -180 # 0 degrees = 3 o'clock\n",
    "ts.arc_span = 180\n",
    "t.show(tree_style=ts)"
   ]
  },
  {
   "cell_type": "code",
   "execution_count": 38,
   "metadata": {
    "collapsed": false
   },
   "outputs": [
    {
     "eid": "ImportError",
     "evalue": "cannot import id 'TreeStyle'",
     "output_type": "error",
     "traceback": [
      "\u001b[0;31m---------------------------------------------------------------------------\u001b[0m",
      "\u001b[0;31mImportError\u001b[0m                               Traceback (most recent call last)",
      "\u001b[0;32m<ipython-input-38-40ad7a7da614>\u001b[0m in \u001b[0;36m<module>\u001b[0;34m()\u001b[0m\n\u001b[0;32m----> 1\u001b[0;31m \u001b[0;32mfrom\u001b[0m \u001b[0mete3\u001b[0m \u001b[0;32mimport\u001b[0m \u001b[0mTreeStyle\u001b[0m\u001b[0;34m\u001b[0m\u001b[0m\n\u001b[0m",
      "\u001b[0;31mImportError\u001b[0m: cannot import id 'TreeStyle'"
     ]
    }
   ],
   "source": [
    "from ete3.treeview"
   ]
  },
  {
   "cell_type": "code",
   "execution_count": 33,
   "metadata": {
    "collapsed": false
   },
   "outputs": [
    {
     "id": "stdout",
     "output_type": "stream",
     "text": [
      "Requirement already up-to-date: ete3 in /home/katya/anaconda3/envs/ete/lib/python3.6/site-packages\r\n"
     ]
    }
   ],
   "source": [
    "!pip install --upgrade ete3"
   ]
  },
  {
   "cell_type": "code",
   "execution_count": null,
   "metadata": {
    "collapsed": true
   },
   "outputs": [],
   "source": []
  }
 ],
 "metadata": {
  "kernelspec": {
   "display_id": "Python 3",
   "language": "python",
   "id": "python3"
  },
  "language_info": {
   "codemirror_mode": {
    "id": "ipython",
    "version": 3
   },
   "file_extension": ".py",
   "mimetype": "text/x-python",
   "id": "python",
   "nbconvert_exporter": "python",
   "pygments_lexer": "ipython3",
   "version": "3.6.0"
  }
 },
 "nbformat": 4,
 "nbformat_minor": 1
}
