{
 "cells": [
  {
   "cell_type": "code",
   "execution_count": 41,
   "metadata": {
    "collapsed": false
   },
   "outputs": [],
   "source": [
    "import ete3\n",
    "from ete3 import Tree"
   ]
  },
  {
   "cell_type": "code",
   "execution_count": 47,
   "metadata": {
    "collapsed": true
   },
   "outputs": [],
   "source": [
    "tree = Tree('((((((((((Scer: 0.022705, Sbay: 0.022705): 0.059736, Scas: 0.082440): 0.052672, ((Kwal: 0.061178, Sklu: 0.061178): 0.035586, Klac: 0.096764): 0.038348): 0.092410, (((Clus: 0.096235, Dhan: 0.096235): 0.066720, ((Calb: 0.031422, Ctro: 0.031422): 0.097722, (Cpar: 0.097123, Lelo: 0.097123): 0.032022): 0.033811): 0.014084, Cgui: 0.177039): 0.050484): 0.008089, Cgla: 0.235612): 0.020326, Agos: 0.255938): 0.088209, Ncra: 0.344146): 0.028399, (Sjap: 0.103814, (Soct: 0.074526, Spom: 0.074526): 0.029289): 0.268732): 0.018656, Ylip: 0.391202): 0.000000, Anid: 0.391202): 0.197607;')\n",
    "\n",
    "tree.unroot()\n"
   ]
  },
  {
   "cell_type": "code",
   "execution_count": 49,
   "metadata": {
    "collapsed": false
   },
   "outputs": [
    {
     "name": "stdout",
     "output_type": "stream",
     "text": [
      "\n",
      "   /-Anid\n",
      "  |\n",
      "  |                        /-Scer\n",
      "  |                     /-|\n",
      "  |                  /-|   \\-Sbay\n",
      "  |                 |  |\n",
      "  |                 |   \\-Scas\n",
      "  |               /-|\n",
      "  |              |  |      /-Kwal\n",
      "  |              |  |   /-|\n",
      "  |              |   \\-|   \\-Sklu\n",
      "  |              |     |\n",
      "  |              |      \\-Klac\n",
      "  |              |\n",
      "  |            /-|         /-Clus\n",
      "  |           |  |      /-|\n",
      "  |           |  |     |   \\-Dhan\n",
      "  |           |  |     |\n",
      "  |           |  |   /-|      /-Calb\n",
      "  |           |  |  |  |   /-|\n",
      "--|           |  |  |  |  |   \\-Ctro\n",
      "  |         /-|  |  |   \\-|\n",
      "  |        |  |   \\-|     |   /-Cpar\n",
      "  |        |  |     |      \\-|\n",
      "  |        |  |     |         \\-Lelo\n",
      "  |      /-|  |     |\n",
      "  |     |  |  |      \\-Cgui\n",
      "  |     |  |  |\n",
      "  |   /-|  |   \\-Cgla\n",
      "  |  |  |  |\n",
      "  |  |  |   \\-Agos\n",
      "  |--|  |\n",
      "  |  |   \\-Ncra\n",
      "  |  |\n",
      "  |  |   /-Sjap\n",
      "  |   \\-|\n",
      "  |     |   /-Soct\n",
      "  |      \\-|\n",
      "  |         \\-Spom\n",
      "  |\n",
      "   \\-Ylip\n"
     ]
    }
   ],
   "source": [
    "print (tree)\n"
   ]
  },
  {
   "cell_type": "code",
   "execution_count": 41,
   "metadata": {
    "collapsed": false
   },
   "outputs": [
    {
     "data": {
      "text/plain": [
       "Tree(rooted=False, weight=1.0)"
      ]
     },
     "execution_count": 41,
     "metadata": {},
     "output_type": "execute_result"
    }
   ],
   "source": [
    "tree."
   ]
  },
  {
   "cell_type": "code",
   "execution_count": 40,
   "metadata": {
    "collapsed": false
   },
   "outputs": [
    {
     "name": "stdout",
     "output_type": "stream",
     "text": [
      "  _____ 0.391202\n",
      " |\n",
      "_|      _____ 0.391202\n",
      " |     |\n",
      " |     |            _____ 0.103814\n",
      " |_____|      _____|\n",
      "       |     |     |      _____ 0.074526\n",
      "       |     |     |_____|\n",
      "       |_____|           |_____ 0.074526\n",
      "             |\n",
      "             |      _____ 0.344146\n",
      "             |     |\n",
      "             |_____|      _____ 0.255938\n",
      "                   |     |\n",
      "                   |     |      _____ 0.235612\n",
      "                   |_____|     |\n",
      "                         |     |                  _____ 0.082440\n",
      "                         |     |            _____|\n",
      "                         |     |           |     |      _____ 0.022705\n",
      "                         |_____|           |     |_____|\n",
      "                               |      _____|           |_____ 0.022705\n",
      "                               |     |     |\n",
      "                               |     |     |      _____ 0.096764\n",
      "                               |     |     |_____|\n",
      "                               |     |           |      _____ 0.061178\n",
      "                               |_____|           |_____|\n",
      "                                     |                 |_____ 0.061178\n",
      "                                     |\n",
      "                                     |      _____ 0.177039\n",
      "                                     |     |\n",
      "                                     |     |            _____ 0.096235\n",
      "                                     |_____|      _____|\n",
      "                                           |     |     |_____ 0.096235\n",
      "                                           |     |\n",
      "                                           |_____|            _____ 0.031422\n",
      "                                                 |      _____|\n",
      "                                                 |     |     |_____ 0.031422\n",
      "                                                 |_____|\n",
      "                                                       |      _____ 0.097123\n",
      "                                                       |_____|\n",
      "                                                             |_____ 0.097123\n",
      "\n"
     ]
    }
   ],
   "source": [
    "Phylo.draw_ascii(tree)"
   ]
  },
  {
   "cell_type": "code",
   "execution_count": null,
   "metadata": {
    "collapsed": true
   },
   "outputs": [],
   "source": []
  }
 ],
 "metadata": {
  "anaconda-cloud": {},
  "kernelspec": {
   "display_name": "Python 3",
   "language": "python",
   "name": "python3"
  },
  "language_info": {
   "codemirror_mode": {
    "name": "ipython",
    "version": 3
   },
   "file_extension": ".py",
   "mimetype": "text/x-python",
   "name": "python",
   "nbconvert_exporter": "python",
   "pygments_lexer": "ipython3",
   "version": "3.6.0"
  }
 },
 "nbformat": 4,
 "nbformat_minor": 1
}
