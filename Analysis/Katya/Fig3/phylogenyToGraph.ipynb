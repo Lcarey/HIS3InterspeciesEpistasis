{
 "cells": [
  {
   "cell_type": "code",
   "execution_count": 16,
   "metadata": {
    "collapsed": false
   },
   "outputs": [
    {
     "name": "stdout",
     "output_type": "stream",
     "text": [
      "Once deleted, variables cannot be recovered. Proceed (y/[n])? y\n"
     ]
    }
   ],
   "source": [
    "%reset"
   ]
  },
  {
   "cell_type": "code",
   "execution_count": 99,
   "metadata": {
    "collapsed": false
   },
   "outputs": [],
   "source": [
    "import json\n",
    "import pandas as pd\n",
    "import os\n",
    "import numpy as np\n",
    "import distance"
   ]
  },
  {
   "cell_type": "code",
   "execution_count": 6,
   "metadata": {
    "collapsed": false
   },
   "outputs": [],
   "source": [
    "data = {}\n",
    "clean_data = {}\n",
    "\n",
    "for f in os.listdir('/home/katya/start/HIS3InterspeciesEpistasis/Data/'):\n",
    "    if 'csv' in f:\n",
    "        data[f[:-16]] = pd.DataFrame.from_csv('/home/katya/start/HIS3InterspeciesEpistasis/Data/' + f, sep='\\t')\n",
    "        median = np.median(data[f[:-16]].index.str.len())\n",
    "        \n",
    "        clean_data[f[:-16]] = data[f[:-16]][(data[f[:-16]].nonsense == 0) & (data[f[:-16]].middle == 1) & \\\n",
    "                                            (data[f[:-16]].nat_lib == 1) & (data[f[:-16]].stop == 0) & \\\n",
    "                                            (data[f[:-16]].index.str.len() == median)]"
   ]
  },
  {
   "cell_type": "code",
   "execution_count": 8,
   "metadata": {
    "collapsed": true
   },
   "outputs": [],
   "source": [
    "source = ['23','23','23','24','24','40','40','41','41','25','25','26','26','27','27','28','28','34','34','35','35','36','36','37','37','38','38','39','39','29','29','30','30','31','31','32','32','33','33']\n",
    "target = ['Ylip','Anid','24','40','25','Sjap','41','Soct','Spom','Ncra','26','Agos','27','Cgla','28','29','34','Cgui','35','36','37','Clus','Dhan','38','39','Calb','Ctro','Cpar','Lelo','30','32','Scas','31','Scer','Sbay','Klac','33','Kwal','Sklu']\n",
    "\n",
    "nodes = list(source)\n",
    "nodes.extend(target)\n",
    "nodes = list(set(nodes))"
   ]
  },
  {
   "cell_type": "code",
   "execution_count": 101,
   "metadata": {
    "collapsed": false
   },
   "outputs": [],
   "source": [
    "location = {}\n",
    "for node in nodes:\n",
    "    location[node] = {}\n",
    "    location[node]['x'] = np.random.randint(1000)\n",
    "    location[node]['y'] = np.random.randint(1000)"
   ]
  },
  {
   "cell_type": "code",
   "execution_count": 104,
   "metadata": {
    "collapsed": false
   },
   "outputs": [
    {
     "data": {
      "text/plain": [
       "{'23': {'x': 95, 'y': 234},\n",
       " '24': {'x': 450, 'y': 951},\n",
       " '25': {'x': 866, 'y': 934},\n",
       " '26': {'x': 32, 'y': 367},\n",
       " '27': {'x': 527, 'y': 150},\n",
       " '28': {'x': 189, 'y': 125},\n",
       " '29': {'x': 35, 'y': 940},\n",
       " '30': {'x': 17, 'y': 69},\n",
       " '31': {'x': 150, 'y': 622},\n",
       " '32': {'x': 297, 'y': 695},\n",
       " '33': {'x': 750, 'y': 539},\n",
       " '34': {'x': 569, 'y': 36},\n",
       " '35': {'x': 314, 'y': 544},\n",
       " '36': {'x': 645, 'y': 520},\n",
       " '37': {'x': 400, 'y': 539},\n",
       " '38': {'x': 946, 'y': 673},\n",
       " '39': {'x': 342, 'y': 384},\n",
       " '40': {'x': 702, 'y': 889},\n",
       " '41': {'x': 702, 'y': 733},\n",
       " 'Agos': {'x': 655, 'y': 537},\n",
       " 'Anid': {'x': 38, 'y': 316},\n",
       " 'Calb': {'x': 618, 'y': 858},\n",
       " 'Cgla': {'x': 392, 'y': 180},\n",
       " 'Cgui': {'x': 503, 'y': 893},\n",
       " 'Clus': {'x': 753, 'y': 31},\n",
       " 'Cpar': {'x': 77, 'y': 847},\n",
       " 'Ctro': {'x': 986, 'y': 730},\n",
       " 'Dhan': {'x': 194, 'y': 93},\n",
       " 'Klac': {'x': 979, 'y': 206},\n",
       " 'Kwal': {'x': 842, 'y': 806},\n",
       " 'Lelo': {'x': 310, 'y': 919},\n",
       " 'Ncra': {'x': 736, 'y': 245},\n",
       " 'Sbay': {'x': 947, 'y': 144},\n",
       " 'Scas': {'x': 652, 'y': 89},\n",
       " 'Scer': {'x': 88, 'y': 735},\n",
       " 'Sjap': {'x': 109, 'y': 175},\n",
       " 'Sklu': {'x': 447, 'y': 332},\n",
       " 'Soct': {'x': 655, 'y': 323},\n",
       " 'Spom': {'x': 265, 'y': 850},\n",
       " 'Ylip': {'x': 611, 'y': 981}}"
      ]
     },
     "execution_count": 104,
     "metadata": {},
     "output_type": "execute_result"
    }
   ],
   "source": [
    "location"
   ]
  },
  {
   "cell_type": "code",
   "execution_count": 102,
   "metadata": {
    "collapsed": false
   },
   "outputs": [],
   "source": [
    "chunks = ['S'+str(i) for i in range(1,13)]"
   ]
  },
  {
   "cell_type": "code",
   "execution_count": 106,
   "metadata": {
    "collapsed": false
   },
   "outputs": [
    {
     "name": "stdout",
     "output_type": "stream",
     "text": [
      "S1\n",
      "S2\n",
      "S3\n",
      "S4\n",
      "S5\n",
      "S6\n",
      "S7\n",
      "S8\n",
      "S9\n",
      "S10\n",
      "S11\n",
      "S12\n"
     ]
    }
   ],
   "source": [
    "for chunk in chunks:\n",
    "    print chunk\n",
    "    data = {}\n",
    "    data['nodes'] = []\n",
    "    for node in nodes:\n",
    "\n",
    "            if node.isdigit():\n",
    "                if len(clean_data[chunk][clean_data[chunk]['dist_node_'+node]==0])!=0:\n",
    "                    fitness = float(clean_data[chunk][clean_data[chunk]['dist_node_'+node]==0].s)\n",
    "                    data['nodes'].append({'id':node, 'fitness':fitness, 'x': location[node]['x'], \n",
    "                                          'y': location[node]['y'], 'group':0})\n",
    "\n",
    "                else:\n",
    "                    fitness = 0.45\n",
    "                    data['nodes'].append({'id':node, 'fitness':fitness, 'x': location[node]['x'], \n",
    "                                          'y': location[node]['y'], 'group':2})\n",
    "                    \n",
    "            else:\n",
    "                \n",
    "                if len(clean_data[chunk][clean_data[chunk]['dist_'+node]==0])!=0:\n",
    "                    fitness = float(clean_data[chunk][clean_data[chunk]['dist_'+node]==0].s)\n",
    "                    data['nodes'].append({'id':node, 'fitness':fitness, 'x': location[node]['x'], \n",
    "                                          'y': location[node]['y'],  'group':0})\n",
    "\n",
    "                else:\n",
    "                    fitness = 0.45\n",
    "                    data['nodes'].append({'id':node, 'fitness':fitness, 'x': location[node]['x'], \n",
    "                                          'y': location[node]['y'], 'group':2})\n",
    "            \n",
    "    data['links'] = []\n",
    "\n",
    "    for i in range(len(source)):\n",
    "        data['links'].append({'source':source[i], 'target':target[i], 'group':0})\n",
    "\n",
    "######################################################################################################################        \n",
    "        \n",
    "    tempNodes = []\n",
    "    tempNodes2 = []\n",
    "\n",
    "    for node in nodes:\n",
    "        if node.isdigit():\n",
    "            nodeList = clean_data[chunk][clean_data[chunk]['dist_node_'+node]==1].index\n",
    "            for sq1 in nodeList:\n",
    "                if sq1+node+'1' not in tempNodes:\n",
    "                    tempNodes.append(sq1+node+'1')\n",
    "                    data['nodes'].append({'id':sq1+node+'1', 'fitness':clean_data[chunk].ix[sq1].s, 'group':1})\n",
    "                data['links'].append({'source':node, 'target':sq1+node+'1', 'group':1})\n",
    "                \n",
    "                nodeList2 = clean_data[chunk][clean_data[chunk]['dist_node_'+node]==2].index\n",
    "                for sq2 in nodeList2:\n",
    "                    if distance.hamming(sq1,sq2) == 1:\n",
    "                        if sq2+'_'+sq1+node+'2' not in tempNodes2:\n",
    "                            tempNodes2.append(sq2+'_'+sq1+node+'2')\n",
    "                            data['nodes'].append({'id':sq2+'_'+sq1+node+'2', \n",
    "                                                  'fitness':clean_data[chunk].ix[sq2].s, 'group':1})\n",
    "                        data['links'].append({'source':sq1+node+'1', 'target':sq2+'_'+sq1+node+'2', 'group':1})\n",
    "\n",
    "        else:\n",
    "            nodeList = clean_data[chunk][clean_data[chunk]['dist_'+node]==1].index\n",
    "            for sq1 in nodeList:\n",
    "                if sq1+node+'1' not in tempNodes:\n",
    "                    tempNodes.append(sq1+node+'1')\n",
    "                    data['nodes'].append({'id':sq1+node+'1', 'fitness':clean_data[chunk].ix[sq1].s, 'group':1})\n",
    "                data['links'].append({'source':node, 'target':sq1+node+'1', 'group':1})\n",
    "                \n",
    "    with open('/home/katya/start/HIS3InterspeciesEpistasis/Analysis/Katya/Fig3/' + chunk + '.json', 'w+') as outfile:  \n",
    "        json.dump(data, outfile)"
   ]
  },
  {
   "cell_type": "code",
   "execution_count": null,
   "metadata": {
    "collapsed": true
   },
   "outputs": [],
   "source": []
  }
 ],
 "metadata": {
  "anaconda-cloud": {},
  "kernelspec": {
   "display_name": "Python [conda env:python2]",
   "language": "python",
   "name": "conda-env-python2-py"
  },
  "language_info": {
   "codemirror_mode": {
    "name": "ipython",
    "version": 2
   },
   "file_extension": ".py",
   "mimetype": "text/x-python",
   "name": "python",
   "nbconvert_exporter": "python",
   "pygments_lexer": "ipython2",
   "version": "2.7.13"
  }
 },
 "nbformat": 4,
 "nbformat_minor": 1
}
