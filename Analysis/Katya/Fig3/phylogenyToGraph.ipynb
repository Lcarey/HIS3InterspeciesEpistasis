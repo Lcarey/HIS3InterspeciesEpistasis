{
 "cells": [
  {
   "cell_type": "code",
   "execution_count": 16,
   "metadata": {
    "collapsed": false
   },
   "outputs": [
    {
     "name": "stdout",
     "output_type": "stream",
     "text": [
      "Once deleted, variables cannot be recovered. Proceed (y/[n])? y\n"
     ]
    }
   ],
   "source": [
    "%reset"
   ]
  },
  {
   "cell_type": "code",
   "execution_count": 5,
   "metadata": {
    "collapsed": false
   },
   "outputs": [],
   "source": [
    "import json\n",
    "import pandas as pd\n",
    "import os\n",
    "import numpy as np"
   ]
  },
  {
   "cell_type": "code",
   "execution_count": 6,
   "metadata": {
    "collapsed": false
   },
   "outputs": [],
   "source": [
    "data = {}\n",
    "clean_data = {}\n",
    "\n",
    "for f in os.listdir('/home/katya/start/HIS3InterspeciesEpistasis/Data/'):\n",
    "    if 'csv' in f:\n",
    "        data[f[:-16]] = pd.DataFrame.from_csv('/home/katya/start/HIS3InterspeciesEpistasis/Data/' + f, sep='\\t')\n",
    "        median = np.median(data[f[:-16]].index.str.len())\n",
    "        \n",
    "        clean_data[f[:-16]] = data[f[:-16]][(data[f[:-16]].nonsense == 0) & (data[f[:-16]].middle == 1) & \\\n",
    "                                            (data[f[:-16]].nat_lib == 1) & (data[f[:-16]].stop == 0) & \\\n",
    "                                            (data[f[:-16]].index.str.len() == median)]"
   ]
  },
  {
   "cell_type": "code",
   "execution_count": 8,
   "metadata": {
    "collapsed": true
   },
   "outputs": [],
   "source": [
    "source = ['23','23','23','24','24','40','40','41','41','25','25','26','26','27','27','28','28','34','34','35','35','36','36','37','37','38','38','39','39','29','29','30','30','31','31','32','32','33','33']\n",
    "target = ['Ylip','Anid','24','40','25','Sjap','41','Soct','Spom','Ncra','26','Agos','27','Cgla','28','29','34','Cgui','35','36','37','Clus','Dhan','38','39','Calb','Ctro','Cpar','Lelo','30','32','Scas','31','Scer','Sbay','Klac','33','Kwal','Sklu']\n",
    "\n",
    "nodes = list(source)\n",
    "nodes.extend(target)\n",
    "nodes = list(set(nodes))"
   ]
  },
  {
   "cell_type": "code",
   "execution_count": 91,
   "metadata": {
    "collapsed": false
   },
   "outputs": [],
   "source": [
    "chunks = ['S'+str(i) for i in range(1,13)]"
   ]
  },
  {
   "cell_type": "code",
   "execution_count": 93,
   "metadata": {
    "collapsed": false
   },
   "outputs": [
    {
     "name": "stdout",
     "output_type": "stream",
     "text": [
      "S1\n",
      "S2\n",
      "S3\n",
      "S4\n",
      "S5\n",
      "S6\n",
      "S7\n",
      "S8\n",
      "S9\n",
      "S10\n",
      "S11\n",
      "S12\n"
     ]
    }
   ],
   "source": [
    "for chunk in chunks:\n",
    "    print chunk\n",
    "    data = {}\n",
    "    data['nodes'] = []\n",
    "    for node in nodes:\n",
    "\n",
    "            if node.isdigit():\n",
    "                if len(clean_data[chunk][clean_data[chunk]['dist_node_'+node]==0])!=0:\n",
    "                    fitness = float(clean_data[chunk][clean_data[chunk]['dist_node_'+node]==0].s)\n",
    "                    data['nodes'].append({'id':node, 'fitness':fitness, 'group':0})\n",
    "\n",
    "                else:\n",
    "                    fitness = 0.45\n",
    "                    data['nodes'].append({'id':node, 'fitness':fitness, 'group':2})\n",
    "            else:\n",
    "                if len(clean_data[chunk][clean_data[chunk]['dist_'+node]==0])!=0:\n",
    "                    fitness = float(clean_data[chunk][clean_data[chunk]['dist_'+node]==0].s)\n",
    "                    data['nodes'].append({'id':node, 'fitness':fitness, 'group':0})\n",
    "\n",
    "                else:\n",
    "                    fitness = 0.45\n",
    "                    data['nodes'].append({'id':node, 'fitness':fitness, 'group':2})\n",
    "            \n",
    "    data['links'] = []\n",
    "\n",
    "    for i in range(len(source)):\n",
    "        data['links'].append({'source':source[i], 'target':target[i], 'group':0})\n",
    "        \n",
    "    tempNodes = []\n",
    "\n",
    "    for node in nodes:\n",
    "        if node.isdigit():\n",
    "            nodeList = clean_data[chunk][clean_data[chunk]['dist_node_'+node]==1].index\n",
    "            for sq in nodeList:\n",
    "                if sq+node+'1' not in tempNodes:\n",
    "                    tempNodes.append(sq+node+'1')\n",
    "                    data['nodes'].append({'id':sq+node+'1', 'fitness':clean_data[chunk].ix[sq].s, 'group':1})\n",
    "                data['links'].append({'source':node, 'target':sq+node+'1', 'group':1})\n",
    "\n",
    "        else:\n",
    "            nodeList = clean_data[chunk][clean_data[chunk]['dist_'+node]==1].index\n",
    "            for sq in nodeList:\n",
    "                if sq+node+'1' not in tempNodes:\n",
    "                    tempNodes.append(sq+node+'1')\n",
    "                    data['nodes'].append({'id':sq+node+'1', 'fitness':clean_data[chunk].ix[sq].s, 'group':1})\n",
    "                data['links'].append({'source':node, 'target':sq+node+'1', 'group':1})\n",
    "                \n",
    "    with open('/home/katya/start/HIS3InterspeciesEpistasis/Analysis/Katya/Fig3/' + chunk + '.json', 'w+') as outfile:  \n",
    "        json.dump(data, outfile)"
   ]
  },
  {
   "cell_type": "code",
   "execution_count": 84,
   "metadata": {
    "collapsed": false
   },
   "outputs": [],
   "source": []
  },
  {
   "cell_type": "code",
   "execution_count": null,
   "metadata": {
    "collapsed": true
   },
   "outputs": [],
   "source": []
  }
 ],
 "metadata": {
  "anaconda-cloud": {},
  "kernelspec": {
   "display_name": "Python [conda env:python2]",
   "language": "python",
   "name": "conda-env-python2-py"
  },
  "language_info": {
   "codemirror_mode": {
    "name": "ipython",
    "version": 2
   },
   "file_extension": ".py",
   "mimetype": "text/x-python",
   "name": "python",
   "nbconvert_exporter": "python",
   "pygments_lexer": "ipython2",
   "version": "2.7.13"
  }
 },
 "nbformat": 4,
 "nbformat_minor": 1
}
