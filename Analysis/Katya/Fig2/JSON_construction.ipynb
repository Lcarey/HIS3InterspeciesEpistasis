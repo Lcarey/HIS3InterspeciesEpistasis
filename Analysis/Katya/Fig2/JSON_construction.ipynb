{
 "cells": [
  {
   "cell_type": "code",
   "execution_count": 1,
   "metadata": {
    "collapsed": true
   },
   "outputs": [],
   "source": [
    "import pandas as pd\n",
    "import numpy as np\n",
    "from matplotlib import pyplot as plt\n",
    "import os\n",
    "import distance\n",
    "import json\n",
    "%matplotlib inline\n",
    "pd.set_option('display.max_columns', 100)"
   ]
  },
  {
   "cell_type": "code",
   "execution_count": 63,
   "metadata": {
    "collapsed": true
   },
   "outputs": [],
   "source": [
    "data = {}\n",
    "clean_data = {}\n",
    "\n",
    "for f in os.listdir('/home/katya/local/HIS3InterspeciesEpistasis/Data/'):\n",
    "    if 'csv' in f:\n",
    "        data[f[:-16]] = pd.DataFrame.from_csv('/home/katya/local/HIS3InterspeciesEpistasis/Data/' + f, sep = '\\t')\n",
    "        clean_data[f[:-16]] = data[f[:-16]][(data[f[:-16]].nonsense == 0) & (data[f[:-16]].middle == 1)].sample(5000)\n",
    "        \n",
    "        "
   ]
  },
  {
   "cell_type": "code",
   "execution_count": 62,
   "metadata": {
    "collapsed": false
   },
   "outputs": [
    {
     "name": "stdout",
     "output_type": "stream",
     "text": [
      "60848\n",
      "83062\n",
      "69492\n",
      "63988\n",
      "73194\n",
      "64581\n",
      "16188\n",
      "59477\n",
      "81084\n",
      "63528\n",
      "34684\n",
      "57857\n"
     ]
    }
   ],
   "source": [
    "for chunk in ['S'+str(i) for i in range(1,13)]:\n",
    "    print len(clean_data[chunk])"
   ]
  },
  {
   "cell_type": "code",
   "execution_count": null,
   "metadata": {
    "collapsed": false
   },
   "outputs": [
    {
     "name": "stdout",
     "output_type": "stream",
     "text": [
      "S1\n",
      "0\n",
      "1000\n",
      "2000\n",
      "3000\n",
      "4000\n",
      "S2\n",
      "0\n",
      "2000\n"
     ]
    }
   ],
   "source": [
    "for chunk in ['S'+str(i) for i in range(1,13)]:\n",
    "    print chunk\n",
    "    \n",
    "    fitness_threshold_1 = 0.8*clean_data[chunk].s.max()\n",
    "    fitness_threshold_2 = 0.6*clean_data[chunk].s.max()\n",
    "    fitness_threshold_3 = 0.4*clean_data[chunk].s.max()\n",
    "    fitness_threshold_4 = 0.2*clean_data[chunk].s.max()\n",
    "    \n",
    "    sqs = list(clean_data[chunk].index)\n",
    "    \n",
    "    data = {}\n",
    "    data['nodes'] = []\n",
    "    counter = 0\n",
    "    for i in range(len(sqs)):\n",
    "        counter+=1\n",
    "        data['nodes'].append({'name':'%s, distance: %d, fitness: %.2f' % (clean_data[chunk].mut_list[i], clean_data[chunk].dist_Scer[i], clean_data[chunk].s[i]),\n",
    "                              'x':(clean_data[chunk].dist_Scer[i] + np.random.normal(0, .05)), \n",
    "                              'y':-(clean_data[chunk].s[i]*10)})\n",
    "        \n",
    "    data['connections'] = []\n",
    "    \n",
    "    done = []\n",
    "    for i1 in range(len(sqs)):\n",
    "        if i1%1000 == 0:\n",
    "            print i1\n",
    "        done.append(sqs[i1])\n",
    "        for i2 in range(len(sqs)):\n",
    "            if sqs[i2] not in done and clean_data[chunk].dist_Scer[i1]!=clean_data[chunk].dist_Scer[i2] \\\n",
    "            and distance.hamming(sqs[i1],sqs[i2]) == 1:\n",
    "                \n",
    "                if clean_data[chunk].s[i1]>=fitness_threshold_1 and clean_data[chunk].s[i2]>=fitness_threshold_1:\n",
    "                    data['connections'].append({'source':data['nodes'][i1]['name'], 'target':data['nodes'][i2]['name'], 'color':'#00AEE9'})\n",
    "                \n",
    "                elif clean_data[chunk].s[i1]>=fitness_threshold_2 and clean_data[chunk].s[i2]>=fitness_threshold_2:\n",
    "                    data['connections'].append({'source':data['nodes'][i1]['name'], 'target':data['nodes'][i2]['name'], 'color':'#34ADD3'})\n",
    "                \n",
    "                elif clean_data[chunk].s[i1]>=fitness_threshold_3 and clean_data[chunk].s[i2]>=fitness_threshold_3:\n",
    "                    data['connections'].append({'source':data['nodes'][i1]['name'], 'target':data['nodes'][i2]['name'], 'color':'#70ADC7'})\n",
    "                \n",
    "                elif clean_data[chunk].s[i1]>=fitness_threshold_4 and clean_data[chunk].s[i2]>=fitness_threshold_4:\n",
    "                    data['connections'].append({'source':data['nodes'][i1]['name'], 'target':data['nodes'][i2]['name'], 'color':'#9AABB4'})\n",
    "                \n",
    "                else:\n",
    "                    data['connections'].append({'source':data['nodes'][i1]['name'], 'target':data['nodes'][i2]['name'], 'color':'#A7A9AC'})\n",
    "                \n",
    "    with open('/home/katya/local/HIS3InterspeciesEpistasis/Analysis/Katya/Fig2/' + chunk + '.json', 'w+') as outfile:  \n",
    "        json.dump(data, outfile)"
   ]
  },
  {
   "cell_type": "code",
   "execution_count": null,
   "metadata": {
    "collapsed": true
   },
   "outputs": [],
   "source": []
  }
 ],
 "metadata": {
  "kernelspec": {
   "display_name": "Python 2",
   "language": "python",
   "name": "python2"
  },
  "language_info": {
   "codemirror_mode": {
    "name": "ipython",
    "version": 2
   },
   "file_extension": ".py",
   "mimetype": "text/x-python",
   "name": "python",
   "nbconvert_exporter": "python",
   "pygments_lexer": "ipython2",
   "version": "2.7.13"
  }
 },
 "nbformat": 4,
 "nbformat_minor": 2
}
