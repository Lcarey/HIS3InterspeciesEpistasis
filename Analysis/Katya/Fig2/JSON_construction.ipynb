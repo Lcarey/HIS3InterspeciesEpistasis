{
 "cells": [
  {
   "cell_type": "code",
   "execution_count": 1,
   "metadata": {
    "collapsed": true
   },
   "outputs": [],
   "source": [
    "import pandas as pd\n",
    "import numpy as np\n",
    "from matplotlib import pyplot as plt\n",
    "import os\n",
    "import distance\n",
    "from multiprocessing import Pool\n",
    "import json\n",
    "%matplotlib inline\n",
    "pd.set_option('display.max_columns', 100)"
   ]
  },
  {
   "cell_type": "code",
   "execution_count": 22,
   "metadata": {
    "collapsed": false
   },
   "outputs": [],
   "source": [
    "chunks = ['S'+str(i) for i in range(1,13)]\n",
    "data = {}\n",
    "clean_data = {}\n",
    "\n",
    "for f in os.listdir('/home/katya/start/HIS3InterspeciesEpistasis/Data/'):\n",
    "    if 'csv' in f:\n",
    "        data[f[:-16]] = pd.DataFrame.from_csv('/home/katya/start/HIS3InterspeciesEpistasis/Data/' + f, sep = '\\t')\n",
    "        clean_data[f[:-16]] = data[f[:-16]][(data[f[:-16]].nonsense == 0) & (data[f[:-16]].middle == 1)]\n",
    "        clean_data[f[:-16]] = clean_data[f[:-16]].sample(5000)"
   ]
  },
  {
   "cell_type": "code",
   "execution_count": 36,
   "metadata": {
    "collapsed": true
   },
   "outputs": [],
   "source": [
    "color_dict={}\n",
    "color_dict[1] = '#00AEE9'\n",
    "color_dict[2] = '#00AEE9'\n",
    "color_dict[3] = '#34ADD3'\n",
    "color_dict[4] = '#34ADD3'\n",
    "color_dict[5] = '#70ADC7'\n",
    "color_dict[6] = '#70ADC7'\n",
    "color_dict[7] = '#70ADC7'\n",
    "color_dict[8] = '#9AABB4'\n",
    "color_dict[9] = '#9AABB4'\n",
    "color_dict[10] = 'k'"
   ]
  },
  {
   "cell_type": "code",
   "execution_count": 39,
   "metadata": {
    "collapsed": true
   },
   "outputs": [],
   "source": [
    "def write_json(chunk):\n",
    "    print chunk\n",
    "    \n",
    "    fitThres = {}\n",
    "    for i in range(1,11):\n",
    "        fitThres[i] = 0.45*(10-i)*0.1\n",
    "    \n",
    "    sqs = list(clean_data[chunk].index)\n",
    "    \n",
    "    data = {}\n",
    "    data['nodes'] = []\n",
    "    counter = 0\n",
    "    for i in range(len(sqs)):\n",
    "        counter+=1\n",
    "        data['nodes'].append({'name':'%s, distance: %d, fitness: %.2f' % (clean_data[chunk].mut_list[i], clean_data[chunk].dist_Scer[i], clean_data[chunk].s[i]),\n",
    "                              'x':(clean_data[chunk].dist_Scer[i] + np.random.normal(0, .05)), \n",
    "                              'y':-(clean_data[chunk].s[i]*10)})\n",
    "        \n",
    "    data['connections'] = []\n",
    "    \n",
    "    done = []\n",
    "    for i1 in range(len(sqs)):\n",
    "        if i1%1000 == 0:\n",
    "            print i1\n",
    "        done.append(sqs[i1])\n",
    "        for i2 in range(len(sqs)):\n",
    "            if sqs[i2] not in done and clean_data[chunk].dist_Scer[i1]!=clean_data[chunk].dist_Scer[i2] \\\n",
    "            and distance.hamming(sqs[i1],sqs[i2]) == 1:\n",
    "                \n",
    "                for i in reversed(range(1,11)):\n",
    "                    if min(clean_data[chunk].s[i1], clean_data[chunk].s[i2])>=fitThres[i]:\n",
    "                        data['connections'].append({'source':data['nodes'][i1]['name'], 'target':data['nodes'][i2]['name'], 'group':i*10, 'color':color_dict[i]})\n",
    "                \n",
    "    with open('/home/katya/start/HIS3InterspeciesEpistasis/Analysis/Katya/Fig2/Build/data/' + chunk + '.json', 'w+') as outfile:  \n",
    "        json.dump(data, outfile)"
   ]
  },
  {
   "cell_type": "code",
   "execution_count": null,
   "metadata": {
    "collapsed": false,
    "scrolled": true
   },
   "outputs": [
    {
     "name": "stdout",
     "output_type": "stream",
     "text": [
      "S7\n",
      "S1\n",
      "S8\n",
      "S3\n",
      "S5\n",
      "S11\n",
      "S10\n",
      "S4\n",
      "S9\n",
      "S6\n",
      "S2\n",
      "S12\n",
      "0\n",
      "0\n",
      "0\n",
      "0\n",
      "0\n",
      "0\n",
      "0\n",
      "0\n",
      "0\n",
      "0\n",
      "0\n",
      "0\n"
     ]
    }
   ],
   "source": [
    "pool = Pool()\n",
    "pool.map(write_json, chunks)"
   ]
  },
  {
   "cell_type": "code",
   "execution_count": 35,
   "metadata": {
    "collapsed": false
   },
   "outputs": [
    {
     "name": "stdout",
     "output_type": "stream",
     "text": [
      "9\n",
      "8\n",
      "7\n",
      "6\n",
      "5\n",
      "4\n",
      "3\n",
      "2\n",
      "1\n"
     ]
    }
   ],
   "source": [
    "for i in reversed(range(1,10)):\n",
    "    print i"
   ]
  },
  {
   "cell_type": "markdown",
   "metadata": {},
   "source": [
    "***"
   ]
  },
  {
   "cell_type": "code",
   "execution_count": null,
   "metadata": {
    "collapsed": true
   },
   "outputs": [],
   "source": []
  },
  {
   "cell_type": "code",
   "execution_count": null,
   "metadata": {
    "collapsed": true
   },
   "outputs": [],
   "source": [
    "                \n",
    "                if min(clean_data[chunk].s[i1], clean_data[chunk].s[i2])>=fitThres[1]:\n",
    "                    data['connections'].append({'source':data['nodes'][i1]['name'], 'target':data['nodes'][i2]['name'], 'color':'#00AEE9'})\n",
    "                \n",
    "                elif min(clean_data[chunk].s[i1], clean_data[chunk].s[i2])>=fitThres[2]:\n",
    "                    data['connections'].append({'source':data['nodes'][i1]['name'], 'target':data['nodes'][i2]['name'], 'color':'#34ADD3'})\n",
    "                \n",
    "                elif min(clean_data[chunk].s[i1], clean_data[chunk].s[i2])>=fitness_threshold_3:\n",
    "                    data['connections'].append({'source':data['nodes'][i1]['name'], 'target':data['nodes'][i2]['name'], 'color':'#70ADC7'})\n",
    "                \n",
    "                elif min(clean_data[chunk].s[i1], clean_data[chunk].s[i2])>=fitness_threshold_4:\n",
    "                    data['connections'].append({'source':data['nodes'][i1]['name'], 'target':data['nodes'][i2]['name'], 'color':'#9AABB4'})\n",
    "                \n",
    "                else:\n",
    "                    data['connections'].append({'source':data['nodes'][i1]['name'], 'target':data['nodes'][i2]['name'], 'color':'#A7A9AC'})"
   ]
  }
 ],
 "metadata": {
  "anaconda-cloud": {},
  "kernelspec": {
   "display_name": "Python [conda env:python2]",
   "language": "python",
   "name": "conda-env-python2-py"
  },
  "language_info": {
   "codemirror_mode": {
    "name": "ipython",
    "version": 2
   },
   "file_extension": ".py",
   "mimetype": "text/x-python",
   "name": "python",
   "nbconvert_exporter": "python",
   "pygments_lexer": "ipython2",
   "version": "2.7.13"
  }
 },
 "nbformat": 4,
 "nbformat_minor": 2
}
