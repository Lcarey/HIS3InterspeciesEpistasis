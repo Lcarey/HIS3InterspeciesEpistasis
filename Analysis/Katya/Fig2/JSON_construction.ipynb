{
 "cells": [
  {
   "cell_type": "code",
   "execution_count": 15,
   "metadata": {
    "collapsed": true
   },
   "outputs": [],
   "source": [
    "import pandas as pd\n",
    "import numpy as np\n",
    "from matplotlib import pyplot as plt\n",
    "import os\n",
    "import distance\n",
    "import json\n",
    "%matplotlib inline\n",
    "pd.set_option('display.max_columns', 100)"
   ]
  },
  {
   "cell_type": "code",
   "execution_count": 2,
   "metadata": {
    "collapsed": true
   },
   "outputs": [],
   "source": [
    "data = {}\n",
    "clean_data = {}\n",
    "\n",
    "for f in os.listdir('/home/katya/local/HIS3InterspeciesEpistasis/Data/'):\n",
    "    if 'csv' in f:\n",
    "        data[f[:-16]] = pd.DataFrame.from_csv('/home/katya/local/HIS3InterspeciesEpistasis/Data/' + f, sep = '\\t')\n",
    "        clean_data[f[:-16]] = data[f[:-16]][(data[f[:-16]].nonsense == 0) & (data[f[:-16]].middle == 1)]"
   ]
  },
  {
   "cell_type": "code",
   "execution_count": 69,
   "metadata": {
    "collapsed": false
   },
   "outputs": [],
   "source": [
    "chunk = 'S1'\n",
    "test = clean_data[chunk]"
   ]
  },
  {
   "cell_type": "code",
   "execution_count": 70,
   "metadata": {
    "collapsed": true
   },
   "outputs": [],
   "source": [
    "sqs = list(test.index)\n",
    "positions = pd.DataFrame.from_csv('/home/katya/local/HIS3InterspeciesEpistasis/Data_Small_Tables/positions.csv', sep = '\\t')\n",
    "\n",
    "for ind in range(len(sqs)):\n",
    "    sqs[ind] = sqs[ind][:int(positions[chunk].ix['len1'])] + sqs[ind][-int(positions[chunk].ix['len2']):]"
   ]
  },
  {
   "cell_type": "code",
   "execution_count": 71,
   "metadata": {
    "collapsed": true
   },
   "outputs": [],
   "source": [
    "data = {}\n",
    "data['nodes'] = []\n",
    "for i in range(len(sqs)):\n",
    "    data['nodes'].append({'name':sqs[i], 'x':(test.dist_Scer[i]+ np.random.normal(0, .1, 10)), 'y':test.s[i]*10})"
   ]
  },
  {
   "cell_type": "code",
   "execution_count": 72,
   "metadata": {
    "collapsed": false
   },
   "outputs": [],
   "source": [
    "data['connections'] = []"
   ]
  },
  {
   "cell_type": "code",
   "execution_count": null,
   "metadata": {
    "collapsed": false
   },
   "outputs": [],
   "source": [
    "done = []\n",
    "for i1 in range(len(sqs)):\n",
    "    done.append(sqs[i1])\n",
    "    for i2 in range(len(sqs)):\n",
    "        if sqs[i2] not in done and test.dist_Scer[i1]!=test.dist_Scer[i2] and distance.hamming(sqs[i1],sqs[i2]) == 1:\n",
    "            data['connections'].append({'source':sqs[i1], 'target':sqs[i2]})"
   ]
  },
  {
   "cell_type": "code",
   "execution_count": null,
   "metadata": {
    "collapsed": false
   },
   "outputs": [],
   "source": [
    "with open('/home/katya/local/HIS3InterspeciesEpistasis/Analysis/Katya/Fig2/test.json', 'w+') as outfile:  \n",
    "    json.dump(data, outfile)"
   ]
  },
  {
   "cell_type": "code",
   "execution_count": null,
   "metadata": {
    "collapsed": true
   },
   "outputs": [],
   "source": []
  }
 ],
 "metadata": {
  "kernelspec": {
   "display_name": "Python 2",
   "language": "python",
   "name": "python2"
  },
  "language_info": {
   "codemirror_mode": {
    "name": "ipython",
    "version": 2
   },
   "file_extension": ".py",
   "mimetype": "text/x-python",
   "name": "python",
   "nbconvert_exporter": "python",
   "pygments_lexer": "ipython2",
   "version": "2.7.13"
  }
 },
 "nbformat": 4,
 "nbformat_minor": 2
}
