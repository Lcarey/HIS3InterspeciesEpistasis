{
 "cells": [
  {
   "cell_type": "code",
   "execution_count": 1,
   "metadata": {
    "collapsed": true
   },
   "outputs": [],
   "source": [
    "import pandas as pd\n",
    "import numpy as np\n",
    "from matplotlib import pyplot as plt\n",
    "import os\n",
    "import distance\n",
    "from multiprocessing import Pool\n",
    "import json\n",
    "%matplotlib inline\n",
    "pd.set_option('display.max_columns', 100)"
   ]
  },
  {
   "cell_type": "code",
   "execution_count": 8,
   "metadata": {
    "collapsed": false
   },
   "outputs": [],
   "source": [
    "chunks = ['S'+str(i) for i in range(1,13)]\n",
    "data = {}\n",
    "clean_data = {}\n",
    "\n",
    "for f in os.listdir('/home/katya/start/HIS3InterspeciesEpistasis/Data/'):\n",
    "    if 'csv' in f:\n",
    "        data[f[:-16]] = pd.DataFrame.from_csv('/home/katya/start/HIS3InterspeciesEpistasis/Data/' + f, sep = '\\t')\n",
    "        clean_data[f[:-16]] = data[f[:-16]][(data[f[:-16]].nonsense == 0) & (data[f[:-16]].middle == 1)]\n",
    "        clean_data[f[:-16]] = clean_data[f[:-16]].sample(5000)"
   ]
  },
  {
   "cell_type": "code",
   "execution_count": 10,
   "metadata": {
    "collapsed": true
   },
   "outputs": [],
   "source": [
    "def write_json(chunk):\n",
    "    print chunk\n",
    "    \n",
    "    fitness_threshold_1 = 0.8*np.mean(clean_data[chunk].s[clean_data[chunk].dist_Scer==0])\n",
    "    fitness_threshold_2 = 0.6*np.mean(clean_data[chunk].s[clean_data[chunk].dist_Scer==0])\n",
    "    fitness_threshold_3 = 0.4*np.mean(clean_data[chunk].s[clean_data[chunk].dist_Scer==0])\n",
    "    fitness_threshold_4 = 0.2*np.mean(clean_data[chunk].s[clean_data[chunk].dist_Scer==0])\n",
    "    \n",
    "    sqs = list(clean_data[chunk].index)\n",
    "    \n",
    "    data = {}\n",
    "    data['nodes'] = []\n",
    "    counter = 0\n",
    "    for i in range(len(sqs)):\n",
    "        counter+=1\n",
    "        data['nodes'].append({'name':'%s, distance: %d, fitness: %.2f' % (clean_data[chunk].mut_list[i], clean_data[chunk].dist_Scer[i], clean_data[chunk].s[i]),\n",
    "                              'x':(clean_data[chunk].dist_Scer[i] + np.random.normal(0, .05)), \n",
    "                              'y':-(clean_data[chunk].s[i]*10)})\n",
    "        \n",
    "    data['connections'] = []\n",
    "    \n",
    "    done = []\n",
    "    for i1 in range(len(sqs)):\n",
    "        if i1%1000 == 0:\n",
    "            print i1\n",
    "        done.append(sqs[i1])\n",
    "        for i2 in range(len(sqs)):\n",
    "            if sqs[i2] not in done and clean_data[chunk].dist_Scer[i1]!=clean_data[chunk].dist_Scer[i2] \\\n",
    "            and distance.hamming(sqs[i1],sqs[i2]) == 1:\n",
    "                \n",
    "                if min(clean_data[chunk].s[i1], clean_data[chunk].s[i2])>=fitness_threshold_1:\n",
    "                    data['connections'].append({'source':data['nodes'][i1]['name'], 'target':data['nodes'][i2]['name'], 'color':'#00AEE9'})\n",
    "                \n",
    "                elif min(clean_data[chunk].s[i1], clean_data[chunk].s[i2])>=fitness_threshold_2:\n",
    "                    data['connections'].append({'source':data['nodes'][i1]['name'], 'target':data['nodes'][i2]['name'], 'color':'#34ADD3'})\n",
    "                \n",
    "                elif min(clean_data[chunk].s[i1], clean_data[chunk].s[i2])>=fitness_threshold_3:\n",
    "                    data['connections'].append({'source':data['nodes'][i1]['name'], 'target':data['nodes'][i2]['name'], 'color':'#70ADC7'})\n",
    "                \n",
    "                elif min(clean_data[chunk].s[i1], clean_data[chunk].s[i2])>=fitness_threshold_4:\n",
    "                    data['connections'].append({'source':data['nodes'][i1]['name'], 'target':data['nodes'][i2]['name'], 'color':'#9AABB4'})\n",
    "                \n",
    "                else:\n",
    "                    data['connections'].append({'source':data['nodes'][i1]['name'], 'target':data['nodes'][i2]['name'], 'color':'#A7A9AC'})\n",
    "                \n",
    "    with open('/home/katya/start/HIS3InterspeciesEpistasis/Analysis/Katya/Fig2/' + chunk + '.json', 'w+') as outfile:  \n",
    "        json.dump(data, outfile)"
   ]
  },
  {
   "cell_type": "code",
   "execution_count": null,
   "metadata": {
    "collapsed": false
   },
   "outputs": [
    {
     "name": "stdout",
     "output_type": "stream",
     "text": [
      "S1\n",
      "S6\n",
      "S8\n",
      "S11\n",
      "S12\n",
      "S7\n",
      "S10\n",
      "S9\n",
      "S2\n",
      "S5\n",
      "S3\n",
      "S4\n",
      "0\n",
      "0\n",
      "0\n",
      "0\n",
      "0\n",
      "0\n",
      "0\n",
      "0\n",
      "0\n",
      "0\n",
      "0\n",
      "0\n",
      "1000\n",
      "1000\n",
      "1000\n",
      "1000\n",
      "1000\n",
      "1000\n",
      "1000\n",
      "1000\n",
      "1000\n",
      "1000\n",
      "1000\n",
      "1000\n",
      "2000\n",
      "2000\n",
      "2000\n",
      "2000\n",
      "2000\n",
      "2000\n",
      "2000\n",
      "2000\n",
      "2000\n",
      "2000\n",
      "2000\n",
      "2000\n",
      "3000\n",
      "3000\n",
      "3000\n",
      "3000\n",
      "3000\n",
      "3000\n",
      "3000\n",
      "3000\n",
      "4000\n",
      "3000\n",
      "3000\n",
      "4000\n",
      "4000\n",
      "4000\n",
      "3000\n",
      "4000\n",
      "4000\n",
      "4000\n",
      "3000\n",
      "4000\n",
      "4000\n",
      "4000\n",
      "4000\n",
      "4000\n"
     ]
    }
   ],
   "source": [
    "pool = Pool()\n",
    "pool.map(write_json, chunks)"
   ]
  },
  {
   "cell_type": "code",
   "execution_count": 12,
   "metadata": {
    "collapsed": false
   },
   "outputs": [
    {
     "ename": "NameError",
     "evalue": "name 'x' is not defined",
     "output_type": "error",
     "traceback": [
      "\u001b[0;31m---------------------------------------------------------------------------\u001b[0m",
      "\u001b[0;31mNameError\u001b[0m                                 Traceback (most recent call last)",
      "\u001b[0;32m<ipython-input-12-401b30e3b8b5>\u001b[0m in \u001b[0;36m<module>\u001b[0;34m()\u001b[0m\n\u001b[0;32m----> 1\u001b[0;31m \u001b[0mx\u001b[0m\u001b[0;34m\u001b[0m\u001b[0m\n\u001b[0m",
      "\u001b[0;31mNameError\u001b[0m: name 'x' is not defined"
     ]
    }
   ],
   "source": [
    "x"
   ]
  },
  {
   "cell_type": "code",
   "execution_count": null,
   "metadata": {
    "collapsed": true
   },
   "outputs": [],
   "source": []
  }
 ],
 "metadata": {
  "anaconda-cloud": {},
  "kernelspec": {
   "display_name": "Python [conda env:python2]",
   "language": "python",
   "name": "conda-env-python2-py"
  },
  "language_info": {
   "codemirror_mode": {
    "name": "ipython",
    "version": 2
   },
   "file_extension": ".py",
   "mimetype": "text/x-python",
   "name": "python",
   "nbconvert_exporter": "python",
   "pygments_lexer": "ipython2",
   "version": "2.7.13"
  }
 },
 "nbformat": 4,
 "nbformat_minor": 2
}
