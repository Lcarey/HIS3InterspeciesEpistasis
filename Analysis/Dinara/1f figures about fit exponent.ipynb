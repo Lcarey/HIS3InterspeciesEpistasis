{
 "cells": [
  {
   "cell_type": "code",
   "execution_count": 1,
   "metadata": {
    "collapsed": false
   },
   "outputs": [],
   "source": [
    "%run to_import.py\n",
    "%matplotlib inline"
   ]
  },
  {
   "cell_type": "code",
   "execution_count": 2,
   "metadata": {
    "collapsed": true
   },
   "outputs": [],
   "source": [
    "segm_set=range(1,13)\n",
    "data_folder='../../Data_Raw'\n",
    "data_small='../../Data_Small_Tables'"
   ]
  },
  {
   "cell_type": "code",
   "execution_count": 3,
   "metadata": {
    "collapsed": false
   },
   "outputs": [],
   "source": [
    "#download data\n",
    "aa_all=range(13)\n",
    "for s in segm_set:\n",
    "    aa_all[s]=pd.read_csv(data_folder+'/S'+str(s)+'_sum_10_size_4_with_nons_aa_avg.csv',sep='\\t')"
   ]
  },
  {
   "cell_type": "code",
   "execution_count": 4,
   "metadata": {
    "collapsed": false
   },
   "outputs": [
    {
     "ename": "TypeError",
     "evalue": "'int' object has no attribute '__getitem__'",
     "output_type": "error",
     "traceback": [
      "\u001b[1;31m---------------------------------------------------------------------------\u001b[0m",
      "\u001b[1;31mTypeError\u001b[0m                                 Traceback (most recent call last)",
      "\u001b[1;32m<ipython-input-4-3f5675161386>\u001b[0m in \u001b[0;36m<module>\u001b[1;34m()\u001b[0m\n\u001b[0;32m      2\u001b[0m \u001b[0maa_all\u001b[0m\u001b[1;33m=\u001b[0m\u001b[0mrange\u001b[0m\u001b[1;33m(\u001b[0m\u001b[1;36m13\u001b[0m\u001b[1;33m)\u001b[0m\u001b[1;33m\u001b[0m\u001b[0m\n\u001b[0;32m      3\u001b[0m \u001b[1;32mfor\u001b[0m \u001b[0ms\u001b[0m \u001b[1;32min\u001b[0m \u001b[0msegm_set\u001b[0m\u001b[1;33m:\u001b[0m\u001b[1;33m\u001b[0m\u001b[0m\n\u001b[1;32m----> 4\u001b[1;33m     \u001b[0maa_all\u001b[0m\u001b[1;33m[\u001b[0m\u001b[0ms\u001b[0m\u001b[1;33m]\u001b[0m\u001b[1;33m=\u001b[0m\u001b[0maa_all\u001b[0m\u001b[1;33m[\u001b[0m\u001b[0ms\u001b[0m\u001b[1;33m]\u001b[0m\u001b[1;33m[\u001b[0m\u001b[0maa_all\u001b[0m\u001b[1;33m[\u001b[0m\u001b[0ms\u001b[0m\u001b[1;33m]\u001b[0m\u001b[1;33m[\u001b[0m\u001b[1;34m'boundary'\u001b[0m\u001b[1;33m]\u001b[0m\u001b[1;33m==\u001b[0m\u001b[1;36m0\u001b[0m\u001b[1;33m]\u001b[0m\u001b[1;33m\u001b[0m\u001b[0m\n\u001b[0m",
      "\u001b[1;31mTypeError\u001b[0m: 'int' object has no attribute '__getitem__'"
     ]
    }
   ],
   "source": [
    "#I want to analyse here only fit, no boundary\n",
    "aa_all=range(13)\n",
    "for s in segm_set:\n",
    "    aa_all[s]=aa_all[s][aa_all[s]['boundary']==0]"
   ]
  },
  {
   "cell_type": "code",
   "execution_count": null,
   "metadata": {
    "collapsed": true
   },
   "outputs": [],
   "source": [
    "#download k and s12 parameters\n",
    "table_s12_k=pd.read_csv(data_small+'/table_s12_k_with_nons.csv',sep='\\t',index_col=0)"
   ]
  },
  {
   "cell_type": "code",
   "execution_count": null,
   "metadata": {
    "collapsed": false
   },
   "outputs": [],
   "source": [
    "# w01 vs exponentia fitness s \n",
    "fig=plt.figure(figsize=(4*7.3,3*7.4))\n",
    "plt.rcParams.update({'font.size': 18,'legend.fontsize': 18})\n",
    "#plt.suptitle(name+' size_12>=2', fontsize=36)\n",
    "plt.subplots_adjust(hspace = 0.4,wspace=0.3)\n",
    "\n",
    "count=1\n",
    "for s in segm_set:\n",
    "    plt.subplot(3,4,count)\n",
    "    mask1=aa_all[s][aa_all[s]['s_std']<0.25] \n",
    "    plt.scatter(np.log((mask1['t1_fr'])/(mask1['t0_fr'])),mask1['s'],s=10,edgecolor='',alpha=0.5,c='b',\\\n",
    "                label='s_std<0.25\\n%d' %(len(mask1)))\n",
    "    \n",
    "    mask1=aa_all[s][(aa_all[s]['s_std']>=0.25)&(aa_all[s]['s_std']<0.5)]\n",
    "    plt.scatter(np.log((mask1['t1_fr'])/(mask1['t0_fr'])),mask1['s'],s=10,edgecolor='',alpha=0.5,c='r',\\\n",
    "                label='0.25<s_std<0.5\\n%d' %(len(mask1)))\n",
    "    \n",
    "    plt.title('S'+str(s))\n",
    "    plt.xlabel(r'$w_{01}=ln(f_{1}/f_{0})$')\n",
    "    plt.ylabel('s')\n",
    "    plt.legend(loc=4)\n",
    "    count+=1"
   ]
  },
  {
   "cell_type": "code",
   "execution_count": null,
   "metadata": {
    "collapsed": false
   },
   "outputs": [],
   "source": [
    "# w12 vs exponentia fitness s \n",
    "fig=plt.figure(figsize=(4*7.3,3*7.4))\n",
    "plt.rcParams.update({'font.size': 18,'legend.fontsize': 18})\n",
    "#plt.suptitle(name+' size_12>=2', fontsize=36)\n",
    "plt.subplots_adjust(hspace = 0.4,wspace=0.3)\n",
    "\n",
    "count=1\n",
    "for s in segm_set:\n",
    "    plt.subplot(3,4,count)\n",
    "    mask1=aa_all[s][aa_all[s]['s_std']<0.25]\n",
    "    plt.scatter(np.log((mask1['t2_fr'])/(mask1['t1_fr'])),mask1['s'],s=10,edgecolor='',alpha=0.5,c='b',\\\n",
    "                label='s_std<0.25\\n%d' %(len(mask1)))\n",
    "    \n",
    "    mask1=aa_all[s][(aa_all[s]['s_std']>=0.25)&(aa_all[s]['s_std']<0.5)]\n",
    "    plt.scatter(np.log((mask1['t2_fr'])/(mask1['t1_fr'])),mask1['s'],s=10,edgecolor='',alpha=0.5,c='r',\\\n",
    "                label='0.25<s_std<0.5\\n%d' %(len(mask1)))\n",
    "    plt.xlabel(r'$w_{12}=ln(f_{2}/f_{1})$')\n",
    "    plt.ylabel('s')\n",
    "    plt.legend(loc=4)\n",
    "    plt.title('S'+str(s))\n",
    "    count+=1"
   ]
  },
  {
   "cell_type": "code",
   "execution_count": null,
   "metadata": {
    "collapsed": false
   },
   "outputs": [],
   "source": [
    "def plot_3(mask1,mask2,mask3,s12,k,alpha):\n",
    "    plt.plot(range(-3,3),map(lambda x:(x-s12)*k,range(-3,3)),c='r')\n",
    "    plt.scatter(np.log((mask1['t1_fr'])/(mask1['t0_fr'])),np.log((mask1['t2_fr'])/(mask1['t0_fr']))\\\n",
    "    ,s=5,edgecolor='',alpha=alpha,c='b')\n",
    "    plt.scatter(np.log((mask2['t1_fr'])/(mask2['t0_fr'])),np.log((mask2['t2_fr'])/(mask2['t0_fr']))\\\n",
    "    ,s=5,edgecolor='',alpha=alpha,c='g')\n",
    "    plt.scatter(np.log((mask3['t1_fr'])/(mask3['t0_fr'])),np.log((mask3['t2_fr'])/(mask3['t0_fr']))\\\n",
    "    ,s=5,edgecolor='',alpha=alpha,c='magenta')\n",
    "    tmp_len_total=len(mask1)+len(mask2)+len(mask3)\n",
    "    plt.legend([\"(x-%.2f)*%.1f\" %(s12,k),\\\n",
    "                \"%.2f\" %(len(mask1)*1./tmp_len_total),\"%.2f\" %(len(mask2)*1./tmp_len_total),\"%.2f\" %(len(mask3)*1./tmp_len_total)],loc=2)\n",
    "    plt.xlim(-5,3)\n",
    "    plt.ylim(-7,5)\n",
    "    plt.grid()\n",
    "    plt.xlabel(r'$w_{01}=ln(f_{1}/f_{0})$')\n",
    "    plt.ylabel(r'$w_{02}=ln(f_{2}/f_{0})$')\n",
    "    \n",
    "n_segm=12\n",
    "\n",
    "fig=plt.figure(figsize=(6*10.3,n_segm*10.4))\n",
    "plt.rcParams.update({'font.size': 24,'legend.fontsize': 20})\n",
    "#plt.suptitle(name+' size_12>=2', fontsize=36)\n",
    "plt.subplots_adjust(hspace = 0.4,wspace=0.3)\n",
    "\n",
    "count=1\n",
    "mask_size=1000000\n",
    "fr_thr=1\n",
    "for s in segm_set[:n_segm]:\n",
    "    length_all=len(aa_all[s])\n",
    "    mask=aa_all[s].sample(min(mask_size,length_all))\n",
    "    alpha=min(10.**4/len(mask),1)\n",
    "    s12,k=table_s12_k.loc['S'+str(s)][['s12','k']]\n",
    "\n",
    "    plt.subplot(n_segm,6,count)\n",
    "    plt.title('S'+str(s)+' '+str(length_all)+'\\nselect by rel resid')\n",
    "    mask1=mask[mask['residuals']<0.75]\n",
    "    mask2=mask[(mask['residuals']>=0.75)&(mask['residuals']<1)]\n",
    "    mask3=mask[mask['residuals']>=1]\n",
    "    plt.hist(mask1['s'],bins=50,range=(-3,2),alpha=0.5,edgecolor='none')\n",
    "    plt.hist(mask2['s'],bins=50,range=(-3,2),alpha=0.5,edgecolor='none')\n",
    "    plt.hist(mask3['s'],bins=50,range=(-3,2),alpha=0.5,edgecolor='none')\n",
    "    plt.xlabel(\"s\")\n",
    "    count+=1\n",
    "    \n",
    "    plt.subplot(n_segm,6,count)\n",
    "    plt.title('S'+str(s)+' '+str(length_all)+'\\nselect by rel resid')\n",
    "    mask1=mask[mask['residuals']<0.75]\n",
    "    mask2=mask[(mask['residuals']>=0.75)&(mask['residuals']<1)]\n",
    "    mask3=mask[mask['residuals']>=1]\n",
    "    plot_3(mask1,mask2,mask3,s12,k,alpha)\n",
    "    count+=1\n",
    "    \n",
    "    plt.subplot(n_segm,6,count)\n",
    "    plt.title('S'+str(s)+' '+str(length_all)+'\\nselect by s_std')\n",
    "    mask1=mask[mask['s_std']<0.1]\n",
    "    mask2=mask[(mask['s_std']>=0.1)&(mask['s_std']<0.2)]\n",
    "    mask3=mask[mask['s_std']>=0.2]\n",
    "    plt.hist(mask1['s'],bins=50,range=(-3,2),alpha=0.5,edgecolor='none')\n",
    "    plt.hist(mask2['s'],bins=50,range=(-3,2),alpha=0.5,edgecolor='none')\n",
    "    plt.hist(mask3['s'],bins=50,range=(-3,2),alpha=0.5,edgecolor='none')\n",
    "    plt.xlabel(\"s\")\n",
    "    count+=1\n",
    "    \n",
    "    plt.subplot(n_segm,6,count)\n",
    "    plt.title('S'+str(s)+' '+str(length_all)+'\\nselect by s_std')\n",
    "    mask1=mask[mask['s_std']<0.25]\n",
    "    mask2=mask[(mask['s_std']>=0.25)&(mask['s_std']<0.5)]\n",
    "    mask3=mask[mask['s_std']>=0.5]\n",
    "    plot_3(mask1,mask2,mask3,s12,k,alpha)\n",
    "    count+=1   \n",
    "\n",
    "    \n",
    "    length_all=len(aa_all[s][aa_all[s]['t0_fr']>fr_thr])\n",
    "    mask=aa_all[s][aa_all[s]['t0_fr']>fr_thr].sample(min(mask_size,length_all))\n",
    "    alpha=min(10.**4/len(mask),1)\n",
    "    \n",
    "    plt.subplot(n_segm,6,count)\n",
    "    plt.title('S'+str(s)+' '+str(length_all)+'\\nt0_fr>'+str(fr_thr)+'  select by rel resid')\n",
    "    mask1=mask[mask['residuals']<0.75]\n",
    "    mask2=mask[(mask['residuals']>=0.75)&(mask['residuals']<1)]\n",
    "    mask3=mask[mask['residuals']>=1]\n",
    "    plot_3(mask1,mask2,mask3,s12,k,alpha)\n",
    "    count+=1\n",
    "    \n",
    "    plt.subplot(n_segm,6,count)\n",
    "    plt.title('S'+str(s)+' '+str(length_all)+'\\nt0_fr>'+str(fr_thr)+'  select by s_std')\n",
    "    mask1=mask[mask['s_std']<0.25] \n",
    "    mask2=mask[(mask['s_std']>=0.25)&(mask['s_std']<0.5)]\n",
    "    mask3=mask[mask['s_std']>=0.5]\n",
    "    plot_3(mask1,mask2,mask3,s12,k,alpha)\n",
    "    count+=1\n",
    "#fig.savefig('data_all_segments/12_12/fig_variance_adjustedbins_5000perbin/exponent_fit_alldots_bybest10000.png')"
   ]
  },
  {
   "cell_type": "code",
   "execution_count": null,
   "metadata": {
    "collapsed": false
   },
   "outputs": [],
   "source": [
    "fig=plt.figure(figsize=(4*5.3,3*5.4))\n",
    "plt.rcParams.update({'font.size': 14,'legend.fontsize': 14})\n",
    "#plt.suptitle(name+' size_12>=2', fontsize=36)\n",
    "plt.subplots_adjust(hspace = 0.4,wspace=0.3)\n",
    "\n",
    "count=1\n",
    "for s in segm_set:\n",
    "    plt.subplot(3,4,count)\n",
    "    mask=aa_all[s][(aa_all[s]['aa_seq'].map(lambda x: x.count('_'))==0)]\n",
    "    #plt.title(\"%d %d\" %(len([item for item in mask['residuals'].values if str(residuals)=='nan']),\\\n",
    "    #len([item for item in mask['s'].values if str(residuals)=='nan'])))\n",
    "    values, base = np.histogram(mask['y0_std'],range=(0,20), bins=100)\n",
    "    cumulative = np.cumsum(values)\n",
    "    plt.plot(base[:-1], cumulative*1./len(mask), c='blue')\n",
    "    plt.title('S'+str(s))\n",
    "    plt.xlabel('y0')\n",
    "    plt.grid()\n",
    "    plt.ylim(0,1)\n",
    "    count+=1"
   ]
  },
  {
   "cell_type": "code",
   "execution_count": null,
   "metadata": {
    "collapsed": true
   },
   "outputs": [],
   "source": []
  }
 ],
 "metadata": {
  "kernelspec": {
   "display_name": "Python 2",
   "language": "python",
   "name": "python2"
  },
  "language_info": {
   "codemirror_mode": {
    "name": "ipython",
    "version": 2
   },
   "file_extension": ".py",
   "mimetype": "text/x-python",
   "name": "python",
   "nbconvert_exporter": "python",
   "pygments_lexer": "ipython2",
   "version": "2.7.11"
  }
 },
 "nbformat": 4,
 "nbformat_minor": 0
}
