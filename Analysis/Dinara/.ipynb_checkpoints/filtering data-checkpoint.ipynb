{
 "cells": [
  {
   "cell_type": "code",
   "execution_count": 3,
   "metadata": {
    "collapsed": false
   },
   "outputs": [],
   "source": [
    "%run to_import.py\n",
    "%matplotlib inline"
   ]
  },
  {
   "cell_type": "code",
   "execution_count": 4,
   "metadata": {
    "collapsed": true
   },
   "outputs": [],
   "source": [
    "segm_set=range(1,13)\n",
    "data_folder='../../Data_Raw'"
   ]
  },
  {
   "cell_type": "markdown",
   "metadata": {},
   "source": [
    "### t0+t1+t2>=10 size==4. Currently used"
   ]
  },
  {
   "cell_type": "code",
   "execution_count": 5,
   "metadata": {
    "collapsed": false
   },
   "outputs": [
    {
     "name": "stdout",
     "output_type": "stream",
     "text": [
      "1\n",
      "in 50.5260000229\n",
      "run 11.8340001106\n",
      "out 14.4989998341\n",
      "2\n",
      "in 15.6610000134\n",
      "run 2.85500001907\n",
      "out 12.2769999504\n",
      "3\n",
      "in 20.5590000153\n",
      "run 3.91200017929\n",
      "out 18.9889998436\n",
      "4\n",
      "in 165.404999971\n",
      "run 21.6880002022\n",
      "out 15.7509999275\n",
      "5\n",
      "in 21.2779998779\n",
      "run 3.46500015259\n",
      "out 20.9639999866\n",
      "6\n",
      "in 32.8150000572\n",
      "run 6.62399983406\n",
      "out 7.37700009346\n",
      "7\n",
      "in 17.7829999924\n",
      "run 3.17300009727\n",
      "out 5.15699982643\n",
      "8\n",
      "in 14.1960000992\n",
      "run 2.71099996567\n",
      "out 5.64100003242\n",
      "9\n",
      "in 2.24399995804\n",
      "run 0.438999891281\n",
      "out 4.50200009346\n",
      "10\n",
      "in 5.27099990845\n",
      "run 1.39700007439\n",
      "out 7.51699995995\n",
      "11\n",
      "in 4.12300014496\n",
      "run 0.871999979019\n",
      "out 4.74099993706\n",
      "12\n",
      "in 5.68400001526\n",
      "run 1.26200008392\n",
      "out 7.42499995232\n"
     ]
    },
    {
     "name": "stderr",
     "output_type": "stream",
     "text": [
      "C:\\Users\\dina\\Anaconda2\\lib\\site-packages\\IPython\\core\\interactiveshell.py:2902: DtypeWarning: Columns (0,17) have mixed types. Specify dtype option on import or set low_memory=False.\n",
      "  interactivity=interactivity, compiler=compiler, result=result)\n"
     ]
    }
   ],
   "source": [
    "columns_tech_1=['t0_tech1_bio1', 't1_tech1_bio1', 't2_tech1_bio1','t0_tech1_bio2', 't1_tech1_bio2', 't2_tech1_bio2']\n",
    "columns_tech_2=['t0_tech2_bio1','t1_tech2_bio1', 't2_tech2_bio1', 't0_tech2_bio2', 't1_tech2_bio2', 't2_tech2_bio2']\n",
    "start = time.time()\n",
    "thr=10\n",
    "for segment in segm_set:\n",
    "    print segment\n",
    "    replicas=pd.read_csv(data_folder+'/S'+str(segment)+'_merged.csv',sep='\\t',index_col=0)\n",
    "    end=time.time()\n",
    "    print \"in\", (end-start)\n",
    "    start=end\n",
    "    \n",
    "    for col in columns_tech_1:\n",
    "        replicas[col]=np.where(replicas[col]<replicas['min_read_tech1'],0,replicas[col])\n",
    "    for col in columns_tech_2:\n",
    "        replicas[col]=np.where(replicas[col]<replicas['min_read_tech2'],0,replicas[col])\n",
    "    replicas_v2=replicas\n",
    "    for col in columns_tech_1+columns_tech_2:\n",
    "        repl=col[2:]\n",
    "        replicas_v2[col]=np.where((replicas['t0'+repl]+replicas['t1'+repl]+replicas['t2'+repl])>=thr,replicas[col],np.nan)\n",
    "   \n",
    "    replicas_v2['size']=(replicas_v2.count(axis=1).values-6)/3\n",
    "    end=time.time()\n",
    "    print \"run\", (end-start)\n",
    "    start=end\n",
    "    replicas_v2[replicas_v2['size']==4].to_csv(data_folder+'/S'+str(segment)+'_merged_filtered_sum_'+str(thr)+'_size_4.csv',sep='\\t')\n",
    "    end=time.time()\n",
    "    print \"out\", (end-start)\n",
    "    start=end\n",
    "    replicas=0\n",
    "    replicas_v2=0\n"
   ]
  },
  {
   "cell_type": "markdown",
   "metadata": {},
   "source": [
    "t0>5 & size==4 filter out a lot of wt genotypes, that's why I don't like it "
   ]
  },
  {
   "cell_type": "markdown",
   "metadata": {},
   "source": [
    "### t0>=5 size==4"
   ]
  },
  {
   "cell_type": "code",
   "execution_count": null,
   "metadata": {
    "collapsed": true
   },
   "outputs": [],
   "source": [
    "columns_tech_1=['t0_tech1_bio1', 't1_tech1_bio1', 't2_tech1_bio1','t0_tech1_bio2', 't1_tech1_bio2', 't2_tech1_bio2']\n",
    "columns_tech_2=['t0_tech2_bio1','t1_tech2_bio1', 't2_tech2_bio1', 't0_tech2_bio2', 't1_tech2_bio2', 't2_tech2_bio2']\n",
    "start = time.time()\n",
    "thr=5\n",
    "for segment in segm_set:\n",
    "    print segment\n",
    "    replicas=pd.read_csv(data_folder+'/S'+str(segment)+'_merged.csv',sep='\\t',index_col=0)\n",
    "    end=time.time()\n",
    "    print \"in\", (end-start)\n",
    "    start=end\n",
    "    \n",
    "    for col in columns_tech_1:\n",
    "        replicas[col]=np.where(replicas[col]<replicas['min_read_tech1'],0,replicas[col])\n",
    "    for col in columns_tech_2:\n",
    "        replicas[col]=np.where(replicas[col]<replicas['min_read_tech2'],0,replicas[col])\n",
    "    replicas_v2=replicas\n",
    "    for col in columns_tech_1+columns_tech_2:\n",
    "        repl=col[2:]\n",
    "        replicas_v2[col]=np.where(replicas['t0'+repl]>=thr,replicas[col],np.nan)\n",
    "   \n",
    "    replicas_v2['size']=(replicas_v2.count(axis=1).values-6)/3\n",
    "    end=time.time()\n",
    "    print \"run\", (end-start)\n",
    "    start=end\n",
    "    replicas_v2[replicas_v2['size']==4].to_csv(data_folder+'/S'+str(segment)+'_merged_filtered_t0_'+str(thr)+'_size_4.csv',sep='\\t')\n",
    "    end=time.time()\n",
    "    print \"out\", (end-start)\n",
    "    start=end\n",
    "    replicas=0\n",
    "    replicas_v2=0\n"
   ]
  }
 ],
 "metadata": {
  "kernelspec": {
   "display_name": "Python 2",
   "language": "python",
   "name": "python2"
  },
  "language_info": {
   "codemirror_mode": {
    "name": "ipython",
    "version": 2
   },
   "file_extension": ".py",
   "mimetype": "text/x-python",
   "name": "python",
   "nbconvert_exporter": "python",
   "pygments_lexer": "ipython2",
   "version": "2.7.11"
  }
 },
 "nbformat": 4,
 "nbformat_minor": 0
}
