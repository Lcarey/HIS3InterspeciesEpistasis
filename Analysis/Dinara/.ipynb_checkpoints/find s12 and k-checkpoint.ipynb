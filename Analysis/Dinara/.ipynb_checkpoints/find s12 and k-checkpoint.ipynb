{
 "cells": [
  {
   "cell_type": "code",
   "execution_count": 1,
   "metadata": {
    "collapsed": false
   },
   "outputs": [],
   "source": [
    "%run to_import_find_s12_k.py"
   ]
  },
  {
   "cell_type": "code",
   "execution_count": 6,
   "metadata": {
    "collapsed": false
   },
   "outputs": [],
   "source": [
    "segm_set=[1,2,3,4,5,6,7,8,9,10,11,12]\n",
    "data_folder='../../Data_Raw'\n",
    "data_small='../../Data_Small_Tables'\n",
    "replicas_all=range(13)\n",
    "for segment in segm_set:\n",
    "    replicas_all[segment]=pd.read_csv(data_folder+'/S'+str(segment)+'_merged_filtered_sum_10_size_4_with_fr.csv',sep='\\t',index_col=0)"
   ]
  },
  {
   "cell_type": "code",
   "execution_count": 15,
   "metadata": {
    "collapsed": false
   },
   "outputs": [
    {
     "name": "stdout",
     "output_type": "stream",
     "text": [
      "\n"
     ]
    }
   ],
   "source": [
    "table_s12_k=pd.DataFrame(columns={'f','k','s12'})"
   ]
  },
  {
   "cell_type": "code",
   "execution_count": 11,
   "metadata": {
    "collapsed": false
   },
   "outputs": [],
   "source": [
    "def func_find_s12_k(replica,thr,calculate=False):\n",
    "#merge by aa\n",
    "    by_aa =replica[replica['aa_seq'].map(lambda x: x.count('_'))==0]\\\n",
    "    [['aa_seq','t0_fr','t1_fr','t2_fr','t0_fr_var','t1_fr_var','t2_fr_var']].groupby('aa_seq',as_index=False)\n",
    "    aa=by_aa.sum()\n",
    "#will use for fit only t1!=0 and t0>thr\n",
    "    aa=aa[(aa['t0_fr']>thr)&(aa['t1_fr']!=0)]\n",
    "\n",
    "#construct merged nonsense so that t0>thr \n",
    "    nons_all=replica[replica['aa_seq'].map(lambda x: x.count('_'))>0]\n",
    "    nons_t0_fr=nons_all['t0_fr'].values\n",
    "    tmp=[nons_all.iloc[0]['t0_fr']]\n",
    "    for i in range(1,len(nons_all)):\n",
    "        tmp.append(tmp[i-1]+nons_t0_fr[i])\n",
    "    nons_all['t0_sum']=map(lambda x: int(x)/int(thr),tmp)\n",
    "    by_t0 =nons_all[['t0_sum','t0_fr','t1_fr','t2_fr','t0_fr_var','t1_fr_var','t2_fr_var']].groupby('t0_sum',as_index=False)\n",
    "    nons=by_t0.sum()\n",
    "# will use only t1!=0\n",
    "    nons=nons[nons['t1_fr']!=0]\n",
    "    \n",
    "    mask=aa.append(nons)\n",
    "    print 'total=%d\\taa=%d\\tnons=%d' %(len(mask),len(aa),len(nons))\n",
    "    data=mask[['t0_fr','t1_fr','t2_fr']].values.copy()\n",
    "    data_sigma=np.sqrt(mask[['t0_fr_var','t1_fr_var','t2_fr_var']].values.copy())\n",
    "    tmp_fit_progress=[]\n",
    "    if (calculate):\n",
    "        [f,k,s12]=func_find_min_k(data,data_sigma)\n",
    "        return f,k,s12 "
   ]
  },
  {
   "cell_type": "code",
   "execution_count": 21,
   "metadata": {
    "collapsed": false,
    "scrolled": true
   },
   "outputs": [
    {
     "name": "stdout",
     "output_type": "stream",
     "text": [
      "S1 total=12450\taa=7577\tnons=4873\n",
      "S2 total=9907\taa=6398\tnons=3509\n",
      "S3 total=7573\taa=6271\tnons=1302\n",
      "S4 total=707\taa=466\tnons=241\n",
      "S5 total=7938\taa=6771\tnons=1167\n",
      "S6 total=12090\taa=9543\tnons=2547\n",
      "S7 total=14517\taa=12281\tnons=2236\n",
      "S8 total=8251\taa=5874\tnons=2377\n",
      "S9 total=6696\taa=6523\tnons=173\n",
      "S10 total=11965\taa=10408\tnons=1557\n",
      "S11 total=7786\taa=7548\tnons=238\n",
      "S12 total=4694\taa=4179\tnons=515\n"
     ]
    },
    {
     "name": "stderr",
     "output_type": "stream",
     "text": [
      "C:\\Users\\dina\\Anaconda2\\lib\\site-packages\\ipykernel\\__main__.py:14: SettingWithCopyWarning: \n",
      "A value is trying to be set on a copy of a slice from a DataFrame.\n",
      "Try using .loc[row_indexer,col_indexer] = value instead\n",
      "\n",
      "See the caveats in the documentation: http://pandas.pydata.org/pandas-docs/stable/indexing.html#indexing-view-versus-copy\n"
     ]
    }
   ],
   "source": [
    "#look how many genotypes we have for particular threshold. Want to have ~10000.\n",
    "#Take all unreasonable because small t0 have bad accuracy\n",
    "thr=25\n",
    "for s in segm_set:\n",
    "    print 'S'+str(s),\n",
    "    func_find_s12_k(replicas_all[s],thr)"
   ]
  },
  {
   "cell_type": "code",
   "execution_count": null,
   "metadata": {
    "collapsed": false
   },
   "outputs": [],
   "source": [
    "#for thr 25 will take ~3h for all segments\n",
    "thr=25\n",
    "for s in segm_set:\n",
    "    print 'S'+str(s),\n",
    "    table_s12_k.loc['S'+str(s)]=func_find_s12_k(replicas_all[s],thr,True)"
   ]
  },
  {
   "cell_type": "code",
   "execution_count": 19,
   "metadata": {
    "collapsed": false
   },
   "outputs": [],
   "source": [
    "table_s12_k.to_csv(data_small+'/table_s12_k_with_nons.csv',sep='\\t')"
   ]
  },
  {
   "cell_type": "code",
   "execution_count": null,
   "metadata": {
    "collapsed": true
   },
   "outputs": [],
   "source": []
  }
 ],
 "metadata": {
  "kernelspec": {
   "display_name": "Python 2",
   "language": "python",
   "name": "python2"
  },
  "language_info": {
   "codemirror_mode": {
    "name": "ipython",
    "version": 2
   },
   "file_extension": ".py",
   "mimetype": "text/x-python",
   "name": "python",
   "nbconvert_exporter": "python",
   "pygments_lexer": "ipython2",
   "version": "2.7.11"
  }
 },
 "nbformat": 4,
 "nbformat_minor": 0
}
