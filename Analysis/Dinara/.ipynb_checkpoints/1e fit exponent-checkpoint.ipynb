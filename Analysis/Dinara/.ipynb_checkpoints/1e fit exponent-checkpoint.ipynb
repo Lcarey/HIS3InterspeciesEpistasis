{
 "cells": [
  {
   "cell_type": "code",
   "execution_count": 1,
   "metadata": {
    "collapsed": false
   },
   "outputs": [],
   "source": [
    "%run to_import.py\n",
    "%matplotlib inline"
   ]
  },
  {
   "cell_type": "code",
   "execution_count": 2,
   "metadata": {
    "collapsed": true
   },
   "outputs": [],
   "source": [
    "segm_set=range(1,13)\n",
    "data_folder='../../Data_Raw'\n",
    "data_small='../../Data_Small_Tables'\n",
    "replicas_all=range(13)\n",
    "for segment in segm_set:\n",
    "    replicas_all[segment]=pd.read_csv(data_folder+'/S'+str(segment)+'_merged_filtered_sum_10_size_4_with_fr.csv',sep='\\t',index_col=0)"
   ]
  },
  {
   "cell_type": "code",
   "execution_count": 4,
   "metadata": {
    "collapsed": false
   },
   "outputs": [],
   "source": [
    "#download k and s12 parameters\n",
    "table_s12_k=pd.read_csv(data_small+'/table_s12_k_with_nons.csv',sep='\\t',index_col=0)"
   ]
  },
  {
   "cell_type": "markdown",
   "metadata": {},
   "source": [
    "### group by aa"
   ]
  },
  {
   "cell_type": "code",
   "execution_count": 5,
   "metadata": {
    "collapsed": false
   },
   "outputs": [
    {
     "name": "stdout",
     "output_type": "stream",
     "text": [
      "1 515086 126100\n",
      "2 419808 123388\n",
      "3 685432 95148\n",
      "4 468060 69253\n",
      "5 718331 100545\n",
      "6 257527 84052\n",
      "7 177617 26377\n",
      "8 198701 73844\n",
      "9 166104 88766\n",
      "10 275314 80780\n",
      "11 177863 37579\n",
      "12 277175 63889\n"
     ]
    }
   ],
   "source": [
    "#merge\n",
    "aa_all=range(13)\n",
    "for s in segm_set:\n",
    "    replica=replicas_all[s]\n",
    "    by_aa =replica[['aa_seq','t0_fr','t1_fr','t2_fr','t0_fr_var','t1_fr_var','t2_fr_var']].\\\n",
    "    groupby('aa_seq',as_index=False)\n",
    "    aa_all[s]=by_aa.sum()\n",
    "    aa_all[s]['size']=by_aa.size().values\n",
    "    print s,len(replica),len(aa_all[s])"
   ]
  },
  {
   "cell_type": "markdown",
   "metadata": {},
   "source": [
    "# fit all data"
   ]
  },
  {
   "cell_type": "code",
   "execution_count": null,
   "metadata": {
    "collapsed": false
   },
   "outputs": [],
   "source": [
    "#calsualte fit for each point \n",
    "for s in segm_set:\n",
    "    print 'S'+str(s)\n",
    "    mask=aa_all[s].copy()\n",
    "    data=mask[['t0_fr','t1_fr','t2_fr']].values.copy()\n",
    "    data_sigma=np.sqrt(mask[['t0_fr_var','t1_fr_var','t2_fr_var']].values.copy())\n",
    "    \n",
    "    s12=table_s12_k.loc['S'+str(s),'s12']\n",
    "    k=table_s12_k.loc['S'+str(s),'k']\n",
    "    \n",
    "    y0,si,y0_std,s_std,residuals=func_fit_single_exponents(data,data_sigma,s12,k)\n",
    "    mask['y0']=y0\n",
    "    mask['s']=si\n",
    "    mask['y0_std']=y0_std\n",
    "    mask['s_std']=s_std\n",
    "    mask['residuals']=residuals\n",
    "    mask.to_csv(data_folder+'/S'+str(s)+'_sum_10_size_4_with_nons_aa_avg'+'.csv',sep='\\t')"
   ]
  }
 ],
 "metadata": {
  "kernelspec": {
   "display_name": "Python 2",
   "language": "python",
   "name": "python2"
  },
  "language_info": {
   "codemirror_mode": {
    "name": "ipython",
    "version": 2
   },
   "file_extension": ".py",
   "mimetype": "text/x-python",
   "name": "python",
   "nbconvert_exporter": "python",
   "pygments_lexer": "ipython2",
   "version": "2.7.11"
  }
 },
 "nbformat": 4,
 "nbformat_minor": 0
}
