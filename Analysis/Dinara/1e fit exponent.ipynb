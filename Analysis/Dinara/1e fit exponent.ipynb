{
 "cells": [
  {
   "cell_type": "code",
   "execution_count": 1,
   "metadata": {
    "collapsed": false
   },
   "outputs": [],
   "source": [
    "%run to_import.py\n",
    "%matplotlib inline"
   ]
  },
  {
   "cell_type": "code",
   "execution_count": 2,
   "metadata": {
    "collapsed": true
   },
   "outputs": [],
   "source": [
    "segm_set=range(1,13)\n",
    "data_folder='../../Data_Raw'\n",
    "data_small='../../Data_Small_Tables'\n",
    "replicas_all=range(13)\n",
    "for segment in segm_set:\n",
    "    replicas_all[segment]=pd.read_csv(data_folder+'/S'+str(segment)+'_merged_filtered_sum_10_size_4_with_fr.csv',sep='\\t',index_col=0)"
   ]
  },
  {
   "cell_type": "code",
   "execution_count": 4,
   "metadata": {
    "collapsed": false
   },
   "outputs": [],
   "source": [
    "#download k and s12 parameters\n",
    "table_s12_k=pd.read_csv(data_small+'/table_s12_k_with_nons.csv',sep='\\t',index_col=0)"
   ]
  },
  {
   "cell_type": "markdown",
   "metadata": {},
   "source": [
    "## group by aa"
   ]
  },
  {
   "cell_type": "code",
   "execution_count": 5,
   "metadata": {
    "collapsed": false
   },
   "outputs": [
    {
     "name": "stdout",
     "output_type": "stream",
     "text": [
      "1 515086 126100\n",
      "2 419808 123388\n",
      "3 685432 95148\n",
      "4 468060 69253\n",
      "5 718331 100545\n",
      "6 257527 84052\n",
      "7 177617 26377\n",
      "8 198701 73844\n",
      "9 166104 88766\n",
      "10 275314 80780\n",
      "11 177863 37579\n",
      "12 277175 63889\n"
     ]
    }
   ],
   "source": [
    "#merge\n",
    "aa_all=range(13)\n",
    "for s in segm_set:\n",
    "    replica=replicas_all[s]\n",
    "    by_aa =replica[['aa_seq','t0_fr','t1_fr','t2_fr','t0_fr_var','t1_fr_var','t2_fr_var']].\\\n",
    "    groupby('aa_seq',as_index=False)\n",
    "    aa_all[s]=by_aa.sum()\n",
    "    aa_all[s]['size']=by_aa.size().values\n",
    "    print s,len(replica),len(aa_all[s])"
   ]
  },
  {
   "cell_type": "markdown",
   "metadata": {},
   "source": [
    "## fit all data"
   ]
  },
  {
   "cell_type": "code",
   "execution_count": 7,
   "metadata": {
    "collapsed": false
   },
   "outputs": [
    {
     "name": "stdout",
     "output_type": "stream",
     "text": [
      "S1\n",
      "S2\n",
      "S3\n",
      "S4\n",
      "S5\n",
      "S6\n",
      "S7\n",
      "S8\n",
      "S9\n",
      "S10\n",
      "S11\n",
      "S12\n"
     ]
    }
   ],
   "source": [
    "#calsualte fit for each point \n",
    "for s in segm_set:\n",
    "    print 'S'+str(s)\n",
    "    data=aa_all[s][['t0_fr','t1_fr','t2_fr']].values.copy()\n",
    "    data_sigma=np.sqrt(aa_all[s][['t0_fr_var','t1_fr_var','t2_fr_var']].values.copy())\n",
    "    \n",
    "    s12=table_s12_k.loc['S'+str(s),'s12']\n",
    "    k=table_s12_k.loc['S'+str(s),'k']\n",
    "    \n",
    "    y0,si,y0_std,s_std,residuals=func_fit_single_exponents(data,data_sigma,s12,k)\n",
    "    aa_all[s]['y0']=y0\n",
    "    aa_all[s]['s']=si\n",
    "    aa_all[s]['y0_std']=y0_std\n",
    "    aa_all[s]['s_std']=s_std\n",
    "    aa_all[s]['residuals']=residuals\n",
    "    aa_all[s].to_csv(data_folder+'/S'+str(s)+'_sum_10_size_4_with_nons_aa_avg'+'.csv',sep='\\t')"
   ]
  },
  {
   "cell_type": "markdown",
   "metadata": {},
   "source": [
    "## Boundary"
   ]
  },
  {
   "cell_type": "code",
   "execution_count": 9,
   "metadata": {
    "collapsed": false
   },
   "outputs": [],
   "source": [
    "readsum=pd.read_csv(data_small+'/readsum_all.csv', sep='\\t',index_col=0)"
   ]
  },
  {
   "cell_type": "markdown",
   "metadata": {},
   "source": [
    "There are some genotypes with t1==0 and t0,t2!=0. For all segments there amount is neglectible ~ 0-100, only for S9 there are ~4000 of them. s_std>0.5 or nan (because fit failed) for each of these examples.\n",
    "I can't find any better solution than just filter all them out."
   ]
  },
  {
   "cell_type": "code",
   "execution_count": 10,
   "metadata": {
    "collapsed": false
   },
   "outputs": [
    {
     "name": "stdout",
     "output_type": "stream",
     "text": [
      "S1 0 0 13\n",
      "S2 3 2 156\n",
      "S3 4 7 31\n",
      "S4 0 0 8\n",
      "S5 1 0 23\n",
      "S6 0 0 14\n",
      "S7 0 0 0\n",
      "S8 1 1 36\n",
      "S9 213 36 3734\n",
      "S10 40 45 260\n",
      "S11 14 25 118\n",
      "S12 4 2 46\n"
     ]
    }
   ],
   "source": [
    "#delete all genotypes with 001,010,101\n",
    "for s in segm_set:\n",
    "    index001=aa_all[s][(aa_all[s]['t0_fr']==0)&(aa_all[s]['t1_fr']==0)&(aa_all[s]['t2_fr']!=0)].index\n",
    "    aa_all[s].drop(aa_all[s].index[index001],inplace=True)\n",
    "    aa_all[s].reset_index(drop=True,inplace=True)\n",
    "    index010=aa_all[s][(aa_all[s]['t0_fr']==0)&(aa_all[s]['t1_fr']!=0)&(aa_all[s]['t2_fr']==0)].index\n",
    "    aa_all[s].drop(aa_all[s].index[index010],inplace=True)\n",
    "    aa_all[s].reset_index(drop=True,inplace=True)\n",
    "    index101=aa_all[s][(aa_all[s]['t0_fr']!=0)&(aa_all[s]['t1_fr']==0)&(aa_all[s]['t2_fr']!=0)].index\n",
    "    aa_all[s].drop(aa_all[s].index[index101],inplace=True)\n",
    "    aa_all[s].reset_index(drop=True,inplace=True)\n",
    "    print 'S'+str(s),(len(index001)),(len(index010)),(len(index101))"
   ]
  },
  {
   "cell_type": "code",
   "execution_count": 11,
   "metadata": {
    "collapsed": true
   },
   "outputs": [],
   "source": [
    "#for 100 boundary=1, the rest are 011, 110, 111 for them boundary=0 and we just use fit\n",
    "for s in segm_set:\n",
    "    aa_all[s]['boundary']=0\n",
    "    index100=aa_all[s][(aa_all[s]['t0_fr']!=0)&(aa_all[s]['t1_fr']==0)&(aa_all[s]['t2_fr']==0)].index\n",
    "    aa_all[s].loc[index100,'boundary']=1"
   ]
  },
  {
   "cell_type": "code",
   "execution_count": 12,
   "metadata": {
    "collapsed": true
   },
   "outputs": [],
   "source": [
    "# for 001 (boundary==1) calculate max fitness\n",
    "for s in segm_set:\n",
    "    readsum_max_t1=max([readsum.loc['t1_tech1_bio1','S'+str(s)],readsum.loc['t1_tech1_bio2','S'+str(s)],\\\n",
    "                        readsum.loc['t1_tech2_bio1','S'+str(s)],readsum.loc['t1_tech2_bio2','S'+str(s)]])\n",
    "    aa_all[s]['s']=\\\n",
    "    np.where(aa_all[s]['boundary']==0,aa_all[s]['s'],np.log((10.**6/readsum_max_t1)/aa_all[s]['t0_fr']))"
   ]
  },
  {
   "cell_type": "code",
   "execution_count": 13,
   "metadata": {
    "collapsed": false
   },
   "outputs": [
    {
     "name": "stdout",
     "output_type": "stream",
     "text": [
      "1 95\n",
      "2 2236\n",
      "3 106\n",
      "4 10\n",
      "5 133\n",
      "6 672\n",
      "7 11\n",
      "8 859\n",
      "9 11011\n",
      "10 3540\n",
      "11 7215\n",
      "12 562\n"
     ]
    }
   ],
   "source": [
    "for s in segm_set:\n",
    "    print s, len(aa_all[s][aa_all[s]['boundary']==1])"
   ]
  },
  {
   "cell_type": "code",
   "execution_count": null,
   "metadata": {
    "collapsed": true
   },
   "outputs": [],
   "source": [
    "#filter that s_std<0.5\n",
    "#for s in segm_set:\n",
    "#    aa_all[s]=aa_all[s][(aa_all[s]['boundary']==1)|(aa_all[s]['s_std']<0.5)]"
   ]
  },
  {
   "cell_type": "code",
   "execution_count": 15,
   "metadata": {
    "collapsed": true
   },
   "outputs": [],
   "source": [
    "#save\n",
    "for s in segm_set:\n",
    "    aa_all[s].to_csv(data_folder+'/S'+str(s)+'_sum_10_size_4_with_nons_aa_avg'+'.csv',sep='\\t')"
   ]
  },
  {
   "cell_type": "code",
   "execution_count": null,
   "metadata": {
    "collapsed": true
   },
   "outputs": [],
   "source": []
  }
 ],
 "metadata": {
  "kernelspec": {
   "display_name": "Python 2",
   "language": "python",
   "name": "python2"
  },
  "language_info": {
   "codemirror_mode": {
    "name": "ipython",
    "version": 2
   },
   "file_extension": ".py",
   "mimetype": "text/x-python",
   "name": "python",
   "nbconvert_exporter": "python",
   "pygments_lexer": "ipython2",
   "version": "2.7.11"
  }
 },
 "nbformat": 4,
 "nbformat_minor": 0
}
